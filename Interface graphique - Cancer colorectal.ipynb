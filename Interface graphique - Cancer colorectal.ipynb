{
 "cells": [
  {
   "cell_type": "code",
   "execution_count": 1,
   "metadata": {},
   "outputs": [],
   "source": [
    "import numpy as np\n",
    "import pandas as pd\n",
    "import matplotlib.pyplot as plt\n",
    "import seaborn as sns"
   ]
  },
  {
   "cell_type": "code",
   "execution_count": 2,
   "metadata": {},
   "outputs": [
    {
     "data": {
      "text/plain": [
       "(347, 189)"
      ]
     },
     "execution_count": 2,
     "metadata": {},
     "output_type": "execute_result"
    }
   ],
   "source": [
    "dataset = pd.read_excel(\"BD Kc colorectal_stage ESI.xlsx\")\n",
    "df = dataset.copy()\n",
    "df.shape"
   ]
  },
  {
   "cell_type": "code",
   "execution_count": 3,
   "metadata": {},
   "outputs": [
    {
     "name": "stderr",
     "output_type": "stream",
     "text": [
      "<ipython-input-3-4fcac8949bd2>:5: SettingWithCopyWarning: \n",
      "A value is trying to be set on a copy of a slice from a DataFrame\n",
      "\n",
      "See the caveats in the documentation: https://pandas.pydata.org/pandas-docs/stable/user_guide/indexing.html#returning-a-view-versus-a-copy\n",
      "  df[col][i] = np.nan\n"
     ]
    }
   ],
   "source": [
    "na = [\"?\",\"à compléter\", 'A compléter', 'pas de n°tel','à compléter']\n",
    "for col in df.columns:\n",
    "    for i in range(df.shape[0]):\n",
    "        if df[col][i] in na:\n",
    "            df[col][i] = np.nan"
   ]
  },
  {
   "cell_type": "code",
   "execution_count": 4,
   "metadata": {},
   "outputs": [],
   "source": [
    "L = ['date_chir', 'D dernière onsultation', 'D contact tél', \n",
    "       'Decès date', 'statut_prog', 'Date recidive', 'Evolution recid',\n",
    "       'remarques','Unnamed: 188']\n",
    "for col in L:\n",
    "    del df[col]\n",
    "    "
   ]
  },
  {
   "cell_type": "markdown",
   "metadata": {},
   "source": [
    "### Suppression des features qui ne sont pas nécessaires ( avec accord)"
   ]
  },
  {
   "cell_type": "code",
   "execution_count": 5,
   "metadata": {},
   "outputs": [],
   "source": [
    "L = ['signif Incid Perop','signif CP', 'FistJPostOP',  'signif autres.1',\n",
    "     'PéritoJPostop', 'signif autres Manifcliniq ', 'signif autres','SténoJPostOP',\n",
    "    'FRVJPostOP','CStomiJPostOP', 'CHémorJPostOP', 'CUrinairJPostOP' ,   'CUrinairTrait',\n",
    "     'DélaisPostRCCH','DuréeSéjPostOP','DuréeSéjRéa' ,'DécJPostOP','CauseDécès']\n",
    "for col in L:\n",
    "    del df[col]"
   ]
  },
  {
   "cell_type": "code",
   "execution_count": 6,
   "metadata": {},
   "outputs": [
    {
     "data": {
      "text/plain": [
       "(347, 162)"
      ]
     },
     "execution_count": 6,
     "metadata": {},
     "output_type": "execute_result"
    }
   ],
   "source": [
    "df.shape"
   ]
  },
  {
   "cell_type": "code",
   "execution_count": 7,
   "metadata": {},
   "outputs": [],
   "source": [
    "# Remplacer les valeurs manquantes par NaN.\n",
    "\n",
    "li_8 = [\"atcd chir\",\"Localisation\",\"TDMSiège\", \"CmplcatParié\", \"Cplct Générl\"]\n",
    "li_6_8 = [\"Type histologique\"]\n",
    "\n",
    "\n",
    "for col in li_8:\n",
    "    df.loc[df[col] == 8, col] = np.nan\n",
    "\n",
    "df.loc[df[\"Décès\"] == 9, \"Décès\"] = np.nan\n",
    "df.loc[df[\"trouble transi\"] == 2, \"trouble transi\"] = np.nan\n",
    "df.loc[df[\"Type histologique\"] == 6 , \"Type histologique\"] = np.nan\n",
    "df.loc[df[\"Type histologique\"] == 8, \"Type histologique\"] = np.nan\n",
    "df.loc[df[\"ACE\"] == 'inf 0,50', \"ACE\"] = 0.5\n"
   ]
  },
  {
   "cell_type": "markdown",
   "metadata": {},
   "source": [
    "### Remplissage des valeurs manquantes ( pour les complications )"
   ]
  },
  {
   "cell_type": "code",
   "execution_count": 8,
   "metadata": {},
   "outputs": [],
   "source": [
    "L = ['FistEvolution', 'PéritoEvolution', 'SténoEvoluti','FRVEvolution', 'CStomiEvolut', 'CPérinEvolut', 'CUrinairEvolu' ]\n",
    "for col in L:\n",
    "    df.loc[df[col].isna() == False, col] = 1  # évolution\n",
    "    df[col] = df[col].fillna(0)  # Pas d'évolution"
   ]
  },
  {
   "cell_type": "code",
   "execution_count": 9,
   "metadata": {},
   "outputs": [],
   "source": [
    "for col in df.columns[df.columns.get_loc(\"CmplcatPerOP\"):df.columns.get_loc(\"Cplct Générl\")+1]:\n",
    "    df[col] = df[col].fillna(0)"
   ]
  },
  {
   "cell_type": "markdown",
   "metadata": {},
   "source": [
    "#### Remplissage des NaN pour les features ( avant Morbidité)"
   ]
  },
  {
   "cell_type": "markdown",
   "metadata": {},
   "source": [
    "### Fillna with mean"
   ]
  },
  {
   "cell_type": "code",
   "execution_count": 10,
   "metadata": {},
   "outputs": [
    {
     "name": "stdout",
     "output_type": "stream",
     "text": [
      "0.0|0.0|0.0|0.0|0.0|0.0|0.0|0.0|0.0|0.0|0.0|0.0|0.0|0.0|0.0|"
     ]
    }
   ],
   "source": [
    "numeric_features = [\"Age\",\"Hémoglobine\",\"Globule blanc\", \"Plaquette\",\"CRP\" , \"Urée\" , \"Créat\" , \"Glycémie\" , \"Albumine\" ,\n",
    "\"Préalbumine\" , \"Protidemie\" , \"ACE\" , \"CA19-9\"  , 'Histo Nbgg', 'Histo ggPosit']\n",
    "\n",
    "for col in numeric_features:\n",
    "    df[col] = df[col].fillna(df[col].mean())\n",
    "    \n",
    "    print(df[col].isnull().mean(), end='|')"
   ]
  },
  {
   "cell_type": "markdown",
   "metadata": {},
   "source": [
    "###  Vérifier ( DécèsPostOP, Décès )."
   ]
  },
  {
   "cell_type": "code",
   "execution_count": 11,
   "metadata": {},
   "outputs": [],
   "source": [
    "df.loc[df['DécèsPostOP'] == 1, 'Décès'] = 1"
   ]
  },
  {
   "cell_type": "markdown",
   "metadata": {},
   "source": [
    "### Remplacer par les valeurs dominantes ( TNM, Stade - Localisation - Anastomose )"
   ]
  },
  {
   "cell_type": "code",
   "execution_count": 12,
   "metadata": {},
   "outputs": [],
   "source": [
    "df['Anastomose'] = df['Anastomose'].fillna(2) \n",
    "df['Localisation'] = df['Localisation'].fillna(7) \n",
    "df['Stade'] = df['Stade'].fillna(2) \n",
    "df['TNM'] = df['TNM'].fillna('pT3N0') "
   ]
  },
  {
   "cell_type": "code",
   "execution_count": 13,
   "metadata": {},
   "outputs": [],
   "source": [
    "for col in df.columns[df.columns.get_loc('BH'):df.columns.get_loc(\"TraitAdjAutre\")+1]:\n",
    "    df[col] = df[col].fillna(0)"
   ]
  },
  {
   "cell_type": "code",
   "execution_count": 14,
   "metadata": {},
   "outputs": [],
   "source": [
    "df.loc[df['HistoLRL'] == 0.9, 'HistoLRL'] = 1"
   ]
  },
  {
   "cell_type": "code",
   "execution_count": 15,
   "metadata": {},
   "outputs": [],
   "source": [
    "for col in df.columns[df.columns.get_loc('HTA'):df.columns.get_loc(\"TV result\")+1]:\n",
    "    df[col] = df[col].fillna(0)"
   ]
  },
  {
   "cell_type": "code",
   "execution_count": 16,
   "metadata": {},
   "outputs": [
    {
     "data": {
      "text/plain": [
       "Décès             0.561960\n",
       "Morbidité         0.025937\n",
       "DécèsPostOP       0.017291\n",
       "Sexe              0.002882\n",
       "Date chirurg      0.002882\n",
       "                    ...   \n",
       "TNM               0.000000\n",
       "HistoPerfT/R      0.000000\n",
       "HistoIntéMes      0.000000\n",
       "HistoEngainPN     0.000000\n",
       "signif indicat    0.000000\n",
       "Length: 162, dtype: float64"
      ]
     },
     "execution_count": 16,
     "metadata": {},
     "output_type": "execute_result"
    }
   ],
   "source": [
    "df.isnull().mean().sort_values(ascending = False)"
   ]
  },
  {
   "cell_type": "code",
   "execution_count": 17,
   "metadata": {},
   "outputs": [
    {
     "name": "stdout",
     "output_type": "stream",
     "text": [
      "0.3789091685345288\n"
     ]
    }
   ],
   "source": [
    "# how many total missing values do we have?\n",
    "total_cells = np.product(df.shape)\n",
    "missing_values_count = df.isnull().sum()\n",
    "total_missing = missing_values_count.sum()\n",
    "\n",
    "# percent of data that is missing\n",
    "percent_missing = (total_missing/total_cells) * 100\n",
    "print(percent_missing)"
   ]
  },
  {
   "cell_type": "code",
   "execution_count": 18,
   "metadata": {},
   "outputs": [
    {
     "data": {
      "text/plain": [
       "(347, 162)"
      ]
     },
     "execution_count": 18,
     "metadata": {},
     "output_type": "execute_result"
    }
   ],
   "source": [
    "df.shape"
   ]
  },
  {
   "cell_type": "code",
   "execution_count": 19,
   "metadata": {},
   "outputs": [
    {
     "name": "stdout",
     "output_type": "stream",
     "text": [
      "{'pT4N1Mx': 0, 'ypT3N2a': 1, 'pT3N0': 2, 'pT3N0Mx': 3, 'ypT3N2b': 4, 'pT2N1': 5, 'ypT0N0': 6, 'ypT2N1aMx': 7, 'pT2N0': 8, 'pT2N0Mx': 9, 'pT3N0M0': 10, 'pT3N1bMx': 11, 'pT3N1M1': 12, 'pT3N1M0': 13, 'pT4mN0': 14, 'pT3N1b': 15, 'pT2N1b': 16, 'pT3N0M1a': 17, 'pT4No': 18, 'pT3N1Mx': 19, 'ypT2N1': 20, 'ypT0N0Mx': 21, 'pT4N2a': 22, 'ypT3N0': 23, 'pT4N1b': 24, 'pT4N0Mx': 25, 'ypT0N1b': 26, 'ypT3N1a': 27, 'ypT3N0Mx': 28, 'pT3N0M1': 29, 'ypT4N0': 30, 'ypT2N0': 31, 'ypT2N1M1': 32, 'ypT4bN0': 33, 'ypT3N2': 34, 'ypT0N1Mx': 35, 'pT0N0': 36, 'pT3N1': 37, 'ypT2N1b': 38, 'ypT3N1': 39, 'pT4N0': 40, 'ypT2N0Mx': 41, 'ypT4N0Mx': 42, 'ypT1N0': 43, 'ypT2N1a': 44, 'pT2N1a': 45, 'ypT4N2a': 46, 'pT3N2aMx': 47, 'ypT2N2aMx': 48, 'pT1N0': 49, 'pT3N2b': 50, 'pT4N1': 51, 'ypT4N1b': 52, 'pT3N1a': 53, 'ypT3N0;pT3N1b': 54, 'ypT3N1b': 55, 'pT4N2b': 56, 'pT3N2': 57, 'pT3N0M1b': 58, 'ypT4N2b': 59, 'pT2N2b': 60, 'pT3N2a': 61, 'ypT1N1a': 62, 'pT4N1a': 63}\n"
     ]
    }
   ],
   "source": [
    "#On remarque que la variable sexe est textuelle, donc on accorde à F -> 1 et M->0\n",
    "df['Sexe']=np.where(df['Sexe']==\"F\",1,0)\n",
    "\n",
    "### let's perform label encoding on TNM\n",
    "ordinal_label = {k: i for i, k in enumerate(df['TNM'].unique(), 0)}\n",
    "print(ordinal_label)\n",
    "#data['TNM'] = data['TNM'].map(ordinal_label)\n"
   ]
  },
  {
   "cell_type": "code",
   "execution_count": 20,
   "metadata": {},
   "outputs": [
    {
     "name": "stdout",
     "output_type": "stream",
     "text": [
      "<class 'pandas.core.frame.DataFrame'>\n",
      "RangeIndex: 347 entries, 0 to 346\n",
      "Columns: 162 entries, N to Décès\n",
      "dtypes: datetime64[ns](1), float64(119), int32(1), int64(41)\n",
      "memory usage: 437.9 KB\n"
     ]
    }
   ],
   "source": [
    "###performing label encoding on str var\n",
    "for j in df.columns:\n",
    "        if df.dtypes[j] == np.object:\n",
    "            ordinal_label2 = {k: c for c, k in enumerate(df[j].unique(), 0)}\n",
    "            df[j] = df[j].map(ordinal_label2)\n",
    "df.info()"
   ]
  },
  {
   "cell_type": "code",
   "execution_count": 21,
   "metadata": {},
   "outputs": [],
   "source": [
    "df.loc[df[\"TRMA\"] == -1, \"TRMA\"] = 0"
   ]
  },
  {
   "cell_type": "code",
   "execution_count": 22,
   "metadata": {},
   "outputs": [],
   "source": [
    "## Extract the 1st column ( id column)\n",
    "numPatient = df.iloc[:,0]"
   ]
  },
  {
   "cell_type": "code",
   "execution_count": 23,
   "metadata": {},
   "outputs": [],
   "source": [
    "X = df.iloc[ : , :110]"
   ]
  },
  {
   "cell_type": "code",
   "execution_count": 24,
   "metadata": {},
   "outputs": [],
   "source": [
    "#Feature selection\n",
    "data=X.copy()\n",
    "for col in numeric_features:\n",
    "    del data[col]\n",
    "del data['Date chirurg']\n",
    "del data['N']"
   ]
  },
  {
   "cell_type": "code",
   "execution_count": 25,
   "metadata": {},
   "outputs": [
    {
     "data": {
      "text/plain": [
       "VarianceThreshold(threshold=0)"
      ]
     },
     "execution_count": 25,
     "metadata": {},
     "output_type": "execute_result"
    }
   ],
   "source": [
    "### It will zero variance features\n",
    "from sklearn.feature_selection import VarianceThreshold\n",
    "var_thres=VarianceThreshold(threshold=0)\n",
    "var_thres.fit(data)"
   ]
  },
  {
   "cell_type": "code",
   "execution_count": 26,
   "metadata": {},
   "outputs": [
    {
     "name": "stdout",
     "output_type": "stream",
     "text": [
      "1\n"
     ]
    }
   ],
   "source": [
    "constant_columns = [column for column in data.columns\n",
    "                    if column not in data.columns[var_thres.get_support()]]\n",
    "\n",
    "print(len(constant_columns))"
   ]
  },
  {
   "cell_type": "code",
   "execution_count": 27,
   "metadata": {},
   "outputs": [
    {
     "name": "stdout",
     "output_type": "stream",
     "text": [
      "TraitAdjAutre\n"
     ]
    }
   ],
   "source": [
    "for feature in constant_columns:\n",
    "     print(feature)"
   ]
  },
  {
   "cell_type": "code",
   "execution_count": 28,
   "metadata": {},
   "outputs": [],
   "source": [
    "data.drop(constant_columns,axis=1, inplace=True)"
   ]
  },
  {
   "cell_type": "code",
   "execution_count": 29,
   "metadata": {},
   "outputs": [
    {
     "data": {
      "text/html": [
       "<div>\n",
       "<style scoped>\n",
       "    .dataframe tbody tr th:only-of-type {\n",
       "        vertical-align: middle;\n",
       "    }\n",
       "\n",
       "    .dataframe tbody tr th {\n",
       "        vertical-align: top;\n",
       "    }\n",
       "\n",
       "    .dataframe thead th {\n",
       "        text-align: right;\n",
       "    }\n",
       "</style>\n",
       "<table border=\"1\" class=\"dataframe\">\n",
       "  <thead>\n",
       "    <tr style=\"text-align: right;\">\n",
       "      <th></th>\n",
       "      <th>Sexe</th>\n",
       "      <th>HTA</th>\n",
       "      <th>diabète</th>\n",
       "      <th>cardiopathie</th>\n",
       "      <th>obésité</th>\n",
       "      <th>atcd med autre</th>\n",
       "      <th>signif atcd autr</th>\n",
       "      <th>atcd chir</th>\n",
       "      <th>signif atcdchir</th>\n",
       "      <th>ANTCDTs Toxique</th>\n",
       "      <th>...</th>\n",
       "      <th>HistoEmbol</th>\n",
       "      <th>HistoEngainPN</th>\n",
       "      <th>HistoIntéMes</th>\n",
       "      <th>HistoPerfT/R</th>\n",
       "      <th>TNM</th>\n",
       "      <th>Stade</th>\n",
       "      <th>TraitemAdj</th>\n",
       "      <th>TraitAdjChim</th>\n",
       "      <th>signif Chimio</th>\n",
       "      <th>TraitAdjRChm</th>\n",
       "    </tr>\n",
       "  </thead>\n",
       "  <tbody>\n",
       "    <tr>\n",
       "      <th>0</th>\n",
       "      <td>1</td>\n",
       "      <td>0.0</td>\n",
       "      <td>0.0</td>\n",
       "      <td>0.0</td>\n",
       "      <td>0.0</td>\n",
       "      <td>0.0</td>\n",
       "      <td>0</td>\n",
       "      <td>1.0</td>\n",
       "      <td>0</td>\n",
       "      <td>0.0</td>\n",
       "      <td>...</td>\n",
       "      <td>0.0</td>\n",
       "      <td>0.0</td>\n",
       "      <td>0.0</td>\n",
       "      <td>0.0</td>\n",
       "      <td>0</td>\n",
       "      <td>3</td>\n",
       "      <td>1.0</td>\n",
       "      <td>1.0</td>\n",
       "      <td>0</td>\n",
       "      <td>0.0</td>\n",
       "    </tr>\n",
       "    <tr>\n",
       "      <th>1</th>\n",
       "      <td>0</td>\n",
       "      <td>0.0</td>\n",
       "      <td>0.0</td>\n",
       "      <td>0.0</td>\n",
       "      <td>0.0</td>\n",
       "      <td>0.0</td>\n",
       "      <td>0</td>\n",
       "      <td>1.0</td>\n",
       "      <td>0</td>\n",
       "      <td>0.0</td>\n",
       "      <td>...</td>\n",
       "      <td>2.0</td>\n",
       "      <td>2.0</td>\n",
       "      <td>0.0</td>\n",
       "      <td>0.0</td>\n",
       "      <td>1</td>\n",
       "      <td>3</td>\n",
       "      <td>1.0</td>\n",
       "      <td>1.0</td>\n",
       "      <td>0</td>\n",
       "      <td>0.0</td>\n",
       "    </tr>\n",
       "    <tr>\n",
       "      <th>2</th>\n",
       "      <td>1</td>\n",
       "      <td>1.0</td>\n",
       "      <td>0.0</td>\n",
       "      <td>0.0</td>\n",
       "      <td>0.0</td>\n",
       "      <td>0.0</td>\n",
       "      <td>0</td>\n",
       "      <td>3.0</td>\n",
       "      <td>0</td>\n",
       "      <td>0.0</td>\n",
       "      <td>...</td>\n",
       "      <td>0.0</td>\n",
       "      <td>0.0</td>\n",
       "      <td>0.0</td>\n",
       "      <td>0.0</td>\n",
       "      <td>2</td>\n",
       "      <td>2</td>\n",
       "      <td>0.0</td>\n",
       "      <td>0.0</td>\n",
       "      <td>0</td>\n",
       "      <td>0.0</td>\n",
       "    </tr>\n",
       "    <tr>\n",
       "      <th>3</th>\n",
       "      <td>0</td>\n",
       "      <td>0.0</td>\n",
       "      <td>0.0</td>\n",
       "      <td>0.0</td>\n",
       "      <td>0.0</td>\n",
       "      <td>0.0</td>\n",
       "      <td>0</td>\n",
       "      <td>0.0</td>\n",
       "      <td>0</td>\n",
       "      <td>0.0</td>\n",
       "      <td>...</td>\n",
       "      <td>2.0</td>\n",
       "      <td>2.0</td>\n",
       "      <td>0.0</td>\n",
       "      <td>2.0</td>\n",
       "      <td>3</td>\n",
       "      <td>2</td>\n",
       "      <td>0.0</td>\n",
       "      <td>0.0</td>\n",
       "      <td>0</td>\n",
       "      <td>0.0</td>\n",
       "    </tr>\n",
       "    <tr>\n",
       "      <th>4</th>\n",
       "      <td>0</td>\n",
       "      <td>0.0</td>\n",
       "      <td>0.0</td>\n",
       "      <td>0.0</td>\n",
       "      <td>0.0</td>\n",
       "      <td>0.0</td>\n",
       "      <td>0</td>\n",
       "      <td>2.0</td>\n",
       "      <td>0</td>\n",
       "      <td>0.0</td>\n",
       "      <td>...</td>\n",
       "      <td>0.0</td>\n",
       "      <td>0.0</td>\n",
       "      <td>0.0</td>\n",
       "      <td>0.0</td>\n",
       "      <td>2</td>\n",
       "      <td>2</td>\n",
       "      <td>0.0</td>\n",
       "      <td>0.0</td>\n",
       "      <td>0</td>\n",
       "      <td>0.0</td>\n",
       "    </tr>\n",
       "    <tr>\n",
       "      <th>...</th>\n",
       "      <td>...</td>\n",
       "      <td>...</td>\n",
       "      <td>...</td>\n",
       "      <td>...</td>\n",
       "      <td>...</td>\n",
       "      <td>...</td>\n",
       "      <td>...</td>\n",
       "      <td>...</td>\n",
       "      <td>...</td>\n",
       "      <td>...</td>\n",
       "      <td>...</td>\n",
       "      <td>...</td>\n",
       "      <td>...</td>\n",
       "      <td>...</td>\n",
       "      <td>...</td>\n",
       "      <td>...</td>\n",
       "      <td>...</td>\n",
       "      <td>...</td>\n",
       "      <td>...</td>\n",
       "      <td>...</td>\n",
       "      <td>...</td>\n",
       "    </tr>\n",
       "    <tr>\n",
       "      <th>342</th>\n",
       "      <td>1</td>\n",
       "      <td>0.0</td>\n",
       "      <td>0.0</td>\n",
       "      <td>0.0</td>\n",
       "      <td>0.0</td>\n",
       "      <td>1.0</td>\n",
       "      <td>10</td>\n",
       "      <td>1.0</td>\n",
       "      <td>2</td>\n",
       "      <td>0.0</td>\n",
       "      <td>...</td>\n",
       "      <td>2.0</td>\n",
       "      <td>2.0</td>\n",
       "      <td>0.0</td>\n",
       "      <td>2.0</td>\n",
       "      <td>2</td>\n",
       "      <td>2</td>\n",
       "      <td>0.0</td>\n",
       "      <td>0.0</td>\n",
       "      <td>11</td>\n",
       "      <td>0.0</td>\n",
       "    </tr>\n",
       "    <tr>\n",
       "      <th>343</th>\n",
       "      <td>1</td>\n",
       "      <td>0.0</td>\n",
       "      <td>0.0</td>\n",
       "      <td>0.0</td>\n",
       "      <td>0.0</td>\n",
       "      <td>0.0</td>\n",
       "      <td>0</td>\n",
       "      <td>1.0</td>\n",
       "      <td>32</td>\n",
       "      <td>0.0</td>\n",
       "      <td>...</td>\n",
       "      <td>2.0</td>\n",
       "      <td>2.0</td>\n",
       "      <td>0.0</td>\n",
       "      <td>2.0</td>\n",
       "      <td>40</td>\n",
       "      <td>2</td>\n",
       "      <td>1.0</td>\n",
       "      <td>1.0</td>\n",
       "      <td>0</td>\n",
       "      <td>0.0</td>\n",
       "    </tr>\n",
       "    <tr>\n",
       "      <th>344</th>\n",
       "      <td>1</td>\n",
       "      <td>0.0</td>\n",
       "      <td>0.0</td>\n",
       "      <td>0.0</td>\n",
       "      <td>0.0</td>\n",
       "      <td>0.0</td>\n",
       "      <td>0</td>\n",
       "      <td>0.0</td>\n",
       "      <td>0</td>\n",
       "      <td>0.0</td>\n",
       "      <td>...</td>\n",
       "      <td>2.0</td>\n",
       "      <td>2.0</td>\n",
       "      <td>0.0</td>\n",
       "      <td>2.0</td>\n",
       "      <td>63</td>\n",
       "      <td>3</td>\n",
       "      <td>1.0</td>\n",
       "      <td>1.0</td>\n",
       "      <td>0</td>\n",
       "      <td>0.0</td>\n",
       "    </tr>\n",
       "    <tr>\n",
       "      <th>345</th>\n",
       "      <td>1</td>\n",
       "      <td>0.0</td>\n",
       "      <td>0.0</td>\n",
       "      <td>0.0</td>\n",
       "      <td>0.0</td>\n",
       "      <td>0.0</td>\n",
       "      <td>0</td>\n",
       "      <td>0.0</td>\n",
       "      <td>0</td>\n",
       "      <td>0.0</td>\n",
       "      <td>...</td>\n",
       "      <td>2.0</td>\n",
       "      <td>2.0</td>\n",
       "      <td>1.0</td>\n",
       "      <td>2.0</td>\n",
       "      <td>6</td>\n",
       "      <td>0</td>\n",
       "      <td>0.0</td>\n",
       "      <td>0.0</td>\n",
       "      <td>0</td>\n",
       "      <td>0.0</td>\n",
       "    </tr>\n",
       "    <tr>\n",
       "      <th>346</th>\n",
       "      <td>0</td>\n",
       "      <td>0.0</td>\n",
       "      <td>0.0</td>\n",
       "      <td>0.0</td>\n",
       "      <td>0.0</td>\n",
       "      <td>0.0</td>\n",
       "      <td>0</td>\n",
       "      <td>0.0</td>\n",
       "      <td>0</td>\n",
       "      <td>0.0</td>\n",
       "      <td>...</td>\n",
       "      <td>0.0</td>\n",
       "      <td>0.0</td>\n",
       "      <td>0.0</td>\n",
       "      <td>0.0</td>\n",
       "      <td>23</td>\n",
       "      <td>2</td>\n",
       "      <td>0.0</td>\n",
       "      <td>0.0</td>\n",
       "      <td>0</td>\n",
       "      <td>0.0</td>\n",
       "    </tr>\n",
       "  </tbody>\n",
       "</table>\n",
       "<p>347 rows × 92 columns</p>\n",
       "</div>"
      ],
      "text/plain": [
       "     Sexe  HTA  diabète  cardiopathie  obésité  atcd med autre  \\\n",
       "0       1  0.0      0.0           0.0      0.0             0.0   \n",
       "1       0  0.0      0.0           0.0      0.0             0.0   \n",
       "2       1  1.0      0.0           0.0      0.0             0.0   \n",
       "3       0  0.0      0.0           0.0      0.0             0.0   \n",
       "4       0  0.0      0.0           0.0      0.0             0.0   \n",
       "..    ...  ...      ...           ...      ...             ...   \n",
       "342     1  0.0      0.0           0.0      0.0             1.0   \n",
       "343     1  0.0      0.0           0.0      0.0             0.0   \n",
       "344     1  0.0      0.0           0.0      0.0             0.0   \n",
       "345     1  0.0      0.0           0.0      0.0             0.0   \n",
       "346     0  0.0      0.0           0.0      0.0             0.0   \n",
       "\n",
       "     signif atcd autr  atcd chir  signif atcdchir  ANTCDTs Toxique  ...  \\\n",
       "0                   0        1.0                0              0.0  ...   \n",
       "1                   0        1.0                0              0.0  ...   \n",
       "2                   0        3.0                0              0.0  ...   \n",
       "3                   0        0.0                0              0.0  ...   \n",
       "4                   0        2.0                0              0.0  ...   \n",
       "..                ...        ...              ...              ...  ...   \n",
       "342                10        1.0                2              0.0  ...   \n",
       "343                 0        1.0               32              0.0  ...   \n",
       "344                 0        0.0                0              0.0  ...   \n",
       "345                 0        0.0                0              0.0  ...   \n",
       "346                 0        0.0                0              0.0  ...   \n",
       "\n",
       "     HistoEmbol  HistoEngainPN  HistoIntéMes  HistoPerfT/R  TNM  Stade  \\\n",
       "0           0.0            0.0           0.0           0.0    0      3   \n",
       "1           2.0            2.0           0.0           0.0    1      3   \n",
       "2           0.0            0.0           0.0           0.0    2      2   \n",
       "3           2.0            2.0           0.0           2.0    3      2   \n",
       "4           0.0            0.0           0.0           0.0    2      2   \n",
       "..          ...            ...           ...           ...  ...    ...   \n",
       "342         2.0            2.0           0.0           2.0    2      2   \n",
       "343         2.0            2.0           0.0           2.0   40      2   \n",
       "344         2.0            2.0           0.0           2.0   63      3   \n",
       "345         2.0            2.0           1.0           2.0    6      0   \n",
       "346         0.0            0.0           0.0           0.0   23      2   \n",
       "\n",
       "     TraitemAdj  TraitAdjChim  signif Chimio  TraitAdjRChm  \n",
       "0           1.0           1.0              0           0.0  \n",
       "1           1.0           1.0              0           0.0  \n",
       "2           0.0           0.0              0           0.0  \n",
       "3           0.0           0.0              0           0.0  \n",
       "4           0.0           0.0              0           0.0  \n",
       "..          ...           ...            ...           ...  \n",
       "342         0.0           0.0             11           0.0  \n",
       "343         1.0           1.0              0           0.0  \n",
       "344         1.0           1.0              0           0.0  \n",
       "345         0.0           0.0              0           0.0  \n",
       "346         0.0           0.0              0           0.0  \n",
       "\n",
       "[347 rows x 92 columns]"
      ]
     },
     "execution_count": 29,
     "metadata": {},
     "output_type": "execute_result"
    }
   ],
   "source": [
    "data"
   ]
  },
  {
   "cell_type": "code",
   "execution_count": 30,
   "metadata": {},
   "outputs": [],
   "source": [
    "quant_data=pd.DataFrame(X, columns=numeric_features)"
   ]
  },
  {
   "cell_type": "code",
   "execution_count": 31,
   "metadata": {},
   "outputs": [],
   "source": [
    "df=pd.concat([numPatient, quant_data], axis=1)"
   ]
  },
  {
   "cell_type": "code",
   "execution_count": 32,
   "metadata": {},
   "outputs": [],
   "source": [
    "df=pd.concat([df, data], axis=1)"
   ]
  },
  {
   "cell_type": "code",
   "execution_count": 33,
   "metadata": {},
   "outputs": [
    {
     "data": {
      "text/html": [
       "<div>\n",
       "<style scoped>\n",
       "    .dataframe tbody tr th:only-of-type {\n",
       "        vertical-align: middle;\n",
       "    }\n",
       "\n",
       "    .dataframe tbody tr th {\n",
       "        vertical-align: top;\n",
       "    }\n",
       "\n",
       "    .dataframe thead th {\n",
       "        text-align: right;\n",
       "    }\n",
       "</style>\n",
       "<table border=\"1\" class=\"dataframe\">\n",
       "  <thead>\n",
       "    <tr style=\"text-align: right;\">\n",
       "      <th></th>\n",
       "      <th>N</th>\n",
       "      <th>Age</th>\n",
       "      <th>Hémoglobine</th>\n",
       "      <th>Globule blanc</th>\n",
       "      <th>Plaquette</th>\n",
       "      <th>CRP</th>\n",
       "      <th>Urée</th>\n",
       "      <th>Créat</th>\n",
       "      <th>Glycémie</th>\n",
       "      <th>Albumine</th>\n",
       "      <th>...</th>\n",
       "      <th>HistoEmbol</th>\n",
       "      <th>HistoEngainPN</th>\n",
       "      <th>HistoIntéMes</th>\n",
       "      <th>HistoPerfT/R</th>\n",
       "      <th>TNM</th>\n",
       "      <th>Stade</th>\n",
       "      <th>TraitemAdj</th>\n",
       "      <th>TraitAdjChim</th>\n",
       "      <th>signif Chimio</th>\n",
       "      <th>TraitAdjRChm</th>\n",
       "    </tr>\n",
       "  </thead>\n",
       "  <tbody>\n",
       "    <tr>\n",
       "      <th>0</th>\n",
       "      <td>1.0</td>\n",
       "      <td>60.000000</td>\n",
       "      <td>11.500000</td>\n",
       "      <td>8170.000000</td>\n",
       "      <td>331000.000000</td>\n",
       "      <td>12.000000</td>\n",
       "      <td>0.360000</td>\n",
       "      <td>10.000000</td>\n",
       "      <td>0.900000</td>\n",
       "      <td>35.513201</td>\n",
       "      <td>...</td>\n",
       "      <td>0.0</td>\n",
       "      <td>0.0</td>\n",
       "      <td>0.0</td>\n",
       "      <td>0.0</td>\n",
       "      <td>0</td>\n",
       "      <td>3</td>\n",
       "      <td>1.0</td>\n",
       "      <td>1.0</td>\n",
       "      <td>0</td>\n",
       "      <td>0.0</td>\n",
       "    </tr>\n",
       "    <tr>\n",
       "      <th>1</th>\n",
       "      <td>2.0</td>\n",
       "      <td>80.000000</td>\n",
       "      <td>10.700000</td>\n",
       "      <td>8680.000000</td>\n",
       "      <td>197000.000000</td>\n",
       "      <td>16.000000</td>\n",
       "      <td>0.340000</td>\n",
       "      <td>9.000000</td>\n",
       "      <td>2.310000</td>\n",
       "      <td>35.300000</td>\n",
       "      <td>...</td>\n",
       "      <td>2.0</td>\n",
       "      <td>2.0</td>\n",
       "      <td>0.0</td>\n",
       "      <td>0.0</td>\n",
       "      <td>1</td>\n",
       "      <td>3</td>\n",
       "      <td>1.0</td>\n",
       "      <td>1.0</td>\n",
       "      <td>0</td>\n",
       "      <td>0.0</td>\n",
       "    </tr>\n",
       "    <tr>\n",
       "      <th>2</th>\n",
       "      <td>3.0</td>\n",
       "      <td>77.000000</td>\n",
       "      <td>10.400000</td>\n",
       "      <td>3640.000000</td>\n",
       "      <td>147000.000000</td>\n",
       "      <td>28.310638</td>\n",
       "      <td>0.300000</td>\n",
       "      <td>10.000000</td>\n",
       "      <td>2.090000</td>\n",
       "      <td>37.800000</td>\n",
       "      <td>...</td>\n",
       "      <td>0.0</td>\n",
       "      <td>0.0</td>\n",
       "      <td>0.0</td>\n",
       "      <td>0.0</td>\n",
       "      <td>2</td>\n",
       "      <td>2</td>\n",
       "      <td>0.0</td>\n",
       "      <td>0.0</td>\n",
       "      <td>0</td>\n",
       "      <td>0.0</td>\n",
       "    </tr>\n",
       "    <tr>\n",
       "      <th>3</th>\n",
       "      <td>4.0</td>\n",
       "      <td>50.000000</td>\n",
       "      <td>16.000000</td>\n",
       "      <td>6890.000000</td>\n",
       "      <td>157000.000000</td>\n",
       "      <td>3.000000</td>\n",
       "      <td>0.520000</td>\n",
       "      <td>10.000000</td>\n",
       "      <td>1.020000</td>\n",
       "      <td>35.513201</td>\n",
       "      <td>...</td>\n",
       "      <td>2.0</td>\n",
       "      <td>2.0</td>\n",
       "      <td>0.0</td>\n",
       "      <td>2.0</td>\n",
       "      <td>3</td>\n",
       "      <td>2</td>\n",
       "      <td>0.0</td>\n",
       "      <td>0.0</td>\n",
       "      <td>0</td>\n",
       "      <td>0.0</td>\n",
       "    </tr>\n",
       "    <tr>\n",
       "      <th>4</th>\n",
       "      <td>5.0</td>\n",
       "      <td>68.000000</td>\n",
       "      <td>8.400000</td>\n",
       "      <td>6500.000000</td>\n",
       "      <td>408000.000000</td>\n",
       "      <td>10.000000</td>\n",
       "      <td>0.230000</td>\n",
       "      <td>10.000000</td>\n",
       "      <td>0.850000</td>\n",
       "      <td>40.000000</td>\n",
       "      <td>...</td>\n",
       "      <td>0.0</td>\n",
       "      <td>0.0</td>\n",
       "      <td>0.0</td>\n",
       "      <td>0.0</td>\n",
       "      <td>2</td>\n",
       "      <td>2</td>\n",
       "      <td>0.0</td>\n",
       "      <td>0.0</td>\n",
       "      <td>0</td>\n",
       "      <td>0.0</td>\n",
       "    </tr>\n",
       "    <tr>\n",
       "      <th>...</th>\n",
       "      <td>...</td>\n",
       "      <td>...</td>\n",
       "      <td>...</td>\n",
       "      <td>...</td>\n",
       "      <td>...</td>\n",
       "      <td>...</td>\n",
       "      <td>...</td>\n",
       "      <td>...</td>\n",
       "      <td>...</td>\n",
       "      <td>...</td>\n",
       "      <td>...</td>\n",
       "      <td>...</td>\n",
       "      <td>...</td>\n",
       "      <td>...</td>\n",
       "      <td>...</td>\n",
       "      <td>...</td>\n",
       "      <td>...</td>\n",
       "      <td>...</td>\n",
       "      <td>...</td>\n",
       "      <td>...</td>\n",
       "      <td>...</td>\n",
       "    </tr>\n",
       "    <tr>\n",
       "      <th>342</th>\n",
       "      <td>343.0</td>\n",
       "      <td>56.000000</td>\n",
       "      <td>9.500000</td>\n",
       "      <td>5060.000000</td>\n",
       "      <td>456000.000000</td>\n",
       "      <td>37.000000</td>\n",
       "      <td>0.230000</td>\n",
       "      <td>5.000000</td>\n",
       "      <td>1.070000</td>\n",
       "      <td>39.000000</td>\n",
       "      <td>...</td>\n",
       "      <td>2.0</td>\n",
       "      <td>2.0</td>\n",
       "      <td>0.0</td>\n",
       "      <td>2.0</td>\n",
       "      <td>2</td>\n",
       "      <td>2</td>\n",
       "      <td>0.0</td>\n",
       "      <td>0.0</td>\n",
       "      <td>11</td>\n",
       "      <td>0.0</td>\n",
       "    </tr>\n",
       "    <tr>\n",
       "      <th>343</th>\n",
       "      <td>344.0</td>\n",
       "      <td>52.000000</td>\n",
       "      <td>11.700000</td>\n",
       "      <td>7770.000000</td>\n",
       "      <td>362000.000000</td>\n",
       "      <td>20.000000</td>\n",
       "      <td>0.200000</td>\n",
       "      <td>8.000000</td>\n",
       "      <td>1.100000</td>\n",
       "      <td>44.000000</td>\n",
       "      <td>...</td>\n",
       "      <td>2.0</td>\n",
       "      <td>2.0</td>\n",
       "      <td>0.0</td>\n",
       "      <td>2.0</td>\n",
       "      <td>40</td>\n",
       "      <td>2</td>\n",
       "      <td>1.0</td>\n",
       "      <td>1.0</td>\n",
       "      <td>0</td>\n",
       "      <td>0.0</td>\n",
       "    </tr>\n",
       "    <tr>\n",
       "      <th>344</th>\n",
       "      <td>345.0</td>\n",
       "      <td>50.000000</td>\n",
       "      <td>11.000000</td>\n",
       "      <td>7480.000000</td>\n",
       "      <td>330000.000000</td>\n",
       "      <td>94.000000</td>\n",
       "      <td>0.110000</td>\n",
       "      <td>5.000000</td>\n",
       "      <td>1.050000</td>\n",
       "      <td>25.000000</td>\n",
       "      <td>...</td>\n",
       "      <td>2.0</td>\n",
       "      <td>2.0</td>\n",
       "      <td>0.0</td>\n",
       "      <td>2.0</td>\n",
       "      <td>63</td>\n",
       "      <td>3</td>\n",
       "      <td>1.0</td>\n",
       "      <td>1.0</td>\n",
       "      <td>0</td>\n",
       "      <td>0.0</td>\n",
       "    </tr>\n",
       "    <tr>\n",
       "      <th>345</th>\n",
       "      <td>346.0</td>\n",
       "      <td>33.000000</td>\n",
       "      <td>10.800000</td>\n",
       "      <td>7370.000000</td>\n",
       "      <td>412000.000000</td>\n",
       "      <td>7.000000</td>\n",
       "      <td>0.260000</td>\n",
       "      <td>7.000000</td>\n",
       "      <td>0.890000</td>\n",
       "      <td>34.000000</td>\n",
       "      <td>...</td>\n",
       "      <td>2.0</td>\n",
       "      <td>2.0</td>\n",
       "      <td>1.0</td>\n",
       "      <td>2.0</td>\n",
       "      <td>6</td>\n",
       "      <td>0</td>\n",
       "      <td>0.0</td>\n",
       "      <td>0.0</td>\n",
       "      <td>0</td>\n",
       "      <td>0.0</td>\n",
       "    </tr>\n",
       "    <tr>\n",
       "      <th>346</th>\n",
       "      <td>NaN</td>\n",
       "      <td>57.482558</td>\n",
       "      <td>11.577391</td>\n",
       "      <td>6903.686217</td>\n",
       "      <td>280835.276968</td>\n",
       "      <td>28.310638</td>\n",
       "      <td>0.275598</td>\n",
       "      <td>7.652006</td>\n",
       "      <td>1.074834</td>\n",
       "      <td>35.513201</td>\n",
       "      <td>...</td>\n",
       "      <td>0.0</td>\n",
       "      <td>0.0</td>\n",
       "      <td>0.0</td>\n",
       "      <td>0.0</td>\n",
       "      <td>23</td>\n",
       "      <td>2</td>\n",
       "      <td>0.0</td>\n",
       "      <td>0.0</td>\n",
       "      <td>0</td>\n",
       "      <td>0.0</td>\n",
       "    </tr>\n",
       "  </tbody>\n",
       "</table>\n",
       "<p>347 rows × 108 columns</p>\n",
       "</div>"
      ],
      "text/plain": [
       "         N        Age  Hémoglobine  Globule blanc      Plaquette        CRP  \\\n",
       "0      1.0  60.000000    11.500000    8170.000000  331000.000000  12.000000   \n",
       "1      2.0  80.000000    10.700000    8680.000000  197000.000000  16.000000   \n",
       "2      3.0  77.000000    10.400000    3640.000000  147000.000000  28.310638   \n",
       "3      4.0  50.000000    16.000000    6890.000000  157000.000000   3.000000   \n",
       "4      5.0  68.000000     8.400000    6500.000000  408000.000000  10.000000   \n",
       "..     ...        ...          ...            ...            ...        ...   \n",
       "342  343.0  56.000000     9.500000    5060.000000  456000.000000  37.000000   \n",
       "343  344.0  52.000000    11.700000    7770.000000  362000.000000  20.000000   \n",
       "344  345.0  50.000000    11.000000    7480.000000  330000.000000  94.000000   \n",
       "345  346.0  33.000000    10.800000    7370.000000  412000.000000   7.000000   \n",
       "346    NaN  57.482558    11.577391    6903.686217  280835.276968  28.310638   \n",
       "\n",
       "         Urée      Créat  Glycémie   Albumine  ...  HistoEmbol  HistoEngainPN  \\\n",
       "0    0.360000  10.000000  0.900000  35.513201  ...         0.0            0.0   \n",
       "1    0.340000   9.000000  2.310000  35.300000  ...         2.0            2.0   \n",
       "2    0.300000  10.000000  2.090000  37.800000  ...         0.0            0.0   \n",
       "3    0.520000  10.000000  1.020000  35.513201  ...         2.0            2.0   \n",
       "4    0.230000  10.000000  0.850000  40.000000  ...         0.0            0.0   \n",
       "..        ...        ...       ...        ...  ...         ...            ...   \n",
       "342  0.230000   5.000000  1.070000  39.000000  ...         2.0            2.0   \n",
       "343  0.200000   8.000000  1.100000  44.000000  ...         2.0            2.0   \n",
       "344  0.110000   5.000000  1.050000  25.000000  ...         2.0            2.0   \n",
       "345  0.260000   7.000000  0.890000  34.000000  ...         2.0            2.0   \n",
       "346  0.275598   7.652006  1.074834  35.513201  ...         0.0            0.0   \n",
       "\n",
       "     HistoIntéMes  HistoPerfT/R  TNM  Stade  TraitemAdj  TraitAdjChim  \\\n",
       "0             0.0           0.0    0      3         1.0           1.0   \n",
       "1             0.0           0.0    1      3         1.0           1.0   \n",
       "2             0.0           0.0    2      2         0.0           0.0   \n",
       "3             0.0           2.0    3      2         0.0           0.0   \n",
       "4             0.0           0.0    2      2         0.0           0.0   \n",
       "..            ...           ...  ...    ...         ...           ...   \n",
       "342           0.0           2.0    2      2         0.0           0.0   \n",
       "343           0.0           2.0   40      2         1.0           1.0   \n",
       "344           0.0           2.0   63      3         1.0           1.0   \n",
       "345           1.0           2.0    6      0         0.0           0.0   \n",
       "346           0.0           0.0   23      2         0.0           0.0   \n",
       "\n",
       "     signif Chimio  TraitAdjRChm  \n",
       "0                0           0.0  \n",
       "1                0           0.0  \n",
       "2                0           0.0  \n",
       "3                0           0.0  \n",
       "4                0           0.0  \n",
       "..             ...           ...  \n",
       "342             11           0.0  \n",
       "343              0           0.0  \n",
       "344              0           0.0  \n",
       "345              0           0.0  \n",
       "346              0           0.0  \n",
       "\n",
       "[347 rows x 108 columns]"
      ]
     },
     "execution_count": 33,
     "metadata": {},
     "output_type": "execute_result"
    }
   ],
   "source": [
    "df"
   ]
  },
  {
   "cell_type": "markdown",
   "metadata": {},
   "source": [
    "### Interface graphique"
   ]
  },
  {
   "cell_type": "code",
   "execution_count": 34,
   "metadata": {},
   "outputs": [
    {
     "name": "stdout",
     "output_type": "stream",
     "text": [
      "Requirement already satisfied: tk in c:\\users\\user\\anaconda3\\lib\\site-packages (0.1.0)\n",
      "Note: you may need to restart the kernel to use updated packages.\n"
     ]
    }
   ],
   "source": [
    "pip install tk"
   ]
  },
  {
   "cell_type": "code",
   "execution_count": 48,
   "metadata": {},
   "outputs": [],
   "source": [
    "from joblib import dump, load\n",
    "model_loaded = load('votingp_model_saved.joblib')"
   ]
  },
  {
   "cell_type": "code",
   "execution_count": 49,
   "metadata": {},
   "outputs": [],
   "source": [
    "def test():\n",
    "    i=0\n",
    "    #First condition\n",
    "    if entry_FId.get() == \"\":\n",
    "        print(\"Patient's ID Field is Empty!!\")\n",
    "        user = \"                                   Patient's ID Field is Empty  !!                             \"\n",
    "        Label(win,text=\". \",fg=\"red\",bg=\"lemon chiffon\",font = (\"Calibri 12 bold\")).place(x=12,y=460)\n",
    "        Label(win,text=user,fg=\"blue\",bg=\"lemon chiffon\",font = (\"Calibri 12 bold\")).place(x=12,y=460)\n",
    "        i=1\n",
    "    #Second condition\n",
    "    if not int(entry_FId.get()) in numPatient.unique().tolist():\n",
    "        print(\"Patient's ID doesn't exist!!\")\n",
    "        user = \"                                   Patient's ID doesn't exist   !!                              \"\n",
    "        Label(win,text=\". \",fg=\"red\",bg=\"lemon chiffon\",font = (\"Calibri 12 bold\")).place(x=12,y=460)\n",
    "        Label(win,text=user,fg=\"blue\",bg=\"lemon chiffon\",font = (\"Calibri 12 bold\")).place(x=12,y=460)\n",
    "        i=1\n",
    "    if i == 0:\n",
    "        \n",
    "        print(\"Testing...\")\n",
    "    # Test code will go here....\n",
    "        dimension=(40, 40)\n",
    "        flat_data = df.loc[df['N'] == int(entry_FId.get())]\n",
    "        test=flat_data.iloc[:,1:]\n",
    "\n",
    "        result = model_loaded.predict(test)\n",
    "    # print(result)\n",
    "        if result == 1:\n",
    "            print(\"Morbidité\")\n",
    "            person = entry_FId.get()\n",
    "            user = 'Patient N° '+ person + \" aura des complications pendant l'opération  !!!         \"\n",
    "            a = user\n",
    "            Label(win,text=\"                                                                            \",fg=\"red\",bg=\"white\",font = (\"Calibri 12 bold\")).place(x=12,y=460)\n",
    "            Label(win,text=user,fg=\"red\",bg=\"white\",font = (\"Calibri 12 bold\")).place(x=12,y=460)\n",
    "            MsgBox = tk.messagebox.showwarning ('warning','Morbidité = 1 !!',icon = 'warning')\n",
    "        else:\n",
    "            print(\"Pas de morbidité\")\n",
    "            person = entry_FId.get()\n",
    "            user = 'Patient N° '+ person + \" n'aura pas des complications pendant l'opération!!! \"\n",
    "            a = user\n",
    "            Label(win,text=\". \",fg=\"red\",bg=\"white\",font = (\"Calibri 12 bold\")).place(x=12,y=460)\n",
    "            Label(win,text=user,fg=\"blue\",bg=\"yellow\",font = (\"Calibri 12 bold\")).place(x=12,y=460)\n",
    "            MsgBox = tk.messagebox.showinfo ('information','Morbidité = 0 !!')\n"
   ]
  },
  {
   "cell_type": "code",
   "execution_count": 50,
   "metadata": {},
   "outputs": [
    {
     "name": "stdout",
     "output_type": "stream",
     "text": [
      "Testing...\n",
      "Pas de morbidité\n",
      "Testing...\n",
      "Morbidité\n"
     ]
    }
   ],
   "source": [
    "import tkinter as tk\n",
    "from tkinter import *\n",
    "from tkinter import messagebox\n",
    " \n",
    "win =  Tk()\n",
    "\n",
    "win.geometry(\"520x520\")\n",
    "win.configure(background=\"LightSkyBlue1\")\n",
    "win.title(\"cancer colorectal prediction\")\n",
    "\n",
    "\n",
    "title = Label(win,text=\"Prediction\",bg=\"LightSteelBlue4\",width=\"300\",height=\"2\",fg=\"White\",font = (\"Calibri 20 bold italic underline\")).pack()\n",
    "Label(win, text=\"Consulter les prévisions pour le patient N°: \", bg=\"LightSkyBlue1\",font = (\"Calibri 15\")).place(x=12,y=150)\n",
    "FId = Label(win, text=\"N° du patient : \",bg=\"LightSkyBlue1\",font = (\"Verdana 12\")).place(x=60,y=220)\n",
    "gap = Label(win,text=\"\",bg=\"LightSkyBlue1\").pack()\n",
    "\n",
    "entry_FId = Entry(win,textvariable = FId,width=45)\n",
    "entry_FId.place(x=200,y=222)\n",
    "\n",
    "submit = Button(win, text=\"Voir les prévisions\", width=\"54\",height=\"2\",activebackground=\"violet\", bg=\"seashell2\",command = test,font = (\"Calibri 12 bold \")).place(x=40, y=300)\n",
    "\n",
    "win.resizable(width=\"false\", height=\"false\") # false to prevent resizing\n",
    "\n",
    "win.mainloop()"
   ]
  }
 ],
 "metadata": {
  "kernelspec": {
   "display_name": "Python 3",
   "language": "python",
   "name": "python3"
  },
  "language_info": {
   "codemirror_mode": {
    "name": "ipython",
    "version": 3
   },
   "file_extension": ".py",
   "mimetype": "text/x-python",
   "name": "python",
   "nbconvert_exporter": "python",
   "pygments_lexer": "ipython3",
   "version": "3.8.5"
  }
 },
 "nbformat": 4,
 "nbformat_minor": 5
}
