{
 "cells": [
  {
   "cell_type": "code",
   "execution_count": 1,
   "id": "52d20caf",
   "metadata": {},
   "outputs": [
    {
     "name": "stdout",
     "output_type": "stream",
     "text": [
      "Requirement already up-to-date: prince in c:\\users\\user\\anaconda3\\lib\\site-packages (0.7.1)\n",
      "Requirement already satisfied, skipping upgrade: matplotlib>=3.0.2 in c:\\users\\user\\anaconda3\\lib\\site-packages (from prince) (3.3.2)\n",
      "Requirement already satisfied, skipping upgrade: scipy>=1.3.0 in c:\\users\\user\\anaconda3\\lib\\site-packages (from prince) (1.5.2)\n",
      "Requirement already satisfied, skipping upgrade: numpy>=1.17.1 in c:\\users\\user\\anaconda3\\lib\\site-packages (from prince) (1.19.2)\n",
      "Requirement already satisfied, skipping upgrade: scikit-learn>=0.22.1 in c:\\users\\user\\anaconda3\\lib\\site-packages (from prince) (0.24.2)\n",
      "Requirement already satisfied, skipping upgrade: pandas>=1.0.3 in c:\\users\\user\\anaconda3\\lib\\site-packages (from prince) (1.1.3)\n",
      "Requirement already satisfied, skipping upgrade: python-dateutil>=2.1 in c:\\users\\user\\anaconda3\\lib\\site-packages (from matplotlib>=3.0.2->prince) (2.8.1)\n",
      "Requirement already satisfied, skipping upgrade: pyparsing!=2.0.4,!=2.1.2,!=2.1.6,>=2.0.3 in c:\\users\\user\\anaconda3\\lib\\site-packages (from matplotlib>=3.0.2->prince) (2.4.7)\n",
      "Requirement already satisfied, skipping upgrade: cycler>=0.10 in c:\\users\\user\\anaconda3\\lib\\site-packages (from matplotlib>=3.0.2->prince) (0.10.0)\n",
      "Requirement already satisfied, skipping upgrade: certifi>=2020.06.20 in c:\\users\\user\\anaconda3\\lib\\site-packages (from matplotlib>=3.0.2->prince) (2020.6.20)\n",
      "Requirement already satisfied, skipping upgrade: pillow>=6.2.0 in c:\\users\\user\\anaconda3\\lib\\site-packages (from matplotlib>=3.0.2->prince) (8.0.1)\n",
      "Requirement already satisfied, skipping upgrade: kiwisolver>=1.0.1 in c:\\users\\user\\anaconda3\\lib\\site-packages (from matplotlib>=3.0.2->prince) (1.3.0)\n",
      "Requirement already satisfied, skipping upgrade: threadpoolctl>=2.0.0 in c:\\users\\user\\anaconda3\\lib\\site-packages (from scikit-learn>=0.22.1->prince) (2.1.0)\n",
      "Requirement already satisfied, skipping upgrade: joblib>=0.11 in c:\\users\\user\\anaconda3\\lib\\site-packages (from scikit-learn>=0.22.1->prince) (0.17.0)\n",
      "Requirement already satisfied, skipping upgrade: pytz>=2017.2 in c:\\users\\user\\anaconda3\\lib\\site-packages (from pandas>=1.0.3->prince) (2020.1)\n",
      "Requirement already satisfied, skipping upgrade: six>=1.5 in c:\\users\\user\\anaconda3\\lib\\site-packages (from python-dateutil>=2.1->matplotlib>=3.0.2->prince) (1.15.0)\n",
      "Note: you may need to restart the kernel to use updated packages.\n"
     ]
    }
   ],
   "source": [
    " pip install prince --upgrade"
   ]
  },
  {
   "cell_type": "code",
   "execution_count": 2,
   "id": "ad9f0f60",
   "metadata": {},
   "outputs": [],
   "source": [
    "import numpy as np\n",
    "import pandas as pd\n",
    "import matplotlib.pyplot as plt\n",
    "import seaborn as sns\n",
    "from sklearn import linear_model\n",
    "from sklearn.linear_model import LogisticRegression\n",
    "from sklearn.ensemble import RandomForestClassifier\n",
    "from sklearn.model_selection import train_test_split\n",
    "from sklearn.decomposition import PCA,TruncatedSVD\n",
    "import prince\n",
    "\n",
    "from sklearn.preprocessing import StandardScaler\n",
    "from sklearn.decomposition import KernelPCA\n",
    "from sklearn.linear_model import LinearRegression\n",
    "import itertools\n",
    "from sklearn import linear_model\n",
    "from sklearn import metrics\n",
    "\n",
    "#importing all the required ML packages\n",
    "from sklearn.linear_model import LogisticRegression #logistic regression\n",
    "from sklearn import svm #support vector Machine\n",
    "from sklearn.ensemble import RandomForestClassifier #Random Forest\n",
    "from sklearn.neighbors import KNeighborsClassifier #KNN\n",
    "from sklearn.naive_bayes import GaussianNB #Naive bayes\n",
    "from sklearn.tree import DecisionTreeClassifier #Decision Tree\n",
    "from sklearn.model_selection import train_test_split #training and testing data split\n",
    "from sklearn import metrics #accuracy measure\n",
    "from sklearn.metrics import confusion_matrix #for confusion matrix\n",
    "\n",
    "# data preprocessing\n",
    "from imblearn.over_sampling import SMOTE"
   ]
  },
  {
   "cell_type": "code",
   "execution_count": 3,
   "id": "7e87df0a",
   "metadata": {},
   "outputs": [
    {
     "data": {
      "text/plain": [
       "(347, 189)"
      ]
     },
     "execution_count": 3,
     "metadata": {},
     "output_type": "execute_result"
    }
   ],
   "source": [
    "dataset = pd.read_excel(\"BD Kc colorectal_stage ESI.xlsx\")\n",
    "df = dataset.copy()\n",
    "df.shape"
   ]
  },
  {
   "cell_type": "code",
   "execution_count": 4,
   "id": "0a2541b8",
   "metadata": {},
   "outputs": [
    {
     "name": "stderr",
     "output_type": "stream",
     "text": [
      "<ipython-input-4-4fcac8949bd2>:5: SettingWithCopyWarning: \n",
      "A value is trying to be set on a copy of a slice from a DataFrame\n",
      "\n",
      "See the caveats in the documentation: https://pandas.pydata.org/pandas-docs/stable/user_guide/indexing.html#returning-a-view-versus-a-copy\n",
      "  df[col][i] = np.nan\n"
     ]
    }
   ],
   "source": [
    "na = [\"?\",\"à compléter\", 'A compléter', 'pas de n°tel','à compléter']\n",
    "for col in df.columns:\n",
    "    for i in range(df.shape[0]):\n",
    "        if df[col][i] in na:\n",
    "            df[col][i] = np.nan"
   ]
  },
  {
   "cell_type": "code",
   "execution_count": 5,
   "id": "bcd23de1",
   "metadata": {},
   "outputs": [],
   "source": [
    "L = ['date_chir', 'D dernière onsultation', 'D contact tél', \n",
    "       'Decès date', 'statut_prog', 'Date recidive', 'Evolution recid',\n",
    "       'remarques','Unnamed: 188']\n",
    "for col in L:\n",
    "    del df[col]\n",
    "    "
   ]
  },
  {
   "cell_type": "markdown",
   "id": "797f6ab7",
   "metadata": {},
   "source": [
    "### Suppression des lignes contenant Morbidité NaN."
   ]
  },
  {
   "cell_type": "code",
   "execution_count": 6,
   "id": "6afbdfec",
   "metadata": {},
   "outputs": [
    {
     "data": {
      "text/plain": [
       "0"
      ]
     },
     "execution_count": 6,
     "metadata": {},
     "output_type": "execute_result"
    }
   ],
   "source": [
    "indexNames = df[df['Morbidité'].isna()].index\n",
    "df.drop(indexNames , inplace=True)\n",
    "df['Morbidité'].isnull().sum()"
   ]
  },
  {
   "cell_type": "code",
   "execution_count": 7,
   "id": "5ff92d69",
   "metadata": {},
   "outputs": [],
   "source": [
    "df.reset_index(drop = True, inplace = True)"
   ]
  },
  {
   "cell_type": "markdown",
   "id": "f2afef77",
   "metadata": {},
   "source": [
    "### Suppression des features qui ne sont pas nécessaires ( avec accord)"
   ]
  },
  {
   "cell_type": "code",
   "execution_count": 8,
   "id": "5b978c01",
   "metadata": {},
   "outputs": [],
   "source": [
    "L = ['signif Incid Perop','signif CP', 'FistJPostOP',  'signif autres.1',\n",
    "     'PéritoJPostop', 'signif autres Manifcliniq ', 'signif autres','SténoJPostOP',\n",
    "    'FRVJPostOP','CStomiJPostOP', 'CHémorJPostOP', 'CUrinairJPostOP' ,   'CUrinairTrait',\n",
    "     'DélaisPostRCCH','DuréeSéjPostOP','DuréeSéjRéa' ,'DécJPostOP','CauseDécès']\n",
    "for col in L:\n",
    "    del df[col]"
   ]
  },
  {
   "cell_type": "code",
   "execution_count": 9,
   "id": "474cf3eb",
   "metadata": {},
   "outputs": [
    {
     "data": {
      "text/plain": [
       "(338, 162)"
      ]
     },
     "execution_count": 9,
     "metadata": {},
     "output_type": "execute_result"
    }
   ],
   "source": [
    "df.shape"
   ]
  },
  {
   "cell_type": "code",
   "execution_count": 10,
   "id": "840294f0",
   "metadata": {},
   "outputs": [],
   "source": [
    "# Remplacer les valeurs manquantes par NaN.\n",
    "\n",
    "li_8 = [\"atcd chir\",\"Localisation\",\"TDMSiège\", \"CmplcatParié\", \"Cplct Générl\"]\n",
    "li_6_8 = [\"Type histologique\"]\n",
    "\n",
    "\n",
    "for col in li_8:\n",
    "    df.loc[df[col] == 8, col] = np.nan\n",
    "\n",
    "df.loc[df[\"Décès\"] == 9, \"Décès\"] = np.nan\n",
    "df.loc[df[\"trouble transi\"] == 2, \"trouble transi\"] = np.nan\n",
    "df.loc[df[\"Type histologique\"] == 6 , \"Type histologique\"] = np.nan\n",
    "df.loc[df[\"Type histologique\"] == 8, \"Type histologique\"] = np.nan\n",
    "df.loc[df[\"ACE\"] == 'inf 0,50', \"ACE\"] = 0.5\n"
   ]
  },
  {
   "cell_type": "markdown",
   "id": "2a8f9c7d",
   "metadata": {},
   "source": [
    "### Remplissage des valeurs manquantes ( pour les complications )"
   ]
  },
  {
   "cell_type": "code",
   "execution_count": 11,
   "id": "8917fbe6",
   "metadata": {},
   "outputs": [],
   "source": [
    "L = ['FistEvolution', 'PéritoEvolution', 'SténoEvoluti','FRVEvolution', 'CStomiEvolut', 'CPérinEvolut', 'CUrinairEvolu' ]\n",
    "for col in L:\n",
    "    df.loc[df[col].isna() == False, col] = 1  # évolution\n",
    "    df[col] = df[col].fillna(0)  # Pas d'évolution"
   ]
  },
  {
   "cell_type": "code",
   "execution_count": 12,
   "id": "3115af79",
   "metadata": {},
   "outputs": [],
   "source": [
    "for col in df.columns[df.columns.get_loc(\"CmplcatPerOP\"):df.columns.get_loc(\"Cplct Générl\")+1]:\n",
    "    df[col] = df[col].fillna(0)"
   ]
  },
  {
   "cell_type": "markdown",
   "id": "721b1ec3",
   "metadata": {},
   "source": [
    "#### Remplissage des NaN pour les features ( avant Morbidité)"
   ]
  },
  {
   "cell_type": "markdown",
   "id": "150da761",
   "metadata": {},
   "source": [
    "### Fillna with mean"
   ]
  },
  {
   "cell_type": "code",
   "execution_count": 13,
   "id": "1a0d138b",
   "metadata": {},
   "outputs": [
    {
     "name": "stdout",
     "output_type": "stream",
     "text": [
      "0.0|0.0|0.0|0.0|0.0|0.0|0.0|0.0|0.0|0.0|0.0|0.0|0.0|0.0|0.0|"
     ]
    }
   ],
   "source": [
    "numeric_features = [\"Age\",\"Hémoglobine\",\"Globule blanc\", \"Plaquette\",\"CRP\" , \"Urée\" , \"Créat\" , \"Glycémie\" , \"Albumine\" ,\n",
    "\"Préalbumine\" , \"Protidemie\" , \"ACE\" , \"CA19-9\"  , 'Histo Nbgg', 'Histo ggPosit']\n",
    "\n",
    "for col in numeric_features:\n",
    "    df[col] = df[col].fillna(df[col].mean())\n",
    "    \n",
    "    print(df[col].isnull().mean(), end='|')"
   ]
  },
  {
   "cell_type": "markdown",
   "id": "0692d52d",
   "metadata": {},
   "source": [
    "###  Vérifier ( DécèsPostOP, Décès )."
   ]
  },
  {
   "cell_type": "code",
   "execution_count": 14,
   "id": "38562ee6",
   "metadata": {},
   "outputs": [],
   "source": [
    "df.loc[df['DécèsPostOP'] == 1, 'Décès'] = 1"
   ]
  },
  {
   "cell_type": "markdown",
   "id": "fd4cd1de",
   "metadata": {},
   "source": [
    "### Remplacer par les valeurs dominantes ( TNM, Stade - Localisation - Anastomose )"
   ]
  },
  {
   "cell_type": "code",
   "execution_count": 15,
   "id": "566f855c",
   "metadata": {},
   "outputs": [],
   "source": [
    "df['Anastomose'] = df['Anastomose'].fillna(2) \n",
    "df['Localisation'] = df['Localisation'].fillna(7) \n",
    "df['Stade'] = df['Stade'].fillna(2) \n",
    "df['TNM'] = df['TNM'].fillna('pT3N0') "
   ]
  },
  {
   "cell_type": "code",
   "execution_count": 16,
   "id": "8a13e205",
   "metadata": {},
   "outputs": [],
   "source": [
    "for col in df.columns[df.columns.get_loc('BH'):df.columns.get_loc(\"TraitAdjAutre\")+1]:\n",
    "    df[col] = df[col].fillna(0)"
   ]
  },
  {
   "cell_type": "code",
   "execution_count": 17,
   "id": "d9331233",
   "metadata": {},
   "outputs": [],
   "source": [
    "df.loc[df['HistoLRL'] == 0.9, 'HistoLRL'] = 1"
   ]
  },
  {
   "cell_type": "code",
   "execution_count": 18,
   "id": "9b8fe2ac",
   "metadata": {},
   "outputs": [],
   "source": [
    "for col in df.columns[df.columns.get_loc('HTA'):df.columns.get_loc(\"TV result\")+1]:\n",
    "    df[col] = df[col].fillna(0)"
   ]
  },
  {
   "cell_type": "code",
   "execution_count": 19,
   "id": "c8a17782",
   "metadata": {},
   "outputs": [
    {
     "data": {
      "text/plain": [
       "Décès           0.565089\n",
       "DécèsPostOP     0.002959\n",
       "ACE             0.000000\n",
       "CA19-9          0.000000\n",
       "Polype          0.000000\n",
       "                  ...   \n",
       "TraitemAdj      0.000000\n",
       "Stade           0.000000\n",
       "TNM             0.000000\n",
       "HistoPerfT/R    0.000000\n",
       "N               0.000000\n",
       "Length: 162, dtype: float64"
      ]
     },
     "execution_count": 19,
     "metadata": {},
     "output_type": "execute_result"
    }
   ],
   "source": [
    "df.isnull().mean().sort_values(ascending = False)"
   ]
  },
  {
   "cell_type": "code",
   "execution_count": 20,
   "id": "30640936",
   "metadata": {},
   "outputs": [
    {
     "name": "stdout",
     "output_type": "stream",
     "text": [
      "0.35064650449265833\n"
     ]
    }
   ],
   "source": [
    "# how many total missing values do we have?\n",
    "total_cells = np.product(df.shape)\n",
    "missing_values_count = df.isnull().sum()\n",
    "total_missing = missing_values_count.sum()\n",
    "\n",
    "# percent of data that is missing\n",
    "percent_missing = (total_missing/total_cells) * 100\n",
    "print(percent_missing)"
   ]
  },
  {
   "cell_type": "code",
   "execution_count": 21,
   "id": "2fbee236",
   "metadata": {},
   "outputs": [
    {
     "data": {
      "text/plain": [
       "(338, 162)"
      ]
     },
     "execution_count": 21,
     "metadata": {},
     "output_type": "execute_result"
    }
   ],
   "source": [
    "df.shape"
   ]
  },
  {
   "cell_type": "code",
   "execution_count": 22,
   "id": "18dc98db",
   "metadata": {},
   "outputs": [
    {
     "name": "stdout",
     "output_type": "stream",
     "text": [
      "<class 'pandas.core.frame.DataFrame'>\n",
      "RangeIndex: 338 entries, 0 to 337\n",
      "Columns: 162 entries, N to Décès\n",
      "dtypes: datetime64[ns](1), float64(119), int64(12), object(30)\n",
      "memory usage: 427.9+ KB\n"
     ]
    }
   ],
   "source": [
    "df.info()"
   ]
  },
  {
   "cell_type": "code",
   "execution_count": 23,
   "id": "b01421c5",
   "metadata": {},
   "outputs": [],
   "source": [
    "#Feature selection\n",
    "data=df.copy()\n",
    "for col in numeric_features:\n",
    "    del data[col]\n",
    "del data['Date chirurg']"
   ]
  },
  {
   "cell_type": "code",
   "execution_count": 24,
   "id": "6aecee7f",
   "metadata": {},
   "outputs": [
    {
     "name": "stdout",
     "output_type": "stream",
     "text": [
      "<class 'pandas.core.frame.DataFrame'>\n",
      "RangeIndex: 338 entries, 0 to 337\n",
      "Columns: 146 entries, N to Décès\n",
      "dtypes: float64(104), int64(12), object(30)\n",
      "memory usage: 385.7+ KB\n"
     ]
    }
   ],
   "source": [
    "data.info()"
   ]
  },
  {
   "cell_type": "code",
   "execution_count": 25,
   "id": "0f38e8e0",
   "metadata": {},
   "outputs": [
    {
     "data": {
      "text/plain": [
       "['N',\n",
       " 'Sexe',\n",
       " 'HTA',\n",
       " 'diabète',\n",
       " 'cardiopathie',\n",
       " 'obésité',\n",
       " 'atcd med autre',\n",
       " 'signif atcd autr',\n",
       " 'atcd chir',\n",
       " 'signif atcdchir',\n",
       " 'ANTCDTs Toxique',\n",
       " 'ATCDTs Familiaux',\n",
       " 'signif atcdfamil',\n",
       " 'Rectorragie',\n",
       " 'syndro rectal',\n",
       " 'trouble transi',\n",
       " 'occlusion',\n",
       " 'dleur abdo',\n",
       " 'peritonite',\n",
       " 'sign clin autre',\n",
       " 'TR',\n",
       " 'TRProcessus',\n",
       " 'TRSténosant',\n",
       " 'TR atte sphin',\n",
       " 'TRMA',\n",
       " 'TRCIRC',\n",
       " 'TRTonus',\n",
       " 'TRFixité',\n",
       " 'TVCRV',\n",
       " 'TV result',\n",
       " 'BH',\n",
       " 'Endosc',\n",
       " 'EndoProcessus',\n",
       " 'signif endoprocess',\n",
       " 'Caratèresténo',\n",
       " 'Localisation',\n",
       " 'Endo loca mult',\n",
       " 'Type histologique',\n",
       " 'signif autre typehisto',\n",
       " 'Bilan Extension',\n",
       " 'Coloscopie',\n",
       " 'Colos result',\n",
       " 'TMSynchrone',\n",
       " 'Polype',\n",
       " 'PolypeRese',\n",
       " 'AutresLesions',\n",
       " 'Localisation.1',\n",
       " 'TDM/TAP',\n",
       " 'TDMSiège',\n",
       " 'TDM sieg mult',\n",
       " 'TDMEnvahiss',\n",
       " 'signif tdmenvah',\n",
       " 'TDMRésecab',\n",
       " 'TDMADPLO',\n",
       " 'TDMMétasta',\n",
       " 'signif tdmmeta',\n",
       " 'TDMTNM',\n",
       " 'OpérabilitéVPA',\n",
       " 'OMS',\n",
       " 'ASA',\n",
       " 'StomieDéchar',\n",
       " \"voie d'abord\",\n",
       " 'CauseLaparo',\n",
       " 'TraitemNéoad',\n",
       " 'NéoadjChimio',\n",
       " 'indicationChimio',\n",
       " 'signif indicat',\n",
       " 'NéoadjRCC',\n",
       " 'indicationRCC',\n",
       " 'NéoadjRadioS',\n",
       " \"Voie d'abord\",\n",
       " 'convers cause',\n",
       " 'PlaiePerOP',\n",
       " 'TypeRésectio',\n",
       " 'Autre typerésection+cause non résécable',\n",
       " 'Anastomose',\n",
       " 'autre typeanastomose',\n",
       " 'PieceHisto',\n",
       " 'signif typehisto',\n",
       " 'HistoLimiteRP',\n",
       " 'HistoLimiteRD',\n",
       " 'HistoLRL',\n",
       " 'HistoDégréDiff',\n",
       " 'HistoEmbol',\n",
       " 'HistoEngainPN',\n",
       " 'HistoIntéMes',\n",
       " 'HistoPerfT/R',\n",
       " 'TNM',\n",
       " 'Stade',\n",
       " 'TraitemAdj',\n",
       " 'TraitAdjChim',\n",
       " 'signif Chimio',\n",
       " 'TraitAdjRChm',\n",
       " 'TraitAdjAutre',\n",
       " 'DécèsPostOP',\n",
       " 'Morbidité',\n",
       " 'CmplcatPerOP',\n",
       " ' Incidence Perop',\n",
       " 'Compl postop',\n",
       " 'CmplcatParié',\n",
       " 'FistuleAnast',\n",
       " 'FistDiagnost',\n",
       " 'FistManifClin',\n",
       " 'FistTrait',\n",
       " 'FistEvolution',\n",
       " 'Péritonite post op',\n",
       " 'PéritoDiagnost',\n",
       " 'PéritoManifClin',\n",
       " 'PéritoRinterv',\n",
       " 'PéritoGestRéal',\n",
       " 'PéritoEvolution',\n",
       " 'SténoseAnast',\n",
       " 'SténoDiagnos',\n",
       " 'SténoManifCli',\n",
       " 'SténoRéinterv',\n",
       " 'SténoGestRéal',\n",
       " 'SténoEvoluti',\n",
       " 'FistuleRV',\n",
       " 'FRVDiagnosti',\n",
       " 'FRVManifClini',\n",
       " 'FRVTraiteme',\n",
       " 'FRVEvolution',\n",
       " 'CmplctStomie',\n",
       " 'CStomiNécros',\n",
       " 'Irritation péristomiale',\n",
       " 'DésinsStomi',\n",
       " 'AbcèPériStom',\n",
       " 'StomieAutres',\n",
       " 'CStomiTraite',\n",
       " 'CStomiEvolut',\n",
       " 'CpltHémorrag',\n",
       " 'CHémorDiagn',\n",
       " 'CHemorTransf',\n",
       " 'TransfNCG',\n",
       " 'CHémorRéint',\n",
       " 'CHémorGestR',\n",
       " 'CHemorEvolu',\n",
       " 'CpltPérinéal',\n",
       " 'CPérinéDiagnos',\n",
       " 'CPérinTraite',\n",
       " 'CPérinEvolut',\n",
       " 'CplUrinair',\n",
       " 'CUrinaiDiagn',\n",
       " 'CUrinairEvolu',\n",
       " 'Cplct Générl',\n",
       " 'Décès']"
      ]
     },
     "execution_count": 25,
     "metadata": {},
     "output_type": "execute_result"
    }
   ],
   "source": [
    "data.columns.tolist()"
   ]
  },
  {
   "cell_type": "code",
   "execution_count": 26,
   "id": "2320f07e",
   "metadata": {},
   "outputs": [
    {
     "data": {
      "text/html": [
       "<div>\n",
       "<style scoped>\n",
       "    .dataframe tbody tr th:only-of-type {\n",
       "        vertical-align: middle;\n",
       "    }\n",
       "\n",
       "    .dataframe tbody tr th {\n",
       "        vertical-align: top;\n",
       "    }\n",
       "\n",
       "    .dataframe thead th {\n",
       "        text-align: right;\n",
       "    }\n",
       "</style>\n",
       "<table border=\"1\" class=\"dataframe\">\n",
       "  <thead>\n",
       "    <tr style=\"text-align: right;\">\n",
       "      <th></th>\n",
       "      <th>N</th>\n",
       "      <th>Sexe</th>\n",
       "      <th>HTA</th>\n",
       "      <th>diabète</th>\n",
       "      <th>cardiopathie</th>\n",
       "      <th>obésité</th>\n",
       "      <th>atcd med autre</th>\n",
       "      <th>signif atcd autr</th>\n",
       "      <th>atcd chir</th>\n",
       "      <th>signif atcdchir</th>\n",
       "      <th>...</th>\n",
       "      <th>CHemorEvolu</th>\n",
       "      <th>CpltPérinéal</th>\n",
       "      <th>CPérinéDiagnos</th>\n",
       "      <th>CPérinTraite</th>\n",
       "      <th>CPérinEvolut</th>\n",
       "      <th>CplUrinair</th>\n",
       "      <th>CUrinaiDiagn</th>\n",
       "      <th>CUrinairEvolu</th>\n",
       "      <th>Cplct Générl</th>\n",
       "      <th>Décès</th>\n",
       "    </tr>\n",
       "  </thead>\n",
       "  <tbody>\n",
       "    <tr>\n",
       "      <th>0</th>\n",
       "      <td>1.0</td>\n",
       "      <td>F</td>\n",
       "      <td>0.0</td>\n",
       "      <td>0.0</td>\n",
       "      <td>0.0</td>\n",
       "      <td>0.0</td>\n",
       "      <td>0.0</td>\n",
       "      <td>0</td>\n",
       "      <td>1.0</td>\n",
       "      <td>0</td>\n",
       "      <td>...</td>\n",
       "      <td>0</td>\n",
       "      <td>0.0</td>\n",
       "      <td>0</td>\n",
       "      <td>0</td>\n",
       "      <td>0</td>\n",
       "      <td>0.0</td>\n",
       "      <td>0</td>\n",
       "      <td>0</td>\n",
       "      <td>0.0</td>\n",
       "      <td>NaN</td>\n",
       "    </tr>\n",
       "    <tr>\n",
       "      <th>1</th>\n",
       "      <td>2.0</td>\n",
       "      <td>M</td>\n",
       "      <td>0.0</td>\n",
       "      <td>0.0</td>\n",
       "      <td>0.0</td>\n",
       "      <td>0.0</td>\n",
       "      <td>0.0</td>\n",
       "      <td>0</td>\n",
       "      <td>1.0</td>\n",
       "      <td>0</td>\n",
       "      <td>...</td>\n",
       "      <td>0</td>\n",
       "      <td>0.0</td>\n",
       "      <td>0</td>\n",
       "      <td>0</td>\n",
       "      <td>0</td>\n",
       "      <td>0.0</td>\n",
       "      <td>0</td>\n",
       "      <td>0</td>\n",
       "      <td>0.0</td>\n",
       "      <td>NaN</td>\n",
       "    </tr>\n",
       "    <tr>\n",
       "      <th>2</th>\n",
       "      <td>3.0</td>\n",
       "      <td>F</td>\n",
       "      <td>1.0</td>\n",
       "      <td>0.0</td>\n",
       "      <td>0.0</td>\n",
       "      <td>0.0</td>\n",
       "      <td>0.0</td>\n",
       "      <td>0</td>\n",
       "      <td>3.0</td>\n",
       "      <td>0</td>\n",
       "      <td>...</td>\n",
       "      <td>0</td>\n",
       "      <td>0.0</td>\n",
       "      <td>0</td>\n",
       "      <td>0</td>\n",
       "      <td>0</td>\n",
       "      <td>0.0</td>\n",
       "      <td>0</td>\n",
       "      <td>0</td>\n",
       "      <td>0.0</td>\n",
       "      <td>NaN</td>\n",
       "    </tr>\n",
       "    <tr>\n",
       "      <th>3</th>\n",
       "      <td>4.0</td>\n",
       "      <td>M</td>\n",
       "      <td>0.0</td>\n",
       "      <td>0.0</td>\n",
       "      <td>0.0</td>\n",
       "      <td>0.0</td>\n",
       "      <td>0.0</td>\n",
       "      <td>0</td>\n",
       "      <td>0.0</td>\n",
       "      <td>0</td>\n",
       "      <td>...</td>\n",
       "      <td>0</td>\n",
       "      <td>0.0</td>\n",
       "      <td>0</td>\n",
       "      <td>0</td>\n",
       "      <td>0</td>\n",
       "      <td>0.0</td>\n",
       "      <td>0</td>\n",
       "      <td>0</td>\n",
       "      <td>0.0</td>\n",
       "      <td>0</td>\n",
       "    </tr>\n",
       "    <tr>\n",
       "      <th>4</th>\n",
       "      <td>6.0</td>\n",
       "      <td>M</td>\n",
       "      <td>1.0</td>\n",
       "      <td>0.0</td>\n",
       "      <td>0.0</td>\n",
       "      <td>0.0</td>\n",
       "      <td>0.0</td>\n",
       "      <td>0</td>\n",
       "      <td>0.0</td>\n",
       "      <td>0</td>\n",
       "      <td>...</td>\n",
       "      <td>0</td>\n",
       "      <td>0.0</td>\n",
       "      <td>0</td>\n",
       "      <td>0</td>\n",
       "      <td>0</td>\n",
       "      <td>0.0</td>\n",
       "      <td>0</td>\n",
       "      <td>0</td>\n",
       "      <td>0.0</td>\n",
       "      <td>NaN</td>\n",
       "    </tr>\n",
       "  </tbody>\n",
       "</table>\n",
       "<p>5 rows × 146 columns</p>\n",
       "</div>"
      ],
      "text/plain": [
       "     N Sexe  HTA  diabète  cardiopathie  obésité  atcd med autre  \\\n",
       "0  1.0    F  0.0      0.0           0.0      0.0             0.0   \n",
       "1  2.0    M  0.0      0.0           0.0      0.0             0.0   \n",
       "2  3.0    F  1.0      0.0           0.0      0.0             0.0   \n",
       "3  4.0    M  0.0      0.0           0.0      0.0             0.0   \n",
       "4  6.0    M  1.0      0.0           0.0      0.0             0.0   \n",
       "\n",
       "  signif atcd autr  atcd chir signif atcdchir  ...  CHemorEvolu  CpltPérinéal  \\\n",
       "0                0        1.0               0  ...            0           0.0   \n",
       "1                0        1.0               0  ...            0           0.0   \n",
       "2                0        3.0               0  ...            0           0.0   \n",
       "3                0        0.0               0  ...            0           0.0   \n",
       "4                0        0.0               0  ...            0           0.0   \n",
       "\n",
       "  CPérinéDiagnos  CPérinTraite  CPérinEvolut  CplUrinair  CUrinaiDiagn  \\\n",
       "0              0             0             0         0.0             0   \n",
       "1              0             0             0         0.0             0   \n",
       "2              0             0             0         0.0             0   \n",
       "3              0             0             0         0.0             0   \n",
       "4              0             0             0         0.0             0   \n",
       "\n",
       "   CUrinairEvolu  Cplct Générl  Décès  \n",
       "0              0           0.0    NaN  \n",
       "1              0           0.0    NaN  \n",
       "2              0           0.0    NaN  \n",
       "3              0           0.0      0  \n",
       "4              0           0.0    NaN  \n",
       "\n",
       "[5 rows x 146 columns]"
      ]
     },
     "execution_count": 26,
     "metadata": {},
     "output_type": "execute_result"
    }
   ],
   "source": [
    "data.head()"
   ]
  },
  {
   "cell_type": "code",
   "execution_count": 27,
   "id": "815589ed",
   "metadata": {},
   "outputs": [],
   "source": [
    "#On remarque que la variable sexe est textuelle, donc on accorde à F -> 1 et M->0\n",
    "data['Sexe']=np.where(data['Sexe']==\"F\",1,0)"
   ]
  },
  {
   "cell_type": "code",
   "execution_count": 28,
   "id": "b6fe718b",
   "metadata": {},
   "outputs": [],
   "source": [
    "data.loc[data[\"TRMA\"] == -1, \"TRMA\"] = 0"
   ]
  },
  {
   "cell_type": "code",
   "execution_count": 29,
   "id": "eae72351",
   "metadata": {},
   "outputs": [
    {
     "data": {
      "text/plain": [
       "array([ 0., 15.,  7.,  6.,  5.,  3.,  8.,  2., 10.,  4.,  1.,  9.])"
      ]
     },
     "execution_count": 29,
     "metadata": {},
     "output_type": "execute_result"
    }
   ],
   "source": [
    "data['TRMA'].unique()"
   ]
  },
  {
   "cell_type": "code",
   "execution_count": 30,
   "id": "5c69779f",
   "metadata": {},
   "outputs": [
    {
     "name": "stdout",
     "output_type": "stream",
     "text": [
      "{'pT4N1Mx': 0, 'ypT3N2a': 1, 'pT3N0': 2, 'pT3N0Mx': 3, 'ypT3N2b': 4, 'pT2N1': 5, 'ypT0N0': 6, 'ypT2N1aMx': 7, 'pT2N0': 8, 'pT2N0Mx': 9, 'pT3N0M0': 10, 'pT3N1bMx': 11, 'pT3N1M1': 12, 'pT3N1M0': 13, 'pT4mN0': 14, 'pT3N1b': 15, 'pT2N1b': 16, 'pT3N0M1a': 17, 'pT4No': 18, 'pT3N1Mx': 19, 'ypT2N1': 20, 'ypT0N0Mx': 21, 'ypT3N0': 22, 'pT4N1b': 23, 'pT4N0Mx': 24, 'ypT0N1b': 25, 'ypT3N1a': 26, 'ypT3N0Mx': 27, 'pT3N0M1': 28, 'ypT4N0': 29, 'ypT2N0': 30, 'ypT2N1M1': 31, 'ypT4bN0': 32, 'ypT3N2': 33, 'ypT0N1Mx': 34, 'pT0N0': 35, 'pT3N1': 36, 'ypT2N1b': 37, 'ypT3N1': 38, 'pT4N0': 39, 'ypT2N0Mx': 40, 'ypT4N0Mx': 41, 'ypT1N0': 42, 'ypT2N1a': 43, 'pT2N1a': 44, 'ypT4N2a': 45, 'pT3N2aMx': 46, 'ypT2N2aMx': 47, 'pT1N0': 48, 'pT3N2b': 49, 'pT4N1': 50, 'ypT4N1b': 51, 'pT3N1a': 52, 'ypT3N0;pT3N1b': 53, 'ypT3N1b': 54, 'pT4N2b': 55, 'pT3N2': 56, 'pT3N0M1b': 57, 'ypT4N2b': 58, 'pT2N2b': 59, 'pT3N2a': 60, 'ypT1N1a': 61, 'pT4N2a': 62, 'pT4N1a': 63}\n"
     ]
    }
   ],
   "source": [
    "### let's perform label encoding on TNM\n",
    "ordinal_label = {k: i for i, k in enumerate(data['TNM'].unique(), 0)}\n",
    "print(ordinal_label)\n",
    "data['TNM'] = data['TNM'].map(ordinal_label)"
   ]
  },
  {
   "cell_type": "code",
   "execution_count": 31,
   "id": "ccdba5ed",
   "metadata": {},
   "outputs": [
    {
     "name": "stdout",
     "output_type": "stream",
     "text": [
      "<class 'pandas.core.frame.DataFrame'>\n",
      "RangeIndex: 338 entries, 0 to 337\n",
      "Columns: 146 entries, N to Décès\n",
      "dtypes: float64(104), int32(1), int64(41)\n",
      "memory usage: 384.3 KB\n"
     ]
    }
   ],
   "source": [
    "###performing label encoding on str var\n",
    "for j in data.columns:\n",
    "        if data.dtypes[j] == np.object:\n",
    "            ordinal_label2 = {k: c for c, k in enumerate(data[j].unique(), 0)}\n",
    "            data[j] = data[j].map(ordinal_label2)\n",
    "data.info()"
   ]
  },
  {
   "cell_type": "code",
   "execution_count": 32,
   "id": "835ba04a",
   "metadata": {},
   "outputs": [
    {
     "name": "stdout",
     "output_type": "stream",
     "text": [
      "<class 'pandas.core.frame.DataFrame'>\n",
      "RangeIndex: 338 entries, 0 to 337\n",
      "Columns: 146 entries, N to Décès\n",
      "dtypes: float64(104), int32(1), int64(41)\n",
      "memory usage: 384.3 KB\n"
     ]
    }
   ],
   "source": [
    "data.info()"
   ]
  },
  {
   "cell_type": "code",
   "execution_count": 33,
   "id": "e6ceb4f0",
   "metadata": {},
   "outputs": [
    {
     "data": {
      "text/plain": [
       "VarianceThreshold(threshold=0)"
      ]
     },
     "execution_count": 33,
     "metadata": {},
     "output_type": "execute_result"
    }
   ],
   "source": [
    "### It will zero variance features\n",
    "from sklearn.feature_selection import VarianceThreshold\n",
    "var_thres=VarianceThreshold(threshold=0)\n",
    "var_thres.fit(data)"
   ]
  },
  {
   "cell_type": "code",
   "execution_count": 34,
   "id": "bf2d6130",
   "metadata": {},
   "outputs": [
    {
     "name": "stdout",
     "output_type": "stream",
     "text": [
      "3\n"
     ]
    }
   ],
   "source": [
    "constant_columns = [column for column in data.columns\n",
    "                    if column not in data.columns[var_thres.get_support()]]\n",
    "\n",
    "print(len(constant_columns))"
   ]
  },
  {
   "cell_type": "code",
   "execution_count": 35,
   "id": "f46526c6",
   "metadata": {},
   "outputs": [
    {
     "name": "stdout",
     "output_type": "stream",
     "text": [
      "OpérabilitéVPA\n",
      "TraitAdjAutre\n",
      "AbcèPériStom\n"
     ]
    }
   ],
   "source": [
    "for feature in constant_columns:\n",
    "     print(feature)"
   ]
  },
  {
   "cell_type": "code",
   "execution_count": 36,
   "id": "9b16251f",
   "metadata": {},
   "outputs": [],
   "source": [
    "data.drop(constant_columns,axis=1, inplace=True)"
   ]
  },
  {
   "cell_type": "code",
   "execution_count": 37,
   "id": "1fd9bc50",
   "metadata": {},
   "outputs": [],
   "source": [
    "### train Test split is usually done to avoid overfitting\n",
    "from sklearn.model_selection import train_test_split\n",
    "possible_features=[]\n",
    "for col in data.columns[data.columns.get_loc('Sexe'):data.columns.get_loc(\"DécèsPostOP\")]:\n",
    "    possible_features.append(col)\n",
    "\n",
    "X_train,X_test,y_train,y_test=train_test_split(data[possible_features],\n",
    "                                              data['Morbidité'],test_size=0.3,random_state=100)"
   ]
  },
  {
   "cell_type": "code",
   "execution_count": 38,
   "id": "605f3f05",
   "metadata": {},
   "outputs": [
    {
     "data": {
      "text/html": [
       "<div>\n",
       "<style scoped>\n",
       "    .dataframe tbody tr th:only-of-type {\n",
       "        vertical-align: middle;\n",
       "    }\n",
       "\n",
       "    .dataframe tbody tr th {\n",
       "        vertical-align: top;\n",
       "    }\n",
       "\n",
       "    .dataframe thead th {\n",
       "        text-align: right;\n",
       "    }\n",
       "</style>\n",
       "<table border=\"1\" class=\"dataframe\">\n",
       "  <thead>\n",
       "    <tr style=\"text-align: right;\">\n",
       "      <th></th>\n",
       "      <th>N</th>\n",
       "      <th>Sexe</th>\n",
       "      <th>HTA</th>\n",
       "      <th>diabète</th>\n",
       "      <th>cardiopathie</th>\n",
       "      <th>obésité</th>\n",
       "      <th>atcd med autre</th>\n",
       "      <th>signif atcd autr</th>\n",
       "      <th>atcd chir</th>\n",
       "      <th>signif atcdchir</th>\n",
       "      <th>...</th>\n",
       "      <th>CHemorEvolu</th>\n",
       "      <th>CpltPérinéal</th>\n",
       "      <th>CPérinéDiagnos</th>\n",
       "      <th>CPérinTraite</th>\n",
       "      <th>CPérinEvolut</th>\n",
       "      <th>CplUrinair</th>\n",
       "      <th>CUrinaiDiagn</th>\n",
       "      <th>CUrinairEvolu</th>\n",
       "      <th>Cplct Générl</th>\n",
       "      <th>Décès</th>\n",
       "    </tr>\n",
       "  </thead>\n",
       "  <tbody>\n",
       "    <tr>\n",
       "      <th>0</th>\n",
       "      <td>1.0</td>\n",
       "      <td>1</td>\n",
       "      <td>0.0</td>\n",
       "      <td>0.0</td>\n",
       "      <td>0.0</td>\n",
       "      <td>0.0</td>\n",
       "      <td>0.0</td>\n",
       "      <td>0</td>\n",
       "      <td>1.0</td>\n",
       "      <td>0</td>\n",
       "      <td>...</td>\n",
       "      <td>0</td>\n",
       "      <td>0.0</td>\n",
       "      <td>0</td>\n",
       "      <td>0</td>\n",
       "      <td>0</td>\n",
       "      <td>0.0</td>\n",
       "      <td>0</td>\n",
       "      <td>0</td>\n",
       "      <td>0.0</td>\n",
       "      <td>0</td>\n",
       "    </tr>\n",
       "    <tr>\n",
       "      <th>1</th>\n",
       "      <td>2.0</td>\n",
       "      <td>0</td>\n",
       "      <td>0.0</td>\n",
       "      <td>0.0</td>\n",
       "      <td>0.0</td>\n",
       "      <td>0.0</td>\n",
       "      <td>0.0</td>\n",
       "      <td>0</td>\n",
       "      <td>1.0</td>\n",
       "      <td>0</td>\n",
       "      <td>...</td>\n",
       "      <td>0</td>\n",
       "      <td>0.0</td>\n",
       "      <td>0</td>\n",
       "      <td>0</td>\n",
       "      <td>0</td>\n",
       "      <td>0.0</td>\n",
       "      <td>0</td>\n",
       "      <td>0</td>\n",
       "      <td>0.0</td>\n",
       "      <td>0</td>\n",
       "    </tr>\n",
       "    <tr>\n",
       "      <th>2</th>\n",
       "      <td>3.0</td>\n",
       "      <td>1</td>\n",
       "      <td>1.0</td>\n",
       "      <td>0.0</td>\n",
       "      <td>0.0</td>\n",
       "      <td>0.0</td>\n",
       "      <td>0.0</td>\n",
       "      <td>0</td>\n",
       "      <td>3.0</td>\n",
       "      <td>0</td>\n",
       "      <td>...</td>\n",
       "      <td>0</td>\n",
       "      <td>0.0</td>\n",
       "      <td>0</td>\n",
       "      <td>0</td>\n",
       "      <td>0</td>\n",
       "      <td>0.0</td>\n",
       "      <td>0</td>\n",
       "      <td>0</td>\n",
       "      <td>0.0</td>\n",
       "      <td>0</td>\n",
       "    </tr>\n",
       "    <tr>\n",
       "      <th>3</th>\n",
       "      <td>4.0</td>\n",
       "      <td>0</td>\n",
       "      <td>0.0</td>\n",
       "      <td>0.0</td>\n",
       "      <td>0.0</td>\n",
       "      <td>0.0</td>\n",
       "      <td>0.0</td>\n",
       "      <td>0</td>\n",
       "      <td>0.0</td>\n",
       "      <td>0</td>\n",
       "      <td>...</td>\n",
       "      <td>0</td>\n",
       "      <td>0.0</td>\n",
       "      <td>0</td>\n",
       "      <td>0</td>\n",
       "      <td>0</td>\n",
       "      <td>0.0</td>\n",
       "      <td>0</td>\n",
       "      <td>0</td>\n",
       "      <td>0.0</td>\n",
       "      <td>1</td>\n",
       "    </tr>\n",
       "    <tr>\n",
       "      <th>4</th>\n",
       "      <td>6.0</td>\n",
       "      <td>0</td>\n",
       "      <td>1.0</td>\n",
       "      <td>0.0</td>\n",
       "      <td>0.0</td>\n",
       "      <td>0.0</td>\n",
       "      <td>0.0</td>\n",
       "      <td>0</td>\n",
       "      <td>0.0</td>\n",
       "      <td>0</td>\n",
       "      <td>...</td>\n",
       "      <td>0</td>\n",
       "      <td>0.0</td>\n",
       "      <td>0</td>\n",
       "      <td>0</td>\n",
       "      <td>0</td>\n",
       "      <td>0.0</td>\n",
       "      <td>0</td>\n",
       "      <td>0</td>\n",
       "      <td>0.0</td>\n",
       "      <td>0</td>\n",
       "    </tr>\n",
       "  </tbody>\n",
       "</table>\n",
       "<p>5 rows × 143 columns</p>\n",
       "</div>"
      ],
      "text/plain": [
       "     N  Sexe  HTA  diabète  cardiopathie  obésité  atcd med autre  \\\n",
       "0  1.0     1  0.0      0.0           0.0      0.0             0.0   \n",
       "1  2.0     0  0.0      0.0           0.0      0.0             0.0   \n",
       "2  3.0     1  1.0      0.0           0.0      0.0             0.0   \n",
       "3  4.0     0  0.0      0.0           0.0      0.0             0.0   \n",
       "4  6.0     0  1.0      0.0           0.0      0.0             0.0   \n",
       "\n",
       "   signif atcd autr  atcd chir  signif atcdchir  ...  CHemorEvolu  \\\n",
       "0                 0        1.0                0  ...            0   \n",
       "1                 0        1.0                0  ...            0   \n",
       "2                 0        3.0                0  ...            0   \n",
       "3                 0        0.0                0  ...            0   \n",
       "4                 0        0.0                0  ...            0   \n",
       "\n",
       "   CpltPérinéal  CPérinéDiagnos  CPérinTraite  CPérinEvolut  CplUrinair  \\\n",
       "0           0.0               0             0             0         0.0   \n",
       "1           0.0               0             0             0         0.0   \n",
       "2           0.0               0             0             0         0.0   \n",
       "3           0.0               0             0             0         0.0   \n",
       "4           0.0               0             0             0         0.0   \n",
       "\n",
       "   CUrinaiDiagn  CUrinairEvolu  Cplct Générl  Décès  \n",
       "0             0              0           0.0      0  \n",
       "1             0              0           0.0      0  \n",
       "2             0              0           0.0      0  \n",
       "3             0              0           0.0      1  \n",
       "4             0              0           0.0      0  \n",
       "\n",
       "[5 rows x 143 columns]"
      ]
     },
     "execution_count": 38,
     "metadata": {},
     "output_type": "execute_result"
    }
   ],
   "source": [
    "data.head()"
   ]
  },
  {
   "cell_type": "code",
   "execution_count": 39,
   "id": "45b59853",
   "metadata": {},
   "outputs": [
    {
     "data": {
      "text/plain": [
       "VarianceThreshold(threshold=0)"
      ]
     },
     "execution_count": 39,
     "metadata": {},
     "output_type": "execute_result"
    }
   ],
   "source": [
    "\n",
    "var_thres=VarianceThreshold(threshold=0)\n",
    "var_thres.fit(X_train)"
   ]
  },
  {
   "cell_type": "code",
   "execution_count": 40,
   "id": "14ba9269",
   "metadata": {},
   "outputs": [
    {
     "data": {
      "text/plain": [
       "90"
      ]
     },
     "execution_count": 40,
     "metadata": {},
     "output_type": "execute_result"
    }
   ],
   "source": [
    "# Lets Find non-constant features \n",
    "len(X_train.columns[var_thres.get_support()])"
   ]
  },
  {
   "cell_type": "code",
   "execution_count": 41,
   "id": "095417d9",
   "metadata": {},
   "outputs": [
    {
     "name": "stdout",
     "output_type": "stream",
     "text": [
      "1\n"
     ]
    }
   ],
   "source": [
    "constant_columns = [column for column in X_train.columns\n",
    "                    if column not in X_train.columns[var_thres.get_support()]]\n",
    "\n",
    "print(len(constant_columns))"
   ]
  },
  {
   "cell_type": "code",
   "execution_count": 42,
   "id": "6d3245b8",
   "metadata": {},
   "outputs": [],
   "source": [
    "X_train.drop(constant_columns,axis=1, inplace=True)"
   ]
  },
  {
   "cell_type": "code",
   "execution_count": 43,
   "id": "9d42b4fe",
   "metadata": {},
   "outputs": [
    {
     "data": {
      "text/html": [
       "<div>\n",
       "<style scoped>\n",
       "    .dataframe tbody tr th:only-of-type {\n",
       "        vertical-align: middle;\n",
       "    }\n",
       "\n",
       "    .dataframe tbody tr th {\n",
       "        vertical-align: top;\n",
       "    }\n",
       "\n",
       "    .dataframe thead th {\n",
       "        text-align: right;\n",
       "    }\n",
       "</style>\n",
       "<table border=\"1\" class=\"dataframe\">\n",
       "  <thead>\n",
       "    <tr style=\"text-align: right;\">\n",
       "      <th></th>\n",
       "      <th>Sexe</th>\n",
       "      <th>HTA</th>\n",
       "      <th>diabète</th>\n",
       "      <th>cardiopathie</th>\n",
       "      <th>obésité</th>\n",
       "      <th>atcd med autre</th>\n",
       "      <th>signif atcd autr</th>\n",
       "      <th>atcd chir</th>\n",
       "      <th>signif atcdchir</th>\n",
       "      <th>ANTCDTs Toxique</th>\n",
       "      <th>...</th>\n",
       "      <th>HistoEmbol</th>\n",
       "      <th>HistoEngainPN</th>\n",
       "      <th>HistoIntéMes</th>\n",
       "      <th>HistoPerfT/R</th>\n",
       "      <th>TNM</th>\n",
       "      <th>Stade</th>\n",
       "      <th>TraitemAdj</th>\n",
       "      <th>TraitAdjChim</th>\n",
       "      <th>signif Chimio</th>\n",
       "      <th>TraitAdjRChm</th>\n",
       "    </tr>\n",
       "  </thead>\n",
       "  <tbody>\n",
       "    <tr>\n",
       "      <th>264</th>\n",
       "      <td>0</td>\n",
       "      <td>0.0</td>\n",
       "      <td>0.0</td>\n",
       "      <td>0.0</td>\n",
       "      <td>0.0</td>\n",
       "      <td>1.0</td>\n",
       "      <td>2</td>\n",
       "      <td>0.0</td>\n",
       "      <td>0</td>\n",
       "      <td>0.0</td>\n",
       "      <td>...</td>\n",
       "      <td>1.0</td>\n",
       "      <td>2.0</td>\n",
       "      <td>0.0</td>\n",
       "      <td>2.0</td>\n",
       "      <td>60</td>\n",
       "      <td>3</td>\n",
       "      <td>1.0</td>\n",
       "      <td>1.0</td>\n",
       "      <td>0</td>\n",
       "      <td>0.0</td>\n",
       "    </tr>\n",
       "    <tr>\n",
       "      <th>191</th>\n",
       "      <td>1</td>\n",
       "      <td>0.0</td>\n",
       "      <td>0.0</td>\n",
       "      <td>0.0</td>\n",
       "      <td>0.0</td>\n",
       "      <td>0.0</td>\n",
       "      <td>0</td>\n",
       "      <td>2.0</td>\n",
       "      <td>6</td>\n",
       "      <td>0.0</td>\n",
       "      <td>...</td>\n",
       "      <td>2.0</td>\n",
       "      <td>2.0</td>\n",
       "      <td>1.0</td>\n",
       "      <td>2.0</td>\n",
       "      <td>8</td>\n",
       "      <td>1</td>\n",
       "      <td>0.0</td>\n",
       "      <td>0.0</td>\n",
       "      <td>0</td>\n",
       "      <td>0.0</td>\n",
       "    </tr>\n",
       "    <tr>\n",
       "      <th>120</th>\n",
       "      <td>0</td>\n",
       "      <td>0.0</td>\n",
       "      <td>0.0</td>\n",
       "      <td>0.0</td>\n",
       "      <td>0.0</td>\n",
       "      <td>0.0</td>\n",
       "      <td>0</td>\n",
       "      <td>0.0</td>\n",
       "      <td>0</td>\n",
       "      <td>1.0</td>\n",
       "      <td>...</td>\n",
       "      <td>2.0</td>\n",
       "      <td>2.0</td>\n",
       "      <td>1.0</td>\n",
       "      <td>2.0</td>\n",
       "      <td>22</td>\n",
       "      <td>2</td>\n",
       "      <td>0.0</td>\n",
       "      <td>0.0</td>\n",
       "      <td>0</td>\n",
       "      <td>0.0</td>\n",
       "    </tr>\n",
       "    <tr>\n",
       "      <th>136</th>\n",
       "      <td>1</td>\n",
       "      <td>0.0</td>\n",
       "      <td>0.0</td>\n",
       "      <td>0.0</td>\n",
       "      <td>0.0</td>\n",
       "      <td>0.0</td>\n",
       "      <td>0</td>\n",
       "      <td>0.0</td>\n",
       "      <td>0</td>\n",
       "      <td>0.0</td>\n",
       "      <td>...</td>\n",
       "      <td>0.0</td>\n",
       "      <td>0.0</td>\n",
       "      <td>0.0</td>\n",
       "      <td>0.0</td>\n",
       "      <td>6</td>\n",
       "      <td>0</td>\n",
       "      <td>0.0</td>\n",
       "      <td>0.0</td>\n",
       "      <td>0</td>\n",
       "      <td>0.0</td>\n",
       "    </tr>\n",
       "    <tr>\n",
       "      <th>40</th>\n",
       "      <td>1</td>\n",
       "      <td>0.0</td>\n",
       "      <td>0.0</td>\n",
       "      <td>0.0</td>\n",
       "      <td>0.0</td>\n",
       "      <td>1.0</td>\n",
       "      <td>0</td>\n",
       "      <td>0.0</td>\n",
       "      <td>0</td>\n",
       "      <td>0.0</td>\n",
       "      <td>...</td>\n",
       "      <td>2.0</td>\n",
       "      <td>2.0</td>\n",
       "      <td>0.0</td>\n",
       "      <td>1.0</td>\n",
       "      <td>18</td>\n",
       "      <td>2</td>\n",
       "      <td>1.0</td>\n",
       "      <td>1.0</td>\n",
       "      <td>0</td>\n",
       "      <td>0.0</td>\n",
       "    </tr>\n",
       "  </tbody>\n",
       "</table>\n",
       "<p>5 rows × 90 columns</p>\n",
       "</div>"
      ],
      "text/plain": [
       "     Sexe  HTA  diabète  cardiopathie  obésité  atcd med autre  \\\n",
       "264     0  0.0      0.0           0.0      0.0             1.0   \n",
       "191     1  0.0      0.0           0.0      0.0             0.0   \n",
       "120     0  0.0      0.0           0.0      0.0             0.0   \n",
       "136     1  0.0      0.0           0.0      0.0             0.0   \n",
       "40      1  0.0      0.0           0.0      0.0             1.0   \n",
       "\n",
       "     signif atcd autr  atcd chir  signif atcdchir  ANTCDTs Toxique  ...  \\\n",
       "264                 2        0.0                0              0.0  ...   \n",
       "191                 0        2.0                6              0.0  ...   \n",
       "120                 0        0.0                0              1.0  ...   \n",
       "136                 0        0.0                0              0.0  ...   \n",
       "40                  0        0.0                0              0.0  ...   \n",
       "\n",
       "     HistoEmbol  HistoEngainPN  HistoIntéMes  HistoPerfT/R  TNM  Stade  \\\n",
       "264         1.0            2.0           0.0           2.0   60      3   \n",
       "191         2.0            2.0           1.0           2.0    8      1   \n",
       "120         2.0            2.0           1.0           2.0   22      2   \n",
       "136         0.0            0.0           0.0           0.0    6      0   \n",
       "40          2.0            2.0           0.0           1.0   18      2   \n",
       "\n",
       "     TraitemAdj  TraitAdjChim  signif Chimio  TraitAdjRChm  \n",
       "264         1.0           1.0              0           0.0  \n",
       "191         0.0           0.0              0           0.0  \n",
       "120         0.0           0.0              0           0.0  \n",
       "136         0.0           0.0              0           0.0  \n",
       "40          1.0           1.0              0           0.0  \n",
       "\n",
       "[5 rows x 90 columns]"
      ]
     },
     "execution_count": 43,
     "metadata": {},
     "output_type": "execute_result"
    }
   ],
   "source": [
    "X_train.head()"
   ]
  },
  {
   "cell_type": "code",
   "execution_count": 44,
   "id": "92557497",
   "metadata": {},
   "outputs": [
    {
     "data": {
      "text/plain": [
       "TraitAdjRChm        0\n",
       "TRMA                0\n",
       "TRTonus             0\n",
       "TRFixité            0\n",
       "TVCRV               0\n",
       "                   ..\n",
       "NéoadjChimio        0\n",
       "indicationChimio    0\n",
       "signif indicat      0\n",
       "NéoadjRCC           0\n",
       "Sexe                0\n",
       "Length: 90, dtype: int64"
      ]
     },
     "execution_count": 44,
     "metadata": {},
     "output_type": "execute_result"
    }
   ],
   "source": [
    "X_train.isnull().sum().sort_values(ascending=False)"
   ]
  },
  {
   "cell_type": "code",
   "execution_count": 45,
   "id": "07e239ca",
   "metadata": {},
   "outputs": [],
   "source": [
    "## Perform chi2 test\n",
    "### chi2 returns 2 values\n",
    "### Fscore and the pvalue\n",
    "from sklearn.feature_selection import chi2\n",
    "f_p_values=chi2(X_train,y_train)"
   ]
  },
  {
   "cell_type": "code",
   "execution_count": 46,
   "id": "da17ca1a",
   "metadata": {},
   "outputs": [
    {
     "data": {
      "text/plain": [
       "(array([1.58772690e+00, 1.14255960e-01, 2.42992276e-01, 2.05202244e-02,\n",
       "        4.84057971e+00, 5.03569520e-02, 9.46723943e+00, 1.35821311e-01,\n",
       "        1.77332661e-03, 5.62353554e-03, 4.50656000e-01, 9.04314134e-01,\n",
       "        6.15206984e-01, 1.32484370e+00, 3.31140787e+00, 1.58648693e+00,\n",
       "        2.86734696e+00, 4.86563106e-02, 1.04284983e+00, 4.78582477e-01,\n",
       "        3.19505916e+00, 4.86563106e-02, 4.04959585e-01, 1.75273097e+00,\n",
       "        1.03224988e-01, 2.06213660e-01, 1.45968932e-01, 1.10527467e+00,\n",
       "        2.87283141e-01, 4.80033721e-02, 4.10404487e-01, 2.66231884e+01,\n",
       "        5.33470479e-01, 6.71396722e+00, 2.83879446e-01, 2.00824661e-01,\n",
       "        9.80527240e-01, 7.06279748e-03, 1.28438775e+00, 1.17536061e+00,\n",
       "        2.42028986e+00, 2.25457969e+00, 1.21640776e-01, 2.42028986e+00,\n",
       "        2.42028986e+00, 3.13238051e-04, 4.90059788e+00, 2.06213660e-01,\n",
       "        1.84986549e-02, 3.80407681e-01, 4.46349913e-03, 2.49018329e-02,\n",
       "        1.17126872e+00, 4.14989821e-03, 2.47241997e+01, 1.19207357e-03,\n",
       "        6.63562037e-02, 8.36162680e-01, 2.79944459e+00, 3.79948378e+00,\n",
       "        2.53900753e+00, 2.81176777e-03, 4.79099771e-02, 2.50854302e+00,\n",
       "        4.01457647e+00, 5.54517263e+00, 4.06288872e+00, 3.05187337e-01,\n",
       "        1.18236892e+01, 3.63043478e+01, 1.14797470e+01, 3.56254935e+01,\n",
       "        1.05900804e+00, 1.56766558e-01, 3.14477133e-01, 2.31874233e-02,\n",
       "        1.05500689e-01, 9.11657417e-05, 2.97041987e-01, 5.35329257e-03,\n",
       "        5.58716935e-02, 7.85414541e-02, 1.31652958e+00, 7.78659859e-01,\n",
       "        4.80248421e+01, 1.21929582e+00, 1.15497428e+00, 1.27346448e+00,\n",
       "        4.23473748e+00, 4.13173653e-01]),\n",
       " array([2.07651197e-01, 7.35349855e-01, 6.22053239e-01, 8.86093675e-01,\n",
       "        2.77975489e-02, 8.22443311e-01, 2.09173916e-03, 7.12471050e-01,\n",
       "        9.66410303e-01, 9.40222480e-01, 5.02023595e-01, 3.41627561e-01,\n",
       "        4.32833998e-01, 2.49724605e-01, 6.88005258e-02, 2.07828772e-01,\n",
       "        9.03937678e-02, 8.25418109e-01, 3.07159601e-01, 4.89065099e-01,\n",
       "        7.38610979e-02, 8.25418109e-01, 5.24538972e-01, 1.85533780e-01,\n",
       "        7.47993318e-01, 6.49751425e-01, 7.02417746e-01, 2.93111442e-01,\n",
       "        5.91966841e-01, 8.26574707e-01, 5.21764275e-01, 2.47258275e-07,\n",
       "        4.65151441e-01, 9.56606745e-03, 5.94169691e-01, 6.54056026e-01,\n",
       "        3.22068674e-01, 9.33024270e-01, 2.57084799e-01, 2.78302512e-01,\n",
       "        1.19772767e-01, 1.33219622e-01, 7.27261704e-01, 1.19772767e-01,\n",
       "        1.19772767e-01, 9.85879351e-01, 2.68473989e-02, 6.49751425e-01,\n",
       "        8.91813565e-01, 5.37385133e-01, 9.46733421e-01, 8.74611920e-01,\n",
       "        2.79140707e-01, 9.48636041e-01, 6.61483722e-07, 9.72457376e-01,\n",
       "        7.96717961e-01, 3.60496557e-01, 9.42969668e-02, 5.12683867e-02,\n",
       "        1.11064579e-01, 9.57711109e-01, 8.26740817e-01, 1.13230575e-01,\n",
       "        4.51085517e-02, 1.85317287e-02, 4.38354507e-02, 5.80648554e-01,\n",
       "        5.84818720e-04, 1.68786901e-09, 7.03587084e-04, 2.39137399e-09,\n",
       "        3.03441536e-01, 6.92151085e-01, 5.74945745e-01, 8.78970695e-01,\n",
       "        7.45325862e-01, 9.92381854e-01, 5.85742799e-01, 9.41673864e-01,\n",
       "        8.13144069e-01, 7.79283804e-01, 2.51215833e-01, 3.77551316e-01,\n",
       "        4.20853057e-12, 2.69498891e-01, 2.82510275e-01, 2.59117752e-01,\n",
       "        3.96047479e-02, 5.20363064e-01]))"
      ]
     },
     "execution_count": 46,
     "metadata": {},
     "output_type": "execute_result"
    }
   ],
   "source": [
    "f_p_values"
   ]
  },
  {
   "cell_type": "code",
   "execution_count": 47,
   "id": "6fc23e5e",
   "metadata": {},
   "outputs": [
    {
     "data": {
      "text/plain": [
       "Sexe             0.207651\n",
       "HTA              0.735350\n",
       "diabète          0.622053\n",
       "cardiopathie     0.886094\n",
       "obésité          0.027798\n",
       "                   ...   \n",
       "Stade            0.269499\n",
       "TraitemAdj       0.282510\n",
       "TraitAdjChim     0.259118\n",
       "signif Chimio    0.039605\n",
       "TraitAdjRChm     0.520363\n",
       "Length: 90, dtype: float64"
      ]
     },
     "execution_count": 47,
     "metadata": {},
     "output_type": "execute_result"
    }
   ],
   "source": [
    "import pandas as pd\n",
    "p_values=pd.Series(f_p_values[1])\n",
    "p_values.index=X_train.columns\n",
    "p_values"
   ]
  },
  {
   "cell_type": "code",
   "execution_count": 48,
   "id": "7da7b7b3",
   "metadata": {},
   "outputs": [
    {
     "data": {
      "text/plain": [
       "<AxesSubplot:>"
      ]
     },
     "execution_count": 48,
     "metadata": {},
     "output_type": "execute_result"
    },
    {
     "data": {
      "image/png": "[encoded data removed]",
      "text/plain": [
       "<Figure size 1440x720 with 1 Axes>"
      ]
     },
     "metadata": {
      "needs_background": "light"
     },
     "output_type": "display_data"
    }
   ],
   "source": [
    "p_values.sort_values(ascending=False).plot.bar(figsize=(20,10))"
   ]
  },
  {
   "cell_type": "code",
   "execution_count": 49,
   "id": "eeaef7ae",
   "metadata": {},
   "outputs": [],
   "source": [
    "from sklearn.feature_selection import SelectPercentile"
   ]
  },
  {
   "cell_type": "code",
   "execution_count": 50,
   "id": "b45d28c0",
   "metadata": {},
   "outputs": [
    {
     "data": {
      "text/plain": [
       "SelectPercentile(percentile=25,\n",
       "                 score_func=<function chi2 at 0x000001E36154F0D0>)"
      ]
     },
     "execution_count": 50,
     "metadata": {},
     "output_type": "execute_result"
    }
   ],
   "source": [
    "## Selecting the top 25 percentile\n",
    "selected_top_columns = SelectPercentile(chi2, percentile=25)\n",
    "selected_top_columns.fit(X_train.fillna(0), y_train)"
   ]
  },
  {
   "cell_type": "code",
   "execution_count": 51,
   "id": "5c0295cc",
   "metadata": {},
   "outputs": [
    {
     "data": {
      "text/plain": [
       "Index(['obésité', 'signif atcd autr', 'trouble transi', 'dleur abdo',\n",
       "       'TRSténosant', 'signif endoprocess', 'Localisation', 'TDMSiège',\n",
       "       'TDMTNM', 'voie d'abord', 'CauseLaparo', 'TraitemNéoad',\n",
       "       'signif indicat', 'NéoadjRCC', 'indicationRCC', 'NéoadjRadioS',\n",
       "       'convers cause', 'PlaiePerOP', 'TypeRésectio',\n",
       "       'Autre typerésection+cause non résécable', 'TNM', 'signif Chimio'],\n",
       "      dtype='object')"
      ]
     },
     "execution_count": 51,
     "metadata": {},
     "output_type": "execute_result"
    }
   ],
   "source": [
    "X_train.columns[selected_top_columns.get_support()]"
   ]
  },
  {
   "cell_type": "code",
   "execution_count": 52,
   "id": "14fc4beb",
   "metadata": {},
   "outputs": [
    {
     "data": {
      "text/plain": [
       "array([0.0297708 , 0.        , 0.        , 0.        , 0.04567724,\n",
       "       0.        , 0.        , 0.01196875, 0.        , 0.        ,\n",
       "       0.01007173, 0.        , 0.        , 0.        , 0.00842705,\n",
       "       0.        , 0.        , 0.05565185, 0.        , 0.02542116,\n",
       "       0.        , 0.06652509, 0.05982207, 0.        , 0.        ,\n",
       "       0.03527589, 0.0215242 , 0.00014165, 0.        , 0.        ,\n",
       "       0.        , 0.00509655, 0.        , 0.        , 0.        ,\n",
       "       0.        , 0.02277326, 0.01022482, 0.03192452, 0.0088944 ,\n",
       "       0.01259742, 0.02368849, 0.        , 0.04020378, 0.00796648,\n",
       "       0.0488081 , 0.04723925, 0.02616632, 0.        , 0.00870162,\n",
       "       0.        , 0.        , 0.        , 0.03137829, 0.        ,\n",
       "       0.01604014, 0.01639122, 0.0240176 , 0.006961  , 0.03797722,\n",
       "       0.01852378, 0.02298676, 0.        , 0.02108129, 0.0093888 ,\n",
       "       0.007655  , 0.00741573, 0.00046778, 0.        , 0.00458713,\n",
       "       0.03408973, 0.03587093, 0.        , 0.07246373, 0.        ,\n",
       "       0.        , 0.        , 0.03383761, 0.        , 0.02056475,\n",
       "       0.00208728, 0.        , 0.        , 0.        , 0.01972299,\n",
       "       0.01457033, 0.02064735, 0.        , 0.02502983, 0.        ])"
      ]
     },
     "execution_count": 52,
     "metadata": {},
     "output_type": "execute_result"
    }
   ],
   "source": [
    "#mutual information\n",
    "from sklearn.feature_selection import mutual_info_classif\n",
    "# determine the mutual information\n",
    "mutual_info = mutual_info_classif(X_train, y_train)\n",
    "mutual_info"
   ]
  },
  {
   "cell_type": "code",
   "execution_count": 53,
   "id": "7642db30",
   "metadata": {},
   "outputs": [
    {
     "data": {
      "text/plain": [
       "autre typeanastomose    0.072464\n",
       "TR atte sphin           0.066525\n",
       "TRMA                    0.059822\n",
       "sign clin autre         0.055652\n",
       "TDM/TAP                 0.048808\n",
       "                          ...   \n",
       "Anastomose              0.000000\n",
       "PieceHisto              0.000000\n",
       "TDMRésecab              0.000000\n",
       "TRCIRC                  0.000000\n",
       "TraitAdjRChm            0.000000\n",
       "Length: 90, dtype: float64"
      ]
     },
     "execution_count": 53,
     "metadata": {},
     "output_type": "execute_result"
    }
   ],
   "source": [
    "mutual_info = pd.Series(mutual_info)\n",
    "mutual_info.index = X_train.columns\n",
    "mutual_info.sort_values(ascending=False)"
   ]
  },
  {
   "cell_type": "code",
   "execution_count": 54,
   "id": "552c1b13",
   "metadata": {},
   "outputs": [
    {
     "data": {
      "text/plain": [
       "<AxesSubplot:>"
      ]
     },
     "execution_count": 54,
     "metadata": {},
     "output_type": "execute_result"
    },
    {
     "data": {
      "image/png": "[encoded data removed]",
      "text/plain": [
       "<Figure size 1440x576 with 1 Axes>"
      ]
     },
     "metadata": {
      "needs_background": "light"
     },
     "output_type": "display_data"
    }
   ],
   "source": [
    "#let's plot the ordered mutual_info values per feature\n",
    "mutual_info.sort_values(ascending=False).plot.bar(figsize=(20, 8))"
   ]
  },
  {
   "cell_type": "code",
   "execution_count": 55,
   "id": "cc451f50",
   "metadata": {},
   "outputs": [],
   "source": [
    "from sklearn.feature_selection import SelectKBest"
   ]
  },
  {
   "cell_type": "code",
   "execution_count": 56,
   "id": "737f6a9f",
   "metadata": {},
   "outputs": [
    {
     "data": {
      "text/plain": [
       "Index(['ANTCDTs Toxique', 'Rectorragie', 'syndro rectal', 'trouble transi',\n",
       "       'TR', 'TVCRV', 'Endosc', 'PolypeRese', 'Localisation.1',\n",
       "       'signif tdmmeta', 'OMS', 'StomieDéchar', 'NéoadjChimio', 'PlaiePerOP',\n",
       "       'TypeRésectio', 'HistoLimiteRP', 'HistoLimiteRD', 'HistoEngainPN',\n",
       "       'HistoIntéMes', 'Stade'],\n",
       "      dtype='object')"
      ]
     },
     "execution_count": 56,
     "metadata": {},
     "output_type": "execute_result"
    }
   ],
   "source": [
    "#Now we Will select the  top 20 important features\n",
    "sel_twenty_cols = SelectKBest(mutual_info_classif, k=20)\n",
    "sel_twenty_cols.fit(X_train, y_train)\n",
    "X_train.columns[sel_twenty_cols.get_support()]"
   ]
  },
  {
   "cell_type": "code",
   "execution_count": 57,
   "id": "31d852d2",
   "metadata": {},
   "outputs": [
    {
     "data": {
      "text/plain": [
       "Index(['obésité', 'signif atcd autr', 'trouble transi', 'dleur abdo',\n",
       "       'TRSténosant', 'signif endoprocess', 'Localisation', 'TDMSiège',\n",
       "       'TDMTNM', 'voie d'abord', 'CauseLaparo', 'NéoadjRCC', 'indicationRCC',\n",
       "       'NéoadjRadioS', 'convers cause', 'PlaiePerOP', 'TypeRésectio',\n",
       "       'Autre typerésection+cause non résécable', 'TNM', 'signif Chimio'],\n",
       "      dtype='object')"
      ]
     },
     "execution_count": 57,
     "metadata": {},
     "output_type": "execute_result"
    }
   ],
   "source": [
    "#Now we Will select the  top 20 important features\n",
    "sel_twenty_cols = SelectKBest(chi2, k=20)\n",
    "sel_twenty_cols.fit(X_train, y_train)\n",
    "X_train.columns[sel_twenty_cols.get_support()]"
   ]
  },
  {
   "cell_type": "code",
   "execution_count": 58,
   "id": "41221084",
   "metadata": {},
   "outputs": [
    {
     "data": {
      "text/html": [
       "<div>\n",
       "<style scoped>\n",
       "    .dataframe tbody tr th:only-of-type {\n",
       "        vertical-align: middle;\n",
       "    }\n",
       "\n",
       "    .dataframe tbody tr th {\n",
       "        vertical-align: top;\n",
       "    }\n",
       "\n",
       "    .dataframe thead th {\n",
       "        text-align: right;\n",
       "    }\n",
       "</style>\n",
       "<table border=\"1\" class=\"dataframe\">\n",
       "  <thead>\n",
       "    <tr style=\"text-align: right;\">\n",
       "      <th></th>\n",
       "      <th>Age</th>\n",
       "      <th>Hémoglobine</th>\n",
       "      <th>Globule blanc</th>\n",
       "      <th>Plaquette</th>\n",
       "      <th>CRP</th>\n",
       "      <th>Urée</th>\n",
       "      <th>Créat</th>\n",
       "      <th>Glycémie</th>\n",
       "      <th>Albumine</th>\n",
       "      <th>Préalbumine</th>\n",
       "      <th>Protidemie</th>\n",
       "      <th>ACE</th>\n",
       "      <th>CA19-9</th>\n",
       "      <th>Histo Nbgg</th>\n",
       "      <th>Histo ggPosit</th>\n",
       "    </tr>\n",
       "  </thead>\n",
       "  <tbody>\n",
       "    <tr>\n",
       "      <th>0</th>\n",
       "      <td>60.0</td>\n",
       "      <td>11.5</td>\n",
       "      <td>8170.0</td>\n",
       "      <td>331000.0</td>\n",
       "      <td>12.000000</td>\n",
       "      <td>0.36</td>\n",
       "      <td>10.0</td>\n",
       "      <td>0.90</td>\n",
       "      <td>35.601695</td>\n",
       "      <td>0.259902</td>\n",
       "      <td>66.842857</td>\n",
       "      <td>28.68</td>\n",
       "      <td>71.10</td>\n",
       "      <td>25.000000</td>\n",
       "      <td>1.000000</td>\n",
       "    </tr>\n",
       "    <tr>\n",
       "      <th>1</th>\n",
       "      <td>80.0</td>\n",
       "      <td>10.7</td>\n",
       "      <td>8680.0</td>\n",
       "      <td>197000.0</td>\n",
       "      <td>16.000000</td>\n",
       "      <td>0.34</td>\n",
       "      <td>9.0</td>\n",
       "      <td>2.31</td>\n",
       "      <td>35.300000</td>\n",
       "      <td>0.230000</td>\n",
       "      <td>74.000000</td>\n",
       "      <td>5.67</td>\n",
       "      <td>26.82</td>\n",
       "      <td>25.000000</td>\n",
       "      <td>5.000000</td>\n",
       "    </tr>\n",
       "    <tr>\n",
       "      <th>2</th>\n",
       "      <td>77.0</td>\n",
       "      <td>10.4</td>\n",
       "      <td>3640.0</td>\n",
       "      <td>147000.0</td>\n",
       "      <td>26.860436</td>\n",
       "      <td>0.30</td>\n",
       "      <td>10.0</td>\n",
       "      <td>2.09</td>\n",
       "      <td>37.800000</td>\n",
       "      <td>0.259902</td>\n",
       "      <td>75.000000</td>\n",
       "      <td>71.37</td>\n",
       "      <td>15.10</td>\n",
       "      <td>15.624224</td>\n",
       "      <td>1.417957</td>\n",
       "    </tr>\n",
       "    <tr>\n",
       "      <th>3</th>\n",
       "      <td>50.0</td>\n",
       "      <td>16.0</td>\n",
       "      <td>6890.0</td>\n",
       "      <td>157000.0</td>\n",
       "      <td>3.000000</td>\n",
       "      <td>0.52</td>\n",
       "      <td>10.0</td>\n",
       "      <td>1.02</td>\n",
       "      <td>35.601695</td>\n",
       "      <td>0.259902</td>\n",
       "      <td>66.842857</td>\n",
       "      <td>5.90</td>\n",
       "      <td>10.00</td>\n",
       "      <td>14.000000</td>\n",
       "      <td>0.000000</td>\n",
       "    </tr>\n",
       "    <tr>\n",
       "      <th>4</th>\n",
       "      <td>72.0</td>\n",
       "      <td>9.5</td>\n",
       "      <td>6730.0</td>\n",
       "      <td>238000.0</td>\n",
       "      <td>10.000000</td>\n",
       "      <td>0.31</td>\n",
       "      <td>7.0</td>\n",
       "      <td>2.75</td>\n",
       "      <td>33.000000</td>\n",
       "      <td>0.040000</td>\n",
       "      <td>60.000000</td>\n",
       "      <td>1.30</td>\n",
       "      <td>2.39</td>\n",
       "      <td>16.000000</td>\n",
       "      <td>0.000000</td>\n",
       "    </tr>\n",
       "    <tr>\n",
       "      <th>...</th>\n",
       "      <td>...</td>\n",
       "      <td>...</td>\n",
       "      <td>...</td>\n",
       "      <td>...</td>\n",
       "      <td>...</td>\n",
       "      <td>...</td>\n",
       "      <td>...</td>\n",
       "      <td>...</td>\n",
       "      <td>...</td>\n",
       "      <td>...</td>\n",
       "      <td>...</td>\n",
       "      <td>...</td>\n",
       "      <td>...</td>\n",
       "      <td>...</td>\n",
       "      <td>...</td>\n",
       "    </tr>\n",
       "    <tr>\n",
       "      <th>333</th>\n",
       "      <td>32.0</td>\n",
       "      <td>12.1</td>\n",
       "      <td>15840.0</td>\n",
       "      <td>572000.0</td>\n",
       "      <td>154.000000</td>\n",
       "      <td>0.19</td>\n",
       "      <td>7.0</td>\n",
       "      <td>0.95</td>\n",
       "      <td>38.000000</td>\n",
       "      <td>0.259902</td>\n",
       "      <td>66.842857</td>\n",
       "      <td>14.51</td>\n",
       "      <td>0.50</td>\n",
       "      <td>22.000000</td>\n",
       "      <td>4.000000</td>\n",
       "    </tr>\n",
       "    <tr>\n",
       "      <th>334</th>\n",
       "      <td>56.0</td>\n",
       "      <td>9.5</td>\n",
       "      <td>5060.0</td>\n",
       "      <td>456000.0</td>\n",
       "      <td>37.000000</td>\n",
       "      <td>0.23</td>\n",
       "      <td>5.0</td>\n",
       "      <td>1.07</td>\n",
       "      <td>39.000000</td>\n",
       "      <td>0.259902</td>\n",
       "      <td>66.842857</td>\n",
       "      <td>10.42</td>\n",
       "      <td>0.80</td>\n",
       "      <td>26.000000</td>\n",
       "      <td>0.000000</td>\n",
       "    </tr>\n",
       "    <tr>\n",
       "      <th>335</th>\n",
       "      <td>52.0</td>\n",
       "      <td>11.7</td>\n",
       "      <td>7770.0</td>\n",
       "      <td>362000.0</td>\n",
       "      <td>20.000000</td>\n",
       "      <td>0.20</td>\n",
       "      <td>8.0</td>\n",
       "      <td>1.10</td>\n",
       "      <td>44.000000</td>\n",
       "      <td>0.259902</td>\n",
       "      <td>66.842857</td>\n",
       "      <td>5.59</td>\n",
       "      <td>0.80</td>\n",
       "      <td>40.000000</td>\n",
       "      <td>0.000000</td>\n",
       "    </tr>\n",
       "    <tr>\n",
       "      <th>336</th>\n",
       "      <td>50.0</td>\n",
       "      <td>11.0</td>\n",
       "      <td>7480.0</td>\n",
       "      <td>330000.0</td>\n",
       "      <td>94.000000</td>\n",
       "      <td>0.11</td>\n",
       "      <td>5.0</td>\n",
       "      <td>1.05</td>\n",
       "      <td>25.000000</td>\n",
       "      <td>0.030000</td>\n",
       "      <td>66.842857</td>\n",
       "      <td>15.59</td>\n",
       "      <td>20.06</td>\n",
       "      <td>20.000000</td>\n",
       "      <td>1.000000</td>\n",
       "    </tr>\n",
       "    <tr>\n",
       "      <th>337</th>\n",
       "      <td>33.0</td>\n",
       "      <td>10.8</td>\n",
       "      <td>7370.0</td>\n",
       "      <td>412000.0</td>\n",
       "      <td>7.000000</td>\n",
       "      <td>0.26</td>\n",
       "      <td>7.0</td>\n",
       "      <td>0.89</td>\n",
       "      <td>34.000000</td>\n",
       "      <td>0.040000</td>\n",
       "      <td>67.000000</td>\n",
       "      <td>0.80</td>\n",
       "      <td>1.00</td>\n",
       "      <td>17.000000</td>\n",
       "      <td>0.000000</td>\n",
       "    </tr>\n",
       "  </tbody>\n",
       "</table>\n",
       "<p>338 rows × 15 columns</p>\n",
       "</div>"
      ],
      "text/plain": [
       "      Age  Hémoglobine  Globule blanc  Plaquette         CRP  Urée  Créat  \\\n",
       "0    60.0         11.5         8170.0   331000.0   12.000000  0.36   10.0   \n",
       "1    80.0         10.7         8680.0   197000.0   16.000000  0.34    9.0   \n",
       "2    77.0         10.4         3640.0   147000.0   26.860436  0.30   10.0   \n",
       "3    50.0         16.0         6890.0   157000.0    3.000000  0.52   10.0   \n",
       "4    72.0          9.5         6730.0   238000.0   10.000000  0.31    7.0   \n",
       "..    ...          ...            ...        ...         ...   ...    ...   \n",
       "333  32.0         12.1        15840.0   572000.0  154.000000  0.19    7.0   \n",
       "334  56.0          9.5         5060.0   456000.0   37.000000  0.23    5.0   \n",
       "335  52.0         11.7         7770.0   362000.0   20.000000  0.20    8.0   \n",
       "336  50.0         11.0         7480.0   330000.0   94.000000  0.11    5.0   \n",
       "337  33.0         10.8         7370.0   412000.0    7.000000  0.26    7.0   \n",
       "\n",
       "     Glycémie   Albumine  Préalbumine  Protidemie    ACE  CA19-9  Histo Nbgg  \\\n",
       "0        0.90  35.601695     0.259902   66.842857  28.68   71.10   25.000000   \n",
       "1        2.31  35.300000     0.230000   74.000000   5.67   26.82   25.000000   \n",
       "2        2.09  37.800000     0.259902   75.000000  71.37   15.10   15.624224   \n",
       "3        1.02  35.601695     0.259902   66.842857   5.90   10.00   14.000000   \n",
       "4        2.75  33.000000     0.040000   60.000000   1.30    2.39   16.000000   \n",
       "..        ...        ...          ...         ...    ...     ...         ...   \n",
       "333      0.95  38.000000     0.259902   66.842857  14.51    0.50   22.000000   \n",
       "334      1.07  39.000000     0.259902   66.842857  10.42    0.80   26.000000   \n",
       "335      1.10  44.000000     0.259902   66.842857   5.59    0.80   40.000000   \n",
       "336      1.05  25.000000     0.030000   66.842857  15.59   20.06   20.000000   \n",
       "337      0.89  34.000000     0.040000   67.000000   0.80    1.00   17.000000   \n",
       "\n",
       "     Histo ggPosit  \n",
       "0         1.000000  \n",
       "1         5.000000  \n",
       "2         1.417957  \n",
       "3         0.000000  \n",
       "4         0.000000  \n",
       "..             ...  \n",
       "333       4.000000  \n",
       "334       0.000000  \n",
       "335       0.000000  \n",
       "336       1.000000  \n",
       "337       0.000000  \n",
       "\n",
       "[338 rows x 15 columns]"
      ]
     },
     "execution_count": 58,
     "metadata": {},
     "output_type": "execute_result"
    }
   ],
   "source": [
    "quant_data=pd.DataFrame(df, columns=numeric_features)\n",
    "quant_data\n"
   ]
  },
  {
   "cell_type": "code",
   "execution_count": 59,
   "id": "530eab37",
   "metadata": {},
   "outputs": [],
   "source": [
    "from sklearn.decomposition import PCA"
   ]
  },
  {
   "cell_type": "code",
   "execution_count": 60,
   "id": "b83cdf1f",
   "metadata": {},
   "outputs": [],
   "source": [
    "pca = PCA(n_components=4)"
   ]
  },
  {
   "cell_type": "code",
   "execution_count": 61,
   "id": "c06e30a0",
   "metadata": {},
   "outputs": [
    {
     "data": {
      "text/plain": [
       "PCA(n_components=4)"
      ]
     },
     "execution_count": 61,
     "metadata": {},
     "output_type": "execute_result"
    }
   ],
   "source": [
    "pca.fit(quant_data)"
   ]
  },
  {
   "cell_type": "code",
   "execution_count": 62,
   "id": "a30befcc",
   "metadata": {},
   "outputs": [],
   "source": [
    "x_pca = pca.transform(quant_data)"
   ]
  },
  {
   "cell_type": "code",
   "execution_count": 63,
   "id": "329fa9da",
   "metadata": {},
   "outputs": [
    {
     "data": {
      "text/plain": [
       "(338, 15)"
      ]
     },
     "execution_count": 63,
     "metadata": {},
     "output_type": "execute_result"
    }
   ],
   "source": [
    "quant_data.shape"
   ]
  },
  {
   "cell_type": "code",
   "execution_count": 64,
   "id": "d3bcd302",
   "metadata": {},
   "outputs": [
    {
     "data": {
      "text/plain": [
       "(338, 4)"
      ]
     },
     "execution_count": 64,
     "metadata": {},
     "output_type": "execute_result"
    }
   ],
   "source": [
    "x_pca.shape"
   ]
  },
  {
   "cell_type": "code",
   "execution_count": 65,
   "id": "c8116650",
   "metadata": {},
   "outputs": [
    {
     "data": {
      "text/plain": [
       "Index(['Age', 'Hémoglobine', 'Globule blanc', 'Plaquette', 'CRP', 'Urée',\n",
       "       'Créat', 'Glycémie', 'Albumine', 'Préalbumine', 'Protidemie', 'ACE',\n",
       "       'CA19-9', 'Histo Nbgg', 'Histo ggPosit'],\n",
       "      dtype='object')"
      ]
     },
     "execution_count": 65,
     "metadata": {},
     "output_type": "execute_result"
    }
   ],
   "source": [
    "quant_data.keys()"
   ]
  },
  {
   "cell_type": "code",
   "execution_count": 66,
   "id": "eb2ba54f",
   "metadata": {},
   "outputs": [
    {
     "data": {
      "text/plain": [
       "Text(0, 0.5, 'Second Principal Component')"
      ]
     },
     "execution_count": 66,
     "metadata": {},
     "output_type": "execute_result"
    },
    {
     "data": {
      "image/png": "[encoded data removed]",
      "text/plain": [
       "<Figure size 576x432 with 1 Axes>"
      ]
     },
     "metadata": {
      "needs_background": "light"
     },
     "output_type": "display_data"
    }
   ],
   "source": [
    "plt.figure(figsize=(8,6))\n",
    "plt.scatter(x_pca[:,0],x_pca[:,1],c=df['Morbidité'],cmap='plasma')\n",
    "plt.xlabel('First principal component')\n",
    "plt.ylabel('Second Principal Component')"
   ]
  },
  {
   "cell_type": "code",
   "execution_count": 67,
   "id": "51c0fb3e",
   "metadata": {},
   "outputs": [],
   "source": [
    "import warnings\n",
    "warnings.filterwarnings('ignore')\n",
    "\n",
    "import pandas as pd, numpy as np, matplotlib.pyplot as plt, seaborn as sns\n",
    "\n",
    "from sklearn.linear_model import LogisticRegression\n",
    "from sklearn.ensemble import RandomForestClassifier, GradientBoostingClassifier, VotingClassifier\n",
    "from sklearn.svm import SVC\n",
    "from sklearn.neighbors import KNeighborsClassifier\n",
    "from sklearn.metrics import confusion_matrix, accuracy_score, precision_score, recall_score\n",
    "from sklearn.model_selection import train_test_split, StratifiedKFold, cross_val_score, RandomizedSearchCV\n",
    "from sklearn.preprocessing import StandardScaler\n",
    "from sklearn.decomposition import PCA, IncrementalPCA"
   ]
  },
  {
   "cell_type": "code",
   "execution_count": 68,
   "id": "d4d99076",
   "metadata": {},
   "outputs": [
    {
     "name": "stdout",
     "output_type": "stream",
     "text": [
      "[-4.86133159e-16  7.88324041e-18  9.45988849e-17  1.61606428e-16\n",
      " -1.57664808e-17  1.26131847e-16 -3.44234831e-16  1.62920302e-16\n",
      " -1.04058773e-15 -5.25549361e-18  1.41898327e-16  3.15329616e-17\n",
      "  3.15329616e-17  2.20730732e-16 -5.25549361e-18]\n",
      "[1. 1. 1. 1. 1. 1. 1. 1. 1. 1. 1. 1. 1. 1. 1.]\n",
      "[[ 1.99316753e-01 -5.34696883e-02  4.55517988e-01 ...  3.49756562e-01\n",
      "   1.09426197e+00 -1.12483917e-01]\n",
      " [ 1.68424866e+00 -4.61838752e-01  6.32656860e-01 ... -7.25447718e-02\n",
      "   1.09426197e+00  9.64028830e-01]\n",
      " [ 1.46150888e+00 -6.14977151e-01 -1.11789200e+00 ... -1.84319199e-01\n",
      "   2.07321469e-16  0.00000000e+00]\n",
      " ...\n",
      " [-3.94656010e-01  4.86225777e-02  3.16585539e-01 ... -3.20699259e-01\n",
      "   2.84493614e+00 -3.81612104e-01]\n",
      " [-5.43149201e-01 -3.08700353e-01  2.15859513e-01 ... -1.37015346e-01\n",
      "   5.10703914e-01 -1.12483917e-01]\n",
      " [-1.80534132e+00 -4.10792619e-01  1.77653090e-01 ... -3.18791846e-01\n",
      "   1.60569080e-01 -3.81612104e-01]]\n"
     ]
    }
   ],
   "source": [
    "#classe pour standardisation\n",
    "from sklearn.preprocessing import StandardScaler\n",
    "#instanciation\n",
    "sc = StandardScaler()\n",
    "#transformation – centrage-réduction\n",
    "Z = sc.fit_transform(quant_data)\n",
    "\n",
    "#vérification - librairie numpy\n",
    "import numpy\n",
    "#moyenne\n",
    "print(numpy.mean(Z,axis=0))\n",
    "\n",
    "#écart-type\n",
    "print(numpy.std(Z,axis=0))\n",
    "\n",
    "print(Z)"
   ]
  },
  {
   "cell_type": "code",
   "execution_count": 69,
   "id": "fd6652dd",
   "metadata": {},
   "outputs": [
    {
     "name": "stdout",
     "output_type": "stream",
     "text": [
      "15\n"
     ]
    }
   ],
   "source": [
    "#classe pour l'ACP\n",
    "from sklearn.decomposition import PCA\n",
    "#instanciation\n",
    "acp = PCA()\n",
    "\n",
    "#calculs\n",
    "coord = acp.fit_transform(Z)\n",
    "#nombre de composantes calculées\n",
    "print(acp.n_components_)"
   ]
  },
  {
   "cell_type": "code",
   "execution_count": 70,
   "id": "ddf545a0",
   "metadata": {},
   "outputs": [],
   "source": [
    "list_acp = [\"CP1\",\"CP2\",\"CP3\",\"CP4\",\"CP5\",\"CP6\",\"CP7\",\"CP8\", \"CP9\", \"CP10\", \"CP11\", \"CP12\", \"CP13\", \"CP14\", \"CP15\"]\n",
    "df_acp = pd.DataFrame(list_acp, columns = [\"ACP\"])\n",
    "df_acp['explained_variance'] = acp.explained_variance_"
   ]
  },
  {
   "cell_type": "code",
   "execution_count": 71,
   "id": "5003adc9",
   "metadata": {},
   "outputs": [
    {
     "data": {
      "text/plain": [
       "<AxesSubplot:xlabel='explained_variance', ylabel='ACP'>"
      ]
     },
     "execution_count": 71,
     "metadata": {},
     "output_type": "execute_result"
    },
    {
     "data": {
      "image/png": "[encoded data removed]",
      "text/plain": [
       "<Figure size 432x576 with 1 Axes>"
      ]
     },
     "metadata": {},
     "output_type": "display_data"
    }
   ],
   "source": [
    "import seaborn as sns\n",
    "import matplotlib.pyplot as plt\n",
    "sns.set(style=\"whitegrid\")\n",
    "\n",
    "# Initialize the matplotlib figure\n",
    "f, ax = plt.subplots(figsize=(6, 8))\n",
    "\n",
    "# Plot the total crashes\n",
    "sns.set_color_codes(\"pastel\")\n",
    "sns.barplot(x=\"explained_variance\", y=\"ACP\", data=df_acp,\n",
    "            label=\"Total\", color=\"b\")"
   ]
  },
  {
   "cell_type": "markdown",
   "id": "5397af37",
   "metadata": {},
   "source": [
    "La plus grande quantité d'information est toujours représenté par notre première composante."
   ]
  },
  {
   "cell_type": "code",
   "execution_count": 72,
   "id": "2169e326",
   "metadata": {},
   "outputs": [
    {
     "data": {
      "image/png": "[encoded data removed]",
      "text/plain": [
       "<Figure size 432x288 with 1 Axes>"
      ]
     },
     "metadata": {},
     "output_type": "display_data"
    }
   ],
   "source": [
    "#cumul de variance expliquée\n",
    "#La fonction .cumsum() : pour avoir la quantité de variance expliquée de façon cumulative\n",
    "plt.plot(list_acp,numpy.cumsum(acp.explained_variance_ratio_))\n",
    "plt.title(\"Explained variance vs. # of factors\")\n",
    "plt.ylabel(\"Cumsum explained variance ratio\")\n",
    "plt.xlabel(\"Factor number\")\n",
    "plt.show()"
   ]
  },
  {
   "cell_type": "markdown",
   "id": "df961198",
   "metadata": {},
   "source": [
    "Bien que la 13 ème composante représente 95% de l'information, nous prendrons 13 composantes\n",
    "afin de pouvoir réaliser une projection et une analyse dans ce plan"
   ]
  },
  {
   "cell_type": "code",
   "execution_count": 73,
   "id": "77494be2",
   "metadata": {},
   "outputs": [
    {
     "data": {
      "text/html": [
       "<div>\n",
       "<style scoped>\n",
       "    .dataframe tbody tr th:only-of-type {\n",
       "        vertical-align: middle;\n",
       "    }\n",
       "\n",
       "    .dataframe tbody tr th {\n",
       "        vertical-align: top;\n",
       "    }\n",
       "\n",
       "    .dataframe thead th {\n",
       "        text-align: right;\n",
       "    }\n",
       "</style>\n",
       "<table border=\"1\" class=\"dataframe\">\n",
       "  <thead>\n",
       "    <tr style=\"text-align: right;\">\n",
       "      <th></th>\n",
       "      <th>ID</th>\n",
       "      <th>d_i</th>\n",
       "    </tr>\n",
       "  </thead>\n",
       "  <tbody>\n",
       "    <tr>\n",
       "      <th>0</th>\n",
       "      <td>0</td>\n",
       "      <td>5.945947</td>\n",
       "    </tr>\n",
       "    <tr>\n",
       "      <th>1</th>\n",
       "      <td>1</td>\n",
       "      <td>19.070795</td>\n",
       "    </tr>\n",
       "    <tr>\n",
       "      <th>2</th>\n",
       "      <td>2</td>\n",
       "      <td>35.575363</td>\n",
       "    </tr>\n",
       "    <tr>\n",
       "      <th>3</th>\n",
       "      <td>3</td>\n",
       "      <td>13.724070</td>\n",
       "    </tr>\n",
       "    <tr>\n",
       "      <th>4</th>\n",
       "      <td>4</td>\n",
       "      <td>24.938139</td>\n",
       "    </tr>\n",
       "    <tr>\n",
       "      <th>...</th>\n",
       "      <td>...</td>\n",
       "      <td>...</td>\n",
       "    </tr>\n",
       "    <tr>\n",
       "      <th>333</th>\n",
       "      <td>333</td>\n",
       "      <td>29.825944</td>\n",
       "    </tr>\n",
       "    <tr>\n",
       "      <th>334</th>\n",
       "      <td>334</td>\n",
       "      <td>7.755168</td>\n",
       "    </tr>\n",
       "    <tr>\n",
       "      <th>335</th>\n",
       "      <td>335</td>\n",
       "      <td>12.405268</td>\n",
       "    </tr>\n",
       "    <tr>\n",
       "      <th>336</th>\n",
       "      <td>336</td>\n",
       "      <td>11.189675</td>\n",
       "    </tr>\n",
       "    <tr>\n",
       "      <th>337</th>\n",
       "      <td>337</td>\n",
       "      <td>6.048169</td>\n",
       "    </tr>\n",
       "  </tbody>\n",
       "</table>\n",
       "<p>338 rows × 2 columns</p>\n",
       "</div>"
      ],
      "text/plain": [
       "      ID        d_i\n",
       "0      0   5.945947\n",
       "1      1  19.070795\n",
       "2      2  35.575363\n",
       "3      3  13.724070\n",
       "4      4  24.938139\n",
       "..   ...        ...\n",
       "333  333  29.825944\n",
       "334  334   7.755168\n",
       "335  335  12.405268\n",
       "336  336  11.189675\n",
       "337  337   6.048169\n",
       "\n",
       "[338 rows x 2 columns]"
      ]
     },
     "execution_count": 73,
     "metadata": {},
     "output_type": "execute_result"
    }
   ],
   "source": [
    "#calcule des carrés des distances à l’origine des individus, qui correspondent également à leur contribution dans l’inertie totale.\n",
    "di = np.sum(Z**2,axis=1)\n",
    "df_ctr_ind = pd.DataFrame({'ID':quant_data.index,'d_i':di})\n",
    "df_ctr_ind"
   ]
  },
  {
   "cell_type": "code",
   "execution_count": 74,
   "id": "828fc709",
   "metadata": {},
   "outputs": [
    {
     "data": {
      "text/html": [
       "<div>\n",
       "<style scoped>\n",
       "    .dataframe tbody tr th:only-of-type {\n",
       "        vertical-align: middle;\n",
       "    }\n",
       "\n",
       "    .dataframe tbody tr th {\n",
       "        vertical-align: top;\n",
       "    }\n",
       "\n",
       "    .dataframe thead th {\n",
       "        text-align: right;\n",
       "    }\n",
       "</style>\n",
       "<table border=\"1\" class=\"dataframe\">\n",
       "  <thead>\n",
       "    <tr style=\"text-align: right;\">\n",
       "      <th></th>\n",
       "      <th>ID</th>\n",
       "      <th>d_i</th>\n",
       "    </tr>\n",
       "  </thead>\n",
       "  <tbody>\n",
       "    <tr>\n",
       "      <th>1</th>\n",
       "      <td>1</td>\n",
       "      <td>19.070795</td>\n",
       "    </tr>\n",
       "    <tr>\n",
       "      <th>2</th>\n",
       "      <td>2</td>\n",
       "      <td>35.575363</td>\n",
       "    </tr>\n",
       "    <tr>\n",
       "      <th>4</th>\n",
       "      <td>4</td>\n",
       "      <td>24.938139</td>\n",
       "    </tr>\n",
       "    <tr>\n",
       "      <th>12</th>\n",
       "      <td>12</td>\n",
       "      <td>18.783653</td>\n",
       "    </tr>\n",
       "    <tr>\n",
       "      <th>21</th>\n",
       "      <td>21</td>\n",
       "      <td>46.640710</td>\n",
       "    </tr>\n",
       "    <tr>\n",
       "      <th>...</th>\n",
       "      <td>...</td>\n",
       "      <td>...</td>\n",
       "    </tr>\n",
       "    <tr>\n",
       "      <th>303</th>\n",
       "      <td>303</td>\n",
       "      <td>28.922257</td>\n",
       "    </tr>\n",
       "    <tr>\n",
       "      <th>307</th>\n",
       "      <td>307</td>\n",
       "      <td>18.180318</td>\n",
       "    </tr>\n",
       "    <tr>\n",
       "      <th>312</th>\n",
       "      <td>312</td>\n",
       "      <td>31.756582</td>\n",
       "    </tr>\n",
       "    <tr>\n",
       "      <th>313</th>\n",
       "      <td>313</td>\n",
       "      <td>53.532894</td>\n",
       "    </tr>\n",
       "    <tr>\n",
       "      <th>333</th>\n",
       "      <td>333</td>\n",
       "      <td>29.825944</td>\n",
       "    </tr>\n",
       "  </tbody>\n",
       "</table>\n",
       "<p>63 rows × 2 columns</p>\n",
       "</div>"
      ],
      "text/plain": [
       "      ID        d_i\n",
       "1      1  19.070795\n",
       "2      2  35.575363\n",
       "4      4  24.938139\n",
       "12    12  18.783653\n",
       "21    21  46.640710\n",
       "..   ...        ...\n",
       "303  303  28.922257\n",
       "307  307  18.180318\n",
       "312  312  31.756582\n",
       "313  313  53.532894\n",
       "333  333  29.825944\n",
       "\n",
       "[63 rows x 2 columns]"
      ]
     },
     "execution_count": 74,
     "metadata": {},
     "output_type": "execute_result"
    }
   ],
   "source": [
    "#Filtrer les individus avec d_i > à la moyenne de d_i\n",
    "df_ctr_ind[df_ctr_ind['d_i'] > df_ctr_ind.d_i.mean()]"
   ]
  },
  {
   "cell_type": "markdown",
   "id": "4b587651",
   "metadata": {},
   "source": [
    "63 individus pourront être exploité; car seul les individus avec une contribution supérieur à la moyenne seront interprétables"
   ]
  },
  {
   "cell_type": "markdown",
   "id": "e89d490d",
   "metadata": {},
   "source": [
    "Nous allons calculer la contribution de chaque individus dans notre plan CP1, CP2,.....,CP9"
   ]
  },
  {
   "cell_type": "code",
   "execution_count": 75,
   "id": "b0cbe452",
   "metadata": {},
   "outputs": [
    {
     "name": "stdout",
     "output_type": "stream",
     "text": [
      "          0         1         2         3         4         5         6   \\\n",
      "0  -0.137304  0.663048 -0.202298 -0.086901  0.018323 -0.246373 -0.038950   \n",
      "1  -0.567747 -0.133652 -0.018658  0.248765 -0.174302 -0.174456 -0.455315   \n",
      "2   0.695782 -0.007859  0.059506  0.421215 -0.275718 -0.016273 -0.193708   \n",
      "3   0.754289 -0.124442  0.043898  0.209815 -0.021294  0.150948  0.145254   \n",
      "4   0.653284  0.000175  0.025240  0.265105 -0.256107  0.170863 -0.254665   \n",
      "5  -0.139727  0.587700 -0.024854  0.439506 -0.186448 -0.201799  0.006316   \n",
      "6  -0.206152  0.321918  0.248038  0.511529  0.020224 -0.193086  0.492968   \n",
      "7  -0.121605  0.413707  0.434779  0.042827  0.325571  0.342299 -0.219632   \n",
      "8  -0.535611 -0.430478  0.241449  0.379124 -0.093184  0.005183 -0.120951   \n",
      "9  -0.122609  0.205151  0.283297  0.172759  0.395200  0.533155  0.011255   \n",
      "10 -0.320389 -0.546008  0.361610  0.144381 -0.052908 -0.011136  0.251460   \n",
      "11  0.187206  0.174278  0.663163 -0.356351 -0.177894 -0.061888 -0.186947   \n",
      "12  0.196610  0.055387  0.583297 -0.273147 -0.232703 -0.396042  0.118588   \n",
      "13  0.489983 -0.179537 -0.008583  0.086810  0.522700 -0.286376  0.200786   \n",
      "14  0.165134 -0.137627  0.099600  0.152807  0.611693 -0.478770 -0.399708   \n",
      "\n",
      "          7         8         9         10        11        12        13  \\\n",
      "0   0.113880 -0.429174 -0.365823 -0.213669  0.017680 -0.137283  0.164258   \n",
      "1   0.160218  0.269216 -0.299194  0.221253 -0.199895 -0.097959 -0.118320   \n",
      "2   0.071805  0.013847 -0.114592  0.044242 -0.095110 -0.236309  0.166729   \n",
      "3  -0.137400 -0.237210  0.041999  0.253861  0.029504 -0.284162 -0.052406   \n",
      "4   0.109361 -0.023502 -0.164241 -0.250417  0.146890  0.440100 -0.106940   \n",
      "5  -0.145275 -0.097680  0.436988 -0.066630 -0.332892  0.079436 -0.148750   \n",
      "6  -0.010089  0.298877 -0.184047  0.030035  0.349239 -0.017464 -0.058909   \n",
      "7  -0.426174 -0.086488 -0.188101  0.279417 -0.057109  0.180513  0.103549   \n",
      "8  -0.074995 -0.121383  0.201567 -0.172346  0.119468  0.003676  0.429148   \n",
      "9   0.586996  0.000066  0.101175 -0.107917 -0.100944 -0.116590 -0.041497   \n",
      "10 -0.091962 -0.409292 -0.253098 -0.147560 -0.202128  0.006184 -0.263242   \n",
      "11 -0.200304  0.246804  0.032171 -0.347372  0.011370 -0.250922 -0.083812   \n",
      "12  0.382909 -0.132936  0.075910  0.302704 -0.057634  0.196329  0.119788   \n",
      "13 -0.053648  0.261772 -0.145526 -0.163591 -0.391066  0.102778  0.183337   \n",
      "14  0.033131 -0.172329  0.152181  0.007986  0.261037 -0.036921 -0.174640   \n",
      "\n",
      "          14  \n",
      "0  -0.087783  \n",
      "1  -0.171083  \n",
      "2   0.328530  \n",
      "3  -0.315521  \n",
      "4  -0.117327  \n",
      "5  -0.021861  \n",
      "6   0.005400  \n",
      "7   0.051571  \n",
      "8  -0.115299  \n",
      "9  -0.016136  \n",
      "10  0.097285  \n",
      "11 -0.067326  \n",
      "12 -0.021678  \n",
      "13 -0.089895  \n",
      "14  0.057831  \n"
     ]
    }
   ],
   "source": [
    "#contributions aux axes\n",
    "eigval = (338-1)/338*acp.explained_variance_ # represent the amount of variance explained\n",
    "\n",
    "#racine carrée des valeurs propres\n",
    "sqrt_eigval = np.sqrt(eigval)\n",
    "\n",
    "#corrélation des variables avec les axes\n",
    "corvar = np.zeros((15,15))\n",
    "for k in range(15):\n",
    "    corvar[:,k] = acp.components_[k,:] * sqrt_eigval[k]\n",
    "\n",
    "#afficher la matrice des corrélations variables x facteurs\n",
    "print(pd.DataFrame(corvar))"
   ]
  },
  {
   "cell_type": "code",
   "execution_count": 76,
   "id": "680de132",
   "metadata": {},
   "outputs": [
    {
     "name": "stdout",
     "output_type": "stream",
     "text": [
      "               id     COR_1     COR_2\n",
      "0             Age -0.137304  0.663048\n",
      "1     Hémoglobine -0.567747 -0.133652\n",
      "2   Globule blanc  0.695782 -0.007859\n",
      "3       Plaquette  0.754289 -0.124442\n",
      "4             CRP  0.653284  0.000175\n",
      "5            Urée -0.139727  0.587700\n",
      "6           Créat -0.206152  0.321918\n",
      "7        Glycémie -0.121605  0.413707\n",
      "8        Albumine -0.535611 -0.430478\n",
      "9     Préalbumine -0.122609  0.205151\n",
      "10     Protidemie -0.320389 -0.546008\n",
      "11            ACE  0.187206  0.174278\n",
      "12         CA19-9  0.196610  0.055387\n",
      "13     Histo Nbgg  0.489983 -0.179537\n",
      "14  Histo ggPosit  0.165134 -0.137627\n"
     ]
    }
   ],
   "source": [
    "#on affiche pour les deux premiers axes\n",
    "print(pd.DataFrame({'id':quant_data.columns,'COR_1':corvar[:,0],'COR_2':corvar[:,1]}))"
   ]
  },
  {
   "cell_type": "code",
   "execution_count": 77,
   "id": "b2962582",
   "metadata": {},
   "outputs": [
    {
     "data": {
      "image/png": "[encoded data removed]",
      "text/plain": [
       "<Figure size 1080x1080 with 1 Axes>"
      ]
     },
     "metadata": {},
     "output_type": "display_data"
    }
   ],
   "source": [
    "#cercle des corrélations\n",
    "fig, axes = plt.subplots(figsize=(15,15))\n",
    "axes.set_xlim(-1,1)\n",
    "axes.set_ylim(-1,1)\n",
    "#affichage des étiquettes (noms des variables)\n",
    "for j in range(8):\n",
    "    plt.annotate(quant_data.columns[j],(corvar[j,0],corvar[j,1]))\n",
    "\n",
    "#ajouter les axes\n",
    "plt.plot([-1,1],[0,0],color='silver',linestyle='-',linewidth=1)\n",
    "plt.plot([0,0],[-1,1],color='silver',linestyle='-',linewidth=1)\n",
    "\n",
    "#ajouter un cercle\n",
    "cercle = plt.Circle((0,0),1,color='blue',fill=False)\n",
    "axes.add_artist(cercle)\n",
    "#affichage\n",
    "plt.show()\n"
   ]
  },
  {
   "cell_type": "code",
   "execution_count": 78,
   "id": "bf1dce66",
   "metadata": {},
   "outputs": [],
   "source": [
    "#Filtrer les variables avec un taux de représentation supérier à la moyenne sur CP1\n",
    "#cosinus carré des variables\n",
    "cos2var = corvar**2\n",
    "df_ctr_variables = pd.DataFrame({'id':quant_data.columns,'COS9_1':cos2var[:,0],'COS9_2':cos2var[:,1],'COS9_3':cos2var[:,2],'COS9_4':cos2var[:,3],'COS9_5':cos2var[:,4],'COS9_6':cos2var[:,5], 'COS9_7':cos2var[:,6],'COS9_8':cos2var[:,7],'COS9_9':cos2var[:,8]})"
   ]
  },
  {
   "cell_type": "code",
   "execution_count": 79,
   "id": "ee6d948c",
   "metadata": {},
   "outputs": [
    {
     "data": {
      "text/html": [
       "<div>\n",
       "<style scoped>\n",
       "    .dataframe tbody tr th:only-of-type {\n",
       "        vertical-align: middle;\n",
       "    }\n",
       "\n",
       "    .dataframe tbody tr th {\n",
       "        vertical-align: top;\n",
       "    }\n",
       "\n",
       "    .dataframe thead th {\n",
       "        text-align: right;\n",
       "    }\n",
       "</style>\n",
       "<table border=\"1\" class=\"dataframe\">\n",
       "  <thead>\n",
       "    <tr style=\"text-align: right;\">\n",
       "      <th></th>\n",
       "      <th>id</th>\n",
       "      <th>COS9_1</th>\n",
       "      <th>COS9_2</th>\n",
       "      <th>COS9_3</th>\n",
       "      <th>COS9_4</th>\n",
       "      <th>COS9_5</th>\n",
       "      <th>COS9_6</th>\n",
       "      <th>COS9_7</th>\n",
       "      <th>COS9_8</th>\n",
       "      <th>COS9_9</th>\n",
       "    </tr>\n",
       "  </thead>\n",
       "  <tbody>\n",
       "    <tr>\n",
       "      <th>1</th>\n",
       "      <td>Hémoglobine</td>\n",
       "      <td>0.322337</td>\n",
       "      <td>1.786287e-02</td>\n",
       "      <td>0.000348</td>\n",
       "      <td>0.061884</td>\n",
       "      <td>0.030381</td>\n",
       "      <td>0.030435</td>\n",
       "      <td>0.207312</td>\n",
       "      <td>0.025670</td>\n",
       "      <td>0.072477</td>\n",
       "    </tr>\n",
       "    <tr>\n",
       "      <th>2</th>\n",
       "      <td>Globule blanc</td>\n",
       "      <td>0.484113</td>\n",
       "      <td>6.176261e-05</td>\n",
       "      <td>0.003541</td>\n",
       "      <td>0.177422</td>\n",
       "      <td>0.076021</td>\n",
       "      <td>0.000265</td>\n",
       "      <td>0.037523</td>\n",
       "      <td>0.005156</td>\n",
       "      <td>0.000192</td>\n",
       "    </tr>\n",
       "    <tr>\n",
       "      <th>3</th>\n",
       "      <td>Plaquette</td>\n",
       "      <td>0.568952</td>\n",
       "      <td>1.548582e-02</td>\n",
       "      <td>0.001927</td>\n",
       "      <td>0.044022</td>\n",
       "      <td>0.000453</td>\n",
       "      <td>0.022785</td>\n",
       "      <td>0.021099</td>\n",
       "      <td>0.018879</td>\n",
       "      <td>0.056269</td>\n",
       "    </tr>\n",
       "    <tr>\n",
       "      <th>4</th>\n",
       "      <td>CRP</td>\n",
       "      <td>0.426780</td>\n",
       "      <td>3.049562e-08</td>\n",
       "      <td>0.000637</td>\n",
       "      <td>0.070280</td>\n",
       "      <td>0.065591</td>\n",
       "      <td>0.029194</td>\n",
       "      <td>0.064854</td>\n",
       "      <td>0.011960</td>\n",
       "      <td>0.000552</td>\n",
       "    </tr>\n",
       "    <tr>\n",
       "      <th>8</th>\n",
       "      <td>Albumine</td>\n",
       "      <td>0.286879</td>\n",
       "      <td>1.853113e-01</td>\n",
       "      <td>0.058297</td>\n",
       "      <td>0.143735</td>\n",
       "      <td>0.008683</td>\n",
       "      <td>0.000027</td>\n",
       "      <td>0.014629</td>\n",
       "      <td>0.005624</td>\n",
       "      <td>0.014734</td>\n",
       "    </tr>\n",
       "    <tr>\n",
       "      <th>13</th>\n",
       "      <td>Histo Nbgg</td>\n",
       "      <td>0.240084</td>\n",
       "      <td>3.223346e-02</td>\n",
       "      <td>0.000074</td>\n",
       "      <td>0.007536</td>\n",
       "      <td>0.273216</td>\n",
       "      <td>0.082011</td>\n",
       "      <td>0.040315</td>\n",
       "      <td>0.002878</td>\n",
       "      <td>0.068525</td>\n",
       "    </tr>\n",
       "  </tbody>\n",
       "</table>\n",
       "</div>"
      ],
      "text/plain": [
       "               id    COS9_1        COS9_2    COS9_3    COS9_4    COS9_5  \\\n",
       "1     Hémoglobine  0.322337  1.786287e-02  0.000348  0.061884  0.030381   \n",
       "2   Globule blanc  0.484113  6.176261e-05  0.003541  0.177422  0.076021   \n",
       "3       Plaquette  0.568952  1.548582e-02  0.001927  0.044022  0.000453   \n",
       "4             CRP  0.426780  3.049562e-08  0.000637  0.070280  0.065591   \n",
       "8        Albumine  0.286879  1.853113e-01  0.058297  0.143735  0.008683   \n",
       "13     Histo Nbgg  0.240084  3.223346e-02  0.000074  0.007536  0.273216   \n",
       "\n",
       "      COS9_6    COS9_7    COS9_8    COS9_9  \n",
       "1   0.030435  0.207312  0.025670  0.072477  \n",
       "2   0.000265  0.037523  0.005156  0.000192  \n",
       "3   0.022785  0.021099  0.018879  0.056269  \n",
       "4   0.029194  0.064854  0.011960  0.000552  \n",
       "8   0.000027  0.014629  0.005624  0.014734  \n",
       "13  0.082011  0.040315  0.002878  0.068525  "
      ]
     },
     "execution_count": 79,
     "metadata": {},
     "output_type": "execute_result"
    }
   ],
   "source": [
    "df_ctr_variables[df_ctr_variables['COS9_1'] > df_ctr_variables['COS9_1'].mean()]"
   ]
  },
  {
   "cell_type": "code",
   "execution_count": 80,
   "id": "dca139b3",
   "metadata": {},
   "outputs": [
    {
     "data": {
      "text/html": [
       "<div>\n",
       "<style scoped>\n",
       "    .dataframe tbody tr th:only-of-type {\n",
       "        vertical-align: middle;\n",
       "    }\n",
       "\n",
       "    .dataframe tbody tr th {\n",
       "        vertical-align: top;\n",
       "    }\n",
       "\n",
       "    .dataframe thead th {\n",
       "        text-align: right;\n",
       "    }\n",
       "</style>\n",
       "<table border=\"1\" class=\"dataframe\">\n",
       "  <thead>\n",
       "    <tr style=\"text-align: right;\">\n",
       "      <th></th>\n",
       "      <th>id</th>\n",
       "      <th>COS9_1</th>\n",
       "      <th>COS9_2</th>\n",
       "      <th>COS9_3</th>\n",
       "      <th>COS9_4</th>\n",
       "      <th>COS9_5</th>\n",
       "      <th>COS9_6</th>\n",
       "      <th>COS9_7</th>\n",
       "      <th>COS9_8</th>\n",
       "      <th>COS9_9</th>\n",
       "    </tr>\n",
       "  </thead>\n",
       "  <tbody>\n",
       "    <tr>\n",
       "      <th>0</th>\n",
       "      <td>Age</td>\n",
       "      <td>0.018852</td>\n",
       "      <td>0.439633</td>\n",
       "      <td>0.040925</td>\n",
       "      <td>0.007552</td>\n",
       "      <td>0.000336</td>\n",
       "      <td>0.060700</td>\n",
       "      <td>0.001517</td>\n",
       "      <td>0.012969</td>\n",
       "      <td>0.184190</td>\n",
       "    </tr>\n",
       "    <tr>\n",
       "      <th>5</th>\n",
       "      <td>Urée</td>\n",
       "      <td>0.019524</td>\n",
       "      <td>0.345392</td>\n",
       "      <td>0.000618</td>\n",
       "      <td>0.193165</td>\n",
       "      <td>0.034763</td>\n",
       "      <td>0.040723</td>\n",
       "      <td>0.000040</td>\n",
       "      <td>0.021105</td>\n",
       "      <td>0.009541</td>\n",
       "    </tr>\n",
       "    <tr>\n",
       "      <th>7</th>\n",
       "      <td>Glycémie</td>\n",
       "      <td>0.014788</td>\n",
       "      <td>0.171154</td>\n",
       "      <td>0.189033</td>\n",
       "      <td>0.001834</td>\n",
       "      <td>0.105997</td>\n",
       "      <td>0.117169</td>\n",
       "      <td>0.048238</td>\n",
       "      <td>0.181624</td>\n",
       "      <td>0.007480</td>\n",
       "    </tr>\n",
       "    <tr>\n",
       "      <th>8</th>\n",
       "      <td>Albumine</td>\n",
       "      <td>0.286879</td>\n",
       "      <td>0.185311</td>\n",
       "      <td>0.058297</td>\n",
       "      <td>0.143735</td>\n",
       "      <td>0.008683</td>\n",
       "      <td>0.000027</td>\n",
       "      <td>0.014629</td>\n",
       "      <td>0.005624</td>\n",
       "      <td>0.014734</td>\n",
       "    </tr>\n",
       "    <tr>\n",
       "      <th>10</th>\n",
       "      <td>Protidemie</td>\n",
       "      <td>0.102649</td>\n",
       "      <td>0.298124</td>\n",
       "      <td>0.130761</td>\n",
       "      <td>0.020846</td>\n",
       "      <td>0.002799</td>\n",
       "      <td>0.000124</td>\n",
       "      <td>0.063232</td>\n",
       "      <td>0.008457</td>\n",
       "      <td>0.167520</td>\n",
       "    </tr>\n",
       "  </tbody>\n",
       "</table>\n",
       "</div>"
      ],
      "text/plain": [
       "            id    COS9_1    COS9_2    COS9_3    COS9_4    COS9_5    COS9_6  \\\n",
       "0          Age  0.018852  0.439633  0.040925  0.007552  0.000336  0.060700   \n",
       "5         Urée  0.019524  0.345392  0.000618  0.193165  0.034763  0.040723   \n",
       "7     Glycémie  0.014788  0.171154  0.189033  0.001834  0.105997  0.117169   \n",
       "8     Albumine  0.286879  0.185311  0.058297  0.143735  0.008683  0.000027   \n",
       "10  Protidemie  0.102649  0.298124  0.130761  0.020846  0.002799  0.000124   \n",
       "\n",
       "      COS9_7    COS9_8    COS9_9  \n",
       "0   0.001517  0.012969  0.184190  \n",
       "5   0.000040  0.021105  0.009541  \n",
       "7   0.048238  0.181624  0.007480  \n",
       "8   0.014629  0.005624  0.014734  \n",
       "10  0.063232  0.008457  0.167520  "
      ]
     },
     "execution_count": 80,
     "metadata": {},
     "output_type": "execute_result"
    }
   ],
   "source": [
    "#Filtrer les variables avec un taux de représentation supérier à la moyenne sur CP2\n",
    "df_ctr_variables[df_ctr_variables['COS9_2'] > df_ctr_variables['COS9_2'].mean()]"
   ]
  },
  {
   "cell_type": "code",
   "execution_count": 81,
   "id": "154712e0",
   "metadata": {},
   "outputs": [
    {
     "data": {
      "text/html": [
       "<div>\n",
       "<style scoped>\n",
       "    .dataframe tbody tr th:only-of-type {\n",
       "        vertical-align: middle;\n",
       "    }\n",
       "\n",
       "    .dataframe tbody tr th {\n",
       "        vertical-align: top;\n",
       "    }\n",
       "\n",
       "    .dataframe thead th {\n",
       "        text-align: right;\n",
       "    }\n",
       "</style>\n",
       "<table border=\"1\" class=\"dataframe\">\n",
       "  <thead>\n",
       "    <tr style=\"text-align: right;\">\n",
       "      <th></th>\n",
       "      <th>id</th>\n",
       "      <th>COS9_1</th>\n",
       "      <th>COS9_2</th>\n",
       "      <th>COS9_3</th>\n",
       "      <th>COS9_4</th>\n",
       "      <th>COS9_5</th>\n",
       "      <th>COS9_6</th>\n",
       "      <th>COS9_7</th>\n",
       "      <th>COS9_8</th>\n",
       "      <th>COS9_9</th>\n",
       "    </tr>\n",
       "  </thead>\n",
       "  <tbody>\n",
       "    <tr>\n",
       "      <th>7</th>\n",
       "      <td>Glycémie</td>\n",
       "      <td>0.014788</td>\n",
       "      <td>0.171154</td>\n",
       "      <td>0.189033</td>\n",
       "      <td>0.001834</td>\n",
       "      <td>0.105997</td>\n",
       "      <td>0.117169</td>\n",
       "      <td>0.048238</td>\n",
       "      <td>0.181624</td>\n",
       "      <td>0.007480</td>\n",
       "    </tr>\n",
       "    <tr>\n",
       "      <th>10</th>\n",
       "      <td>Protidemie</td>\n",
       "      <td>0.102649</td>\n",
       "      <td>0.298124</td>\n",
       "      <td>0.130761</td>\n",
       "      <td>0.020846</td>\n",
       "      <td>0.002799</td>\n",
       "      <td>0.000124</td>\n",
       "      <td>0.063232</td>\n",
       "      <td>0.008457</td>\n",
       "      <td>0.167520</td>\n",
       "    </tr>\n",
       "    <tr>\n",
       "      <th>11</th>\n",
       "      <td>ACE</td>\n",
       "      <td>0.035046</td>\n",
       "      <td>0.030373</td>\n",
       "      <td>0.439785</td>\n",
       "      <td>0.126986</td>\n",
       "      <td>0.031646</td>\n",
       "      <td>0.003830</td>\n",
       "      <td>0.034949</td>\n",
       "      <td>0.040122</td>\n",
       "      <td>0.060912</td>\n",
       "    </tr>\n",
       "    <tr>\n",
       "      <th>12</th>\n",
       "      <td>CA19-9</td>\n",
       "      <td>0.038656</td>\n",
       "      <td>0.003068</td>\n",
       "      <td>0.340236</td>\n",
       "      <td>0.074609</td>\n",
       "      <td>0.054151</td>\n",
       "      <td>0.156849</td>\n",
       "      <td>0.014063</td>\n",
       "      <td>0.146619</td>\n",
       "      <td>0.017672</td>\n",
       "    </tr>\n",
       "  </tbody>\n",
       "</table>\n",
       "</div>"
      ],
      "text/plain": [
       "            id    COS9_1    COS9_2    COS9_3    COS9_4    COS9_5    COS9_6  \\\n",
       "7     Glycémie  0.014788  0.171154  0.189033  0.001834  0.105997  0.117169   \n",
       "10  Protidemie  0.102649  0.298124  0.130761  0.020846  0.002799  0.000124   \n",
       "11         ACE  0.035046  0.030373  0.439785  0.126986  0.031646  0.003830   \n",
       "12      CA19-9  0.038656  0.003068  0.340236  0.074609  0.054151  0.156849   \n",
       "\n",
       "      COS9_7    COS9_8    COS9_9  \n",
       "7   0.048238  0.181624  0.007480  \n",
       "10  0.063232  0.008457  0.167520  \n",
       "11  0.034949  0.040122  0.060912  \n",
       "12  0.014063  0.146619  0.017672  "
      ]
     },
     "execution_count": 81,
     "metadata": {},
     "output_type": "execute_result"
    }
   ],
   "source": [
    "#Filtrer les variables avec un taux de représentation supérier à la moyenne sur CP3\n",
    "df_ctr_variables[df_ctr_variables['COS9_3'] > df_ctr_variables['COS9_3'].mean()]"
   ]
  },
  {
   "cell_type": "code",
   "execution_count": 82,
   "id": "9845b562",
   "metadata": {},
   "outputs": [
    {
     "data": {
      "text/html": [
       "<div>\n",
       "<style scoped>\n",
       "    .dataframe tbody tr th:only-of-type {\n",
       "        vertical-align: middle;\n",
       "    }\n",
       "\n",
       "    .dataframe tbody tr th {\n",
       "        vertical-align: top;\n",
       "    }\n",
       "\n",
       "    .dataframe thead th {\n",
       "        text-align: right;\n",
       "    }\n",
       "</style>\n",
       "<table border=\"1\" class=\"dataframe\">\n",
       "  <thead>\n",
       "    <tr style=\"text-align: right;\">\n",
       "      <th></th>\n",
       "      <th>id</th>\n",
       "      <th>COS9_1</th>\n",
       "      <th>COS9_2</th>\n",
       "      <th>COS9_3</th>\n",
       "      <th>COS9_4</th>\n",
       "      <th>COS9_5</th>\n",
       "      <th>COS9_6</th>\n",
       "      <th>COS9_7</th>\n",
       "      <th>COS9_8</th>\n",
       "      <th>COS9_9</th>\n",
       "    </tr>\n",
       "  </thead>\n",
       "  <tbody>\n",
       "    <tr>\n",
       "      <th>2</th>\n",
       "      <td>Globule blanc</td>\n",
       "      <td>0.484113</td>\n",
       "      <td>0.000062</td>\n",
       "      <td>0.003541</td>\n",
       "      <td>0.177422</td>\n",
       "      <td>0.076021</td>\n",
       "      <td>0.000265</td>\n",
       "      <td>0.037523</td>\n",
       "      <td>0.005156</td>\n",
       "      <td>0.000192</td>\n",
       "    </tr>\n",
       "    <tr>\n",
       "      <th>5</th>\n",
       "      <td>Urée</td>\n",
       "      <td>0.019524</td>\n",
       "      <td>0.345392</td>\n",
       "      <td>0.000618</td>\n",
       "      <td>0.193165</td>\n",
       "      <td>0.034763</td>\n",
       "      <td>0.040723</td>\n",
       "      <td>0.000040</td>\n",
       "      <td>0.021105</td>\n",
       "      <td>0.009541</td>\n",
       "    </tr>\n",
       "    <tr>\n",
       "      <th>6</th>\n",
       "      <td>Créat</td>\n",
       "      <td>0.042499</td>\n",
       "      <td>0.103631</td>\n",
       "      <td>0.061523</td>\n",
       "      <td>0.261661</td>\n",
       "      <td>0.000409</td>\n",
       "      <td>0.037282</td>\n",
       "      <td>0.243017</td>\n",
       "      <td>0.000102</td>\n",
       "      <td>0.089327</td>\n",
       "    </tr>\n",
       "    <tr>\n",
       "      <th>8</th>\n",
       "      <td>Albumine</td>\n",
       "      <td>0.286879</td>\n",
       "      <td>0.185311</td>\n",
       "      <td>0.058297</td>\n",
       "      <td>0.143735</td>\n",
       "      <td>0.008683</td>\n",
       "      <td>0.000027</td>\n",
       "      <td>0.014629</td>\n",
       "      <td>0.005624</td>\n",
       "      <td>0.014734</td>\n",
       "    </tr>\n",
       "    <tr>\n",
       "      <th>11</th>\n",
       "      <td>ACE</td>\n",
       "      <td>0.035046</td>\n",
       "      <td>0.030373</td>\n",
       "      <td>0.439785</td>\n",
       "      <td>0.126986</td>\n",
       "      <td>0.031646</td>\n",
       "      <td>0.003830</td>\n",
       "      <td>0.034949</td>\n",
       "      <td>0.040122</td>\n",
       "      <td>0.060912</td>\n",
       "    </tr>\n",
       "  </tbody>\n",
       "</table>\n",
       "</div>"
      ],
      "text/plain": [
       "               id    COS9_1    COS9_2    COS9_3    COS9_4    COS9_5    COS9_6  \\\n",
       "2   Globule blanc  0.484113  0.000062  0.003541  0.177422  0.076021  0.000265   \n",
       "5            Urée  0.019524  0.345392  0.000618  0.193165  0.034763  0.040723   \n",
       "6           Créat  0.042499  0.103631  0.061523  0.261661  0.000409  0.037282   \n",
       "8        Albumine  0.286879  0.185311  0.058297  0.143735  0.008683  0.000027   \n",
       "11            ACE  0.035046  0.030373  0.439785  0.126986  0.031646  0.003830   \n",
       "\n",
       "      COS9_7    COS9_8    COS9_9  \n",
       "2   0.037523  0.005156  0.000192  \n",
       "5   0.000040  0.021105  0.009541  \n",
       "6   0.243017  0.000102  0.089327  \n",
       "8   0.014629  0.005624  0.014734  \n",
       "11  0.034949  0.040122  0.060912  "
      ]
     },
     "execution_count": 82,
     "metadata": {},
     "output_type": "execute_result"
    }
   ],
   "source": [
    "#Filtrer les variables avec un taux de représentation supérier à la moyenne sur CP4\n",
    "df_ctr_variables[df_ctr_variables['COS9_4'] > df_ctr_variables['COS9_4'].mean()]"
   ]
  },
  {
   "cell_type": "code",
   "execution_count": 83,
   "id": "70d593a4",
   "metadata": {},
   "outputs": [
    {
     "name": "stdout",
     "output_type": "stream",
     "text": [
      "[0. 1.]\n"
     ]
    }
   ],
   "source": [
    "#modalités de la variable qualitative\n",
    "modalites = numpy.unique(df.Morbidité)\n",
    "print(modalites)"
   ]
  },
  {
   "cell_type": "code",
   "execution_count": 84,
   "id": "93a5add7",
   "metadata": {},
   "outputs": [
    {
     "data": {
      "image/png": "[encoded data removed]",
      "text/plain": [
       "<Figure size 864x864 with 1 Axes>"
      ]
     },
     "metadata": {},
     "output_type": "display_data"
    }
   ],
   "source": [
    "#Nous représentons les individus dans le plan factoriel, coloriées selon la modalité associée de la variable illustrative.\n",
    "#liste des couleurs\n",
    "couleurs = ['green','blue']\n",
    "\n",
    "#faire un graphique en coloriant les points\n",
    "fig, axes = plt.subplots(figsize=(12,12))\n",
    "axes.set_xlim(-6,6)\n",
    "axes.set_ylim(-6,6)\n",
    "\n",
    "#pour chaque modalité de la var. illustrative\n",
    "for c in range(len(modalites)):\n",
    " #numéro des individus concernés\n",
    " numero = numpy.where(df.Morbidité == modalites[c])\n",
    " #les passer en revue pour affichage\n",
    " for i in numero[0]:\n",
    "    plt.annotate(quant_data.index[i],(coord[i,0],coord[i,1]),color=couleurs[c])\n",
    "\n",
    "#ajouter les axes\n",
    "plt.plot([-6,6],[0,0],color='silver',linestyle='-',linewidth=1)\n",
    "plt.plot([0,0],[-6,6],color='silver',linestyle='-',linewidth=1)\n",
    "\n",
    "#affichage\n",
    "plt.show()\n"
   ]
  },
  {
   "cell_type": "code",
   "execution_count": 85,
   "id": "9ec96ef5",
   "metadata": {},
   "outputs": [
    {
     "data": {
      "text/plain": [
       "array([0.17623065, 0.28978779, 0.38031325, 0.46329519, 0.54428161,\n",
       "       0.61727292, 0.68065174, 0.73577347, 0.78771277, 0.83381186,\n",
       "       0.87443717, 0.9142806 , 0.94928054, 0.97994398, 1.        ])"
      ]
     },
     "execution_count": 85,
     "metadata": {},
     "output_type": "execute_result"
    }
   ],
   "source": [
    "pca = PCA(random_state=None)\n",
    "pca_df = pca.fit_transform(Z)\n",
    "v_ratio = np.cumsum(pca.explained_variance_ratio_)\n",
    "v_ratio"
   ]
  },
  {
   "cell_type": "code",
   "execution_count": 86,
   "id": "b65fd39d",
   "metadata": {},
   "outputs": [
    {
     "data": {
      "text/html": [
       "<div>\n",
       "<style scoped>\n",
       "    .dataframe tbody tr th:only-of-type {\n",
       "        vertical-align: middle;\n",
       "    }\n",
       "\n",
       "    .dataframe tbody tr th {\n",
       "        vertical-align: top;\n",
       "    }\n",
       "\n",
       "    .dataframe thead th {\n",
       "        text-align: right;\n",
       "    }\n",
       "</style>\n",
       "<table border=\"1\" class=\"dataframe\">\n",
       "  <thead>\n",
       "    <tr style=\"text-align: right;\">\n",
       "      <th></th>\n",
       "      <th>PC_1</th>\n",
       "      <th>PC_2</th>\n",
       "      <th>Morbidité</th>\n",
       "    </tr>\n",
       "  </thead>\n",
       "  <tbody>\n",
       "    <tr>\n",
       "      <th>0</th>\n",
       "      <td>0.870302</td>\n",
       "      <td>0.614121</td>\n",
       "      <td>0.0</td>\n",
       "    </tr>\n",
       "    <tr>\n",
       "      <th>1</th>\n",
       "      <td>-0.111242</td>\n",
       "      <td>1.265575</td>\n",
       "      <td>0.0</td>\n",
       "    </tr>\n",
       "    <tr>\n",
       "      <th>2</th>\n",
       "      <td>-0.590388</td>\n",
       "      <td>2.798037</td>\n",
       "      <td>1.0</td>\n",
       "    </tr>\n",
       "    <tr>\n",
       "      <th>3</th>\n",
       "      <td>-1.674114</td>\n",
       "      <td>-0.074809</td>\n",
       "      <td>0.0</td>\n",
       "    </tr>\n",
       "    <tr>\n",
       "      <th>4</th>\n",
       "      <td>0.122198</td>\n",
       "      <td>1.161117</td>\n",
       "      <td>0.0</td>\n",
       "    </tr>\n",
       "  </tbody>\n",
       "</table>\n",
       "</div>"
      ],
      "text/plain": [
       "       PC_1      PC_2  Morbidité\n",
       "0  0.870302  0.614121        0.0\n",
       "1 -0.111242  1.265575        0.0\n",
       "2 -0.590388  2.798037        1.0\n",
       "3 -1.674114 -0.074809        0.0\n",
       "4  0.122198  1.161117        0.0"
      ]
     },
     "execution_count": 86,
     "metadata": {},
     "output_type": "execute_result"
    }
   ],
   "source": [
    "y=df.Morbidité\n",
    "inc_pca = IncrementalPCA(n_components=2)\n",
    "pca_df = inc_pca.fit_transform(Z)\n",
    "pca_df = pd.DataFrame(pca_df, columns=['PC_1','PC_2'])\n",
    "pca_df = pd.concat([pca_df,y], axis=1)\n",
    "pca_df.head()"
   ]
  },
  {
   "cell_type": "code",
   "execution_count": 87,
   "id": "834e90ca",
   "metadata": {},
   "outputs": [
    {
     "data": {
      "text/html": [
       "<div>\n",
       "<style scoped>\n",
       "    .dataframe tbody tr th:only-of-type {\n",
       "        vertical-align: middle;\n",
       "    }\n",
       "\n",
       "    .dataframe tbody tr th {\n",
       "        vertical-align: top;\n",
       "    }\n",
       "\n",
       "    .dataframe thead th {\n",
       "        text-align: right;\n",
       "    }\n",
       "</style>\n",
       "<table border=\"1\" class=\"dataframe\">\n",
       "  <thead>\n",
       "    <tr style=\"text-align: right;\">\n",
       "      <th></th>\n",
       "      <th>PC_1</th>\n",
       "      <th>PC_2</th>\n",
       "      <th>Morbidité</th>\n",
       "    </tr>\n",
       "  </thead>\n",
       "  <tbody>\n",
       "    <tr>\n",
       "      <th>0</th>\n",
       "      <td>0.870302</td>\n",
       "      <td>0.614121</td>\n",
       "      <td>0.0</td>\n",
       "    </tr>\n",
       "    <tr>\n",
       "      <th>1</th>\n",
       "      <td>-0.111242</td>\n",
       "      <td>1.265575</td>\n",
       "      <td>0.0</td>\n",
       "    </tr>\n",
       "    <tr>\n",
       "      <th>2</th>\n",
       "      <td>-0.590388</td>\n",
       "      <td>2.798037</td>\n",
       "      <td>1.0</td>\n",
       "    </tr>\n",
       "    <tr>\n",
       "      <th>3</th>\n",
       "      <td>-1.674114</td>\n",
       "      <td>-0.074809</td>\n",
       "      <td>0.0</td>\n",
       "    </tr>\n",
       "    <tr>\n",
       "      <th>4</th>\n",
       "      <td>0.122198</td>\n",
       "      <td>1.161117</td>\n",
       "      <td>0.0</td>\n",
       "    </tr>\n",
       "  </tbody>\n",
       "</table>\n",
       "</div>"
      ],
      "text/plain": [
       "       PC_1      PC_2  Morbidité\n",
       "0  0.870302  0.614121        0.0\n",
       "1 -0.111242  1.265575        0.0\n",
       "2 -0.590388  2.798037        1.0\n",
       "3 -1.674114 -0.074809        0.0\n",
       "4  0.122198  1.161117        0.0"
      ]
     },
     "execution_count": 87,
     "metadata": {},
     "output_type": "execute_result"
    }
   ],
   "source": [
    "indexNames1 = pca_df[pca_df['Morbidité'].isna()].index\n",
    "pca_df.drop(indexNames1 , inplace=True)\n",
    "pca_df.head()"
   ]
  },
  {
   "cell_type": "code",
   "execution_count": 88,
   "id": "e1682d34",
   "metadata": {},
   "outputs": [
    {
     "data": {
      "text/plain": [
       "<bound method DataFrame.info of          N  Sexe  HTA  diabète  cardiopathie  obésité  atcd med autre  \\\n",
       "0      1.0     1  0.0      0.0           0.0      0.0             0.0   \n",
       "1      2.0     0  0.0      0.0           0.0      0.0             0.0   \n",
       "2      3.0     1  1.0      0.0           0.0      0.0             0.0   \n",
       "3      4.0     0  0.0      0.0           0.0      0.0             0.0   \n",
       "4      6.0     0  1.0      0.0           0.0      0.0             0.0   \n",
       "..     ...   ...  ...      ...           ...      ...             ...   \n",
       "333  342.0     0  0.0      0.0           0.0      0.0             0.0   \n",
       "334  343.0     1  0.0      0.0           0.0      0.0             1.0   \n",
       "335  344.0     1  0.0      0.0           0.0      0.0             0.0   \n",
       "336  345.0     1  0.0      0.0           0.0      0.0             0.0   \n",
       "337  346.0     1  0.0      0.0           0.0      0.0             0.0   \n",
       "\n",
       "     signif atcd autr  atcd chir  signif atcdchir  ...  CHemorEvolu  \\\n",
       "0                   0        1.0                0  ...            0   \n",
       "1                   0        1.0                0  ...            0   \n",
       "2                   0        3.0                0  ...            0   \n",
       "3                   0        0.0                0  ...            0   \n",
       "4                   0        0.0                0  ...            0   \n",
       "..                ...        ...              ...  ...          ...   \n",
       "333                 0        0.0                0  ...            0   \n",
       "334                10        1.0                2  ...            0   \n",
       "335                 0        1.0               32  ...            0   \n",
       "336                 0        0.0                0  ...            0   \n",
       "337                 0        0.0                0  ...            0   \n",
       "\n",
       "     CpltPérinéal  CPérinéDiagnos  CPérinTraite  CPérinEvolut  CplUrinair  \\\n",
       "0             0.0               0             0             0         0.0   \n",
       "1             0.0               0             0             0         0.0   \n",
       "2             0.0               0             0             0         0.0   \n",
       "3             0.0               0             0             0         0.0   \n",
       "4             0.0               0             0             0         0.0   \n",
       "..            ...             ...           ...           ...         ...   \n",
       "333           0.0               0             0             0         0.0   \n",
       "334           0.0               0             0             0         0.0   \n",
       "335           0.0               0             0             0         0.0   \n",
       "336           0.0               0             0             0         0.0   \n",
       "337           0.0               0             0             0         0.0   \n",
       "\n",
       "     CUrinaiDiagn  CUrinairEvolu  Cplct Générl  Décès  \n",
       "0               0              0           0.0      0  \n",
       "1               0              0           0.0      0  \n",
       "2               0              0           0.0      0  \n",
       "3               0              0           0.0      1  \n",
       "4               0              0           0.0      0  \n",
       "..            ...            ...           ...    ...  \n",
       "333             0              0           0.0      0  \n",
       "334             0              0           0.0      1  \n",
       "335             0              0           0.0      1  \n",
       "336             0              0           0.0      2  \n",
       "337             0              0           0.0      1  \n",
       "\n",
       "[338 rows x 143 columns]>"
      ]
     },
     "execution_count": 88,
     "metadata": {},
     "output_type": "execute_result"
    }
   ],
   "source": [
    "data.info"
   ]
  },
  {
   "cell_type": "code",
   "execution_count": 89,
   "id": "3cd8b376",
   "metadata": {},
   "outputs": [],
   "source": [
    "allData= pd.concat([quant_data, data], axis=1)"
   ]
  },
  {
   "cell_type": "code",
   "execution_count": 90,
   "id": "2d6bba8b",
   "metadata": {},
   "outputs": [],
   "source": [
    "allData= pd.concat([quant_data, data], axis=1)"
   ]
  },
  {
   "cell_type": "code",
   "execution_count": 91,
   "id": "f85cb0b9",
   "metadata": {},
   "outputs": [
    {
     "data": {
      "text/html": [
       "<div>\n",
       "<style scoped>\n",
       "    .dataframe tbody tr th:only-of-type {\n",
       "        vertical-align: middle;\n",
       "    }\n",
       "\n",
       "    .dataframe tbody tr th {\n",
       "        vertical-align: top;\n",
       "    }\n",
       "\n",
       "    .dataframe thead th {\n",
       "        text-align: right;\n",
       "    }\n",
       "</style>\n",
       "<table border=\"1\" class=\"dataframe\">\n",
       "  <thead>\n",
       "    <tr style=\"text-align: right;\">\n",
       "      <th></th>\n",
       "      <th>Age</th>\n",
       "      <th>Hémoglobine</th>\n",
       "      <th>Globule blanc</th>\n",
       "      <th>Plaquette</th>\n",
       "      <th>CRP</th>\n",
       "      <th>Urée</th>\n",
       "      <th>Créat</th>\n",
       "      <th>Glycémie</th>\n",
       "      <th>Albumine</th>\n",
       "      <th>Préalbumine</th>\n",
       "      <th>...</th>\n",
       "      <th>CHemorEvolu</th>\n",
       "      <th>CpltPérinéal</th>\n",
       "      <th>CPérinéDiagnos</th>\n",
       "      <th>CPérinTraite</th>\n",
       "      <th>CPérinEvolut</th>\n",
       "      <th>CplUrinair</th>\n",
       "      <th>CUrinaiDiagn</th>\n",
       "      <th>CUrinairEvolu</th>\n",
       "      <th>Cplct Générl</th>\n",
       "      <th>Décès</th>\n",
       "    </tr>\n",
       "  </thead>\n",
       "  <tbody>\n",
       "    <tr>\n",
       "      <th>0</th>\n",
       "      <td>60.0</td>\n",
       "      <td>11.5</td>\n",
       "      <td>8170.0</td>\n",
       "      <td>331000.0</td>\n",
       "      <td>12.000000</td>\n",
       "      <td>0.36</td>\n",
       "      <td>10.0</td>\n",
       "      <td>0.90</td>\n",
       "      <td>35.601695</td>\n",
       "      <td>0.259902</td>\n",
       "      <td>...</td>\n",
       "      <td>0</td>\n",
       "      <td>0.0</td>\n",
       "      <td>0</td>\n",
       "      <td>0</td>\n",
       "      <td>0</td>\n",
       "      <td>0.0</td>\n",
       "      <td>0</td>\n",
       "      <td>0</td>\n",
       "      <td>0.0</td>\n",
       "      <td>0</td>\n",
       "    </tr>\n",
       "    <tr>\n",
       "      <th>1</th>\n",
       "      <td>80.0</td>\n",
       "      <td>10.7</td>\n",
       "      <td>8680.0</td>\n",
       "      <td>197000.0</td>\n",
       "      <td>16.000000</td>\n",
       "      <td>0.34</td>\n",
       "      <td>9.0</td>\n",
       "      <td>2.31</td>\n",
       "      <td>35.300000</td>\n",
       "      <td>0.230000</td>\n",
       "      <td>...</td>\n",
       "      <td>0</td>\n",
       "      <td>0.0</td>\n",
       "      <td>0</td>\n",
       "      <td>0</td>\n",
       "      <td>0</td>\n",
       "      <td>0.0</td>\n",
       "      <td>0</td>\n",
       "      <td>0</td>\n",
       "      <td>0.0</td>\n",
       "      <td>0</td>\n",
       "    </tr>\n",
       "    <tr>\n",
       "      <th>2</th>\n",
       "      <td>77.0</td>\n",
       "      <td>10.4</td>\n",
       "      <td>3640.0</td>\n",
       "      <td>147000.0</td>\n",
       "      <td>26.860436</td>\n",
       "      <td>0.30</td>\n",
       "      <td>10.0</td>\n",
       "      <td>2.09</td>\n",
       "      <td>37.800000</td>\n",
       "      <td>0.259902</td>\n",
       "      <td>...</td>\n",
       "      <td>0</td>\n",
       "      <td>0.0</td>\n",
       "      <td>0</td>\n",
       "      <td>0</td>\n",
       "      <td>0</td>\n",
       "      <td>0.0</td>\n",
       "      <td>0</td>\n",
       "      <td>0</td>\n",
       "      <td>0.0</td>\n",
       "      <td>0</td>\n",
       "    </tr>\n",
       "    <tr>\n",
       "      <th>3</th>\n",
       "      <td>50.0</td>\n",
       "      <td>16.0</td>\n",
       "      <td>6890.0</td>\n",
       "      <td>157000.0</td>\n",
       "      <td>3.000000</td>\n",
       "      <td>0.52</td>\n",
       "      <td>10.0</td>\n",
       "      <td>1.02</td>\n",
       "      <td>35.601695</td>\n",
       "      <td>0.259902</td>\n",
       "      <td>...</td>\n",
       "      <td>0</td>\n",
       "      <td>0.0</td>\n",
       "      <td>0</td>\n",
       "      <td>0</td>\n",
       "      <td>0</td>\n",
       "      <td>0.0</td>\n",
       "      <td>0</td>\n",
       "      <td>0</td>\n",
       "      <td>0.0</td>\n",
       "      <td>1</td>\n",
       "    </tr>\n",
       "    <tr>\n",
       "      <th>4</th>\n",
       "      <td>72.0</td>\n",
       "      <td>9.5</td>\n",
       "      <td>6730.0</td>\n",
       "      <td>238000.0</td>\n",
       "      <td>10.000000</td>\n",
       "      <td>0.31</td>\n",
       "      <td>7.0</td>\n",
       "      <td>2.75</td>\n",
       "      <td>33.000000</td>\n",
       "      <td>0.040000</td>\n",
       "      <td>...</td>\n",
       "      <td>0</td>\n",
       "      <td>0.0</td>\n",
       "      <td>0</td>\n",
       "      <td>0</td>\n",
       "      <td>0</td>\n",
       "      <td>0.0</td>\n",
       "      <td>0</td>\n",
       "      <td>0</td>\n",
       "      <td>0.0</td>\n",
       "      <td>0</td>\n",
       "    </tr>\n",
       "    <tr>\n",
       "      <th>...</th>\n",
       "      <td>...</td>\n",
       "      <td>...</td>\n",
       "      <td>...</td>\n",
       "      <td>...</td>\n",
       "      <td>...</td>\n",
       "      <td>...</td>\n",
       "      <td>...</td>\n",
       "      <td>...</td>\n",
       "      <td>...</td>\n",
       "      <td>...</td>\n",
       "      <td>...</td>\n",
       "      <td>...</td>\n",
       "      <td>...</td>\n",
       "      <td>...</td>\n",
       "      <td>...</td>\n",
       "      <td>...</td>\n",
       "      <td>...</td>\n",
       "      <td>...</td>\n",
       "      <td>...</td>\n",
       "      <td>...</td>\n",
       "      <td>...</td>\n",
       "    </tr>\n",
       "    <tr>\n",
       "      <th>333</th>\n",
       "      <td>32.0</td>\n",
       "      <td>12.1</td>\n",
       "      <td>15840.0</td>\n",
       "      <td>572000.0</td>\n",
       "      <td>154.000000</td>\n",
       "      <td>0.19</td>\n",
       "      <td>7.0</td>\n",
       "      <td>0.95</td>\n",
       "      <td>38.000000</td>\n",
       "      <td>0.259902</td>\n",
       "      <td>...</td>\n",
       "      <td>0</td>\n",
       "      <td>0.0</td>\n",
       "      <td>0</td>\n",
       "      <td>0</td>\n",
       "      <td>0</td>\n",
       "      <td>0.0</td>\n",
       "      <td>0</td>\n",
       "      <td>0</td>\n",
       "      <td>0.0</td>\n",
       "      <td>0</td>\n",
       "    </tr>\n",
       "    <tr>\n",
       "      <th>334</th>\n",
       "      <td>56.0</td>\n",
       "      <td>9.5</td>\n",
       "      <td>5060.0</td>\n",
       "      <td>456000.0</td>\n",
       "      <td>37.000000</td>\n",
       "      <td>0.23</td>\n",
       "      <td>5.0</td>\n",
       "      <td>1.07</td>\n",
       "      <td>39.000000</td>\n",
       "      <td>0.259902</td>\n",
       "      <td>...</td>\n",
       "      <td>0</td>\n",
       "      <td>0.0</td>\n",
       "      <td>0</td>\n",
       "      <td>0</td>\n",
       "      <td>0</td>\n",
       "      <td>0.0</td>\n",
       "      <td>0</td>\n",
       "      <td>0</td>\n",
       "      <td>0.0</td>\n",
       "      <td>1</td>\n",
       "    </tr>\n",
       "    <tr>\n",
       "      <th>335</th>\n",
       "      <td>52.0</td>\n",
       "      <td>11.7</td>\n",
       "      <td>7770.0</td>\n",
       "      <td>362000.0</td>\n",
       "      <td>20.000000</td>\n",
       "      <td>0.20</td>\n",
       "      <td>8.0</td>\n",
       "      <td>1.10</td>\n",
       "      <td>44.000000</td>\n",
       "      <td>0.259902</td>\n",
       "      <td>...</td>\n",
       "      <td>0</td>\n",
       "      <td>0.0</td>\n",
       "      <td>0</td>\n",
       "      <td>0</td>\n",
       "      <td>0</td>\n",
       "      <td>0.0</td>\n",
       "      <td>0</td>\n",
       "      <td>0</td>\n",
       "      <td>0.0</td>\n",
       "      <td>1</td>\n",
       "    </tr>\n",
       "    <tr>\n",
       "      <th>336</th>\n",
       "      <td>50.0</td>\n",
       "      <td>11.0</td>\n",
       "      <td>7480.0</td>\n",
       "      <td>330000.0</td>\n",
       "      <td>94.000000</td>\n",
       "      <td>0.11</td>\n",
       "      <td>5.0</td>\n",
       "      <td>1.05</td>\n",
       "      <td>25.000000</td>\n",
       "      <td>0.030000</td>\n",
       "      <td>...</td>\n",
       "      <td>0</td>\n",
       "      <td>0.0</td>\n",
       "      <td>0</td>\n",
       "      <td>0</td>\n",
       "      <td>0</td>\n",
       "      <td>0.0</td>\n",
       "      <td>0</td>\n",
       "      <td>0</td>\n",
       "      <td>0.0</td>\n",
       "      <td>2</td>\n",
       "    </tr>\n",
       "    <tr>\n",
       "      <th>337</th>\n",
       "      <td>33.0</td>\n",
       "      <td>10.8</td>\n",
       "      <td>7370.0</td>\n",
       "      <td>412000.0</td>\n",
       "      <td>7.000000</td>\n",
       "      <td>0.26</td>\n",
       "      <td>7.0</td>\n",
       "      <td>0.89</td>\n",
       "      <td>34.000000</td>\n",
       "      <td>0.040000</td>\n",
       "      <td>...</td>\n",
       "      <td>0</td>\n",
       "      <td>0.0</td>\n",
       "      <td>0</td>\n",
       "      <td>0</td>\n",
       "      <td>0</td>\n",
       "      <td>0.0</td>\n",
       "      <td>0</td>\n",
       "      <td>0</td>\n",
       "      <td>0.0</td>\n",
       "      <td>1</td>\n",
       "    </tr>\n",
       "  </tbody>\n",
       "</table>\n",
       "<p>338 rows × 158 columns</p>\n",
       "</div>"
      ],
      "text/plain": [
       "      Age  Hémoglobine  Globule blanc  Plaquette         CRP  Urée  Créat  \\\n",
       "0    60.0         11.5         8170.0   331000.0   12.000000  0.36   10.0   \n",
       "1    80.0         10.7         8680.0   197000.0   16.000000  0.34    9.0   \n",
       "2    77.0         10.4         3640.0   147000.0   26.860436  0.30   10.0   \n",
       "3    50.0         16.0         6890.0   157000.0    3.000000  0.52   10.0   \n",
       "4    72.0          9.5         6730.0   238000.0   10.000000  0.31    7.0   \n",
       "..    ...          ...            ...        ...         ...   ...    ...   \n",
       "333  32.0         12.1        15840.0   572000.0  154.000000  0.19    7.0   \n",
       "334  56.0          9.5         5060.0   456000.0   37.000000  0.23    5.0   \n",
       "335  52.0         11.7         7770.0   362000.0   20.000000  0.20    8.0   \n",
       "336  50.0         11.0         7480.0   330000.0   94.000000  0.11    5.0   \n",
       "337  33.0         10.8         7370.0   412000.0    7.000000  0.26    7.0   \n",
       "\n",
       "     Glycémie   Albumine  Préalbumine  ...  CHemorEvolu  CpltPérinéal  \\\n",
       "0        0.90  35.601695     0.259902  ...            0           0.0   \n",
       "1        2.31  35.300000     0.230000  ...            0           0.0   \n",
       "2        2.09  37.800000     0.259902  ...            0           0.0   \n",
       "3        1.02  35.601695     0.259902  ...            0           0.0   \n",
       "4        2.75  33.000000     0.040000  ...            0           0.0   \n",
       "..        ...        ...          ...  ...          ...           ...   \n",
       "333      0.95  38.000000     0.259902  ...            0           0.0   \n",
       "334      1.07  39.000000     0.259902  ...            0           0.0   \n",
       "335      1.10  44.000000     0.259902  ...            0           0.0   \n",
       "336      1.05  25.000000     0.030000  ...            0           0.0   \n",
       "337      0.89  34.000000     0.040000  ...            0           0.0   \n",
       "\n",
       "     CPérinéDiagnos  CPérinTraite  CPérinEvolut  CplUrinair  CUrinaiDiagn  \\\n",
       "0                 0             0             0         0.0             0   \n",
       "1                 0             0             0         0.0             0   \n",
       "2                 0             0             0         0.0             0   \n",
       "3                 0             0             0         0.0             0   \n",
       "4                 0             0             0         0.0             0   \n",
       "..              ...           ...           ...         ...           ...   \n",
       "333               0             0             0         0.0             0   \n",
       "334               0             0             0         0.0             0   \n",
       "335               0             0             0         0.0             0   \n",
       "336               0             0             0         0.0             0   \n",
       "337               0             0             0         0.0             0   \n",
       "\n",
       "     CUrinairEvolu  Cplct Générl  Décès  \n",
       "0                0           0.0      0  \n",
       "1                0           0.0      0  \n",
       "2                0           0.0      0  \n",
       "3                0           0.0      1  \n",
       "4                0           0.0      0  \n",
       "..             ...           ...    ...  \n",
       "333              0           0.0      0  \n",
       "334              0           0.0      1  \n",
       "335              0           0.0      1  \n",
       "336              0           0.0      2  \n",
       "337              0           0.0      1  \n",
       "\n",
       "[338 rows x 158 columns]"
      ]
     },
     "execution_count": 91,
     "metadata": {},
     "output_type": "execute_result"
    }
   ],
   "source": [
    "allData"
   ]
  },
  {
   "cell_type": "code",
   "execution_count": 92,
   "id": "ad44b8c8",
   "metadata": {},
   "outputs": [
    {
     "data": {
      "text/plain": [
       "0       0\n",
       "1       1\n",
       "2       2\n",
       "3       3\n",
       "4       3\n",
       "       ..\n",
       "333    62\n",
       "334     2\n",
       "335    39\n",
       "336    63\n",
       "337     6\n",
       "Name: TNM, Length: 338, dtype: int64"
      ]
     },
     "execution_count": 92,
     "metadata": {},
     "output_type": "execute_result"
    }
   ],
   "source": [
    "data['TNM']"
   ]
  },
  {
   "cell_type": "markdown",
   "id": "74e8a5a0",
   "metadata": {},
   "source": [
    "ACP & ACM"
   ]
  },
  {
   "cell_type": "code",
   "execution_count": 93,
   "id": "e4bcf106",
   "metadata": {},
   "outputs": [
    {
     "name": "stdout",
     "output_type": "stream",
     "text": [
      "<class 'pandas.core.frame.DataFrame'>\n",
      "RangeIndex: 338 entries, 0 to 337\n",
      "Columns: 158 entries, Age to Décès\n",
      "dtypes: float64(116), int32(1), int64(41)\n",
      "memory usage: 416.0 KB\n"
     ]
    }
   ],
   "source": [
    "allData= pd.concat([quant_data, data], axis=1)\n",
    "allData.info()"
   ]
  },
  {
   "cell_type": "markdown",
   "id": "9dd31e8e",
   "metadata": {},
   "source": [
    "### Data preprocessing"
   ]
  },
  {
   "cell_type": "code",
   "execution_count": 94,
   "id": "a2f54b46",
   "metadata": {},
   "outputs": [],
   "source": [
    "possible_features1=[]\n",
    "for col in allData.columns[allData.columns.get_loc('Age'):allData.columns.get_loc(\"DécèsPostOP\")]:\n",
    "    possible_features1.append(col)\n",
    "X_Train, X_Test, y_Train, y_Test=train_test_split(allData[possible_features1],\n",
    "                                              data['Morbidité'],test_size=0.2,random_state=1)"
   ]
  },
  {
   "cell_type": "code",
   "execution_count": 95,
   "id": "17ce66b6",
   "metadata": {},
   "outputs": [
    {
     "data": {
      "text/html": [
       "<div>\n",
       "<style scoped>\n",
       "    .dataframe tbody tr th:only-of-type {\n",
       "        vertical-align: middle;\n",
       "    }\n",
       "\n",
       "    .dataframe tbody tr th {\n",
       "        vertical-align: top;\n",
       "    }\n",
       "\n",
       "    .dataframe thead th {\n",
       "        text-align: right;\n",
       "    }\n",
       "</style>\n",
       "<table border=\"1\" class=\"dataframe\">\n",
       "  <thead>\n",
       "    <tr style=\"text-align: right;\">\n",
       "      <th></th>\n",
       "      <th>Age</th>\n",
       "      <th>Hémoglobine</th>\n",
       "      <th>Globule blanc</th>\n",
       "      <th>Plaquette</th>\n",
       "      <th>CRP</th>\n",
       "      <th>Urée</th>\n",
       "      <th>Créat</th>\n",
       "      <th>Glycémie</th>\n",
       "      <th>Albumine</th>\n",
       "      <th>Préalbumine</th>\n",
       "      <th>...</th>\n",
       "      <th>HistoEmbol</th>\n",
       "      <th>HistoEngainPN</th>\n",
       "      <th>HistoIntéMes</th>\n",
       "      <th>HistoPerfT/R</th>\n",
       "      <th>TNM</th>\n",
       "      <th>Stade</th>\n",
       "      <th>TraitemAdj</th>\n",
       "      <th>TraitAdjChim</th>\n",
       "      <th>signif Chimio</th>\n",
       "      <th>TraitAdjRChm</th>\n",
       "    </tr>\n",
       "  </thead>\n",
       "  <tbody>\n",
       "    <tr>\n",
       "      <th>310</th>\n",
       "      <td>54.0</td>\n",
       "      <td>12.0</td>\n",
       "      <td>11220.0</td>\n",
       "      <td>443000.0</td>\n",
       "      <td>94.0</td>\n",
       "      <td>0.19</td>\n",
       "      <td>8.0</td>\n",
       "      <td>1.790000</td>\n",
       "      <td>34.000000</td>\n",
       "      <td>0.030000</td>\n",
       "      <td>...</td>\n",
       "      <td>0.0</td>\n",
       "      <td>0.0</td>\n",
       "      <td>0.0</td>\n",
       "      <td>0.0</td>\n",
       "      <td>2</td>\n",
       "      <td>2</td>\n",
       "      <td>0.0</td>\n",
       "      <td>0.0</td>\n",
       "      <td>7</td>\n",
       "      <td>0.0</td>\n",
       "    </tr>\n",
       "    <tr>\n",
       "      <th>85</th>\n",
       "      <td>60.0</td>\n",
       "      <td>14.9</td>\n",
       "      <td>5140.0</td>\n",
       "      <td>187000.0</td>\n",
       "      <td>140.0</td>\n",
       "      <td>0.25</td>\n",
       "      <td>8.0</td>\n",
       "      <td>0.860000</td>\n",
       "      <td>35.601695</td>\n",
       "      <td>0.259902</td>\n",
       "      <td>...</td>\n",
       "      <td>1.0</td>\n",
       "      <td>0.0</td>\n",
       "      <td>0.0</td>\n",
       "      <td>2.0</td>\n",
       "      <td>4</td>\n",
       "      <td>3</td>\n",
       "      <td>1.0</td>\n",
       "      <td>1.0</td>\n",
       "      <td>0</td>\n",
       "      <td>0.0</td>\n",
       "    </tr>\n",
       "    <tr>\n",
       "      <th>73</th>\n",
       "      <td>67.0</td>\n",
       "      <td>8.2</td>\n",
       "      <td>7420.0</td>\n",
       "      <td>187000.0</td>\n",
       "      <td>5.0</td>\n",
       "      <td>0.46</td>\n",
       "      <td>7.0</td>\n",
       "      <td>1.077961</td>\n",
       "      <td>34.000000</td>\n",
       "      <td>0.010000</td>\n",
       "      <td>...</td>\n",
       "      <td>2.0</td>\n",
       "      <td>2.0</td>\n",
       "      <td>0.0</td>\n",
       "      <td>2.0</td>\n",
       "      <td>2</td>\n",
       "      <td>2</td>\n",
       "      <td>0.0</td>\n",
       "      <td>0.0</td>\n",
       "      <td>0</td>\n",
       "      <td>0.0</td>\n",
       "    </tr>\n",
       "    <tr>\n",
       "      <th>286</th>\n",
       "      <td>47.0</td>\n",
       "      <td>11.7</td>\n",
       "      <td>6490.0</td>\n",
       "      <td>187000.0</td>\n",
       "      <td>0.0</td>\n",
       "      <td>0.18</td>\n",
       "      <td>7.0</td>\n",
       "      <td>1.110000</td>\n",
       "      <td>34.000000</td>\n",
       "      <td>0.259902</td>\n",
       "      <td>...</td>\n",
       "      <td>2.0</td>\n",
       "      <td>2.0</td>\n",
       "      <td>1.0</td>\n",
       "      <td>2.0</td>\n",
       "      <td>30</td>\n",
       "      <td>1</td>\n",
       "      <td>0.0</td>\n",
       "      <td>0.0</td>\n",
       "      <td>0</td>\n",
       "      <td>0.0</td>\n",
       "    </tr>\n",
       "    <tr>\n",
       "      <th>302</th>\n",
       "      <td>63.0</td>\n",
       "      <td>10.1</td>\n",
       "      <td>5320.0</td>\n",
       "      <td>281000.0</td>\n",
       "      <td>8.0</td>\n",
       "      <td>0.18</td>\n",
       "      <td>7.0</td>\n",
       "      <td>1.050000</td>\n",
       "      <td>34.000000</td>\n",
       "      <td>0.259902</td>\n",
       "      <td>...</td>\n",
       "      <td>2.0</td>\n",
       "      <td>2.0</td>\n",
       "      <td>0.0</td>\n",
       "      <td>2.0</td>\n",
       "      <td>60</td>\n",
       "      <td>3</td>\n",
       "      <td>1.0</td>\n",
       "      <td>1.0</td>\n",
       "      <td>0</td>\n",
       "      <td>0.0</td>\n",
       "    </tr>\n",
       "    <tr>\n",
       "      <th>...</th>\n",
       "      <td>...</td>\n",
       "      <td>...</td>\n",
       "      <td>...</td>\n",
       "      <td>...</td>\n",
       "      <td>...</td>\n",
       "      <td>...</td>\n",
       "      <td>...</td>\n",
       "      <td>...</td>\n",
       "      <td>...</td>\n",
       "      <td>...</td>\n",
       "      <td>...</td>\n",
       "      <td>...</td>\n",
       "      <td>...</td>\n",
       "      <td>...</td>\n",
       "      <td>...</td>\n",
       "      <td>...</td>\n",
       "      <td>...</td>\n",
       "      <td>...</td>\n",
       "      <td>...</td>\n",
       "      <td>...</td>\n",
       "      <td>...</td>\n",
       "    </tr>\n",
       "    <tr>\n",
       "      <th>203</th>\n",
       "      <td>52.0</td>\n",
       "      <td>11.6</td>\n",
       "      <td>6550.0</td>\n",
       "      <td>193000.0</td>\n",
       "      <td>1.0</td>\n",
       "      <td>0.19</td>\n",
       "      <td>7.0</td>\n",
       "      <td>0.960000</td>\n",
       "      <td>33.000000</td>\n",
       "      <td>0.030000</td>\n",
       "      <td>...</td>\n",
       "      <td>2.0</td>\n",
       "      <td>2.0</td>\n",
       "      <td>1.0</td>\n",
       "      <td>2.0</td>\n",
       "      <td>30</td>\n",
       "      <td>1</td>\n",
       "      <td>0.0</td>\n",
       "      <td>0.0</td>\n",
       "      <td>0</td>\n",
       "      <td>0.0</td>\n",
       "    </tr>\n",
       "    <tr>\n",
       "      <th>255</th>\n",
       "      <td>55.0</td>\n",
       "      <td>10.8</td>\n",
       "      <td>4140.0</td>\n",
       "      <td>225000.0</td>\n",
       "      <td>4.0</td>\n",
       "      <td>0.44</td>\n",
       "      <td>8.0</td>\n",
       "      <td>1.380000</td>\n",
       "      <td>38.000000</td>\n",
       "      <td>0.259902</td>\n",
       "      <td>...</td>\n",
       "      <td>2.0</td>\n",
       "      <td>2.0</td>\n",
       "      <td>1.0</td>\n",
       "      <td>2.0</td>\n",
       "      <td>6</td>\n",
       "      <td>0</td>\n",
       "      <td>0.0</td>\n",
       "      <td>0.0</td>\n",
       "      <td>0</td>\n",
       "      <td>0.0</td>\n",
       "    </tr>\n",
       "    <tr>\n",
       "      <th>72</th>\n",
       "      <td>38.0</td>\n",
       "      <td>13.6</td>\n",
       "      <td>10007.0</td>\n",
       "      <td>183000.0</td>\n",
       "      <td>36.0</td>\n",
       "      <td>0.17</td>\n",
       "      <td>7.0</td>\n",
       "      <td>0.860000</td>\n",
       "      <td>35.601695</td>\n",
       "      <td>0.259902</td>\n",
       "      <td>...</td>\n",
       "      <td>2.0</td>\n",
       "      <td>1.0</td>\n",
       "      <td>0.0</td>\n",
       "      <td>2.0</td>\n",
       "      <td>15</td>\n",
       "      <td>3</td>\n",
       "      <td>1.0</td>\n",
       "      <td>1.0</td>\n",
       "      <td>0</td>\n",
       "      <td>0.0</td>\n",
       "    </tr>\n",
       "    <tr>\n",
       "      <th>235</th>\n",
       "      <td>41.0</td>\n",
       "      <td>10.5</td>\n",
       "      <td>5040.0</td>\n",
       "      <td>244000.0</td>\n",
       "      <td>10.0</td>\n",
       "      <td>0.28</td>\n",
       "      <td>6.0</td>\n",
       "      <td>0.610000</td>\n",
       "      <td>42.000000</td>\n",
       "      <td>0.050000</td>\n",
       "      <td>...</td>\n",
       "      <td>0.0</td>\n",
       "      <td>0.0</td>\n",
       "      <td>0.0</td>\n",
       "      <td>0.0</td>\n",
       "      <td>2</td>\n",
       "      <td>2</td>\n",
       "      <td>1.0</td>\n",
       "      <td>1.0</td>\n",
       "      <td>1</td>\n",
       "      <td>0.0</td>\n",
       "    </tr>\n",
       "    <tr>\n",
       "      <th>37</th>\n",
       "      <td>45.0</td>\n",
       "      <td>8.7</td>\n",
       "      <td>9520.0</td>\n",
       "      <td>363000.0</td>\n",
       "      <td>51.0</td>\n",
       "      <td>0.59</td>\n",
       "      <td>6.0</td>\n",
       "      <td>1.077961</td>\n",
       "      <td>33.000000</td>\n",
       "      <td>0.080000</td>\n",
       "      <td>...</td>\n",
       "      <td>2.0</td>\n",
       "      <td>2.0</td>\n",
       "      <td>0.0</td>\n",
       "      <td>2.0</td>\n",
       "      <td>2</td>\n",
       "      <td>2</td>\n",
       "      <td>1.0</td>\n",
       "      <td>1.0</td>\n",
       "      <td>0</td>\n",
       "      <td>0.0</td>\n",
       "    </tr>\n",
       "  </tbody>\n",
       "</table>\n",
       "<p>270 rows × 107 columns</p>\n",
       "</div>"
      ],
      "text/plain": [
       "      Age  Hémoglobine  Globule blanc  Plaquette    CRP  Urée  Créat  \\\n",
       "310  54.0         12.0        11220.0   443000.0   94.0  0.19    8.0   \n",
       "85   60.0         14.9         5140.0   187000.0  140.0  0.25    8.0   \n",
       "73   67.0          8.2         7420.0   187000.0    5.0  0.46    7.0   \n",
       "286  47.0         11.7         6490.0   187000.0    0.0  0.18    7.0   \n",
       "302  63.0         10.1         5320.0   281000.0    8.0  0.18    7.0   \n",
       "..    ...          ...            ...        ...    ...   ...    ...   \n",
       "203  52.0         11.6         6550.0   193000.0    1.0  0.19    7.0   \n",
       "255  55.0         10.8         4140.0   225000.0    4.0  0.44    8.0   \n",
       "72   38.0         13.6        10007.0   183000.0   36.0  0.17    7.0   \n",
       "235  41.0         10.5         5040.0   244000.0   10.0  0.28    6.0   \n",
       "37   45.0          8.7         9520.0   363000.0   51.0  0.59    6.0   \n",
       "\n",
       "     Glycémie   Albumine  Préalbumine  ...  HistoEmbol  HistoEngainPN  \\\n",
       "310  1.790000  34.000000     0.030000  ...         0.0            0.0   \n",
       "85   0.860000  35.601695     0.259902  ...         1.0            0.0   \n",
       "73   1.077961  34.000000     0.010000  ...         2.0            2.0   \n",
       "286  1.110000  34.000000     0.259902  ...         2.0            2.0   \n",
       "302  1.050000  34.000000     0.259902  ...         2.0            2.0   \n",
       "..        ...        ...          ...  ...         ...            ...   \n",
       "203  0.960000  33.000000     0.030000  ...         2.0            2.0   \n",
       "255  1.380000  38.000000     0.259902  ...         2.0            2.0   \n",
       "72   0.860000  35.601695     0.259902  ...         2.0            1.0   \n",
       "235  0.610000  42.000000     0.050000  ...         0.0            0.0   \n",
       "37   1.077961  33.000000     0.080000  ...         2.0            2.0   \n",
       "\n",
       "     HistoIntéMes  HistoPerfT/R  TNM  Stade  TraitemAdj  TraitAdjChim  \\\n",
       "310           0.0           0.0    2      2         0.0           0.0   \n",
       "85            0.0           2.0    4      3         1.0           1.0   \n",
       "73            0.0           2.0    2      2         0.0           0.0   \n",
       "286           1.0           2.0   30      1         0.0           0.0   \n",
       "302           0.0           2.0   60      3         1.0           1.0   \n",
       "..            ...           ...  ...    ...         ...           ...   \n",
       "203           1.0           2.0   30      1         0.0           0.0   \n",
       "255           1.0           2.0    6      0         0.0           0.0   \n",
       "72            0.0           2.0   15      3         1.0           1.0   \n",
       "235           0.0           0.0    2      2         1.0           1.0   \n",
       "37            0.0           2.0    2      2         1.0           1.0   \n",
       "\n",
       "     signif Chimio  TraitAdjRChm  \n",
       "310              7           0.0  \n",
       "85               0           0.0  \n",
       "73               0           0.0  \n",
       "286              0           0.0  \n",
       "302              0           0.0  \n",
       "..             ...           ...  \n",
       "203              0           0.0  \n",
       "255              0           0.0  \n",
       "72               0           0.0  \n",
       "235              1           0.0  \n",
       "37               0           0.0  \n",
       "\n",
       "[270 rows x 107 columns]"
      ]
     },
     "execution_count": 95,
     "metadata": {},
     "output_type": "execute_result"
    }
   ],
   "source": [
    "X_Train"
   ]
  },
  {
   "cell_type": "code",
   "execution_count": 96,
   "id": "a0155fb6",
   "metadata": {},
   "outputs": [],
   "source": [
    "sm = SMOTE(random_state = 666)\n",
    "\n",
    "# New training dataset with smote applied to it\n",
    "X_train_s, y_train_s = sm.fit_resample(X_Train, y_Train.ravel())"
   ]
  },
  {
   "cell_type": "code",
   "execution_count": 97,
   "id": "6999d2c8",
   "metadata": {},
   "outputs": [
    {
     "data": {
      "text/plain": [
       "Text(1, 99.0, '199.0')"
      ]
     },
     "execution_count": 97,
     "metadata": {},
     "output_type": "execute_result"
    },
    {
     "data": {
      "image/png": "[encoded data removed]",
      "text/plain": [
       "<Figure size 432x288 with 2 Axes>"
      ]
     },
     "metadata": {},
     "output_type": "display_data"
    }
   ],
   "source": [
    "plt.subplot(121)\n",
    "plt.pie(x = [len(y_train_s)- sum(y_train_s), sum(y_train_s)],\n",
    "        labels = [\"oui\", \"non\"], autopct='%1.2f%%', explode = (0, 0.01))\n",
    "\n",
    "plt.subplot(122)\n",
    "sns.countplot(x = y_train_s)\n",
    "fraudnt_s, fraud_s = len(y_train_s)- sum(y_train_s), sum(y_train_s)\n",
    "plt.text(0, fraudnt_s//2, fraudnt_s, fontsize = 20,  horizontalalignment='center')\n",
    "plt.text(1, fraud_s//2, fraud_s, fontsize = 20, horizontalalignment='center')"
   ]
  },
  {
   "cell_type": "code",
   "execution_count": 98,
   "id": "dda96d8f",
   "metadata": {},
   "outputs": [
    {
     "data": {
      "text/html": [
       "<div>\n",
       "<style scoped>\n",
       "    .dataframe tbody tr th:only-of-type {\n",
       "        vertical-align: middle;\n",
       "    }\n",
       "\n",
       "    .dataframe tbody tr th {\n",
       "        vertical-align: top;\n",
       "    }\n",
       "\n",
       "    .dataframe thead th {\n",
       "        text-align: right;\n",
       "    }\n",
       "</style>\n",
       "<table border=\"1\" class=\"dataframe\">\n",
       "  <thead>\n",
       "    <tr style=\"text-align: right;\">\n",
       "      <th></th>\n",
       "      <th>CV Mean</th>\n",
       "      <th>Std</th>\n",
       "    </tr>\n",
       "  </thead>\n",
       "  <tbody>\n",
       "    <tr>\n",
       "      <th>Linear Svm</th>\n",
       "      <td>0.535064</td>\n",
       "      <td>0.091501</td>\n",
       "    </tr>\n",
       "    <tr>\n",
       "      <th>Radial Svm</th>\n",
       "      <td>0.255000</td>\n",
       "      <td>0.188348</td>\n",
       "    </tr>\n",
       "    <tr>\n",
       "      <th>Logistic Regression</th>\n",
       "      <td>0.530192</td>\n",
       "      <td>0.107111</td>\n",
       "    </tr>\n",
       "    <tr>\n",
       "      <th>KNN</th>\n",
       "      <td>0.600449</td>\n",
       "      <td>0.069522</td>\n",
       "    </tr>\n",
       "    <tr>\n",
       "      <th>Decision Tree</th>\n",
       "      <td>0.711859</td>\n",
       "      <td>0.130769</td>\n",
       "    </tr>\n",
       "    <tr>\n",
       "      <th>Naive Bayes</th>\n",
       "      <td>0.594744</td>\n",
       "      <td>0.231664</td>\n",
       "    </tr>\n",
       "    <tr>\n",
       "      <th>Random Forest</th>\n",
       "      <td>0.842436</td>\n",
       "      <td>0.115062</td>\n",
       "    </tr>\n",
       "  </tbody>\n",
       "</table>\n",
       "</div>"
      ],
      "text/plain": [
       "                      CV Mean       Std\n",
       "Linear Svm           0.535064  0.091501\n",
       "Radial Svm           0.255000  0.188348\n",
       "Logistic Regression  0.530192  0.107111\n",
       "KNN                  0.600449  0.069522\n",
       "Decision Tree        0.711859  0.130769\n",
       "Naive Bayes          0.594744  0.231664\n",
       "Random Forest        0.842436  0.115062"
      ]
     },
     "execution_count": 98,
     "metadata": {},
     "output_type": "execute_result"
    }
   ],
   "source": [
    "from sklearn.model_selection import KFold #for K-fold cross validation\n",
    "from sklearn.model_selection import cross_val_score #score evaluation\n",
    "from sklearn.model_selection import cross_val_predict #prediction\n",
    "kfold = KFold(n_splits=10) # k=10, split the data into 10 equal parts\n",
    "xyz=[]\n",
    "accuracy=[]\n",
    "std=[]\n",
    "classifiers=['Linear Svm','Radial Svm','Logistic Regression','KNN','Decision Tree','Naive Bayes','Random Forest']\n",
    "models=[svm.SVC(kernel='linear'),svm.SVC(kernel='rbf'),LogisticRegression(),KNeighborsClassifier(n_neighbors=9),DecisionTreeClassifier(),GaussianNB(),RandomForestClassifier(n_estimators=100)]\n",
    "for i in models:\n",
    "    model = i\n",
    "    cv_result = cross_val_score(model,X_train_s,y_train_s, cv = kfold,scoring = \"accuracy\")\n",
    "    cv_result=cv_result\n",
    "    xyz.append(cv_result.mean())\n",
    "    std.append(cv_result.std())\n",
    "new_models_dataframe2=pd.DataFrame({'CV Mean':xyz,'Std':std},index=classifiers)       \n",
    "new_models_dataframe2\n"
   ]
  },
  {
   "cell_type": "markdown",
   "id": "3bce1c09",
   "metadata": {},
   "source": [
    "### Dimensionality reduction : Applying PCA&MCA"
   ]
  },
  {
   "cell_type": "code",
   "execution_count": 99,
   "id": "37995347",
   "metadata": {},
   "outputs": [
    {
     "name": "stdout",
     "output_type": "stream",
     "text": [
      "(68, 107)\n",
      "(68, 107)\n"
     ]
    }
   ],
   "source": [
    "# separate numerical and categorical features into different datasets\n",
    "X_train_s_num = X_train_s.copy()\n",
    "X_train_s_cat = X_train_s.copy()\n",
    "X_Test_num = X_Test.copy()\n",
    "X_Test_cat = X_Test.copy()\n",
    "print(X_Test_num.shape)\n",
    "print(X_Test_cat.shape)\n",
    "for num in X_train_s_num.columns:\n",
    "    if num in data.columns.tolist():\n",
    "        del(X_train_s_num[num])\n",
    "for cat in X_train_s_cat.columns:\n",
    "    if cat in quant_data.columns.tolist():\n",
    "        del(X_train_s_cat[cat])\n",
    "        \n",
    "for i in X_Test_num.columns:\n",
    "    if i in data.columns.tolist():\n",
    "        del(X_Test_num[i])\n",
    "for j in X_Test_cat.columns:\n",
    "    if j in quant_data.columns.tolist():\n",
    "        del(X_Test_cat[j])\n"
   ]
  },
  {
   "cell_type": "code",
   "execution_count": 100,
   "id": "fe9baa57",
   "metadata": {},
   "outputs": [],
   "source": [
    "# scale numerical data before applying PCA       \n",
    "scaler= StandardScaler() \n",
    "scaler.fit(X_train_s_num)      # fit scaler on train set\n",
    "X_train_s_num = pd.DataFrame(scaler.transform(X_train_s_num)) # transform train set\n",
    "X_Test_num = pd.DataFrame(scaler.transform(X_Test_num)) # transform validation set"
   ]
  },
  {
   "cell_type": "code",
   "execution_count": 101,
   "id": "7ac99f6c",
   "metadata": {
    "scrolled": true
   },
   "outputs": [
    {
     "data": {
      "image/png": "[encoded data removed]",
      "text/plain": [
       "<Figure size 864x432 with 1 Axes>"
      ]
     },
     "metadata": {},
     "output_type": "display_data"
    }
   ],
   "source": [
    "#choose best number of components for pca\n",
    "pca = PCA().fit(X_train_s_num)\n",
    "\n",
    "\n",
    "import matplotlib.pyplot as plt\n",
    "plt.rcParams[\"figure.figsize\"] = (12,6)\n",
    "\n",
    "fig, ax = plt.subplots()\n",
    "xi = np.arange(1, 16, step=1)\n",
    "y = np.cumsum(pca.explained_variance_ratio_)\n",
    "\n",
    "plt.ylim(0.0,1.1)\n",
    "plt.plot(xi, y, marker='o', linestyle='--', color='b')\n",
    "\n",
    "plt.xlabel('Number of Components')\n",
    "plt.xticks(np.arange(0, 15, step=1)) #change from 0-based array index to 1-based human-readable label\n",
    "plt.ylabel('Cumulative variance (%)')\n",
    "plt.title('The number of components needed to explain variance')\n",
    "\n",
    "plt.axhline(y=0.95, color='r', linestyle='-')\n",
    "plt.text(0.5, 0.85, '95% cut-off threshold', color = 'red', fontsize=16)\n",
    "\n",
    "ax.grid(axis='x')\n",
    "plt.show()"
   ]
  },
  {
   "cell_type": "markdown",
   "id": "33b92c85",
   "metadata": {},
   "source": [
    "On the plotted chart, we see what number of principal components we need. In this case, to get 95% of variance explained we need 13 principal components"
   ]
  },
  {
   "cell_type": "code",
   "execution_count": 102,
   "id": "a7b09b4d",
   "metadata": {},
   "outputs": [],
   "source": [
    "#create hyperparameter set\n",
    "           # parameter in ridge regression\n",
    "n_pca_components =[13]                   # for n_components parameter in KernelPCA\n",
    "             # wrapper for rbf and sigmoid KernelPCA model\n",
    "   # parameter in KernelPCA\n",
    "n_mca_components = [i for i in range(1,92)]           # for n_components parameter in MCA\n",
    "n_iters = np.logspace(1,2,3, dtype=int) # for n_iter parameter in MCA\n",
    "\n",
    "hyperparam_set = list(itertools.product( n_pca_components, n_mca_components, n_iters))"
   ]
  },
  {
   "cell_type": "code",
   "execution_count": 103,
   "id": "2e30bb25",
   "metadata": {},
   "outputs": [],
   "source": [
    "#X_train_s_cat.to_excel(r'C:\\Users\\user\\Documents\\X_train_s_cat.xlsx', index = False)"
   ]
  },
  {
   "cell_type": "markdown",
   "id": "065abe69",
   "metadata": {},
   "source": [
    "#### Building a wrapper to select the best model and best hyperparameter set"
   ]
  },
  {
   "cell_type": "markdown",
   "id": "cf4ae807",
   "metadata": {},
   "source": [
    "#### Logistic regression"
   ]
  },
  {
   "cell_type": "code",
   "execution_count": 104,
   "id": "f78f2254",
   "metadata": {},
   "outputs": [
    {
     "name": "stdout",
     "output_type": "stream",
     "text": [
      "best hyperparameter set for logistic regression: (13, 25, 10)\n",
      "MSE on validation set: 0.27941176470588236\n"
     ]
    }
   ],
   "source": [
    "valid_score =[]     # initialize a list to store validation score\n",
    "\n",
    "for params in hyperparam_set:  \n",
    "    # train PCA on numerical data\n",
    "    pca = PCA(n_components = params[0]) \n",
    "    X_train_pca = pd.DataFrame(pca.fit_transform(X_train_s_num))\n",
    "    X_Test_pca = pd.DataFrame(pca.transform(X_Test_num))\n",
    "    \n",
    "    # train MCA on categorical data\n",
    "    mca = prince.MCA(n_components=params[1], n_iter=params[2], copy=True, check_input=True, benzecri=False, \n",
    "                 random_state= 1, engine='auto')\n",
    "    mca=mca.fit(X_train_s_cat)        # fit MCA on X_train_cat data\n",
    "    \n",
    "    X_train_mca = mca.transform(X_train_s_cat)     # tranform X_train_cat data on MCA\n",
    "    X_Test_mca = mca.transform(X_Test_cat)     # tranform X_Test_cat data on MCA\n",
    "    \n",
    "    # StandardScaler reset the row indexes. \n",
    "    # Therefore we need to reset the index for MCA components too. As we need to combine these two datasets (PCA+MCA)\n",
    "    X_train_mca = X_train_mca.reset_index(drop=True)\n",
    "    X_Test_mca = X_Test_mca.reset_index(drop=True)\n",
    "    \n",
    "    # combine PCA and MCA to form complete training dataset\n",
    "    X_train_s = pd.concat([X_train_pca, X_train_mca], axis=1, ignore_index=True)\n",
    "    X_Test = pd.concat([X_Test_pca, X_Test_mca], axis=1, ignore_index=True)\n",
    "    \n",
    "    # fit logistic regression on dimensally reduced components (i.e. PCA+MCA)\n",
    "    lr= LogisticRegression()\n",
    "    lr.fit(X_train_s, y_train_s)\n",
    "    valid_score.append(metrics.mean_squared_error(lr.predict(X_Test), y_Test))\n",
    "\n",
    "print('best hyperparameter set for logistic regression:', hyperparam_set[np.argmin(valid_score)])\n",
    "print('MSE on validation set:', min(valid_score))\n",
    "\n",
    "   \n",
    "    "
   ]
  },
  {
   "cell_type": "code",
   "execution_count": 105,
   "id": "c224a3aa",
   "metadata": {},
   "outputs": [],
   "source": [
    "\n",
    "\n",
    "\n",
    "    # train PCA on numerical data\n",
    "    pca = PCA(n_components = 13) \n",
    "    X_train_pca = pd.DataFrame(pca.fit_transform(X_train_s_num))\n",
    "    X_Test_pca = pd.DataFrame(pca.transform(X_Test_num))\n",
    "    \n",
    "    # train MCA on categorical data\n",
    "    mca = prince.MCA(n_components=25, n_iter=10, copy=True, check_input=True, benzecri=False, \n",
    "                 random_state= 1, engine='auto')\n",
    "    mca=mca.fit(X_train_s_cat)        # fit MCA on X_train_cat data\n",
    "    \n",
    "    X_train_mca = mca.transform(X_train_s_cat)     # tranform X_train_cat data on MCA\n",
    "    X_Test_mca = mca.transform(X_Test_cat)     # tranform X_Test_cat data on MCA\n",
    "    \n",
    "    # StandardScaler reset the row indexes. \n",
    "    # Therefore we need to reset the index for MCA components too. As we need to combine these two datasets (PCA+MCA)\n",
    "    X_train_mca = X_train_mca.reset_index(drop=True)\n",
    "    X_Test_mca = X_Test_mca.reset_index(drop=True)\n",
    "    \n",
    "    # combine PCA and MCA to form complete training dataset\n",
    "    X_train_s = pd.concat([X_train_pca, X_train_mca], axis=1, ignore_index=True)\n",
    "    X_Test = pd.concat([X_Test_pca, X_Test_mca], axis=1, ignore_index=True)\n",
    "    \n",
    "\n",
    "\n",
    "X_train_s_lr= X_train_s.copy()\n",
    "X_Test_lr=X_Test.copy()\n",
    "   "
   ]
  },
  {
   "cell_type": "code",
   "execution_count": 106,
   "id": "c0bac9ea",
   "metadata": {},
   "outputs": [
    {
     "data": {
      "text/plain": [
       "(398, 38)"
      ]
     },
     "execution_count": 106,
     "metadata": {},
     "output_type": "execute_result"
    }
   ],
   "source": [
    "X_train_s_lr.shape"
   ]
  },
  {
   "cell_type": "markdown",
   "id": "e4ad239d",
   "metadata": {},
   "source": [
    "#### Random forest"
   ]
  },
  {
   "cell_type": "code",
   "execution_count": 107,
   "id": "1c6c9e3e",
   "metadata": {},
   "outputs": [
    {
     "name": "stdout",
     "output_type": "stream",
     "text": [
      "best hyperparameter set for random forest: (13, 52, 31)\n",
      "MSE on validation set: 0.19117647058823528\n"
     ]
    }
   ],
   "source": [
    "valid_score1 =[]     # initialize a list to store validation score\n",
    "for params in hyperparam_set:  \n",
    "    # train PCA on numerical data\n",
    "    pca = PCA(n_components = params[0]) \n",
    "    X_train_pca = pd.DataFrame(pca.fit_transform(X_train_s_num))\n",
    "    X_Test_pca = pd.DataFrame(pca.transform(X_Test_num))\n",
    "    \n",
    "    # train MCA on categorical data\n",
    "    mca = prince.MCA(n_components=params[1], n_iter=params[2], copy=True, check_input=True, benzecri=False, \n",
    "                 random_state= 1, engine='auto')\n",
    "    mca=mca.fit(X_train_s_cat)        # fit MCA on X_train_cat data\n",
    "    \n",
    "    X_train_mca = mca.transform(X_train_s_cat)     # tranform X_train_cat data on MCA\n",
    "    X_Test_mca = mca.transform(X_Test_cat)     # tranform X_Test_cat data on MCA\n",
    "    \n",
    "    # StandardScaler reset the row indexes. \n",
    "    # Therefore we need to reset the index for MCA components too. As we need to combine these two datasets (PCA+MCA)\n",
    "    X_train_mca = X_train_mca.reset_index(drop=True)\n",
    "    X_Test_mca = X_Test_mca.reset_index(drop=True)\n",
    "    \n",
    "    # combine PCA and MCA to form complete training dataset\n",
    "    X_train_s = pd.concat([X_train_pca, X_train_mca], axis=1, ignore_index=True)\n",
    "    X_Test = pd.concat([X_Test_pca, X_Test_mca], axis=1, ignore_index=True)\n",
    "    \n",
    "    # fit random forest on dimensally reduced components (i.e. PCA+MCA)\n",
    "    clf=RandomForestClassifier()\n",
    "    clf.fit(X_train_s, y_train_s)\n",
    "    valid_score1.append(metrics.mean_squared_error(clf.predict(X_Test), y_Test))\n",
    "\n",
    "print('best hyperparameter set for random forest:', hyperparam_set[np.argmin(valid_score1)])\n",
    "print('MSE on validation set:', min(valid_score1))\n",
    "\n",
    "\n",
    "   "
   ]
  },
  {
   "cell_type": "code",
   "execution_count": 108,
   "id": "61492765",
   "metadata": {},
   "outputs": [],
   "source": [
    "\n",
    "    # train PCA on numerical data\n",
    "    pca = PCA(n_components = 13) \n",
    "    X_train_pca = pd.DataFrame(pca.fit_transform(X_train_s_num))\n",
    "    X_Test_pca = pd.DataFrame(pca.transform(X_Test_num))\n",
    "    \n",
    "    # train MCA on categorical data\n",
    "    mca = prince.MCA(n_components=60, n_iter=31, copy=True, check_input=True, benzecri=False, \n",
    "                 random_state= 1, engine='auto')\n",
    "    mca=mca.fit(X_train_s_cat)        # fit MCA on X_train_cat data\n",
    "    \n",
    "    X_train_mca = mca.transform(X_train_s_cat)     # tranform X_train_cat data on MCA\n",
    "    X_Test_mca = mca.transform(X_Test_cat)     # tranform X_Test_cat data on MCA\n",
    "    \n",
    "    # StandardScaler reset the row indexes. \n",
    "    # Therefore we need to reset the index for MCA components too. As we need to combine these two datasets (PCA+MCA)\n",
    "    X_train_mca = X_train_mca.reset_index(drop=True)\n",
    "    X_Test_mca = X_Test_mca.reset_index(drop=True)\n",
    "    \n",
    "    # combine PCA and MCA to form complete training dataset\n",
    "    X_train_s = pd.concat([X_train_pca, X_train_mca], axis=1, ignore_index=True)\n",
    "    X_Test = pd.concat([X_Test_pca, X_Test_mca], axis=1, ignore_index=True)\n",
    "   \n",
    "\n",
    "    X_train_s_rf= X_train_s.copy()\n",
    "    X_Test_rf=X_Test.copy()"
   ]
  },
  {
   "cell_type": "code",
   "execution_count": 109,
   "id": "9d5dce00",
   "metadata": {},
   "outputs": [
    {
     "data": {
      "text/plain": [
       "(398, 73)"
      ]
     },
     "execution_count": 109,
     "metadata": {},
     "output_type": "execute_result"
    }
   ],
   "source": [
    "X_train_s_rf.shape"
   ]
  },
  {
   "cell_type": "markdown",
   "id": "9ebb6876",
   "metadata": {},
   "source": [
    "#### Desicion Tree"
   ]
  },
  {
   "cell_type": "code",
   "execution_count": 110,
   "id": "ab4261ab",
   "metadata": {},
   "outputs": [
    {
     "name": "stdout",
     "output_type": "stream",
     "text": [
      "best hyperparameter set for decision tree : (13, 32, 31)\n",
      "MSE on validation set: 0.29411764705882354\n"
     ]
    }
   ],
   "source": [
    "valid_score2 =[]     # initialize a list to store validation score\n",
    "for params in hyperparam_set:  \n",
    "    # train PCA on numerical data\n",
    "    pca = PCA(n_components = params[0]) \n",
    "    X_train_pca = pd.DataFrame(pca.fit_transform(X_train_s_num))\n",
    "    X_Test_pca = pd.DataFrame(pca.transform(X_Test_num))\n",
    "    \n",
    "    # train MCA on categorical data\n",
    "    mca = prince.MCA(n_components=params[1], n_iter=params[2], copy=True, check_input=True, benzecri=False, \n",
    "                 random_state= 1, engine='auto')\n",
    "    mca=mca.fit(X_train_s_cat)        # fit MCA on X_train_cat data\n",
    "    \n",
    "    X_train_mca = mca.transform(X_train_s_cat)     # tranform X_train_cat data on MCA\n",
    "    X_Test_mca = mca.transform(X_Test_cat)     # tranform X_Test_cat data on MCA\n",
    "    \n",
    "    # StandardScaler reset the row indexes. \n",
    "    # Therefore we need to reset the index for MCA components too. As we need to combine these two datasets (PCA+MCA)\n",
    "    X_train_mca = X_train_mca.reset_index(drop=True)\n",
    "    X_Test_mca = X_Test_mca.reset_index(drop=True)\n",
    "    \n",
    "    # combine PCA and MCA to form complete training dataset\n",
    "    X_train_s = pd.concat([X_train_pca, X_train_mca], axis=1, ignore_index=True)\n",
    "    X_Test = pd.concat([X_Test_pca, X_Test_mca], axis=1, ignore_index=True)\n",
    "    \n",
    "    # fit random forest on dimensally reduced components (i.e. PCA+MCA)\n",
    "    dtc = DecisionTreeClassifier()\n",
    "    dtc.fit(X_train_s, y_train_s)\n",
    "    valid_score2.append(metrics.mean_squared_error(dtc.predict(X_Test), y_Test))\n",
    "\n",
    "print('best hyperparameter set for decision tree :', hyperparam_set[np.argmin(valid_score2)])\n",
    "print('MSE on validation set:', min(valid_score2))\n"
   ]
  },
  {
   "cell_type": "code",
   "execution_count": 111,
   "id": "48e5540d",
   "metadata": {},
   "outputs": [],
   "source": [
    " # train PCA on numerical data\n",
    "pca = PCA(n_components = 13) \n",
    "X_train_pca = pd.DataFrame(pca.fit_transform(X_train_s_num))\n",
    "X_Test_pca = pd.DataFrame(pca.transform(X_Test_num))\n",
    "    \n",
    "    # train MCA on categorical data\n",
    "mca = prince.MCA(n_components=33, n_iter=31, copy=True, check_input=True, benzecri=False, \n",
    "                 random_state= 1, engine='auto')\n",
    "mca=mca.fit(X_train_s_cat)        # fit MCA on X_train_cat data\n",
    "    \n",
    "X_train_mca = mca.transform(X_train_s_cat)     # tranform X_train_cat data on MCA\n",
    "X_Test_mca = mca.transform(X_Test_cat)     # tranform X_Test_cat data on MCA\n",
    "    \n",
    "    # StandardScaler reset the row indexes. \n",
    "    # Therefore we need to reset the index for MCA components too. As we need to combine these two datasets (PCA+MCA)\n",
    "X_train_mca = X_train_mca.reset_index(drop=True)\n",
    "X_Test_mca = X_Test_mca.reset_index(drop=True)\n",
    "    \n",
    "    # combine PCA and MCA to form complete training dataset\n",
    "X_train_s = pd.concat([X_train_pca, X_train_mca], axis=1, ignore_index=True)\n",
    "X_Test = pd.concat([X_Test_pca, X_Test_mca], axis=1, ignore_index=True)\n",
    "\n",
    "X_train_s_dt= X_train_s.copy()\n",
    "X_Test_dt=X_Test.copy()"
   ]
  },
  {
   "cell_type": "code",
   "execution_count": 112,
   "id": "c43da4cb",
   "metadata": {},
   "outputs": [
    {
     "data": {
      "text/plain": [
       "(398, 46)"
      ]
     },
     "execution_count": 112,
     "metadata": {},
     "output_type": "execute_result"
    }
   ],
   "source": [
    "X_train_s_dt.shape"
   ]
  },
  {
   "cell_type": "markdown",
   "id": "83c1a3c2",
   "metadata": {},
   "source": [
    "#### K-Nearest Neighbors"
   ]
  },
  {
   "cell_type": "code",
   "execution_count": 113,
   "id": "4a8a8647",
   "metadata": {},
   "outputs": [
    {
     "name": "stdout",
     "output_type": "stream",
     "text": [
      "best hyperparameter set for KNN : (13, 2, 10)\n",
      "MSE on validation set: 0.4264705882352941\n"
     ]
    }
   ],
   "source": [
    "valid_score3 =[]     # initialize a list to store validation score\n",
    "for params in hyperparam_set:  \n",
    "    # train PCA on numerical data\n",
    "    pca = PCA(n_components = params[0]) \n",
    "    X_train_pca = pd.DataFrame(pca.fit_transform(X_train_s_num))\n",
    "    X_Test_pca = pd.DataFrame(pca.transform(X_Test_num))\n",
    "    \n",
    "    # train MCA on categorical data\n",
    "    mca = prince.MCA(n_components=params[1], n_iter=params[2], copy=True, check_input=True, benzecri=False, \n",
    "                 random_state= 1, engine='auto')\n",
    "    mca=mca.fit(X_train_s_cat)        # fit MCA on X_train_cat data\n",
    "    \n",
    "    X_train_mca = mca.transform(X_train_s_cat)     # tranform X_train_cat data on MCA\n",
    "    X_Test_mca = mca.transform(X_Test_cat)     # tranform X_Test_cat data on MCA\n",
    "    \n",
    "    # StandardScaler reset the row indexes. \n",
    "    # Therefore we need to reset the index for MCA components too. As we need to combine these two datasets (PCA+MCA)\n",
    "    X_train_mca = X_train_mca.reset_index(drop=True)\n",
    "    X_Test_mca = X_Test_mca.reset_index(drop=True)\n",
    "    \n",
    "    # combine PCA and MCA to form complete training dataset\n",
    "    X_train_s = pd.concat([X_train_pca, X_train_mca], axis=1, ignore_index=True)\n",
    "    X_Test = pd.concat([X_Test_pca, X_Test_mca], axis=1, ignore_index=True)\n",
    "    \n",
    "    # fit random forest on dimensally reduced components (i.e. PCA+MCA)\n",
    "    knn = KNeighborsClassifier()\n",
    "    knn.fit(X_train_s, y_train_s)\n",
    "    valid_score3.append(metrics.mean_squared_error(knn.predict(X_Test), y_Test))\n",
    "\n",
    "print('best hyperparameter set for KNN :', hyperparam_set[np.argmin(valid_score3)])\n",
    "print('MSE on validation set:', min(valid_score3))\n",
    "\n",
    "   "
   ]
  },
  {
   "cell_type": "code",
   "execution_count": 114,
   "id": "023cbeb9",
   "metadata": {},
   "outputs": [],
   "source": [
    "    # train PCA on numerical data\n",
    "    pca = PCA(n_components = 13) \n",
    "    X_train_pca = pd.DataFrame(pca.fit_transform(X_train_s_num))\n",
    "    X_Test_pca = pd.DataFrame(pca.transform(X_Test_num))\n",
    "    \n",
    "    # train MCA on categorical data\n",
    "    mca = prince.MCA(n_components=2, n_iter=10, copy=True, check_input=True, benzecri=False, \n",
    "                 random_state= 1, engine='auto')\n",
    "    mca=mca.fit(X_train_s_cat)        # fit MCA on X_train_cat data\n",
    "    \n",
    "    X_train_mca = mca.transform(X_train_s_cat)     # tranform X_train_cat data on MCA\n",
    "    X_Test_mca = mca.transform(X_Test_cat)     # tranform X_Test_cat data on MCA\n",
    "    \n",
    "    # StandardScaler reset the row indexes. \n",
    "    # Therefore we need to reset the index for MCA components too. As we need to combine these two datasets (PCA+MCA)\n",
    "    X_train_mca = X_train_mca.reset_index(drop=True)\n",
    "    X_Test_mca = X_Test_mca.reset_index(drop=True)\n",
    "    \n",
    "    # combine PCA and MCA to form complete training dataset\n",
    "    X_train_s = pd.concat([X_train_pca, X_train_mca], axis=1, ignore_index=True)\n",
    "    X_Test = pd.concat([X_Test_pca, X_Test_mca], axis=1, ignore_index=True)\n",
    "    \n",
    "X_train_s_knn= X_train_s.copy()\n",
    "X_Test_knn=X_Test.copy()"
   ]
  },
  {
   "cell_type": "code",
   "execution_count": 115,
   "id": "3954e56c",
   "metadata": {},
   "outputs": [
    {
     "data": {
      "text/plain": [
       "(398, 15)"
      ]
     },
     "execution_count": 115,
     "metadata": {},
     "output_type": "execute_result"
    }
   ],
   "source": [
    "X_train_s_knn.shape"
   ]
  },
  {
   "cell_type": "markdown",
   "id": "2d8d8872",
   "metadata": {},
   "source": [
    "#### Support Vector Machines linear"
   ]
  },
  {
   "cell_type": "code",
   "execution_count": 116,
   "id": "ae73e7c3",
   "metadata": {},
   "outputs": [
    {
     "name": "stdout",
     "output_type": "stream",
     "text": [
      "best hyperparameter set for SVM : (13, 29, 10)\n",
      "MSE on validation set: 0.29411764705882354\n"
     ]
    }
   ],
   "source": [
    "from sklearn import svm\n",
    "valid_score4 =[]     # initialize a list to store validation score\n",
    "for params in hyperparam_set:  \n",
    "    # train PCA on numerical data\n",
    "    pca = PCA(n_components = params[0]) \n",
    "    X_train_pca = pd.DataFrame(pca.fit_transform(X_train_s_num))\n",
    "    X_Test_pca = pd.DataFrame(pca.transform(X_Test_num))\n",
    "    \n",
    "    # train MCA on categorical data\n",
    "    mca = prince.MCA(n_components=params[1], n_iter=params[2], copy=True, check_input=True, benzecri=False, \n",
    "                 random_state= 1, engine='auto')\n",
    "    mca=mca.fit(X_train_s_cat)        # fit MCA on X_train_cat data\n",
    "    \n",
    "    X_train_mca = mca.transform(X_train_s_cat)     # tranform X_train_cat data on MCA\n",
    "    X_Test_mca = mca.transform(X_Test_cat)     # tranform X_Test_cat data on MCA\n",
    "    \n",
    "    # StandardScaler reset the row indexes. \n",
    "    # Therefore we need to reset the index for MCA components too. As we need to combine these two datasets (PCA+MCA)\n",
    "    X_train_mca = X_train_mca.reset_index(drop=True)\n",
    "    X_Test_mca = X_Test_mca.reset_index(drop=True)\n",
    "    \n",
    "    # combine PCA and MCA to form complete training dataset\n",
    "    X_train_s = pd.concat([X_train_pca, X_train_mca], axis=1, ignore_index=True)\n",
    "    X_Test = pd.concat([X_Test_pca, X_Test_mca], axis=1, ignore_index=True)\n",
    "    \n",
    "    # fit random forest on dimensally reduced components (i.e. PCA+MCA)\n",
    "    classifier_svm= svm.SVC(kernel='linear')\n",
    "    classifier_svm.fit(X_train_s, y_train_s)\n",
    "    valid_score4.append(metrics.mean_squared_error(classifier_svm.predict(X_Test), y_Test))\n",
    "\n",
    "print('best hyperparameter set for SVM :', hyperparam_set[np.argmin(valid_score4)])\n",
    "print('MSE on validation set:', min(valid_score4))\n"
   ]
  },
  {
   "cell_type": "code",
   "execution_count": 117,
   "id": "e4e80abc",
   "metadata": {},
   "outputs": [],
   "source": [
    " \n",
    "    # train PCA on numerical data\n",
    "    pca = PCA(n_components = 13) \n",
    "    X_train_pca = pd.DataFrame(pca.fit_transform(X_train_s_num))\n",
    "    X_Test_pca = pd.DataFrame(pca.transform(X_Test_num))\n",
    "    \n",
    "    # train MCA on categorical data\n",
    "    mca = prince.MCA(n_components=29, n_iter=10, copy=True, check_input=True, benzecri=False, \n",
    "                 random_state= 1, engine='auto')\n",
    "    mca=mca.fit(X_train_s_cat)        # fit MCA on X_train_cat data\n",
    "    \n",
    "    X_train_mca = mca.transform(X_train_s_cat)     # tranform X_train_cat data on MCA\n",
    "    X_Test_mca = mca.transform(X_Test_cat)     # tranform X_Test_cat data on MCA\n",
    "    \n",
    "    # StandardScaler reset the row indexes. \n",
    "    # Therefore we need to reset the index for MCA components too. As we need to combine these two datasets (PCA+MCA)\n",
    "    X_train_mca = X_train_mca.reset_index(drop=True)\n",
    "    X_Test_mca = X_Test_mca.reset_index(drop=True)\n",
    "    \n",
    "    # combine PCA and MCA to form complete training dataset\n",
    "    X_train_s = pd.concat([X_train_pca, X_train_mca], axis=1, ignore_index=True)\n",
    "    X_Test = pd.concat([X_Test_pca, X_Test_mca], axis=1, ignore_index=True)\n",
    "    \n",
    "X_train_s_svml= X_train_s.copy()\n",
    "X_Test_svml=X_Test.copy()"
   ]
  },
  {
   "cell_type": "code",
   "execution_count": 118,
   "id": "4015624d",
   "metadata": {},
   "outputs": [
    {
     "data": {
      "text/plain": [
       "(398, 42)"
      ]
     },
     "execution_count": 118,
     "metadata": {},
     "output_type": "execute_result"
    }
   ],
   "source": [
    "X_train_s_svml.shape"
   ]
  },
  {
   "cell_type": "markdown",
   "id": "41d16f21",
   "metadata": {},
   "source": [
    "#### Support Vector Machines rbf"
   ]
  },
  {
   "cell_type": "code",
   "execution_count": 119,
   "id": "f8e2e92c",
   "metadata": {},
   "outputs": [
    {
     "name": "stdout",
     "output_type": "stream",
     "text": [
      "best hyperparameter set for SVM : (13, 15, 10)\n",
      "MSE on validation set: 0.4117647058823529\n"
     ]
    }
   ],
   "source": [
    "from sklearn import svm\n",
    "valid_score5 =[]     # initialize a list to store validation score\n",
    "for params in hyperparam_set:  \n",
    "    # train PCA on numerical data\n",
    "    pca = PCA(n_components = params[0]) \n",
    "    X_train_pca = pd.DataFrame(pca.fit_transform(X_train_s_num))\n",
    "    X_Test_pca = pd.DataFrame(pca.transform(X_Test_num))\n",
    "    \n",
    "    # train MCA on categorical data\n",
    "    mca = prince.MCA(n_components=params[1], n_iter=params[2], copy=True, check_input=True, benzecri=False, \n",
    "                 random_state= 1, engine='auto')\n",
    "    mca=mca.fit(X_train_s_cat)        # fit MCA on X_train_cat data\n",
    "    \n",
    "    X_train_mca = mca.transform(X_train_s_cat)     # tranform X_train_cat data on MCA\n",
    "    X_Test_mca = mca.transform(X_Test_cat)     # tranform X_Test_cat data on MCA\n",
    "    \n",
    "    # StandardScaler reset the row indexes. \n",
    "    # Therefore we need to reset the index for MCA components too. As we need to combine these two datasets (PCA+MCA)\n",
    "    X_train_mca = X_train_mca.reset_index(drop=True)\n",
    "    X_Test_mca = X_Test_mca.reset_index(drop=True)\n",
    "    \n",
    "    # combine PCA and MCA to form complete training dataset\n",
    "    X_train_s = pd.concat([X_train_pca, X_train_mca], axis=1, ignore_index=True)\n",
    "    X_Test = pd.concat([X_Test_pca, X_Test_mca], axis=1, ignore_index=True)\n",
    "    \n",
    "    # fit random forest on dimensally reduced components (i.e. PCA+MCA)\n",
    "    classifier_svm_rbf= svm.SVC(kernel='rbf')\n",
    "    classifier_svm_rbf.fit(X_train_s, y_train_s)\n",
    "    valid_score5.append(metrics.mean_squared_error(classifier_svm_rbf.predict(X_Test), y_Test))\n",
    "\n",
    "print('best hyperparameter set for SVM :', hyperparam_set[np.argmin(valid_score5)])\n",
    "print('MSE on validation set:', min(valid_score5))\n",
    "\n",
    "\n",
    "   "
   ]
  },
  {
   "cell_type": "code",
   "execution_count": 120,
   "id": "1b1b3beb",
   "metadata": {},
   "outputs": [],
   "source": [
    "     # train PCA on numerical data\n",
    "pca = PCA(n_components = 13) \n",
    "X_train_pca = pd.DataFrame(pca.fit_transform(X_train_s_num))\n",
    "X_Test_pca = pd.DataFrame(pca.transform(X_Test_num))\n",
    "    \n",
    "    # train MCA on categorical data\n",
    "mca = prince.MCA(n_components=15, n_iter=10, copy=True, check_input=True, benzecri=False, \n",
    "                 random_state= 1, engine='auto')\n",
    "mca=mca.fit(X_train_s_cat)        # fit MCA on X_train_cat data\n",
    "    \n",
    "X_train_mca = mca.transform(X_train_s_cat)     # tranform X_train_cat data on MCA\n",
    "X_Test_mca = mca.transform(X_Test_cat)     # tranform X_Test_cat data on MCA\n",
    "    \n",
    "    # StandardScaler reset the row indexes. \n",
    "    # Therefore we need to reset the index for MCA components too. As we need to combine these two datasets (PCA+MCA)\n",
    "X_train_mca = X_train_mca.reset_index(drop=True)\n",
    "X_Test_mca = X_Test_mca.reset_index(drop=True)\n",
    "    \n",
    "    # combine PCA and MCA to form complete training dataset\n",
    "X_train_s = pd.concat([X_train_pca, X_train_mca], axis=1, ignore_index=True)\n",
    "X_Test = pd.concat([X_Test_pca, X_Test_mca], axis=1, ignore_index=True)\n",
    "    \n",
    "X_train_s_rbf= X_train_s.copy()\n",
    "X_Test_rbf=X_Test.copy()\n",
    "   "
   ]
  },
  {
   "cell_type": "code",
   "execution_count": 121,
   "id": "37151b82",
   "metadata": {},
   "outputs": [
    {
     "data": {
      "text/plain": [
       "(398, 28)"
      ]
     },
     "execution_count": 121,
     "metadata": {},
     "output_type": "execute_result"
    }
   ],
   "source": [
    "X_train_s_rbf.shape"
   ]
  },
  {
   "cell_type": "markdown",
   "id": "9d50dace",
   "metadata": {},
   "source": [
    "#### Naive Bayes"
   ]
  },
  {
   "cell_type": "code",
   "execution_count": 122,
   "id": "21e12f13",
   "metadata": {},
   "outputs": [
    {
     "name": "stdout",
     "output_type": "stream",
     "text": [
      "best hyperparameter set for SVM : (13, 27, 10)\n",
      "MSE on validation set: 0.39705882352941174\n"
     ]
    }
   ],
   "source": [
    "from sklearn.naive_bayes import GaussianNB\n",
    "valid_score6 =[]     # initialize a list to store validation score\n",
    "for params in hyperparam_set:  \n",
    "    # train PCA on numerical data\n",
    "    pca = PCA(n_components = params[0]) \n",
    "    X_train_pca = pd.DataFrame(pca.fit_transform(X_train_s_num))\n",
    "    X_Test_pca = pd.DataFrame(pca.transform(X_Test_num))\n",
    "    \n",
    "    # train MCA on categorical data\n",
    "    mca = prince.MCA(n_components=params[1], n_iter=params[2], copy=True, check_input=True, benzecri=False, \n",
    "                 random_state= 1, engine='auto')\n",
    "    mca=mca.fit(X_train_s_cat)        # fit MCA on X_train_cat data\n",
    "    \n",
    "    X_train_mca = mca.transform(X_train_s_cat)     # tranform X_train_cat data on MCA\n",
    "    X_Test_mca = mca.transform(X_Test_cat)     # tranform X_Test_cat data on MCA\n",
    "    \n",
    "    # StandardScaler reset the row indexes. \n",
    "    # Therefore we need to reset the index for MCA components too. As we need to combine these two datasets (PCA+MCA)\n",
    "    X_train_mca = X_train_mca.reset_index(drop=True)\n",
    "    X_Test_mca = X_Test_mca.reset_index(drop=True)\n",
    "    \n",
    "    # combine PCA and MCA to form complete training dataset\n",
    "    X_train_s = pd.concat([X_train_pca, X_train_mca], axis=1, ignore_index=True)\n",
    "    X_Test = pd.concat([X_Test_pca, X_Test_mca], axis=1, ignore_index=True)\n",
    "    \n",
    "    # fit random forest on dimensally reduced components (i.e. PCA+MCA)\n",
    "    model = GaussianNB()\n",
    "    model.fit(X_train_s, y_train_s)\n",
    "    valid_score6.append(metrics.mean_squared_error(model.predict(X_Test), y_Test))\n",
    "\n",
    "print('best hyperparameter set for SVM :', hyperparam_set[np.argmin(valid_score6)])\n",
    "print('MSE on validation set:', min(valid_score6))\n",
    "\n"
   ]
  },
  {
   "cell_type": "code",
   "execution_count": 123,
   "id": "fd53c506",
   "metadata": {},
   "outputs": [],
   "source": [
    "\n",
    "    # train PCA on numerical data\n",
    "    pca = PCA(n_components = 13) \n",
    "    X_train_pca = pd.DataFrame(pca.fit_transform(X_train_s_num))\n",
    "    X_Test_pca = pd.DataFrame(pca.transform(X_Test_num))\n",
    "    \n",
    "    # train MCA on categorical data\n",
    "    mca = prince.MCA(n_components=27, n_iter=10, copy=True, check_input=True, benzecri=False, \n",
    "                 random_state= 1, engine='auto')\n",
    "    mca=mca.fit(X_train_s_cat)        # fit MCA on X_train_cat data\n",
    "    \n",
    "    X_train_mca = mca.transform(X_train_s_cat)     # tranform X_train_cat data on MCA\n",
    "    X_Test_mca = mca.transform(X_Test_cat)     # tranform X_Test_cat data on MCA\n",
    "    \n",
    "    # StandardScaler reset the row indexes. \n",
    "    # Therefore we need to reset the index for MCA components too. As we need to combine these two datasets (PCA+MCA)\n",
    "    X_train_mca = X_train_mca.reset_index(drop=True)\n",
    "    X_Test_mca = X_Test_mca.reset_index(drop=True)\n",
    "    \n",
    "    # combine PCA and MCA to form complete training dataset\n",
    "    X_train_s = pd.concat([X_train_pca, X_train_mca], axis=1, ignore_index=True)\n",
    "    X_Test = pd.concat([X_Test_pca, X_Test_mca], axis=1, ignore_index=True)\n",
    "\n",
    "X_train_s_nb= X_train_s.copy()\n",
    "X_Test_nb=X_Test.copy()\n"
   ]
  },
  {
   "cell_type": "code",
   "execution_count": 124,
   "id": "7c3f15b2",
   "metadata": {},
   "outputs": [
    {
     "data": {
      "text/plain": [
       "(398, 40)"
      ]
     },
     "execution_count": 124,
     "metadata": {},
     "output_type": "execute_result"
    }
   ],
   "source": [
    "X_train_s_nb.shape"
   ]
  },
  {
   "cell_type": "code",
   "execution_count": 125,
   "id": "ee27e1cb",
   "metadata": {},
   "outputs": [],
   "source": [
    "X_train_sL=[X_train_s_nb, X_train_s_lr, X_train_s_dt, X_train_s_rf, X_train_s_svml, X_train_s_rbf, X_train_s_knn]"
   ]
  },
  {
   "cell_type": "code",
   "execution_count": 126,
   "id": "85f2877a",
   "metadata": {},
   "outputs": [],
   "source": [
    "X_TestL=[X_Test_nb, X_Test_lr, X_Test_dt, X_Test_rf, X_Test_svml, X_Test_rbf, X_Test_knn]"
   ]
  },
  {
   "cell_type": "code",
   "execution_count": 127,
   "id": "43c2da3b",
   "metadata": {},
   "outputs": [
    {
     "name": "stdout",
     "output_type": "stream",
     "text": [
      "    feature  importance_score\n",
      "29       29          2.102151\n",
      "53       53          1.477537\n",
      "13       13          1.473921\n",
      "26       26          1.406793\n",
      "59       59          1.218158\n",
      "31       31          1.197422\n",
      "58       58          0.911348\n",
      "33       33          0.808987\n",
      "27       27          0.681487\n",
      "41       41          0.588306\n"
     ]
    },
    {
     "data": {
      "image/png": "[encoded data removed]",
      "text/plain": [
       "<Figure size 864x432 with 1 Axes>"
      ]
     },
     "metadata": {},
     "output_type": "display_data"
    }
   ],
   "source": [
    "from matplotlib import pyplot\n",
    "# get importance\n",
    "importance_ = lr.coef_[0]\n",
    "train_features=[]\n",
    "scoreimp=[]\n",
    "# summarize feature importance\n",
    "for i,v in enumerate(importance_):\n",
    "        train_features.append(i)\n",
    "        scoreimp.append(v)\n",
    "initial_imp = pd.DataFrame({'feature':train_features,\n",
    "                          'importance_score':scoreimp})\n",
    "\n",
    "initial_imp.sort_values('importance_score', ascending=False, inplace=True)\n",
    "print(initial_imp.head(10))\n",
    "# plot feature importance\n",
    "pyplot.bar([x for x in range(len(importance_))], importance_)\n",
    "pyplot.show()"
   ]
  },
  {
   "cell_type": "markdown",
   "id": "65f129c1",
   "metadata": {},
   "source": [
    "### Data augmentation"
   ]
  },
  {
   "cell_type": "code",
   "execution_count": 128,
   "id": "4af6687f",
   "metadata": {},
   "outputs": [],
   "source": [
    "y_train_s=pd.DataFrame(y_train_s, columns=['Morbidité'])\n",
    "#y_train_s = y_train_s.reset_index(drop=True)"
   ]
  },
  {
   "cell_type": "code",
   "execution_count": 129,
   "id": "72fdb194",
   "metadata": {},
   "outputs": [],
   "source": [
    "trainL=[]\n",
    "for i in X_train_sL: \n",
    "    trainL.append(pd.concat([i, y_train_s], axis=1))"
   ]
  },
  {
   "cell_type": "code",
   "execution_count": 130,
   "id": "52f6d8a3",
   "metadata": {},
   "outputs": [
    {
     "data": {
      "application/vnd.jupyter.widget-view+json": {
       "model_id": "2adda201c7c442bf8726d3e4ca9dfaa1",
       "version_major": 2,
       "version_minor": 0
      },
      "text/plain": [
       "HBox(children=(HTML(value=''), FloatProgress(value=0.0, max=398.0), HTML(value='')))"
      ]
     },
     "metadata": {},
     "output_type": "display_data"
    },
    {
     "name": "stdout",
     "output_type": "stream",
     "text": [
      "\n"
     ]
    },
    {
     "data": {
      "application/vnd.jupyter.widget-view+json": {
       "model_id": "7c17596e92214361b3ab8d8fbf4914a2",
       "version_major": 2,
       "version_minor": 0
      },
      "text/plain": [
       "HBox(children=(HTML(value=''), FloatProgress(value=0.0, max=398.0), HTML(value='')))"
      ]
     },
     "metadata": {},
     "output_type": "display_data"
    },
    {
     "name": "stdout",
     "output_type": "stream",
     "text": [
      "\n"
     ]
    },
    {
     "data": {
      "application/vnd.jupyter.widget-view+json": {
       "model_id": "1658c80d745848fd9bd5ab05950deed1",
       "version_major": 2,
       "version_minor": 0
      },
      "text/plain": [
       "HBox(children=(HTML(value=''), FloatProgress(value=0.0, max=398.0), HTML(value='')))"
      ]
     },
     "metadata": {},
     "output_type": "display_data"
    },
    {
     "name": "stdout",
     "output_type": "stream",
     "text": [
      "\n"
     ]
    },
    {
     "data": {
      "application/vnd.jupyter.widget-view+json": {
       "model_id": "f1c7656176da40829bbc58027a042fa9",
       "version_major": 2,
       "version_minor": 0
      },
      "text/plain": [
       "HBox(children=(HTML(value=''), FloatProgress(value=0.0, max=398.0), HTML(value='')))"
      ]
     },
     "metadata": {},
     "output_type": "display_data"
    },
    {
     "name": "stdout",
     "output_type": "stream",
     "text": [
      "\n"
     ]
    },
    {
     "data": {
      "application/vnd.jupyter.widget-view+json": {
       "model_id": "64cbb308abc94d76a1aa95364d5a0ca3",
       "version_major": 2,
       "version_minor": 0
      },
      "text/plain": [
       "HBox(children=(HTML(value=''), FloatProgress(value=0.0, max=398.0), HTML(value='')))"
      ]
     },
     "metadata": {},
     "output_type": "display_data"
    },
    {
     "name": "stdout",
     "output_type": "stream",
     "text": [
      "\n"
     ]
    },
    {
     "data": {
      "application/vnd.jupyter.widget-view+json": {
       "model_id": "0fc194eb6f974f54af4380b58ac32fc2",
       "version_major": 2,
       "version_minor": 0
      },
      "text/plain": [
       "HBox(children=(HTML(value=''), FloatProgress(value=0.0, max=398.0), HTML(value='')))"
      ]
     },
     "metadata": {},
     "output_type": "display_data"
    },
    {
     "name": "stdout",
     "output_type": "stream",
     "text": [
      "\n"
     ]
    },
    {
     "data": {
      "application/vnd.jupyter.widget-view+json": {
       "model_id": "a57d63d14e3e4afb842e6ae22230b4fd",
       "version_major": 2,
       "version_minor": 0
      },
      "text/plain": [
       "HBox(children=(HTML(value=''), FloatProgress(value=0.0, max=398.0), HTML(value='')))"
      ]
     },
     "metadata": {},
     "output_type": "display_data"
    },
    {
     "name": "stdout",
     "output_type": "stream",
     "text": [
      "\n"
     ]
    }
   ],
   "source": [
    "from tqdm import tqdm_notebook as tqdm\n",
    "train_augL=[]\n",
    "for train in trainL:\n",
    "        a = np.arange(0, train.shape[1])\n",
    "   #initialise aug dataframe - remember to set dtype!\n",
    "        train_aug=pd.DataFrame(index=train.index, columns=train.columns, dtype='float64')\n",
    "\n",
    "        for i in tqdm(range(0, len(train))):\n",
    "    #ratio of features to be randomly sampled\n",
    "               AUG_FEATURE_RATIO = 0.5\n",
    "    #to integer count\n",
    "               AUG_FEATURE_COUNT = np.floor(train.shape[1]*AUG_FEATURE_RATIO).astype('int16')\n",
    "    \n",
    "    #randomly sample half of columns that will contain random values\n",
    "               aug_feature_index = np.random.choice(train.shape[1], AUG_FEATURE_COUNT, replace=False)\n",
    "               aug_feature_index.sort()\n",
    "    \n",
    "    #obtain indices for features not in aug_feature_index\n",
    "               feature_index = np.where(np.logical_not(np.in1d(a, aug_feature_index)))[0]\n",
    "    \n",
    "    #first insert real values for features in feature_index\n",
    "               train_aug.iloc[i, feature_index] = train.iloc[i, feature_index]\n",
    "              \n",
    "    #random row index to randomly sampled values for each features\n",
    "               rand_row_index = np.random.choice(len(train), len(aug_feature_index), replace=True)\n",
    "        \n",
    "    #for each feature being randomly sampled, extract value from random row in train\n",
    "               for n, j in enumerate(aug_feature_index):\n",
    "                    train_aug.iloc[i, j] = train.iloc[rand_row_index[n], j]\n",
    "        train_augL.append(train_aug)  \n",
    "      "
   ]
  },
  {
   "cell_type": "markdown",
   "id": "a09f9094",
   "metadata": {},
   "source": [
    "###### Comparing the first few rows of the regular data and the augmented data:"
   ]
  },
  {
   "cell_type": "code",
   "execution_count": 131,
   "id": "d295d6af",
   "metadata": {},
   "outputs": [
    {
     "data": {
      "text/html": [
       "<div>\n",
       "<style scoped>\n",
       "    .dataframe tbody tr th:only-of-type {\n",
       "        vertical-align: middle;\n",
       "    }\n",
       "\n",
       "    .dataframe tbody tr th {\n",
       "        vertical-align: top;\n",
       "    }\n",
       "\n",
       "    .dataframe thead th {\n",
       "        text-align: right;\n",
       "    }\n",
       "</style>\n",
       "<table border=\"1\" class=\"dataframe\">\n",
       "  <thead>\n",
       "    <tr style=\"text-align: right;\">\n",
       "      <th></th>\n",
       "      <th>0</th>\n",
       "      <th>1</th>\n",
       "      <th>2</th>\n",
       "      <th>3</th>\n",
       "      <th>4</th>\n",
       "      <th>5</th>\n",
       "      <th>6</th>\n",
       "      <th>7</th>\n",
       "      <th>8</th>\n",
       "      <th>9</th>\n",
       "      <th>...</th>\n",
       "      <th>29</th>\n",
       "      <th>30</th>\n",
       "      <th>31</th>\n",
       "      <th>32</th>\n",
       "      <th>33</th>\n",
       "      <th>34</th>\n",
       "      <th>35</th>\n",
       "      <th>36</th>\n",
       "      <th>37</th>\n",
       "      <th>Morbidité</th>\n",
       "    </tr>\n",
       "  </thead>\n",
       "  <tbody>\n",
       "    <tr>\n",
       "      <th>0</th>\n",
       "      <td>1.929418</td>\n",
       "      <td>-0.236952</td>\n",
       "      <td>1.504997</td>\n",
       "      <td>0.131928</td>\n",
       "      <td>-0.237144</td>\n",
       "      <td>1.266273</td>\n",
       "      <td>-0.817855</td>\n",
       "      <td>0.861921</td>\n",
       "      <td>-0.241357</td>\n",
       "      <td>-0.086469</td>\n",
       "      <td>...</td>\n",
       "      <td>0.146868</td>\n",
       "      <td>-0.027837</td>\n",
       "      <td>0.324181</td>\n",
       "      <td>0.114397</td>\n",
       "      <td>0.012775</td>\n",
       "      <td>0.065125</td>\n",
       "      <td>0.077422</td>\n",
       "      <td>-0.083349</td>\n",
       "      <td>-0.060502</td>\n",
       "      <td>1.0</td>\n",
       "    </tr>\n",
       "    <tr>\n",
       "      <th>1</th>\n",
       "      <td>-0.987648</td>\n",
       "      <td>-0.712824</td>\n",
       "      <td>0.361380</td>\n",
       "      <td>1.589224</td>\n",
       "      <td>0.517088</td>\n",
       "      <td>-0.719247</td>\n",
       "      <td>-2.109890</td>\n",
       "      <td>1.350339</td>\n",
       "      <td>0.011535</td>\n",
       "      <td>-1.460100</td>\n",
       "      <td>...</td>\n",
       "      <td>0.037208</td>\n",
       "      <td>0.181701</td>\n",
       "      <td>-0.007998</td>\n",
       "      <td>0.351958</td>\n",
       "      <td>-0.133054</td>\n",
       "      <td>-0.109133</td>\n",
       "      <td>-0.174909</td>\n",
       "      <td>0.267178</td>\n",
       "      <td>0.047854</td>\n",
       "      <td>1.0</td>\n",
       "    </tr>\n",
       "    <tr>\n",
       "      <th>2</th>\n",
       "      <td>0.065227</td>\n",
       "      <td>1.745284</td>\n",
       "      <td>-0.237275</td>\n",
       "      <td>-0.195242</td>\n",
       "      <td>-0.424475</td>\n",
       "      <td>-0.431071</td>\n",
       "      <td>0.330844</td>\n",
       "      <td>-0.758898</td>\n",
       "      <td>-2.110629</td>\n",
       "      <td>0.697149</td>\n",
       "      <td>...</td>\n",
       "      <td>0.171678</td>\n",
       "      <td>-0.000600</td>\n",
       "      <td>-0.270147</td>\n",
       "      <td>-0.177382</td>\n",
       "      <td>0.514932</td>\n",
       "      <td>-0.040423</td>\n",
       "      <td>-0.017044</td>\n",
       "      <td>0.002403</td>\n",
       "      <td>0.069927</td>\n",
       "      <td>0.0</td>\n",
       "    </tr>\n",
       "  </tbody>\n",
       "</table>\n",
       "<p>3 rows × 39 columns</p>\n",
       "</div>"
      ],
      "text/plain": [
       "          0         1         2         3         4         5         6  \\\n",
       "0  1.929418 -0.236952  1.504997  0.131928 -0.237144  1.266273 -0.817855   \n",
       "1 -0.987648 -0.712824  0.361380  1.589224  0.517088 -0.719247 -2.109890   \n",
       "2  0.065227  1.745284 -0.237275 -0.195242 -0.424475 -0.431071  0.330844   \n",
       "\n",
       "          7         8         9  ...        29        30        31        32  \\\n",
       "0  0.861921 -0.241357 -0.086469  ...  0.146868 -0.027837  0.324181  0.114397   \n",
       "1  1.350339  0.011535 -1.460100  ...  0.037208  0.181701 -0.007998  0.351958   \n",
       "2 -0.758898 -2.110629  0.697149  ...  0.171678 -0.000600 -0.270147 -0.177382   \n",
       "\n",
       "         33        34        35        36        37  Morbidité  \n",
       "0  0.012775  0.065125  0.077422 -0.083349 -0.060502        1.0  \n",
       "1 -0.133054 -0.109133 -0.174909  0.267178  0.047854        1.0  \n",
       "2  0.514932 -0.040423 -0.017044  0.002403  0.069927        0.0  \n",
       "\n",
       "[3 rows x 39 columns]"
      ]
     },
     "execution_count": 131,
     "metadata": {},
     "output_type": "execute_result"
    }
   ],
   "source": [
    "train_augL[1].head(3)"
   ]
  },
  {
   "cell_type": "code",
   "execution_count": 132,
   "id": "4f15fc11",
   "metadata": {},
   "outputs": [
    {
     "data": {
      "text/html": [
       "<div>\n",
       "<style scoped>\n",
       "    .dataframe tbody tr th:only-of-type {\n",
       "        vertical-align: middle;\n",
       "    }\n",
       "\n",
       "    .dataframe tbody tr th {\n",
       "        vertical-align: top;\n",
       "    }\n",
       "\n",
       "    .dataframe thead th {\n",
       "        text-align: right;\n",
       "    }\n",
       "</style>\n",
       "<table border=\"1\" class=\"dataframe\">\n",
       "  <thead>\n",
       "    <tr style=\"text-align: right;\">\n",
       "      <th></th>\n",
       "      <th>0</th>\n",
       "      <th>1</th>\n",
       "      <th>2</th>\n",
       "      <th>3</th>\n",
       "      <th>4</th>\n",
       "      <th>5</th>\n",
       "      <th>6</th>\n",
       "      <th>7</th>\n",
       "      <th>8</th>\n",
       "      <th>9</th>\n",
       "      <th>...</th>\n",
       "      <th>29</th>\n",
       "      <th>30</th>\n",
       "      <th>31</th>\n",
       "      <th>32</th>\n",
       "      <th>33</th>\n",
       "      <th>34</th>\n",
       "      <th>35</th>\n",
       "      <th>36</th>\n",
       "      <th>37</th>\n",
       "      <th>Morbidité</th>\n",
       "    </tr>\n",
       "  </thead>\n",
       "  <tbody>\n",
       "    <tr>\n",
       "      <th>0</th>\n",
       "      <td>1.929418</td>\n",
       "      <td>-0.619798</td>\n",
       "      <td>1.504997</td>\n",
       "      <td>0.131928</td>\n",
       "      <td>-0.237144</td>\n",
       "      <td>1.266273</td>\n",
       "      <td>-0.817855</td>\n",
       "      <td>-0.664623</td>\n",
       "      <td>-0.241357</td>\n",
       "      <td>-0.768560</td>\n",
       "      <td>...</td>\n",
       "      <td>0.146868</td>\n",
       "      <td>0.363563</td>\n",
       "      <td>0.324181</td>\n",
       "      <td>-0.105389</td>\n",
       "      <td>-0.011089</td>\n",
       "      <td>0.065125</td>\n",
       "      <td>0.010223</td>\n",
       "      <td>-0.083349</td>\n",
       "      <td>-0.060502</td>\n",
       "      <td>0.0</td>\n",
       "    </tr>\n",
       "    <tr>\n",
       "      <th>1</th>\n",
       "      <td>-0.169203</td>\n",
       "      <td>-0.712824</td>\n",
       "      <td>0.361380</td>\n",
       "      <td>-0.417538</td>\n",
       "      <td>0.517088</td>\n",
       "      <td>-0.719247</td>\n",
       "      <td>-2.109890</td>\n",
       "      <td>1.350339</td>\n",
       "      <td>0.011535</td>\n",
       "      <td>-1.460100</td>\n",
       "      <td>...</td>\n",
       "      <td>-0.118686</td>\n",
       "      <td>0.181701</td>\n",
       "      <td>0.121707</td>\n",
       "      <td>-0.051669</td>\n",
       "      <td>-0.171941</td>\n",
       "      <td>-0.223483</td>\n",
       "      <td>-0.174909</td>\n",
       "      <td>0.267178</td>\n",
       "      <td>0.047854</td>\n",
       "      <td>1.0</td>\n",
       "    </tr>\n",
       "    <tr>\n",
       "      <th>2</th>\n",
       "      <td>0.065227</td>\n",
       "      <td>1.745284</td>\n",
       "      <td>-0.237275</td>\n",
       "      <td>-0.195242</td>\n",
       "      <td>-0.424475</td>\n",
       "      <td>-0.224401</td>\n",
       "      <td>0.606055</td>\n",
       "      <td>-0.758898</td>\n",
       "      <td>-0.782879</td>\n",
       "      <td>0.697149</td>\n",
       "      <td>...</td>\n",
       "      <td>-0.094228</td>\n",
       "      <td>0.034253</td>\n",
       "      <td>-0.270147</td>\n",
       "      <td>0.009383</td>\n",
       "      <td>-0.003631</td>\n",
       "      <td>-0.040423</td>\n",
       "      <td>-0.017044</td>\n",
       "      <td>0.034656</td>\n",
       "      <td>0.069927</td>\n",
       "      <td>0.0</td>\n",
       "    </tr>\n",
       "  </tbody>\n",
       "</table>\n",
       "<p>3 rows × 39 columns</p>\n",
       "</div>"
      ],
      "text/plain": [
       "          0         1         2         3         4         5         6  \\\n",
       "0  1.929418 -0.619798  1.504997  0.131928 -0.237144  1.266273 -0.817855   \n",
       "1 -0.169203 -0.712824  0.361380 -0.417538  0.517088 -0.719247 -2.109890   \n",
       "2  0.065227  1.745284 -0.237275 -0.195242 -0.424475 -0.224401  0.606055   \n",
       "\n",
       "          7         8         9  ...        29        30        31        32  \\\n",
       "0 -0.664623 -0.241357 -0.768560  ...  0.146868  0.363563  0.324181 -0.105389   \n",
       "1  1.350339  0.011535 -1.460100  ... -0.118686  0.181701  0.121707 -0.051669   \n",
       "2 -0.758898 -0.782879  0.697149  ... -0.094228  0.034253 -0.270147  0.009383   \n",
       "\n",
       "         33        34        35        36        37  Morbidité  \n",
       "0 -0.011089  0.065125  0.010223 -0.083349 -0.060502        0.0  \n",
       "1 -0.171941 -0.223483 -0.174909  0.267178  0.047854        1.0  \n",
       "2 -0.003631 -0.040423 -0.017044  0.034656  0.069927        0.0  \n",
       "\n",
       "[3 rows x 39 columns]"
      ]
     },
     "execution_count": 132,
     "metadata": {},
     "output_type": "execute_result"
    }
   ],
   "source": [
    "trainL[1].head(3)"
   ]
  },
  {
   "cell_type": "markdown",
   "id": "cbd654e9",
   "metadata": {},
   "source": [
    "We can see, for a basic sanity check, that for each row in train_aug that half the values are the same as in x_train, and the remaining half are seemingly random. The random values for each feature were sampled from that feature's original distribution, and the overall distributions for each variable in train shouldn't be very different as a result. We can do another quick sanity check for this:"
   ]
  },
  {
   "cell_type": "code",
   "execution_count": 133,
   "id": "7b48c711",
   "metadata": {},
   "outputs": [
    {
     "data": {
      "text/plain": [
       "<AxesSubplot:>"
      ]
     },
     "execution_count": 133,
     "metadata": {},
     "output_type": "execute_result"
    },
    {
     "data": {
      "image/png": "[encoded data removed]",
      "text/plain": [
       "<Figure size 864x432 with 1 Axes>"
      ]
     },
     "metadata": {},
     "output_type": "display_data"
    }
   ],
   "source": [
    "trainL[1][0].hist(bins=25)"
   ]
  },
  {
   "cell_type": "code",
   "execution_count": 134,
   "id": "3cb7a109",
   "metadata": {},
   "outputs": [
    {
     "data": {
      "text/plain": [
       "<AxesSubplot:>"
      ]
     },
     "execution_count": 134,
     "metadata": {},
     "output_type": "execute_result"
    },
    {
     "data": {
      "image/png": "[encoded data removed]",
      "text/plain": [
       "<Figure size 864x432 with 1 Axes>"
      ]
     },
     "metadata": {},
     "output_type": "display_data"
    }
   ],
   "source": [
    "train_augL[1][0].hist(bins=25)"
   ]
  },
  {
   "cell_type": "markdown",
   "id": "a18189d4",
   "metadata": {},
   "source": [
    "The distributions look almost identical "
   ]
  },
  {
   "cell_type": "markdown",
   "id": "0550544f",
   "metadata": {},
   "source": [
    "### Augmented Data Evaluation"
   ]
  },
  {
   "cell_type": "code",
   "execution_count": 135,
   "id": "e245a7fe",
   "metadata": {},
   "outputs": [
    {
     "name": "stdout",
     "output_type": "stream",
     "text": [
      "Original train data shape: (398, 41)\n",
      "Augmented train data shape: (796, 41)\n"
     ]
    }
   ],
   "source": [
    "train_all=[]\n",
    "for count in range (len(trainL)):\n",
    "    train_all.append(pd.concat([trainL[count], train_augL[count]]))\n",
    "\n",
    "print('Original train data shape: {}'.format(trainL[0].shape))\n",
    "print('Augmented train data shape: {}'.format(train_all[0].shape))"
   ]
  },
  {
   "cell_type": "code",
   "execution_count": 169,
   "id": "3031860f",
   "metadata": {},
   "outputs": [],
   "source": [
    "y_pred=train_all[0]['Morbidité'].copy()\n",
    "X_aug=[]\n",
    "for i in range (len(trainL)):\n",
    "    X_aug.append(train_all[i].copy())\n",
    "    del X_aug[i]['Morbidité']"
   ]
  },
  {
   "cell_type": "code",
   "execution_count": 170,
   "id": "5ff63b00",
   "metadata": {},
   "outputs": [
    {
     "data": {
      "text/plain": [
       "(796,)"
      ]
     },
     "execution_count": 170,
     "metadata": {},
     "output_type": "execute_result"
    }
   ],
   "source": [
    "y_pred.shape"
   ]
  },
  {
   "cell_type": "markdown",
   "id": "02801ce3",
   "metadata": {},
   "source": [
    "### Cross validation"
   ]
  },
  {
   "cell_type": "markdown",
   "id": "75a23b54",
   "metadata": {},
   "source": [
    "Many a times, the data is imbalanced, i.e there may be a high number of class1 instances but less number of other class instances. Thus we should train and test our algorithm on each and every instance of the dataset. Then we can take an average of all the noted accuracies over the dataset"
   ]
  },
  {
   "cell_type": "markdown",
   "id": "65ac0e3b",
   "metadata": {},
   "source": [
    "##### On the augmented training data"
   ]
  },
  {
   "cell_type": "code",
   "execution_count": 138,
   "id": "79b74948",
   "metadata": {},
   "outputs": [
    {
     "data": {
      "text/html": [
       "<div>\n",
       "<style scoped>\n",
       "    .dataframe tbody tr th:only-of-type {\n",
       "        vertical-align: middle;\n",
       "    }\n",
       "\n",
       "    .dataframe tbody tr th {\n",
       "        vertical-align: top;\n",
       "    }\n",
       "\n",
       "    .dataframe thead th {\n",
       "        text-align: right;\n",
       "    }\n",
       "</style>\n",
       "<table border=\"1\" class=\"dataframe\">\n",
       "  <thead>\n",
       "    <tr style=\"text-align: right;\">\n",
       "      <th></th>\n",
       "      <th>CV Mean</th>\n",
       "      <th>Std</th>\n",
       "    </tr>\n",
       "  </thead>\n",
       "  <tbody>\n",
       "    <tr>\n",
       "      <th>Linear Svm</th>\n",
       "      <td>0.565285</td>\n",
       "      <td>0.049399</td>\n",
       "    </tr>\n",
       "    <tr>\n",
       "      <th>Radial Svm</th>\n",
       "      <td>0.576377</td>\n",
       "      <td>0.085214</td>\n",
       "    </tr>\n",
       "    <tr>\n",
       "      <th>Logistic Regression</th>\n",
       "      <td>0.514873</td>\n",
       "      <td>0.072062</td>\n",
       "    </tr>\n",
       "    <tr>\n",
       "      <th>KNN</th>\n",
       "      <td>0.543861</td>\n",
       "      <td>0.078791</td>\n",
       "    </tr>\n",
       "    <tr>\n",
       "      <th>Decision Tree</th>\n",
       "      <td>0.610237</td>\n",
       "      <td>0.097989</td>\n",
       "    </tr>\n",
       "    <tr>\n",
       "      <th>Naive Bayes</th>\n",
       "      <td>0.553877</td>\n",
       "      <td>0.152338</td>\n",
       "    </tr>\n",
       "    <tr>\n",
       "      <th>Random Forest</th>\n",
       "      <td>0.744415</td>\n",
       "      <td>0.130303</td>\n",
       "    </tr>\n",
       "  </tbody>\n",
       "</table>\n",
       "</div>"
      ],
      "text/plain": [
       "                      CV Mean       Std\n",
       "Linear Svm           0.565285  0.049399\n",
       "Radial Svm           0.576377  0.085214\n",
       "Logistic Regression  0.514873  0.072062\n",
       "KNN                  0.543861  0.078791\n",
       "Decision Tree        0.610237  0.097989\n",
       "Naive Bayes          0.553877  0.152338\n",
       "Random Forest        0.744415  0.130303"
      ]
     },
     "execution_count": 138,
     "metadata": {},
     "output_type": "execute_result"
    }
   ],
   "source": [
    "from sklearn.model_selection import KFold #for K-fold cross validation\n",
    "from sklearn.model_selection import cross_val_score #score evaluation\n",
    "from sklearn.model_selection import cross_val_predict #prediction\n",
    "kfold = KFold(n_splits=10) # k=10, split the data into 10 equal parts\n",
    "xyz=[]\n",
    "accuracy=[]\n",
    "std=[]\n",
    "classifiers=['Linear Svm','Radial Svm','Logistic Regression','KNN','Decision Tree','Naive Bayes','Random Forest']\n",
    "models=[svm.SVC(kernel='linear'),svm.SVC(kernel='rbf'),LogisticRegression(),KNeighborsClassifier(n_neighbors=9),DecisionTreeClassifier(),GaussianNB(),RandomForestClassifier(n_estimators=100)]\n",
    "for i in models:\n",
    "    model = i\n",
    "    if model == models[0]:\n",
    "            cv_result = cross_val_score(model,X_aug[4],y_pred, cv = kfold,scoring = \"accuracy\")\n",
    "            cv_result=cv_result\n",
    "            xyz.append(cv_result.mean())\n",
    "            std.append(cv_result.std())\n",
    "            accuracy.append(cv_result)\n",
    "    if model == models[1]:\n",
    "            cv_result = cross_val_score(model,X_aug[5],y_pred, cv = kfold,scoring = \"accuracy\")\n",
    "            cv_result=cv_result\n",
    "            xyz.append(cv_result.mean())\n",
    "            std.append(cv_result.std())\n",
    "            accuracy.append(cv_result)\n",
    "    if model == models[2]:\n",
    "            cv_result = cross_val_score(model,X_aug[1],y_pred, cv = kfold,scoring = \"accuracy\")\n",
    "            cv_result=cv_result\n",
    "            xyz.append(cv_result.mean())\n",
    "            std.append(cv_result.std())\n",
    "            accuracy.append(cv_result)\n",
    "    if model == models[3]:\n",
    "            cv_result = cross_val_score(model,X_aug[6],y_pred, cv = kfold,scoring = \"accuracy\")\n",
    "            cv_result=cv_result\n",
    "            xyz.append(cv_result.mean())\n",
    "            std.append(cv_result.std())\n",
    "            accuracy.append(cv_result)\n",
    "    if model == models[4]:\n",
    "            cv_result = cross_val_score(model,X_aug[2],y_pred, cv = kfold,scoring = \"accuracy\")\n",
    "            cv_result=cv_result\n",
    "            xyz.append(cv_result.mean())\n",
    "            std.append(cv_result.std())\n",
    "            accuracy.append(cv_result)\n",
    "    if model == models[5]:\n",
    "            cv_result = cross_val_score(model,X_aug[0],y_pred, cv = kfold,scoring = \"accuracy\")\n",
    "            cv_result=cv_result\n",
    "            xyz.append(cv_result.mean())\n",
    "            std.append(cv_result.std())\n",
    "            accuracy.append(cv_result)\n",
    "    if model == models[6]:\n",
    "            cv_result = cross_val_score(model,X_aug[3],y_pred, cv = kfold,scoring = \"accuracy\")\n",
    "            cv_result=cv_result\n",
    "            xyz.append(cv_result.mean())\n",
    "            std.append(cv_result.std())\n",
    "            accuracy.append(cv_result)\n",
    "new_models_dataframe2=pd.DataFrame({'CV Mean':xyz,'Std':std},index=classifiers)       \n",
    "new_models_dataframe2\n"
   ]
  },
  {
   "cell_type": "markdown",
   "id": "a5219d00",
   "metadata": {},
   "source": [
    "##### On the initial training data"
   ]
  },
  {
   "cell_type": "code",
   "execution_count": 139,
   "id": "f0fe1492",
   "metadata": {},
   "outputs": [
    {
     "data": {
      "text/html": [
       "<div>\n",
       "<style scoped>\n",
       "    .dataframe tbody tr th:only-of-type {\n",
       "        vertical-align: middle;\n",
       "    }\n",
       "\n",
       "    .dataframe tbody tr th {\n",
       "        vertical-align: top;\n",
       "    }\n",
       "\n",
       "    .dataframe thead th {\n",
       "        text-align: right;\n",
       "    }\n",
       "</style>\n",
       "<table border=\"1\" class=\"dataframe\">\n",
       "  <thead>\n",
       "    <tr style=\"text-align: right;\">\n",
       "      <th></th>\n",
       "      <th>CV Mean</th>\n",
       "      <th>Std</th>\n",
       "    </tr>\n",
       "  </thead>\n",
       "  <tbody>\n",
       "    <tr>\n",
       "      <th>Linear Svm</th>\n",
       "      <td>0.585449</td>\n",
       "      <td>0.046063</td>\n",
       "    </tr>\n",
       "    <tr>\n",
       "      <th>Radial Svm</th>\n",
       "      <td>0.673590</td>\n",
       "      <td>0.100251</td>\n",
       "    </tr>\n",
       "    <tr>\n",
       "      <th>Logistic Regression</th>\n",
       "      <td>0.575192</td>\n",
       "      <td>0.051044</td>\n",
       "    </tr>\n",
       "    <tr>\n",
       "      <th>KNN</th>\n",
       "      <td>0.540962</td>\n",
       "      <td>0.146081</td>\n",
       "    </tr>\n",
       "    <tr>\n",
       "      <th>Decision Tree</th>\n",
       "      <td>0.706603</td>\n",
       "      <td>0.102096</td>\n",
       "    </tr>\n",
       "    <tr>\n",
       "      <th>Naive Bayes</th>\n",
       "      <td>0.594167</td>\n",
       "      <td>0.188648</td>\n",
       "    </tr>\n",
       "    <tr>\n",
       "      <th>Random Forest</th>\n",
       "      <td>0.869487</td>\n",
       "      <td>0.046923</td>\n",
       "    </tr>\n",
       "  </tbody>\n",
       "</table>\n",
       "</div>"
      ],
      "text/plain": [
       "                      CV Mean       Std\n",
       "Linear Svm           0.585449  0.046063\n",
       "Radial Svm           0.673590  0.100251\n",
       "Logistic Regression  0.575192  0.051044\n",
       "KNN                  0.540962  0.146081\n",
       "Decision Tree        0.706603  0.102096\n",
       "Naive Bayes          0.594167  0.188648\n",
       "Random Forest        0.869487  0.046923"
      ]
     },
     "execution_count": 139,
     "metadata": {},
     "output_type": "execute_result"
    }
   ],
   "source": [
    "from sklearn.model_selection import KFold #for K-fold cross validation\n",
    "from sklearn.model_selection import cross_val_score #score evaluation\n",
    "from sklearn.model_selection import cross_val_predict #prediction\n",
    "kfold = KFold(n_splits=10) # k=10, split the data into 10 equal parts\n",
    "xyz=[]\n",
    "accuracy=[]\n",
    "std=[]\n",
    "classifiers=['Linear Svm','Radial Svm','Logistic Regression','KNN','Decision Tree','Naive Bayes','Random Forest']\n",
    "models=[svm.SVC(kernel='linear'),svm.SVC(kernel='rbf'),LogisticRegression(),KNeighborsClassifier(n_neighbors=9),DecisionTreeClassifier(),GaussianNB(),RandomForestClassifier(n_estimators=100)]\n",
    "for i in models:\n",
    "    model = i\n",
    "    if model == models[0]:\n",
    "            cv_result = cross_val_score(model,X_train_sL[4],y_train_s, cv = kfold,scoring = \"accuracy\")\n",
    "            cv_result=cv_result\n",
    "            xyz.append(cv_result.mean())\n",
    "            std.append(cv_result.std())\n",
    "            accuracy.append(cv_result)\n",
    "    if model == models[1]:\n",
    "            cv_result = cross_val_score(model,X_train_sL[5],y_train_s, cv = kfold,scoring = \"accuracy\")\n",
    "            cv_result=cv_result\n",
    "            xyz.append(cv_result.mean())\n",
    "            std.append(cv_result.std())\n",
    "            accuracy.append(cv_result)\n",
    "    if model == models[2]:\n",
    "            cv_result = cross_val_score(model,X_train_sL[1],y_train_s, cv = kfold,scoring = \"accuracy\")\n",
    "            cv_result=cv_result\n",
    "            xyz.append(cv_result.mean())\n",
    "            std.append(cv_result.std())\n",
    "            accuracy.append(cv_result)\n",
    "    if model == models[3]:\n",
    "            cv_result = cross_val_score(model,X_train_sL[6],y_train_s, cv = kfold,scoring = \"accuracy\")\n",
    "            cv_result=cv_result\n",
    "            xyz.append(cv_result.mean())\n",
    "            std.append(cv_result.std())\n",
    "            accuracy.append(cv_result)\n",
    "    if model == models[4]:\n",
    "            cv_result = cross_val_score(model,X_train_sL[2],y_train_s, cv = kfold,scoring = \"accuracy\")\n",
    "            cv_result=cv_result\n",
    "            xyz.append(cv_result.mean())\n",
    "            std.append(cv_result.std())\n",
    "            accuracy.append(cv_result)\n",
    "    if model == models[5]:\n",
    "            cv_result = cross_val_score(model,X_train_sL[0],y_train_s, cv = kfold,scoring = \"accuracy\")\n",
    "            cv_result=cv_result\n",
    "            xyz.append(cv_result.mean())\n",
    "            std.append(cv_result.std())\n",
    "            accuracy.append(cv_result)\n",
    "    if model == models[6]:\n",
    "            cv_result = cross_val_score(model,X_train_sL[3],y_train_s, cv = kfold,scoring = \"accuracy\")\n",
    "            cv_result=cv_result\n",
    "            xyz.append(cv_result.mean())\n",
    "            std.append(cv_result.std())\n",
    "            accuracy.append(cv_result)\n",
    "new_models_dataframe2=pd.DataFrame({'CV Mean':xyz,'Std':std},index=classifiers)       \n",
    "new_models_dataframe2\n"
   ]
  },
  {
   "cell_type": "code",
   "execution_count": 140,
   "id": "e6141b41",
   "metadata": {},
   "outputs": [
    {
     "data": {
      "text/plain": [
       "<AxesSubplot:>"
      ]
     },
     "execution_count": 140,
     "metadata": {},
     "output_type": "execute_result"
    },
    {
     "data": {
      "image/png": "[encoded data removed]",
      "text/plain": [
       "<Figure size 864x432 with 1 Axes>"
      ]
     },
     "metadata": {},
     "output_type": "display_data"
    }
   ],
   "source": [
    "plt.subplots(figsize=(12,6))\n",
    "box=pd.DataFrame(accuracy,index=[classifiers])\n",
    "box.T.boxplot()"
   ]
  },
  {
   "cell_type": "code",
   "execution_count": 141,
   "id": "1559db55",
   "metadata": {},
   "outputs": [
    {
     "data": {
      "image/png": "[encoded data removed]",
      "text/plain": [
       "<Figure size 576x360 with 1 Axes>"
      ]
     },
     "metadata": {},
     "output_type": "display_data"
    }
   ],
   "source": [
    "new_models_dataframe2['CV Mean'].plot.barh(width=0.8)\n",
    "plt.title('Average CV Mean Accuracy')\n",
    "fig=plt.gcf()\n",
    "fig.set_size_inches(8,5)\n",
    "plt.show()"
   ]
  },
  {
   "cell_type": "markdown",
   "id": "575e36a5",
   "metadata": {},
   "source": [
    "The classification accuracy can be sometimes misleading due to imbalance. We can get a summarized result with the help of confusion matrix, which shows where did the model go wrong, or which class did the model predict wrong"
   ]
  },
  {
   "cell_type": "markdown",
   "id": "0170f23d",
   "metadata": {},
   "source": [
    "### Confusion Matrix"
   ]
  },
  {
   "cell_type": "markdown",
   "id": "b21f530a",
   "metadata": {},
   "source": [
    "##### On the augmented data"
   ]
  },
  {
   "cell_type": "code",
   "execution_count": 142,
   "id": "789d1980",
   "metadata": {},
   "outputs": [
    {
     "data": {
      "image/png": "[encoded data removed]",
      "text/plain": [
       "<Figure size 864x720 with 16 Axes>"
      ]
     },
     "metadata": {},
     "output_type": "display_data"
    }
   ],
   "source": [
    "#It gives the number of correct and incorrect classifications made by the classifier.\n",
    "f,ax=plt.subplots(3,3,figsize=(12,10))\n",
    "y_pred1 = cross_val_predict(svm.SVC(kernel='rbf'),X_aug[5],y_pred,cv=10)\n",
    "sns.heatmap(confusion_matrix(y_pred,y_pred1),ax=ax[0,0],annot=True,fmt='2.0f')\n",
    "ax[0,0].set_title('Matrix for rbf-SVM')\n",
    "y_pred1 = cross_val_predict(svm.SVC(kernel='linear'),X_aug[4],y_pred,cv=10)\n",
    "sns.heatmap(confusion_matrix(y_pred,y_pred1),ax=ax[0,1],annot=True,fmt='2.0f')\n",
    "ax[0,1].set_title('Matrix for Linear-SVM')\n",
    "y_pred1 = cross_val_predict(KNeighborsClassifier(n_neighbors=9),X_aug[6],y_pred,cv=10)\n",
    "sns.heatmap(confusion_matrix(y_pred,y_pred1),ax=ax[0,2],annot=True,fmt='2.0f')\n",
    "ax[0,2].set_title('Matrix for KNN')\n",
    "y_pred1 = cross_val_predict(RandomForestClassifier(n_estimators=100),X_aug[3],y_pred,cv=10)\n",
    "sns.heatmap(confusion_matrix(y_pred,y_pred1),ax=ax[1,0],annot=True,fmt='2.0f')\n",
    "ax[1,0].set_title('Matrix for Random-Forests')\n",
    "y_pred1 = cross_val_predict(LogisticRegression(),X_aug[1],y_pred,cv=10)\n",
    "sns.heatmap(confusion_matrix(y_pred,y_pred1),ax=ax[1,1],annot=True,fmt='2.0f')\n",
    "ax[1,1].set_title('Matrix for Logistic Regression')\n",
    "y_pred1 = cross_val_predict(DecisionTreeClassifier(),X_aug[2],y_pred,cv=10)\n",
    "sns.heatmap(confusion_matrix(y_pred,y_pred1),ax=ax[1,2],annot=True,fmt='2.0f')\n",
    "ax[1,2].set_title('Matrix for Decision Tree')\n",
    "y_pred1 = cross_val_predict(GaussianNB(),X_aug[0],y_pred,cv=10)\n",
    "sns.heatmap(confusion_matrix(y_pred,y_pred1),ax=ax[2,0],annot=True,fmt='2.0f')\n",
    "ax[2,0].set_title('Matrix for Naive Bayes')\n",
    "plt.subplots_adjust(hspace=0.2,wspace=0.2)\n",
    "plt.show()"
   ]
  },
  {
   "cell_type": "markdown",
   "id": "eb89040c",
   "metadata": {},
   "source": [
    "##### on the initial balanced data"
   ]
  },
  {
   "cell_type": "code",
   "execution_count": 143,
   "id": "009f751e",
   "metadata": {},
   "outputs": [
    {
     "data": {
      "image/png": "[encoded data removed]",
      "text/plain": [
       "<Figure size 864x720 with 16 Axes>"
      ]
     },
     "metadata": {},
     "output_type": "display_data"
    }
   ],
   "source": [
    "#It gives the number of correct and incorrect classifications made by the classifier.\n",
    "f,ax=plt.subplots(3,3,figsize=(12,10))\n",
    "y_train_s1 = cross_val_predict(svm.SVC(kernel='rbf'),X_train_sL[5],y_train_s,cv=10)\n",
    "sns.heatmap(confusion_matrix(y_train_s,y_train_s1),ax=ax[0,0],annot=True,fmt='2.0f')\n",
    "ax[0,0].set_title('Matrix for rbf-SVM')\n",
    "y_train_s1 = cross_val_predict(svm.SVC(kernel='linear'),X_train_sL[4],y_train_s,cv=10)\n",
    "sns.heatmap(confusion_matrix(y_train_s,y_train_s1),ax=ax[0,1],annot=True,fmt='2.0f')\n",
    "ax[0,1].set_title('Matrix for Linear-SVM')\n",
    "y_train_s1 = cross_val_predict(KNeighborsClassifier(n_neighbors=9),X_train_sL[6],y_train_s,cv=10)\n",
    "sns.heatmap(confusion_matrix(y_train_s,y_train_s1),ax=ax[0,2],annot=True,fmt='2.0f')\n",
    "ax[0,2].set_title('Matrix for KNN')\n",
    "y_train_s1 = cross_val_predict(RandomForestClassifier(n_estimators=100),X_train_sL[3],y_train_s,cv=10)\n",
    "sns.heatmap(confusion_matrix(y_train_s,y_train_s1),ax=ax[1,0],annot=True,fmt='2.0f')\n",
    "ax[1,0].set_title('Matrix for Random-Forests')\n",
    "y_train_s1 = cross_val_predict(LogisticRegression(),X_train_sL[1],y_train_s,cv=10)\n",
    "sns.heatmap(confusion_matrix(y_train_s,y_train_s1),ax=ax[1,1],annot=True,fmt='2.0f')\n",
    "ax[1,1].set_title('Matrix for Logistic Regression')\n",
    "y_train_s1 = cross_val_predict(DecisionTreeClassifier(),X_train_sL[2],y_train_s,cv=10)\n",
    "sns.heatmap(confusion_matrix(y_train_s,y_train_s1),ax=ax[1,2],annot=True,fmt='2.0f')\n",
    "ax[1,2].set_title('Matrix for Decision Tree')\n",
    "y_train_s1 = cross_val_predict(GaussianNB(),X_train_sL[0],y_train_s,cv=10)\n",
    "sns.heatmap(confusion_matrix(y_train_s,y_train_s1),ax=ax[2,0],annot=True,fmt='2.0f')\n",
    "ax[2,0].set_title('Matrix for Naive Bayes')\n",
    "plt.subplots_adjust(hspace=0.2,wspace=0.2)\n",
    "plt.show()"
   ]
  },
  {
   "cell_type": "markdown",
   "id": "19f28913",
   "metadata": {},
   "source": [
    "Interpreting Confusion Matrix\n",
    "\n",
    "The left diagonal shows the number of correct predictions made for each class while the right diagonal shows the number of wrong prredictions made. Lets consider the plot for KNN:\n",
    "\n",
    "1)The no. of correct predictions are 78(for not having complications) + 154(for having complication) with the mean CV accuracy being (78+154)/398 = 58% which we did get earlier.\n",
    "\n",
    "2)Errors--> Wrongly Classified 45 people having complications as not having complications and 121 patients not having complications as having complications. Thus it has made more mistakes by predicting people not having complications as having complications.\n",
    "\n",
    "By looking at all the matrices, we can say that Random forest has a higher chance in correctly predicting those who didn't have complications and those who did have issues during the operation."
   ]
  },
  {
   "cell_type": "markdown",
   "id": "e9bed876",
   "metadata": {},
   "source": [
    "### Hyper parameter tunning"
   ]
  },
  {
   "cell_type": "markdown",
   "id": "148542d9",
   "metadata": {},
   "source": [
    "The machine learning models are like a Black-Box. There are some default parameter values for this Black-Box, which we can tune or change to get a better model. Like the C and gamma in the SVM model and similarly different parameters for different classifiers, are called the hyper-parameters, which we can tune to change the learning rate of the algorithm and get a better model. This is known as Hyper-Parameter Tuning.\n",
    "\n",
    "We will tune the hyper-parameters for the best classifier randomForest."
   ]
  },
  {
   "cell_type": "markdown",
   "id": "a43aef7d",
   "metadata": {},
   "source": [
    "##### Random Forest"
   ]
  },
  {
   "cell_type": "code",
   "execution_count": 144,
   "id": "ada37a55",
   "metadata": {},
   "outputs": [
    {
     "name": "stdout",
     "output_type": "stream",
     "text": [
      "Fitting 10 folds for each of 54 candidates, totalling 540 fits\n"
     ]
    },
    {
     "data": {
      "text/plain": [
       "0.8746794871794872"
      ]
     },
     "execution_count": 144,
     "metadata": {},
     "output_type": "execute_result"
    }
   ],
   "source": [
    "from sklearn.model_selection import GridSearchCV, cross_val_score, StratifiedKFold, learning_curve\n",
    "# RFC Parameters tunning \n",
    "RFC = RandomForestClassifier()\n",
    "\n",
    "\n",
    "## Search grid for optimal parameters\n",
    "rf_param_grid = {\"max_depth\": [None],\n",
    "              \"max_features\": [1, 3, 10],\n",
    "              \"min_samples_split\": [2, 3, 10],\n",
    "              \"min_samples_leaf\": [1, 3, 10],\n",
    "              \"bootstrap\": [False],\n",
    "              \"n_estimators\" :[100,300],\n",
    "              \"criterion\": [\"gini\"]}\n",
    "\n",
    "\n",
    "gsRFC = GridSearchCV(RFC,param_grid = rf_param_grid, cv=kfold, scoring=\"accuracy\", n_jobs= 4, verbose = 1)\n",
    "\n",
    "gsRFC.fit(X_train_sL[3],y_train_s)\n",
    "\n",
    "RFC_best = gsRFC.best_estimator_\n",
    "\n",
    "# Best score\n",
    "gsRFC.best_score_\n"
   ]
  },
  {
   "cell_type": "markdown",
   "id": "6f8b556d",
   "metadata": {},
   "source": [
    "Commentaire: After tuning random forest's parameters, the score has become 87.45%."
   ]
  },
  {
   "cell_type": "code",
   "execution_count": 145,
   "id": "f503a9ae",
   "metadata": {},
   "outputs": [
    {
     "data": {
      "text/plain": [
       "RandomForestClassifier(bootstrap=False, max_features=3)"
      ]
     },
     "execution_count": 145,
     "metadata": {},
     "output_type": "execute_result"
    }
   ],
   "source": [
    "RFC_best"
   ]
  },
  {
   "cell_type": "code",
   "execution_count": 146,
   "id": "9f69efdb",
   "metadata": {},
   "outputs": [],
   "source": [
    "from sklearn.metrics import classification_report"
   ]
  },
  {
   "cell_type": "code",
   "execution_count": 147,
   "id": "2c855f8d",
   "metadata": {},
   "outputs": [
    {
     "name": "stdout",
     "output_type": "stream",
     "text": [
      "              precision    recall  f1-score   support\n",
      "\n",
      "         0.0       0.73      0.96      0.83        47\n",
      "         1.0       0.67      0.19      0.30        21\n",
      "\n",
      "    accuracy                           0.72        68\n",
      "   macro avg       0.70      0.57      0.56        68\n",
      "weighted avg       0.71      0.72      0.66        68\n",
      "\n"
     ]
    }
   ],
   "source": [
    "print(classification_report(y_Test, RFC_best.predict(X_TestL[3])))"
   ]
  },
  {
   "cell_type": "markdown",
   "id": "21561f28",
   "metadata": {},
   "source": [
    "#### Plot learning curves"
   ]
  },
  {
   "cell_type": "markdown",
   "id": "9686023a",
   "metadata": {},
   "source": [
    "Learning curves are a good way to see the overfitting effect on the training set and the effect of the training size on the accuracy."
   ]
  },
  {
   "cell_type": "code",
   "execution_count": 148,
   "id": "1a210670",
   "metadata": {},
   "outputs": [
    {
     "data": {
      "image/png": "[encoded data removed]",
      "text/plain": [
       "<Figure size 864x432 with 1 Axes>"
      ]
     },
     "metadata": {},
     "output_type": "display_data"
    }
   ],
   "source": [
    "def plot_learning_curve(estimator, title, X, y, ylim=None, cv=None,\n",
    "                        n_jobs=-1, train_sizes=np.linspace(.1, 1.0, 5)):\n",
    "    \"\"\"Generate a simple plot of the test and training learning curve\"\"\"\n",
    "    plt.figure()\n",
    "    plt.title(title)\n",
    "    if ylim is not None:\n",
    "        plt.ylim(*ylim)\n",
    "    plt.xlabel(\"Training examples\")\n",
    "    plt.ylabel(\"Score\")\n",
    "    train_sizes, train_scores, test_scores = learning_curve(\n",
    "        estimator, X, y, cv=cv, n_jobs=n_jobs, train_sizes=train_sizes)\n",
    "    train_scores_mean = np.mean(train_scores, axis=1)\n",
    "    train_scores_std = np.std(train_scores, axis=1)\n",
    "    test_scores_mean = np.mean(test_scores, axis=1)\n",
    "    test_scores_std = np.std(test_scores, axis=1)\n",
    "    plt.grid()\n",
    "    plt.fill_between(train_sizes, train_scores_mean - train_scores_std,\n",
    "                     train_scores_mean + train_scores_std, alpha=0.1,\n",
    "                     color=\"r\")\n",
    "    plt.fill_between(train_sizes, test_scores_mean - test_scores_std,\n",
    "                     test_scores_mean + test_scores_std, alpha=0.1, color=\"g\")\n",
    "    plt.plot(train_sizes, train_scores_mean, 'o-', color=\"r\",\n",
    "             label=\"Training score\")\n",
    "    plt.plot(train_sizes, test_scores_mean, 'o-', color=\"g\",\n",
    "             label=\"Cross-validation score\")\n",
    "\n",
    "    plt.legend(loc=\"best\")\n",
    "    return plt\n",
    "\n",
    "g = plot_learning_curve(gsRFC.best_estimator_,\"RF mearning curves\",X_train_sL[3],y_train_s,cv=kfold)"
   ]
  },
  {
   "cell_type": "markdown",
   "id": "7f668755",
   "metadata": {},
   "source": [
    "Interpretation : The Random Forest algorithm does overfit. Meanwhile, Cross-Validation is a good, but not perfect, technique to minimize over-fitting.  According to the growing cross-validation curves random forest could perform better with more training examples."
   ]
  },
  {
   "cell_type": "markdown",
   "id": "e571bb2d",
   "metadata": {},
   "source": [
    " ##### Feature importance of random forest classifier"
   ]
  },
  {
   "cell_type": "markdown",
   "id": "8fea05c7",
   "metadata": {},
   "source": [
    "In order to see the most informative features for the prediction of our target, i displayed the feature importance for the random forest classifier."
   ]
  },
  {
   "cell_type": "code",
   "execution_count": 149,
   "id": "dee903c3",
   "metadata": {},
   "outputs": [
    {
     "name": "stdout",
     "output_type": "stream",
     "text": [
      "1.0\n"
     ]
    },
    {
     "data": {
      "image/png": "[encoded data removed]",
      "text/plain": [
       "<Figure size 864x432 with 1 Axes>"
      ]
     },
     "metadata": {},
     "output_type": "display_data"
    }
   ],
   "source": [
    "def plot_model_var_imp( model , X , y ):\n",
    "    imp = pd.DataFrame( \n",
    "       model.feature_importances_  , \n",
    "      columns = [ 'Importance' ] , \n",
    "      index = X.columns \n",
    "   )\n",
    "    imp = imp.sort_values( [ 'Importance' ] , ascending = False )\n",
    "    imp[ : 20].plot( kind = 'barh' )\n",
    "    print (model.score( X , y ))\n",
    "\n",
    "plot_model_var_imp(RFC_best, X_train_sL[3],y_train_s)"
   ]
  },
  {
   "cell_type": "markdown",
   "id": "0603b1eb",
   "metadata": {},
   "source": [
    "### Making predictions"
   ]
  },
  {
   "cell_type": "code",
   "execution_count": 166,
   "id": "5638752a",
   "metadata": {},
   "outputs": [],
   "source": [
    "RFC = RandomForestClassifier(bootstrap=False, max_features=3, n_estimators=300)\n",
    "RFC.fit(X_train_sL[3],y_train_s)\n",
    "y_pred1 = RFC.predict(X_TestL[3])"
   ]
  },
  {
   "cell_type": "code",
   "execution_count": 167,
   "id": "ca00221b",
   "metadata": {},
   "outputs": [
    {
     "data": {
      "text/html": [
       "<div>\n",
       "<style scoped>\n",
       "    .dataframe tbody tr th:only-of-type {\n",
       "        vertical-align: middle;\n",
       "    }\n",
       "\n",
       "    .dataframe tbody tr th {\n",
       "        vertical-align: top;\n",
       "    }\n",
       "\n",
       "    .dataframe thead th {\n",
       "        text-align: right;\n",
       "    }\n",
       "</style>\n",
       "<table border=\"1\" class=\"dataframe\">\n",
       "  <thead>\n",
       "    <tr style=\"text-align: right;\">\n",
       "      <th></th>\n",
       "      <th>Actual</th>\n",
       "      <th>Predicted</th>\n",
       "    </tr>\n",
       "  </thead>\n",
       "  <tbody>\n",
       "    <tr>\n",
       "      <th>102</th>\n",
       "      <td>1.0</td>\n",
       "      <td>0.0</td>\n",
       "    </tr>\n",
       "    <tr>\n",
       "      <th>125</th>\n",
       "      <td>0.0</td>\n",
       "      <td>0.0</td>\n",
       "    </tr>\n",
       "    <tr>\n",
       "      <th>11</th>\n",
       "      <td>0.0</td>\n",
       "      <td>0.0</td>\n",
       "    </tr>\n",
       "    <tr>\n",
       "      <th>248</th>\n",
       "      <td>0.0</td>\n",
       "      <td>1.0</td>\n",
       "    </tr>\n",
       "    <tr>\n",
       "      <th>238</th>\n",
       "      <td>0.0</td>\n",
       "      <td>0.0</td>\n",
       "    </tr>\n",
       "    <tr>\n",
       "      <th>334</th>\n",
       "      <td>0.0</td>\n",
       "      <td>0.0</td>\n",
       "    </tr>\n",
       "    <tr>\n",
       "      <th>112</th>\n",
       "      <td>1.0</td>\n",
       "      <td>0.0</td>\n",
       "    </tr>\n",
       "    <tr>\n",
       "      <th>147</th>\n",
       "      <td>0.0</td>\n",
       "      <td>0.0</td>\n",
       "    </tr>\n",
       "    <tr>\n",
       "      <th>89</th>\n",
       "      <td>1.0</td>\n",
       "      <td>0.0</td>\n",
       "    </tr>\n",
       "    <tr>\n",
       "      <th>173</th>\n",
       "      <td>0.0</td>\n",
       "      <td>0.0</td>\n",
       "    </tr>\n",
       "    <tr>\n",
       "      <th>117</th>\n",
       "      <td>0.0</td>\n",
       "      <td>0.0</td>\n",
       "    </tr>\n",
       "    <tr>\n",
       "      <th>230</th>\n",
       "      <td>0.0</td>\n",
       "      <td>0.0</td>\n",
       "    </tr>\n",
       "    <tr>\n",
       "      <th>123</th>\n",
       "      <td>0.0</td>\n",
       "      <td>1.0</td>\n",
       "    </tr>\n",
       "    <tr>\n",
       "      <th>161</th>\n",
       "      <td>0.0</td>\n",
       "      <td>0.0</td>\n",
       "    </tr>\n",
       "    <tr>\n",
       "      <th>4</th>\n",
       "      <td>0.0</td>\n",
       "      <td>0.0</td>\n",
       "    </tr>\n",
       "    <tr>\n",
       "      <th>246</th>\n",
       "      <td>0.0</td>\n",
       "      <td>0.0</td>\n",
       "    </tr>\n",
       "    <tr>\n",
       "      <th>289</th>\n",
       "      <td>1.0</td>\n",
       "      <td>0.0</td>\n",
       "    </tr>\n",
       "    <tr>\n",
       "      <th>275</th>\n",
       "      <td>0.0</td>\n",
       "      <td>0.0</td>\n",
       "    </tr>\n",
       "    <tr>\n",
       "      <th>285</th>\n",
       "      <td>1.0</td>\n",
       "      <td>0.0</td>\n",
       "    </tr>\n",
       "    <tr>\n",
       "      <th>219</th>\n",
       "      <td>0.0</td>\n",
       "      <td>0.0</td>\n",
       "    </tr>\n",
       "    <tr>\n",
       "      <th>303</th>\n",
       "      <td>0.0</td>\n",
       "      <td>0.0</td>\n",
       "    </tr>\n",
       "    <tr>\n",
       "      <th>119</th>\n",
       "      <td>0.0</td>\n",
       "      <td>0.0</td>\n",
       "    </tr>\n",
       "    <tr>\n",
       "      <th>251</th>\n",
       "      <td>0.0</td>\n",
       "      <td>0.0</td>\n",
       "    </tr>\n",
       "    <tr>\n",
       "      <th>6</th>\n",
       "      <td>0.0</td>\n",
       "      <td>0.0</td>\n",
       "    </tr>\n",
       "    <tr>\n",
       "      <th>335</th>\n",
       "      <td>0.0</td>\n",
       "      <td>0.0</td>\n",
       "    </tr>\n",
       "    <tr>\n",
       "      <th>122</th>\n",
       "      <td>1.0</td>\n",
       "      <td>0.0</td>\n",
       "    </tr>\n",
       "    <tr>\n",
       "      <th>287</th>\n",
       "      <td>0.0</td>\n",
       "      <td>0.0</td>\n",
       "    </tr>\n",
       "    <tr>\n",
       "      <th>250</th>\n",
       "      <td>1.0</td>\n",
       "      <td>0.0</td>\n",
       "    </tr>\n",
       "    <tr>\n",
       "      <th>311</th>\n",
       "      <td>0.0</td>\n",
       "      <td>0.0</td>\n",
       "    </tr>\n",
       "    <tr>\n",
       "      <th>267</th>\n",
       "      <td>0.0</td>\n",
       "      <td>0.0</td>\n",
       "    </tr>\n",
       "    <tr>\n",
       "      <th>197</th>\n",
       "      <td>0.0</td>\n",
       "      <td>0.0</td>\n",
       "    </tr>\n",
       "    <tr>\n",
       "      <th>177</th>\n",
       "      <td>1.0</td>\n",
       "      <td>0.0</td>\n",
       "    </tr>\n",
       "    <tr>\n",
       "      <th>228</th>\n",
       "      <td>0.0</td>\n",
       "      <td>0.0</td>\n",
       "    </tr>\n",
       "    <tr>\n",
       "      <th>107</th>\n",
       "      <td>0.0</td>\n",
       "      <td>0.0</td>\n",
       "    </tr>\n",
       "    <tr>\n",
       "      <th>18</th>\n",
       "      <td>0.0</td>\n",
       "      <td>0.0</td>\n",
       "    </tr>\n",
       "    <tr>\n",
       "      <th>312</th>\n",
       "      <td>0.0</td>\n",
       "      <td>0.0</td>\n",
       "    </tr>\n",
       "    <tr>\n",
       "      <th>59</th>\n",
       "      <td>0.0</td>\n",
       "      <td>1.0</td>\n",
       "    </tr>\n",
       "    <tr>\n",
       "      <th>131</th>\n",
       "      <td>1.0</td>\n",
       "      <td>0.0</td>\n",
       "    </tr>\n",
       "    <tr>\n",
       "      <th>234</th>\n",
       "      <td>1.0</td>\n",
       "      <td>0.0</td>\n",
       "    </tr>\n",
       "    <tr>\n",
       "      <th>120</th>\n",
       "      <td>1.0</td>\n",
       "      <td>0.0</td>\n",
       "    </tr>\n",
       "    <tr>\n",
       "      <th>284</th>\n",
       "      <td>0.0</td>\n",
       "      <td>0.0</td>\n",
       "    </tr>\n",
       "    <tr>\n",
       "      <th>159</th>\n",
       "      <td>0.0</td>\n",
       "      <td>0.0</td>\n",
       "    </tr>\n",
       "    <tr>\n",
       "      <th>158</th>\n",
       "      <td>0.0</td>\n",
       "      <td>0.0</td>\n",
       "    </tr>\n",
       "    <tr>\n",
       "      <th>207</th>\n",
       "      <td>0.0</td>\n",
       "      <td>0.0</td>\n",
       "    </tr>\n",
       "    <tr>\n",
       "      <th>319</th>\n",
       "      <td>0.0</td>\n",
       "      <td>0.0</td>\n",
       "    </tr>\n",
       "    <tr>\n",
       "      <th>95</th>\n",
       "      <td>1.0</td>\n",
       "      <td>0.0</td>\n",
       "    </tr>\n",
       "    <tr>\n",
       "      <th>80</th>\n",
       "      <td>0.0</td>\n",
       "      <td>0.0</td>\n",
       "    </tr>\n",
       "    <tr>\n",
       "      <th>188</th>\n",
       "      <td>1.0</td>\n",
       "      <td>0.0</td>\n",
       "    </tr>\n",
       "    <tr>\n",
       "      <th>330</th>\n",
       "      <td>0.0</td>\n",
       "      <td>0.0</td>\n",
       "    </tr>\n",
       "    <tr>\n",
       "      <th>92</th>\n",
       "      <td>0.0</td>\n",
       "      <td>0.0</td>\n",
       "    </tr>\n",
       "  </tbody>\n",
       "</table>\n",
       "</div>"
      ],
      "text/plain": [
       "     Actual  Predicted\n",
       "102     1.0        0.0\n",
       "125     0.0        0.0\n",
       "11      0.0        0.0\n",
       "248     0.0        1.0\n",
       "238     0.0        0.0\n",
       "334     0.0        0.0\n",
       "112     1.0        0.0\n",
       "147     0.0        0.0\n",
       "89      1.0        0.0\n",
       "173     0.0        0.0\n",
       "117     0.0        0.0\n",
       "230     0.0        0.0\n",
       "123     0.0        1.0\n",
       "161     0.0        0.0\n",
       "4       0.0        0.0\n",
       "246     0.0        0.0\n",
       "289     1.0        0.0\n",
       "275     0.0        0.0\n",
       "285     1.0        0.0\n",
       "219     0.0        0.0\n",
       "303     0.0        0.0\n",
       "119     0.0        0.0\n",
       "251     0.0        0.0\n",
       "6       0.0        0.0\n",
       "335     0.0        0.0\n",
       "122     1.0        0.0\n",
       "287     0.0        0.0\n",
       "250     1.0        0.0\n",
       "311     0.0        0.0\n",
       "267     0.0        0.0\n",
       "197     0.0        0.0\n",
       "177     1.0        0.0\n",
       "228     0.0        0.0\n",
       "107     0.0        0.0\n",
       "18      0.0        0.0\n",
       "312     0.0        0.0\n",
       "59      0.0        1.0\n",
       "131     1.0        0.0\n",
       "234     1.0        0.0\n",
       "120     1.0        0.0\n",
       "284     0.0        0.0\n",
       "159     0.0        0.0\n",
       "158     0.0        0.0\n",
       "207     0.0        0.0\n",
       "319     0.0        0.0\n",
       "95      1.0        0.0\n",
       "80      0.0        0.0\n",
       "188     1.0        0.0\n",
       "330     0.0        0.0\n",
       "92      0.0        0.0"
      ]
     },
     "execution_count": 167,
     "metadata": {},
     "output_type": "execute_result"
    }
   ],
   "source": [
    "df=pd.DataFrame({'Actual':y_Test, 'Predicted':y_pred1})\n",
    "df.head(50)"
   ]
  },
  {
   "cell_type": "code",
   "execution_count": 162,
   "id": "e1e854ab",
   "metadata": {},
   "outputs": [
    {
     "name": "stdout",
     "output_type": "stream",
     "text": [
      "Nombre de lignes ayant une prediction correcte est: 51\n",
      "Nombre de lignes ayant une fausse prediction est: 17\n"
     ]
    }
   ],
   "source": [
    "df1=df.reset_index(drop=True)\n",
    "count_true=0\n",
    "count_false=0\n",
    "for i in range (df1.shape[0]):\n",
    "    if df1['Actual'][i]==df1['Predicted'][i]:\n",
    "        count_true+=1\n",
    "    else:\n",
    "        count_false+=1\n",
    "        \n",
    "print(\"Nombre de lignes ayant une prediction correcte est:\",count_true)\n",
    "print(\"Nombre de lignes ayant une fausse prediction est:\",count_false)"
   ]
  },
  {
   "cell_type": "code",
   "execution_count": null,
   "id": "9c895ad6",
   "metadata": {},
   "outputs": [],
   "source": []
  }
 ],
 "metadata": {
  "kernelspec": {
   "display_name": "Python 3 (ipykernel)",
   "language": "python",
   "name": "python3"
  },
  "language_info": {
   "codemirror_mode": {
    "name": "ipython",
    "version": 3
   },
   "file_extension": ".py",
   "mimetype": "text/x-python",
   "name": "python",
   "nbconvert_exporter": "python",
   "pygments_lexer": "ipython3",
   "version": "3.9.7"
  }
 },
 "nbformat": 4,
 "nbformat_minor": 5
}
