{
 "cells": [
  {
   "cell_type": "markdown",
   "metadata": {
    "_cell_guid": "bc64948f-5d6a-078d-085d-1beb58687bd3",
    "_uuid": "e919d1161f20999e599ba1fd66a5a45b9c82f229"
   },
   "source": [
    "# Table of content\n",
    "\n",
    "1. Introduction - Loading libraries and dataset\n",
    "2. Exploratory analysis, engineering and cleaning features - Bi-variate analysis\n",
    "3. Correlation analysis - Tri-variate analysis\n",
    "4. Predictive modelling, cross-validation, hyperparameters and ensembling\n",
    "\n",
    "\n",
    "\n",
    "\n",
    "# Loading libraries and dataset\n",
    "\n",
    "#### Importing Library"
   ]
  },
  {
   "cell_type": "code",
   "execution_count": 112,
   "metadata": {
    "_cell_guid": "14630296-b1aa-759e-bafa-b6a73f3896ed",
    "_execution_state": "idle",
    "_kg_hide-input": true,
    "_kg_hide-output": true,
    "_uuid": "2e37a274400cfeb472b6405d524325245588dd66",
    "jupyter": {
     "outputs_hidden": true
    }
   },
   "outputs": [
    {
     "data": {
      "text/html": [
       "        <script type=\"text/javascript\">\n",
       "        window.PlotlyConfig = {MathJaxConfig: 'local'};\n",
       "        if (window.MathJax) {MathJax.Hub.Config({SVG: {font: \"STIX-Web\"}});}\n",
       "        if (typeof require !== 'undefined') {\n",
       "        require.undef(\"plotly\");\n",
       "        requirejs.config({\n",
       "            paths: {\n",
       "                'plotly': ['https://cdn.plot.ly/plotly-2.4.2.min']\n",
       "            }\n",
       "        });\n",
       "        require(['plotly'], function(Plotly) {\n",
       "            window._Plotly = Plotly;\n",
       "        });\n",
       "        }\n",
       "        </script>\n",
       "        "
      ]
     },
     "metadata": {},
     "output_type": "display_data"
    }
   ],
   "source": [
    "# Load libraries for analysis and visualization\n",
    "import pandas as pd # collection of functions for data processing and analysis modeled after R dataframes with SQL like features\n",
    "import numpy as np  # foundational package for scientific computing\n",
    "import re           # Regular expression operations\n",
    "import matplotlib.pyplot as plt # Collection of functions for scientific and publication-ready visualization\n",
    "%matplotlib inline\n",
    "import plotly.offline as py     # Open source library for composing, editing, and sharing interactive data visualization \n",
    "from matplotlib import pyplot\n",
    "py.init_notebook_mode(connected=True)\n",
    "import plotly.graph_objs as go\n",
    "import plotly.tools as tls\n",
    "from collections import Counter\n",
    "\n",
    "# Machine learning libraries\n",
    "import xgboost as xgb  # Implementation of gradient boosted decision trees designed for speed and performance that is dominative competitive machine learning\n",
    "import seaborn as sns  # Visualization library based on matplotlib, provides interface for drawing attractive statistical graphics\n",
    "\n",
    "import sklearn         # Collection of machine learning algorithms\n",
    "from sklearn.linear_model import LogisticRegression\n",
    "from sklearn.svm import SVC, LinearSVC\n",
    "from sklearn.ensemble import (RandomForestClassifier, AdaBoostClassifier, \n",
    "                              GradientBoostingClassifier, ExtraTreesClassifier, VotingClassifier)\n",
    "#from sklearn.cross_validation import KFold\n",
    "from sklearn.neighbors import KNeighborsClassifier\n",
    "from sklearn.naive_bayes import GaussianNB\n",
    "from sklearn.linear_model import Perceptron\n",
    "from sklearn.linear_model import SGDClassifier\n",
    "from sklearn.tree import DecisionTreeClassifier\n",
    "from sklearn.model_selection import GridSearchCV, cross_val_score, StratifiedKFold, learning_curve\n",
    "from sklearn.preprocessing import StandardScaler\n",
    "from sklearn.model_selection import train_test_split\n",
    "from sklearn.metrics import accuracy_score,classification_report, precision_recall_curve, confusion_matrix\n",
    "\n",
    "import warnings\n",
    "warnings.filterwarnings('ignore')"
   ]
  },
  {
   "cell_type": "code",
   "execution_count": 113,
   "metadata": {
    "scrolled": true
   },
   "outputs": [
    {
     "name": "stdout",
     "output_type": "stream",
     "text": [
      "Requirement already up-to-date: prince in c:\\users\\user\\anaconda3\\lib\\site-packages (0.7.1)\n",
      "Requirement already satisfied, skipping upgrade: scipy>=1.3.0 in c:\\users\\user\\anaconda3\\lib\\site-packages (from prince) (1.5.2)\n",
      "Requirement already satisfied, skipping upgrade: scikit-learn>=0.22.1 in c:\\users\\user\\anaconda3\\lib\\site-packages (from prince) (0.24.2)\n",
      "Requirement already satisfied, skipping upgrade: matplotlib>=3.0.2 in c:\\users\\user\\anaconda3\\lib\\site-packages (from prince) (3.3.2)\n",
      "Requirement already satisfied, skipping upgrade: numpy>=1.17.1 in c:\\users\\user\\anaconda3\\lib\\site-packages (from prince) (1.19.2)\n",
      "Requirement already satisfied, skipping upgrade: pandas>=1.0.3 in c:\\users\\user\\anaconda3\\lib\\site-packages (from prince) (1.1.3)\n",
      "Requirement already satisfied, skipping upgrade: threadpoolctl>=2.0.0 in c:\\users\\user\\anaconda3\\lib\\site-packages (from scikit-learn>=0.22.1->prince) (2.1.0)\n",
      "Requirement already satisfied, skipping upgrade: joblib>=0.11 in c:\\users\\user\\anaconda3\\lib\\site-packages (from scikit-learn>=0.22.1->prince) (0.17.0)\n",
      "Requirement already satisfied, skipping upgrade: pyparsing!=2.0.4,!=2.1.2,!=2.1.6,>=2.0.3 in c:\\users\\user\\anaconda3\\lib\\site-packages (from matplotlib>=3.0.2->prince) (2.4.7)\n",
      "Requirement already satisfied, skipping upgrade: python-dateutil>=2.1 in c:\\users\\user\\anaconda3\\lib\\site-packages (from matplotlib>=3.0.2->prince) (2.8.1)\n",
      "Requirement already satisfied, skipping upgrade: kiwisolver>=1.0.1 in c:\\users\\user\\anaconda3\\lib\\site-packages (from matplotlib>=3.0.2->prince) (1.3.0)\n",
      "Requirement already satisfied, skipping upgrade: cycler>=0.10 in c:\\users\\user\\anaconda3\\lib\\site-packages (from matplotlib>=3.0.2->prince) (0.10.0)\n",
      "Requirement already satisfied, skipping upgrade: pillow>=6.2.0 in c:\\users\\user\\anaconda3\\lib\\site-packages (from matplotlib>=3.0.2->prince) (8.0.1)\n",
      "Requirement already satisfied, skipping upgrade: certifi>=2020.06.20 in c:\\users\\user\\anaconda3\\lib\\site-packages (from matplotlib>=3.0.2->prince) (2020.6.20)\n",
      "Requirement already satisfied, skipping upgrade: pytz>=2017.2 in c:\\users\\user\\anaconda3\\lib\\site-packages (from pandas>=1.0.3->prince) (2020.1)\n",
      "Requirement already satisfied, skipping upgrade: six>=1.5 in c:\\users\\user\\anaconda3\\lib\\site-packages (from python-dateutil>=2.1->matplotlib>=3.0.2->prince) (1.15.0)\n",
      "Note: you may need to restart the kernel to use updated packages.\n"
     ]
    }
   ],
   "source": [
    " pip install prince --upgrade"
   ]
  },
  {
   "cell_type": "code",
   "execution_count": 114,
   "metadata": {},
   "outputs": [
    {
     "name": "stdout",
     "output_type": "stream",
     "text": [
      "Requirement already satisfied: mlxtend in c:\\users\\user\\anaconda3\\lib\\site-packages (0.19.0)\n",
      "Requirement already satisfied: numpy>=1.16.2 in c:\\users\\user\\anaconda3\\lib\\site-packages (from mlxtend) (1.19.2)\n",
      "Requirement already satisfied: pandas>=0.24.2 in c:\\users\\user\\anaconda3\\lib\\site-packages (from mlxtend) (1.1.3)\n",
      "Requirement already satisfied: joblib>=0.13.2 in c:\\users\\user\\anaconda3\\lib\\site-packages (from mlxtend) (0.17.0)\n",
      "Requirement already satisfied: matplotlib>=3.0.0 in c:\\users\\user\\anaconda3\\lib\\site-packages (from mlxtend) (3.3.2)\n",
      "Requirement already satisfied: scipy>=1.2.1 in c:\\users\\user\\anaconda3\\lib\\site-packages (from mlxtend) (1.5.2)\n",
      "Requirement already satisfied: setuptools in c:\\users\\user\\anaconda3\\lib\\site-packages (from mlxtend) (50.3.1.post20201107)\n",
      "Requirement already satisfied: scikit-learn>=0.20.3 in c:\\users\\user\\anaconda3\\lib\\site-packages (from mlxtend) (0.24.2)\n",
      "Requirement already satisfied: pytz>=2017.2 in c:\\users\\user\\anaconda3\\lib\\site-packages (from pandas>=0.24.2->mlxtend) (2020.1)\n",
      "Requirement already satisfied: python-dateutil>=2.7.3 in c:\\users\\user\\anaconda3\\lib\\site-packages (from pandas>=0.24.2->mlxtend) (2.8.1)\n",
      "Requirement already satisfied: pillow>=6.2.0 in c:\\users\\user\\anaconda3\\lib\\site-packages (from matplotlib>=3.0.0->mlxtend) (8.0.1)\n",
      "Requirement already satisfied: certifi>=2020.06.20 in c:\\users\\user\\anaconda3\\lib\\site-packages (from matplotlib>=3.0.0->mlxtend) (2020.6.20)\n",
      "Requirement already satisfied: kiwisolver>=1.0.1 in c:\\users\\user\\anaconda3\\lib\\site-packages (from matplotlib>=3.0.0->mlxtend) (1.3.0)\n",
      "Requirement already satisfied: cycler>=0.10 in c:\\users\\user\\anaconda3\\lib\\site-packages (from matplotlib>=3.0.0->mlxtend) (0.10.0)\n",
      "Requirement already satisfied: pyparsing!=2.0.4,!=2.1.2,!=2.1.6,>=2.0.3 in c:\\users\\user\\anaconda3\\lib\\site-packages (from matplotlib>=3.0.0->mlxtend) (2.4.7)\n",
      "Requirement already satisfied: threadpoolctl>=2.0.0 in c:\\users\\user\\anaconda3\\lib\\site-packages (from scikit-learn>=0.20.3->mlxtend) (2.1.0)\n",
      "Requirement already satisfied: six>=1.5 in c:\\users\\user\\anaconda3\\lib\\site-packages (from python-dateutil>=2.7.3->pandas>=0.24.2->mlxtend) (1.15.0)\n",
      "Note: you may need to restart the kernel to use updated packages.\n"
     ]
    }
   ],
   "source": [
    "pip install mlxtend"
   ]
  },
  {
   "cell_type": "code",
   "execution_count": 115,
   "metadata": {},
   "outputs": [],
   "source": [
    "import numpy as np\n",
    "import pandas as pd\n",
    "import matplotlib.pyplot as plt\n",
    "import seaborn as sns\n",
    "from sklearn import linear_model\n",
    "from sklearn.linear_model import LogisticRegression\n",
    "from sklearn.ensemble import RandomForestClassifier\n",
    "from sklearn.model_selection import train_test_split\n",
    "from sklearn.decomposition import PCA,TruncatedSVD\n",
    "import prince\n",
    "\n",
    "from sklearn.preprocessing import StandardScaler\n",
    "from sklearn.decomposition import KernelPCA\n",
    "from sklearn.linear_model import LinearRegression\n",
    "import itertools\n",
    "from sklearn import linear_model\n",
    "from sklearn import metrics\n",
    "\n",
    "#importing all the required ML packages\n",
    "from sklearn.linear_model import LogisticRegression #logistic regression\n",
    "from sklearn import svm #support vector Machine\n",
    "from sklearn.ensemble import RandomForestClassifier #Random Forest\n",
    "from sklearn.neighbors import KNeighborsClassifier #KNN\n",
    "from sklearn.naive_bayes import GaussianNB #Naive bayes\n",
    "from sklearn.tree import DecisionTreeClassifier #Decision Tree\n",
    "from sklearn.model_selection import train_test_split #training and testing data split\n",
    "from sklearn import metrics #accuracy measure\n",
    "from sklearn.metrics import confusion_matrix #for confusion matrix\n",
    "\n",
    "# data preprocessing\n",
    "from imblearn.over_sampling import SMOTE\n",
    "from imblearn.over_sampling import SMOTENC\n",
    "from sklearn.model_selection import GridSearchCV, cross_val_score, StratifiedKFold, learning_curve\n",
    "\n",
    "from sklearn.metrics import classification_report\n"
   ]
  },
  {
   "cell_type": "code",
   "execution_count": 116,
   "metadata": {},
   "outputs": [
    {
     "data": {
      "text/plain": [
       "(347, 189)"
      ]
     },
     "execution_count": 116,
     "metadata": {},
     "output_type": "execute_result"
    }
   ],
   "source": [
    "dataset = pd.read_excel(\"BD Kc colorectal_stage ESI.xlsx\")\n",
    "df = dataset.copy()\n",
    "df.shape"
   ]
  },
  {
   "cell_type": "code",
   "execution_count": 117,
   "metadata": {},
   "outputs": [],
   "source": [
    "na = [\"?\",\"à compléter\", 'A compléter', 'pas de n°tel','à compléter']\n",
    "for col in df.columns:\n",
    "    for i in range(df.shape[0]):\n",
    "        if df[col][i] in na:\n",
    "            df[col][i] = np.nan"
   ]
  },
  {
   "cell_type": "code",
   "execution_count": 118,
   "metadata": {},
   "outputs": [],
   "source": [
    "L = ['date_chir', 'D dernière onsultation', 'D contact tél', \n",
    "       'Decès date', 'statut_prog', 'Date recidive', 'Evolution recid',\n",
    "       'remarques','Unnamed: 188']\n",
    "for col in L:\n",
    "    del df[col]\n",
    "    "
   ]
  },
  {
   "cell_type": "markdown",
   "metadata": {},
   "source": [
    "### Suppression des lignes contenant Morbidité NaN."
   ]
  },
  {
   "cell_type": "code",
   "execution_count": 119,
   "metadata": {},
   "outputs": [
    {
     "data": {
      "text/plain": [
       "0"
      ]
     },
     "execution_count": 119,
     "metadata": {},
     "output_type": "execute_result"
    }
   ],
   "source": [
    "indexNames = df[df['Morbidité'].isna()].index\n",
    "df.drop(indexNames , inplace=True)\n",
    "df['Morbidité'].isnull().sum()"
   ]
  },
  {
   "cell_type": "code",
   "execution_count": 120,
   "metadata": {},
   "outputs": [],
   "source": [
    "df.reset_index(drop = True, inplace = True)"
   ]
  },
  {
   "cell_type": "markdown",
   "metadata": {},
   "source": [
    "### Suppression des features qui ne sont pas nécessaires ( avec accord)"
   ]
  },
  {
   "cell_type": "code",
   "execution_count": 121,
   "metadata": {},
   "outputs": [],
   "source": [
    "L = ['signif Incid Perop','signif CP', 'FistJPostOP',  'signif autres.1',\n",
    "     'PéritoJPostop', 'signif autres Manifcliniq ', 'signif autres','SténoJPostOP',\n",
    "    'FRVJPostOP','CStomiJPostOP', 'CHémorJPostOP', 'CUrinairJPostOP' ,   'CUrinairTrait',\n",
    "     'DélaisPostRCCH','DuréeSéjPostOP','DuréeSéjRéa' ,'DécJPostOP','CauseDécès']\n",
    "for col in L:\n",
    "    del df[col]"
   ]
  },
  {
   "cell_type": "code",
   "execution_count": 122,
   "metadata": {},
   "outputs": [
    {
     "data": {
      "text/plain": [
       "(338, 162)"
      ]
     },
     "execution_count": 122,
     "metadata": {},
     "output_type": "execute_result"
    }
   ],
   "source": [
    "df.shape"
   ]
  },
  {
   "cell_type": "code",
   "execution_count": 123,
   "metadata": {},
   "outputs": [],
   "source": [
    "# Remplacer les valeurs manquantes par NaN.\n",
    "\n",
    "li_8 = [\"atcd chir\",\"Localisation\",\"TDMSiège\", \"CmplcatParié\", \"Cplct Générl\"]\n",
    "li_6_8 = [\"Type histologique\"]\n",
    "\n",
    "\n",
    "for col in li_8:\n",
    "    df.loc[df[col] == 8, col] = np.nan\n",
    "\n",
    "df.loc[df[\"Décès\"] == 9, \"Décès\"] = np.nan\n",
    "df.loc[df[\"trouble transi\"] == 2, \"trouble transi\"] = np.nan\n",
    "df.loc[df[\"Type histologique\"] == 6 , \"Type histologique\"] = np.nan\n",
    "df.loc[df[\"Type histologique\"] == 8, \"Type histologique\"] = np.nan\n",
    "df.loc[df[\"ACE\"] == 'inf 0,50', \"ACE\"] = 0.5\n"
   ]
  },
  {
   "cell_type": "markdown",
   "metadata": {},
   "source": [
    "### Remplissage des valeurs manquantes ( pour les complications )"
   ]
  },
  {
   "cell_type": "code",
   "execution_count": 124,
   "metadata": {},
   "outputs": [],
   "source": [
    "L = ['FistEvolution', 'PéritoEvolution', 'SténoEvoluti','FRVEvolution', 'CStomiEvolut', 'CPérinEvolut', 'CUrinairEvolu' ]\n",
    "for col in L:\n",
    "    df.loc[df[col].isna() == False, col] = 1  # évolution\n",
    "    df[col] = df[col].fillna(0)  # Pas d'évolution"
   ]
  },
  {
   "cell_type": "code",
   "execution_count": 125,
   "metadata": {},
   "outputs": [],
   "source": [
    "for col in df.columns[df.columns.get_loc(\"CmplcatPerOP\"):df.columns.get_loc(\"Cplct Générl\")+1]:\n",
    "    df[col] = df[col].fillna(0)"
   ]
  },
  {
   "cell_type": "markdown",
   "metadata": {},
   "source": [
    "#### Remplissage des NaN pour les features ( avant Morbidité)"
   ]
  },
  {
   "cell_type": "markdown",
   "metadata": {},
   "source": [
    "### Fillna with mean"
   ]
  },
  {
   "cell_type": "code",
   "execution_count": 126,
   "metadata": {},
   "outputs": [
    {
     "name": "stdout",
     "output_type": "stream",
     "text": [
      "0.0|0.0|0.0|0.0|0.0|0.0|0.0|0.0|0.0|0.0|0.0|0.0|0.0|0.0|0.0|"
     ]
    }
   ],
   "source": [
    "numeric_features = [\"Age\",\"Hémoglobine\",\"Globule blanc\", \"Plaquette\",\"CRP\" , \"Urée\" , \"Créat\" , \"Glycémie\" , \"Albumine\" ,\n",
    "\"Préalbumine\" , \"Protidemie\" , \"ACE\" , \"CA19-9\"  , 'Histo Nbgg', 'Histo ggPosit']\n",
    "\n",
    "for col in numeric_features:\n",
    "    df[col] = df[col].fillna(df[col].mean())\n",
    "    \n",
    "    print(df[col].isnull().mean(), end='|')"
   ]
  },
  {
   "cell_type": "markdown",
   "metadata": {},
   "source": [
    "###  Vérifier ( DécèsPostOP, Décès )."
   ]
  },
  {
   "cell_type": "code",
   "execution_count": 127,
   "metadata": {},
   "outputs": [],
   "source": [
    "df.loc[df['DécèsPostOP'] == 1, 'Décès'] = 1"
   ]
  },
  {
   "cell_type": "markdown",
   "metadata": {},
   "source": [
    "### Remplacer par les valeurs dominantes ( TNM, Stade - Localisation - Anastomose )"
   ]
  },
  {
   "cell_type": "code",
   "execution_count": 128,
   "metadata": {},
   "outputs": [],
   "source": [
    "df['Anastomose'] = df['Anastomose'].fillna(2) \n",
    "df['Localisation'] = df['Localisation'].fillna(7) \n",
    "df['Stade'] = df['Stade'].fillna(2) \n",
    "df['TNM'] = df['TNM'].fillna('pT3N0') "
   ]
  },
  {
   "cell_type": "code",
   "execution_count": 129,
   "metadata": {},
   "outputs": [],
   "source": [
    "for col in df.columns[df.columns.get_loc('BH'):df.columns.get_loc(\"TraitAdjAutre\")+1]:\n",
    "    df[col] = df[col].fillna(0)"
   ]
  },
  {
   "cell_type": "code",
   "execution_count": 130,
   "metadata": {},
   "outputs": [],
   "source": [
    "df.loc[df['HistoLRL'] == 0.9, 'HistoLRL'] = 1"
   ]
  },
  {
   "cell_type": "code",
   "execution_count": 131,
   "metadata": {},
   "outputs": [],
   "source": [
    "for col in df.columns[df.columns.get_loc('HTA'):df.columns.get_loc(\"TV result\")+1]:\n",
    "    df[col] = df[col].fillna(0)"
   ]
  },
  {
   "cell_type": "code",
   "execution_count": 132,
   "metadata": {},
   "outputs": [
    {
     "data": {
      "text/plain": [
       "Décès           0.565089\n",
       "DécèsPostOP     0.002959\n",
       "ACE             0.000000\n",
       "CA19-9          0.000000\n",
       "Polype          0.000000\n",
       "                  ...   \n",
       "TraitemAdj      0.000000\n",
       "Stade           0.000000\n",
       "TNM             0.000000\n",
       "HistoPerfT/R    0.000000\n",
       "N               0.000000\n",
       "Length: 162, dtype: float64"
      ]
     },
     "execution_count": 132,
     "metadata": {},
     "output_type": "execute_result"
    }
   ],
   "source": [
    "df.isnull().mean().sort_values(ascending = False)"
   ]
  },
  {
   "cell_type": "code",
   "execution_count": 133,
   "metadata": {},
   "outputs": [
    {
     "name": "stdout",
     "output_type": "stream",
     "text": [
      "0.35064650449265833\n"
     ]
    }
   ],
   "source": [
    "# how many total missing values do we have?\n",
    "total_cells = np.product(df.shape)\n",
    "missing_values_count = df.isnull().sum()\n",
    "total_missing = missing_values_count.sum()\n",
    "\n",
    "# percent of data that is missing\n",
    "percent_missing = (total_missing/total_cells) * 100\n",
    "print(percent_missing)"
   ]
  },
  {
   "cell_type": "code",
   "execution_count": 134,
   "metadata": {},
   "outputs": [
    {
     "data": {
      "text/plain": [
       "(338, 162)"
      ]
     },
     "execution_count": 134,
     "metadata": {},
     "output_type": "execute_result"
    }
   ],
   "source": [
    "df.shape"
   ]
  },
  {
   "cell_type": "code",
   "execution_count": 135,
   "metadata": {},
   "outputs": [
    {
     "name": "stdout",
     "output_type": "stream",
     "text": [
      "<class 'pandas.core.frame.DataFrame'>\n",
      "RangeIndex: 338 entries, 0 to 337\n",
      "Columns: 162 entries, N to Décès\n",
      "dtypes: datetime64[ns](1), float64(119), int64(12), object(30)\n",
      "memory usage: 427.9+ KB\n"
     ]
    }
   ],
   "source": [
    "df.info()"
   ]
  },
  {
   "cell_type": "code",
   "execution_count": 136,
   "metadata": {},
   "outputs": [],
   "source": [
    "#Feature selection\n",
    "data=df.copy()\n",
    "for col in numeric_features:\n",
    "    del data[col]\n",
    "del data['Date chirurg']"
   ]
  },
  {
   "cell_type": "code",
   "execution_count": 137,
   "metadata": {},
   "outputs": [
    {
     "name": "stdout",
     "output_type": "stream",
     "text": [
      "<class 'pandas.core.frame.DataFrame'>\n",
      "RangeIndex: 338 entries, 0 to 337\n",
      "Columns: 146 entries, N to Décès\n",
      "dtypes: float64(104), int64(12), object(30)\n",
      "memory usage: 385.7+ KB\n"
     ]
    }
   ],
   "source": [
    "data.info()"
   ]
  },
  {
   "cell_type": "code",
   "execution_count": 138,
   "metadata": {},
   "outputs": [
    {
     "data": {
      "text/plain": [
       "['N',\n",
       " 'Sexe',\n",
       " 'HTA',\n",
       " 'diabète',\n",
       " 'cardiopathie',\n",
       " 'obésité',\n",
       " 'atcd med autre',\n",
       " 'signif atcd autr',\n",
       " 'atcd chir',\n",
       " 'signif atcdchir',\n",
       " 'ANTCDTs Toxique',\n",
       " 'ATCDTs Familiaux',\n",
       " 'signif atcdfamil',\n",
       " 'Rectorragie',\n",
       " 'syndro rectal',\n",
       " 'trouble transi',\n",
       " 'occlusion',\n",
       " 'dleur abdo',\n",
       " 'peritonite',\n",
       " 'sign clin autre',\n",
       " 'TR',\n",
       " 'TRProcessus',\n",
       " 'TRSténosant',\n",
       " 'TR atte sphin',\n",
       " 'TRMA',\n",
       " 'TRCIRC',\n",
       " 'TRTonus',\n",
       " 'TRFixité',\n",
       " 'TVCRV',\n",
       " 'TV result',\n",
       " 'BH',\n",
       " 'Endosc',\n",
       " 'EndoProcessus',\n",
       " 'signif endoprocess',\n",
       " 'Caratèresténo',\n",
       " 'Localisation',\n",
       " 'Endo loca mult',\n",
       " 'Type histologique',\n",
       " 'signif autre typehisto',\n",
       " 'Bilan Extension',\n",
       " 'Coloscopie',\n",
       " 'Colos result',\n",
       " 'TMSynchrone',\n",
       " 'Polype',\n",
       " 'PolypeRese',\n",
       " 'AutresLesions',\n",
       " 'Localisation.1',\n",
       " 'TDM/TAP',\n",
       " 'TDMSiège',\n",
       " 'TDM sieg mult',\n",
       " 'TDMEnvahiss',\n",
       " 'signif tdmenvah',\n",
       " 'TDMRésecab',\n",
       " 'TDMADPLO',\n",
       " 'TDMMétasta',\n",
       " 'signif tdmmeta',\n",
       " 'TDMTNM',\n",
       " 'OpérabilitéVPA',\n",
       " 'OMS',\n",
       " 'ASA',\n",
       " 'StomieDéchar',\n",
       " \"voie d'abord\",\n",
       " 'CauseLaparo',\n",
       " 'TraitemNéoad',\n",
       " 'NéoadjChimio',\n",
       " 'indicationChimio',\n",
       " 'signif indicat',\n",
       " 'NéoadjRCC',\n",
       " 'indicationRCC',\n",
       " 'NéoadjRadioS',\n",
       " \"Voie d'abord\",\n",
       " 'convers cause',\n",
       " 'PlaiePerOP',\n",
       " 'TypeRésectio',\n",
       " 'Autre typerésection+cause non résécable',\n",
       " 'Anastomose',\n",
       " 'autre typeanastomose',\n",
       " 'PieceHisto',\n",
       " 'signif typehisto',\n",
       " 'HistoLimiteRP',\n",
       " 'HistoLimiteRD',\n",
       " 'HistoLRL',\n",
       " 'HistoDégréDiff',\n",
       " 'HistoEmbol',\n",
       " 'HistoEngainPN',\n",
       " 'HistoIntéMes',\n",
       " 'HistoPerfT/R',\n",
       " 'TNM',\n",
       " 'Stade',\n",
       " 'TraitemAdj',\n",
       " 'TraitAdjChim',\n",
       " 'signif Chimio',\n",
       " 'TraitAdjRChm',\n",
       " 'TraitAdjAutre',\n",
       " 'DécèsPostOP',\n",
       " 'Morbidité',\n",
       " 'CmplcatPerOP',\n",
       " ' Incidence Perop',\n",
       " 'Compl postop',\n",
       " 'CmplcatParié',\n",
       " 'FistuleAnast',\n",
       " 'FistDiagnost',\n",
       " 'FistManifClin',\n",
       " 'FistTrait',\n",
       " 'FistEvolution',\n",
       " 'Péritonite post op',\n",
       " 'PéritoDiagnost',\n",
       " 'PéritoManifClin',\n",
       " 'PéritoRinterv',\n",
       " 'PéritoGestRéal',\n",
       " 'PéritoEvolution',\n",
       " 'SténoseAnast',\n",
       " 'SténoDiagnos',\n",
       " 'SténoManifCli',\n",
       " 'SténoRéinterv',\n",
       " 'SténoGestRéal',\n",
       " 'SténoEvoluti',\n",
       " 'FistuleRV',\n",
       " 'FRVDiagnosti',\n",
       " 'FRVManifClini',\n",
       " 'FRVTraiteme',\n",
       " 'FRVEvolution',\n",
       " 'CmplctStomie',\n",
       " 'CStomiNécros',\n",
       " 'Irritation péristomiale',\n",
       " 'DésinsStomi',\n",
       " 'AbcèPériStom',\n",
       " 'StomieAutres',\n",
       " 'CStomiTraite',\n",
       " 'CStomiEvolut',\n",
       " 'CpltHémorrag',\n",
       " 'CHémorDiagn',\n",
       " 'CHemorTransf',\n",
       " 'TransfNCG',\n",
       " 'CHémorRéint',\n",
       " 'CHémorGestR',\n",
       " 'CHemorEvolu',\n",
       " 'CpltPérinéal',\n",
       " 'CPérinéDiagnos',\n",
       " 'CPérinTraite',\n",
       " 'CPérinEvolut',\n",
       " 'CplUrinair',\n",
       " 'CUrinaiDiagn',\n",
       " 'CUrinairEvolu',\n",
       " 'Cplct Générl',\n",
       " 'Décès']"
      ]
     },
     "execution_count": 138,
     "metadata": {},
     "output_type": "execute_result"
    }
   ],
   "source": [
    "data.columns.tolist()"
   ]
  },
  {
   "cell_type": "code",
   "execution_count": 139,
   "metadata": {},
   "outputs": [
    {
     "data": {
      "text/html": [
       "<div>\n",
       "<style scoped>\n",
       "    .dataframe tbody tr th:only-of-type {\n",
       "        vertical-align: middle;\n",
       "    }\n",
       "\n",
       "    .dataframe tbody tr th {\n",
       "        vertical-align: top;\n",
       "    }\n",
       "\n",
       "    .dataframe thead th {\n",
       "        text-align: right;\n",
       "    }\n",
       "</style>\n",
       "<table border=\"1\" class=\"dataframe\">\n",
       "  <thead>\n",
       "    <tr style=\"text-align: right;\">\n",
       "      <th></th>\n",
       "      <th>N</th>\n",
       "      <th>Sexe</th>\n",
       "      <th>HTA</th>\n",
       "      <th>diabète</th>\n",
       "      <th>cardiopathie</th>\n",
       "      <th>obésité</th>\n",
       "      <th>atcd med autre</th>\n",
       "      <th>signif atcd autr</th>\n",
       "      <th>atcd chir</th>\n",
       "      <th>signif atcdchir</th>\n",
       "      <th>...</th>\n",
       "      <th>CHemorEvolu</th>\n",
       "      <th>CpltPérinéal</th>\n",
       "      <th>CPérinéDiagnos</th>\n",
       "      <th>CPérinTraite</th>\n",
       "      <th>CPérinEvolut</th>\n",
       "      <th>CplUrinair</th>\n",
       "      <th>CUrinaiDiagn</th>\n",
       "      <th>CUrinairEvolu</th>\n",
       "      <th>Cplct Générl</th>\n",
       "      <th>Décès</th>\n",
       "    </tr>\n",
       "  </thead>\n",
       "  <tbody>\n",
       "    <tr>\n",
       "      <th>0</th>\n",
       "      <td>1.0</td>\n",
       "      <td>F</td>\n",
       "      <td>0.0</td>\n",
       "      <td>0.0</td>\n",
       "      <td>0.0</td>\n",
       "      <td>0.0</td>\n",
       "      <td>0.0</td>\n",
       "      <td>0</td>\n",
       "      <td>1.0</td>\n",
       "      <td>0</td>\n",
       "      <td>...</td>\n",
       "      <td>0</td>\n",
       "      <td>0.0</td>\n",
       "      <td>0</td>\n",
       "      <td>0</td>\n",
       "      <td>0</td>\n",
       "      <td>0.0</td>\n",
       "      <td>0</td>\n",
       "      <td>0</td>\n",
       "      <td>0.0</td>\n",
       "      <td>NaN</td>\n",
       "    </tr>\n",
       "    <tr>\n",
       "      <th>1</th>\n",
       "      <td>2.0</td>\n",
       "      <td>M</td>\n",
       "      <td>0.0</td>\n",
       "      <td>0.0</td>\n",
       "      <td>0.0</td>\n",
       "      <td>0.0</td>\n",
       "      <td>0.0</td>\n",
       "      <td>0</td>\n",
       "      <td>1.0</td>\n",
       "      <td>0</td>\n",
       "      <td>...</td>\n",
       "      <td>0</td>\n",
       "      <td>0.0</td>\n",
       "      <td>0</td>\n",
       "      <td>0</td>\n",
       "      <td>0</td>\n",
       "      <td>0.0</td>\n",
       "      <td>0</td>\n",
       "      <td>0</td>\n",
       "      <td>0.0</td>\n",
       "      <td>NaN</td>\n",
       "    </tr>\n",
       "    <tr>\n",
       "      <th>2</th>\n",
       "      <td>3.0</td>\n",
       "      <td>F</td>\n",
       "      <td>1.0</td>\n",
       "      <td>0.0</td>\n",
       "      <td>0.0</td>\n",
       "      <td>0.0</td>\n",
       "      <td>0.0</td>\n",
       "      <td>0</td>\n",
       "      <td>3.0</td>\n",
       "      <td>0</td>\n",
       "      <td>...</td>\n",
       "      <td>0</td>\n",
       "      <td>0.0</td>\n",
       "      <td>0</td>\n",
       "      <td>0</td>\n",
       "      <td>0</td>\n",
       "      <td>0.0</td>\n",
       "      <td>0</td>\n",
       "      <td>0</td>\n",
       "      <td>0.0</td>\n",
       "      <td>NaN</td>\n",
       "    </tr>\n",
       "    <tr>\n",
       "      <th>3</th>\n",
       "      <td>4.0</td>\n",
       "      <td>M</td>\n",
       "      <td>0.0</td>\n",
       "      <td>0.0</td>\n",
       "      <td>0.0</td>\n",
       "      <td>0.0</td>\n",
       "      <td>0.0</td>\n",
       "      <td>0</td>\n",
       "      <td>0.0</td>\n",
       "      <td>0</td>\n",
       "      <td>...</td>\n",
       "      <td>0</td>\n",
       "      <td>0.0</td>\n",
       "      <td>0</td>\n",
       "      <td>0</td>\n",
       "      <td>0</td>\n",
       "      <td>0.0</td>\n",
       "      <td>0</td>\n",
       "      <td>0</td>\n",
       "      <td>0.0</td>\n",
       "      <td>0</td>\n",
       "    </tr>\n",
       "    <tr>\n",
       "      <th>4</th>\n",
       "      <td>6.0</td>\n",
       "      <td>M</td>\n",
       "      <td>1.0</td>\n",
       "      <td>0.0</td>\n",
       "      <td>0.0</td>\n",
       "      <td>0.0</td>\n",
       "      <td>0.0</td>\n",
       "      <td>0</td>\n",
       "      <td>0.0</td>\n",
       "      <td>0</td>\n",
       "      <td>...</td>\n",
       "      <td>0</td>\n",
       "      <td>0.0</td>\n",
       "      <td>0</td>\n",
       "      <td>0</td>\n",
       "      <td>0</td>\n",
       "      <td>0.0</td>\n",
       "      <td>0</td>\n",
       "      <td>0</td>\n",
       "      <td>0.0</td>\n",
       "      <td>NaN</td>\n",
       "    </tr>\n",
       "  </tbody>\n",
       "</table>\n",
       "<p>5 rows × 146 columns</p>\n",
       "</div>"
      ],
      "text/plain": [
       "     N Sexe  HTA  diabète  cardiopathie  obésité  atcd med autre  \\\n",
       "0  1.0    F  0.0      0.0           0.0      0.0             0.0   \n",
       "1  2.0    M  0.0      0.0           0.0      0.0             0.0   \n",
       "2  3.0    F  1.0      0.0           0.0      0.0             0.0   \n",
       "3  4.0    M  0.0      0.0           0.0      0.0             0.0   \n",
       "4  6.0    M  1.0      0.0           0.0      0.0             0.0   \n",
       "\n",
       "  signif atcd autr  atcd chir signif atcdchir  ...  CHemorEvolu  CpltPérinéal  \\\n",
       "0                0        1.0               0  ...            0           0.0   \n",
       "1                0        1.0               0  ...            0           0.0   \n",
       "2                0        3.0               0  ...            0           0.0   \n",
       "3                0        0.0               0  ...            0           0.0   \n",
       "4                0        0.0               0  ...            0           0.0   \n",
       "\n",
       "  CPérinéDiagnos  CPérinTraite  CPérinEvolut  CplUrinair  CUrinaiDiagn  \\\n",
       "0              0             0             0         0.0             0   \n",
       "1              0             0             0         0.0             0   \n",
       "2              0             0             0         0.0             0   \n",
       "3              0             0             0         0.0             0   \n",
       "4              0             0             0         0.0             0   \n",
       "\n",
       "   CUrinairEvolu  Cplct Générl  Décès  \n",
       "0              0           0.0    NaN  \n",
       "1              0           0.0    NaN  \n",
       "2              0           0.0    NaN  \n",
       "3              0           0.0      0  \n",
       "4              0           0.0    NaN  \n",
       "\n",
       "[5 rows x 146 columns]"
      ]
     },
     "execution_count": 139,
     "metadata": {},
     "output_type": "execute_result"
    }
   ],
   "source": [
    "data.head()"
   ]
  },
  {
   "cell_type": "markdown",
   "metadata": {},
   "source": [
    "## Feature Engineering - Bi-variate statistical analysis\n",
    "\n",
    "One of the first tasks in Data Analytics is to **convert the variables into numerical/ordinal values**.\n",
    "There are multiple types of data\n",
    "\n",
    "**a) Qualitative data: discrete**\n",
    "* Nominal: no natural order between categories.\n",
    "* Categorical: Sex\n",
    "\n",
    "**b) Numeric or quantitative data**\n",
    "* Discrete: could be ordinal\n",
    "* Continuous. e.g.: age"
   ]
  },
  {
   "cell_type": "code",
   "execution_count": 140,
   "metadata": {},
   "outputs": [],
   "source": [
    "#On remarque que la variable sexe est textuelle, donc on accorde à F -> 1 et M->0\n",
    "data['Sexe']=np.where(data['Sexe']==\"F\",1,0)"
   ]
  },
  {
   "cell_type": "code",
   "execution_count": 141,
   "metadata": {},
   "outputs": [],
   "source": [
    "data.loc[data[\"TRMA\"] == -1, \"TRMA\"] = 0"
   ]
  },
  {
   "cell_type": "code",
   "execution_count": 142,
   "metadata": {},
   "outputs": [
    {
     "data": {
      "text/plain": [
       "array([ 0., 15.,  7.,  6.,  5.,  3.,  8.,  2., 10.,  4.,  1.,  9.])"
      ]
     },
     "execution_count": 142,
     "metadata": {},
     "output_type": "execute_result"
    }
   ],
   "source": [
    "data['TRMA'].unique()"
   ]
  },
  {
   "cell_type": "code",
   "execution_count": 143,
   "metadata": {},
   "outputs": [
    {
     "name": "stdout",
     "output_type": "stream",
     "text": [
      "{'pT4N1Mx': 0, 'ypT3N2a': 1, 'pT3N0': 2, 'pT3N0Mx': 3, 'ypT3N2b': 4, 'pT2N1': 5, 'ypT0N0': 6, 'ypT2N1aMx': 7, 'pT2N0': 8, 'pT2N0Mx': 9, 'pT3N0M0': 10, 'pT3N1bMx': 11, 'pT3N1M1': 12, 'pT3N1M0': 13, 'pT4mN0': 14, 'pT3N1b': 15, 'pT2N1b': 16, 'pT3N0M1a': 17, 'pT4No': 18, 'pT3N1Mx': 19, 'ypT2N1': 20, 'ypT0N0Mx': 21, 'ypT3N0': 22, 'pT4N1b': 23, 'pT4N0Mx': 24, 'ypT0N1b': 25, 'ypT3N1a': 26, 'ypT3N0Mx': 27, 'pT3N0M1': 28, 'ypT4N0': 29, 'ypT2N0': 30, 'ypT2N1M1': 31, 'ypT4bN0': 32, 'ypT3N2': 33, 'ypT0N1Mx': 34, 'pT0N0': 35, 'pT3N1': 36, 'ypT2N1b': 37, 'ypT3N1': 38, 'pT4N0': 39, 'ypT2N0Mx': 40, 'ypT4N0Mx': 41, 'ypT1N0': 42, 'ypT2N1a': 43, 'pT2N1a': 44, 'ypT4N2a': 45, 'pT3N2aMx': 46, 'ypT2N2aMx': 47, 'pT1N0': 48, 'pT3N2b': 49, 'pT4N1': 50, 'ypT4N1b': 51, 'pT3N1a': 52, 'ypT3N0;pT3N1b': 53, 'ypT3N1b': 54, 'pT4N2b': 55, 'pT3N2': 56, 'pT3N0M1b': 57, 'ypT4N2b': 58, 'pT2N2b': 59, 'pT3N2a': 60, 'ypT1N1a': 61, 'pT4N2a': 62, 'pT4N1a': 63}\n"
     ]
    }
   ],
   "source": [
    "### let's perform label encoding on TNM\n",
    "ordinal_label = {k: i for i, k in enumerate(data['TNM'].unique(), 0)}\n",
    "print(ordinal_label)\n",
    "data['TNM'] = data['TNM'].map(ordinal_label)"
   ]
  },
  {
   "cell_type": "code",
   "execution_count": 144,
   "metadata": {},
   "outputs": [
    {
     "name": "stdout",
     "output_type": "stream",
     "text": [
      "<class 'pandas.core.frame.DataFrame'>\n",
      "RangeIndex: 338 entries, 0 to 337\n",
      "Columns: 146 entries, N to Décès\n",
      "dtypes: float64(104), int32(1), int64(41)\n",
      "memory usage: 384.3 KB\n"
     ]
    }
   ],
   "source": [
    "###performing label encoding on str var\n",
    "for j in data.columns:\n",
    "        if data.dtypes[j] == np.object:\n",
    "            ordinal_label2 = {k: c for c, k in enumerate(data[j].unique(), 0)}\n",
    "            data[j] = data[j].map(ordinal_label2)\n",
    "data.info()"
   ]
  },
  {
   "cell_type": "code",
   "execution_count": 145,
   "metadata": {},
   "outputs": [
    {
     "name": "stdout",
     "output_type": "stream",
     "text": [
      "<class 'pandas.core.frame.DataFrame'>\n",
      "RangeIndex: 338 entries, 0 to 337\n",
      "Columns: 146 entries, N to Décès\n",
      "dtypes: float64(104), int32(1), int64(41)\n",
      "memory usage: 384.3 KB\n"
     ]
    }
   ],
   "source": [
    "data.info()"
   ]
  },
  {
   "cell_type": "code",
   "execution_count": 146,
   "metadata": {},
   "outputs": [
    {
     "data": {
      "text/plain": [
       "VarianceThreshold(threshold=0)"
      ]
     },
     "execution_count": 146,
     "metadata": {},
     "output_type": "execute_result"
    }
   ],
   "source": [
    "### It will zero variance features\n",
    "from sklearn.feature_selection import VarianceThreshold\n",
    "var_thres=VarianceThreshold(threshold=0)\n",
    "var_thres.fit(data)"
   ]
  },
  {
   "cell_type": "code",
   "execution_count": 147,
   "metadata": {},
   "outputs": [
    {
     "name": "stdout",
     "output_type": "stream",
     "text": [
      "3\n"
     ]
    }
   ],
   "source": [
    "constant_columns = [column for column in data.columns\n",
    "                    if column not in data.columns[var_thres.get_support()]]\n",
    "\n",
    "print(len(constant_columns))"
   ]
  },
  {
   "cell_type": "code",
   "execution_count": 148,
   "metadata": {},
   "outputs": [
    {
     "name": "stdout",
     "output_type": "stream",
     "text": [
      "OpérabilitéVPA\n",
      "TraitAdjAutre\n",
      "AbcèPériStom\n"
     ]
    }
   ],
   "source": [
    "for feature in constant_columns:\n",
    "     print(feature)"
   ]
  },
  {
   "cell_type": "code",
   "execution_count": 149,
   "metadata": {},
   "outputs": [],
   "source": [
    "data.drop(constant_columns,axis=1, inplace=True)"
   ]
  },
  {
   "cell_type": "code",
   "execution_count": 150,
   "metadata": {},
   "outputs": [],
   "source": [
    "quant_data=pd.DataFrame(df, columns=numeric_features)"
   ]
  },
  {
   "cell_type": "code",
   "execution_count": 151,
   "metadata": {},
   "outputs": [],
   "source": [
    "train=pd.concat([quant_data, data], axis=1)"
   ]
  },
  {
   "cell_type": "markdown",
   "metadata": {
    "_cell_guid": "1c8a0f85-2ef2-4d84-bf8a-b6443e8638d2",
    "_uuid": "59d2c0cc264ee98c1b7178c12ffb733ed469be3d"
   },
   "source": [
    "##  A very first look into the data"
   ]
  },
  {
   "cell_type": "code",
   "execution_count": 152,
   "metadata": {
    "_cell_guid": "ccbc1dd8-f6a8-418d-a156-ff42e46e3b25",
    "_uuid": "f38a7f5049a019c2af35a91d7f653ab8ba906f41",
    "jupyter": {
     "outputs_hidden": true
    }
   },
   "outputs": [
    {
     "data": {
      "text/plain": [
       "Text(0.5, 1.0, 'Morbidité by obesity')"
      ]
     },
     "execution_count": 152,
     "metadata": {},
     "output_type": "execute_result"
    },
    {
     "data": {
      "image/png": "[encoded data removed]",
      "text/plain": [
       "<Figure size 1440x1152 with 12 Axes>"
      ]
     },
     "metadata": {
      "needs_background": "light"
     },
     "output_type": "display_data"
    }
   ],
   "source": [
    "f,ax = plt.subplots(3,4,figsize=(20,16))\n",
    "sns.countplot('Stade',data=train,ax=ax[0,0])\n",
    "sns.countplot('Sexe',data=train,ax=ax[0,1])\n",
    "sns.boxplot(x='Stade',y='Age',data=train,ax=ax[0,2])\n",
    "sns.countplot('trouble transi',hue='Morbidité',data=train,ax=ax[0,3],palette='husl')\n",
    "sns.countplot('obésité',data=train,ax=ax[2,2])\n",
    "\n",
    "sns.countplot('Stade',hue='Morbidité',data=train,ax=ax[1,0],palette='husl')\n",
    "sns.countplot('Sexe',hue='Morbidité',data=train,ax=ax[1,1],palette='husl')\n",
    "sns.distplot(train[train['Morbidité']==0]['Age'],ax=ax[1,2],kde=False,color='r',bins=5)\n",
    "sns.distplot(train[train['Morbidité']==1]['Age'],ax=ax[1,2],kde=False,color='g',bins=5)\n",
    "sns.countplot('diabète',hue='Morbidité',data=train,ax=ax[1,3],palette='husl')\n",
    "sns.swarmplot(x='Stade',y='Age',hue='Morbidité',data=train,palette='husl',ax=ax[2,1])\n",
    "sns.countplot('obésité',hue='Morbidité',data=train,ax=ax[2,3],palette='husl')\n",
    "sns.countplot('Globule blanc',hue='Morbidité',data=train,ax=ax[2,0],palette='husl')\n",
    "\n",
    "ax[0,0].set_title('Stade du cancer')\n",
    "ax[0,1].set_title('Gender of patients')\n",
    "ax[0,2].set_title('Age Box Plot By stade')\n",
    "ax[0,3].set_title('morbidité by troule transi')\n",
    "ax[1,0].set_title('Morbidité by Stade')\n",
    "ax[1,1].set_title('Morbidité by Gender')\n",
    "ax[1,2].set_title('Morbidité by Age')\n",
    "ax[1,3].set_title('Morbidité by diabète')\n",
    "ax[2,0].set_title('Morbidité by globul blanc')\n",
    "ax[2,1].set_title('Morbidité HTA and Stade')\n",
    "ax[2,2].set_title('Total Patients by obésité')\n",
    "ax[2,3].set_title('Morbidité by obesity')"
   ]
  },
  {
   "cell_type": "markdown",
   "metadata": {
    "_cell_guid": "dff1c1dd-1e59-3907-88fa-1a1d699122be",
    "_uuid": "81378834770e55c76751347588322fe32acf5737"
   },
   "source": [
    "\n",
    "\n",
    "### Detecting and correcting outliers\n",
    "Reviewing the data, there does not appear to be any aberrant or non-acceptable data inputs.\n",
    "\n",
    "There are potential outliers that we will identify :\n",
    "* It creates firset a function called detect_outliers, implementing the Tukey method\n",
    "* For each column of the dataframe, this function calculates the 25th percentile (Q1) and 75th percentile (Q3) values.\n",
    "* The  interquartile range (IQR) is a measure of statistical dispersion, being equal to the difference between the 75th and 25th percentiles, or between upper and lower quartiles.\n",
    "* Any data points outside 1.5 time the IQR (1.5 time IQR below Q1, or 1.5 time IQR above Q3), is considered an outlier.\n",
    "* The outlier_list_col column captures the indices of these outliers. All outlier data get then pulled into the outlier_indices dataframe.\n",
    "* Finally, the detect_outliers function will select only the outliers happening multiple times. This is the datadframe that will be returned."
   ]
  },
  {
   "cell_type": "code",
   "execution_count": 153,
   "metadata": {
    "_cell_guid": "98ca04be-4693-4eb7-b25b-cc32e65b45b9",
    "_uuid": "5abddbbf118113d33ed95f10cf73edbd4525df82",
    "jupyter": {
     "outputs_hidden": true
    }
   },
   "outputs": [
    {
     "data": {
      "text/html": [
       "<div>\n",
       "<style scoped>\n",
       "    .dataframe tbody tr th:only-of-type {\n",
       "        vertical-align: middle;\n",
       "    }\n",
       "\n",
       "    .dataframe tbody tr th {\n",
       "        vertical-align: top;\n",
       "    }\n",
       "\n",
       "    .dataframe thead th {\n",
       "        text-align: right;\n",
       "    }\n",
       "</style>\n",
       "<table border=\"1\" class=\"dataframe\">\n",
       "  <thead>\n",
       "    <tr style=\"text-align: right;\">\n",
       "      <th></th>\n",
       "      <th>Age</th>\n",
       "      <th>Hémoglobine</th>\n",
       "      <th>Globule blanc</th>\n",
       "      <th>Plaquette</th>\n",
       "      <th>CRP</th>\n",
       "      <th>Urée</th>\n",
       "      <th>Créat</th>\n",
       "      <th>Glycémie</th>\n",
       "      <th>Albumine</th>\n",
       "      <th>Préalbumine</th>\n",
       "      <th>...</th>\n",
       "      <th>CHemorEvolu</th>\n",
       "      <th>CpltPérinéal</th>\n",
       "      <th>CPérinéDiagnos</th>\n",
       "      <th>CPérinTraite</th>\n",
       "      <th>CPérinEvolut</th>\n",
       "      <th>CplUrinair</th>\n",
       "      <th>CUrinaiDiagn</th>\n",
       "      <th>CUrinairEvolu</th>\n",
       "      <th>Cplct Générl</th>\n",
       "      <th>Décès</th>\n",
       "    </tr>\n",
       "  </thead>\n",
       "  <tbody>\n",
       "    <tr>\n",
       "      <th>106</th>\n",
       "      <td>19.0</td>\n",
       "      <td>7.8</td>\n",
       "      <td>4620.0</td>\n",
       "      <td>434000.000000</td>\n",
       "      <td>41.000000</td>\n",
       "      <td>0.22</td>\n",
       "      <td>5.000000</td>\n",
       "      <td>1.810000</td>\n",
       "      <td>32.000000</td>\n",
       "      <td>0.130000</td>\n",
       "      <td>...</td>\n",
       "      <td>0</td>\n",
       "      <td>0.0</td>\n",
       "      <td>0</td>\n",
       "      <td>0</td>\n",
       "      <td>0</td>\n",
       "      <td>0.0</td>\n",
       "      <td>0</td>\n",
       "      <td>0</td>\n",
       "      <td>0.0</td>\n",
       "      <td>2</td>\n",
       "    </tr>\n",
       "    <tr>\n",
       "      <th>102</th>\n",
       "      <td>55.0</td>\n",
       "      <td>13.2</td>\n",
       "      <td>14420.0</td>\n",
       "      <td>356000.000000</td>\n",
       "      <td>19.000000</td>\n",
       "      <td>0.27</td>\n",
       "      <td>8.000000</td>\n",
       "      <td>1.077961</td>\n",
       "      <td>25.000000</td>\n",
       "      <td>0.030000</td>\n",
       "      <td>...</td>\n",
       "      <td>0</td>\n",
       "      <td>0.0</td>\n",
       "      <td>0</td>\n",
       "      <td>0</td>\n",
       "      <td>0</td>\n",
       "      <td>0.0</td>\n",
       "      <td>0</td>\n",
       "      <td>0</td>\n",
       "      <td>0.0</td>\n",
       "      <td>2</td>\n",
       "    </tr>\n",
       "    <tr>\n",
       "      <th>155</th>\n",
       "      <td>41.0</td>\n",
       "      <td>12.6</td>\n",
       "      <td>17350.0</td>\n",
       "      <td>656000.000000</td>\n",
       "      <td>353.000000</td>\n",
       "      <td>0.21</td>\n",
       "      <td>7.000000</td>\n",
       "      <td>0.620000</td>\n",
       "      <td>34.000000</td>\n",
       "      <td>0.259902</td>\n",
       "      <td>...</td>\n",
       "      <td>0</td>\n",
       "      <td>0.0</td>\n",
       "      <td>0</td>\n",
       "      <td>0</td>\n",
       "      <td>0</td>\n",
       "      <td>0.0</td>\n",
       "      <td>0</td>\n",
       "      <td>0</td>\n",
       "      <td>0.0</td>\n",
       "      <td>0</td>\n",
       "    </tr>\n",
       "    <tr>\n",
       "      <th>162</th>\n",
       "      <td>45.0</td>\n",
       "      <td>6.5</td>\n",
       "      <td>18440.0</td>\n",
       "      <td>744000.000000</td>\n",
       "      <td>312.000000</td>\n",
       "      <td>0.31</td>\n",
       "      <td>8.000000</td>\n",
       "      <td>1.077961</td>\n",
       "      <td>53.000000</td>\n",
       "      <td>0.259902</td>\n",
       "      <td>...</td>\n",
       "      <td>0</td>\n",
       "      <td>0.0</td>\n",
       "      <td>0</td>\n",
       "      <td>0</td>\n",
       "      <td>0</td>\n",
       "      <td>0.0</td>\n",
       "      <td>0</td>\n",
       "      <td>0</td>\n",
       "      <td>0.0</td>\n",
       "      <td>0</td>\n",
       "    </tr>\n",
       "    <tr>\n",
       "      <th>232</th>\n",
       "      <td>48.0</td>\n",
       "      <td>9.7</td>\n",
       "      <td>19220.0</td>\n",
       "      <td>566000.000000</td>\n",
       "      <td>238.000000</td>\n",
       "      <td>0.58</td>\n",
       "      <td>7.661722</td>\n",
       "      <td>0.750000</td>\n",
       "      <td>35.601695</td>\n",
       "      <td>0.259902</td>\n",
       "      <td>...</td>\n",
       "      <td>0</td>\n",
       "      <td>0.0</td>\n",
       "      <td>0</td>\n",
       "      <td>0</td>\n",
       "      <td>0</td>\n",
       "      <td>0.0</td>\n",
       "      <td>0</td>\n",
       "      <td>0</td>\n",
       "      <td>0.0</td>\n",
       "      <td>1</td>\n",
       "    </tr>\n",
       "    <tr>\n",
       "      <th>36</th>\n",
       "      <td>39.0</td>\n",
       "      <td>9.9</td>\n",
       "      <td>9800.0</td>\n",
       "      <td>547000.000000</td>\n",
       "      <td>105.000000</td>\n",
       "      <td>0.23</td>\n",
       "      <td>6.000000</td>\n",
       "      <td>1.077961</td>\n",
       "      <td>33.000000</td>\n",
       "      <td>0.030000</td>\n",
       "      <td>...</td>\n",
       "      <td>0</td>\n",
       "      <td>0.0</td>\n",
       "      <td>0</td>\n",
       "      <td>0</td>\n",
       "      <td>0</td>\n",
       "      <td>0.0</td>\n",
       "      <td>0</td>\n",
       "      <td>0</td>\n",
       "      <td>0.0</td>\n",
       "      <td>0</td>\n",
       "    </tr>\n",
       "    <tr>\n",
       "      <th>105</th>\n",
       "      <td>62.0</td>\n",
       "      <td>9.5</td>\n",
       "      <td>13240.0</td>\n",
       "      <td>505000.000000</td>\n",
       "      <td>85.000000</td>\n",
       "      <td>0.24</td>\n",
       "      <td>6.000000</td>\n",
       "      <td>1.380000</td>\n",
       "      <td>22.000000</td>\n",
       "      <td>0.000000</td>\n",
       "      <td>...</td>\n",
       "      <td>0</td>\n",
       "      <td>0.0</td>\n",
       "      <td>0</td>\n",
       "      <td>0</td>\n",
       "      <td>0</td>\n",
       "      <td>0.0</td>\n",
       "      <td>0</td>\n",
       "      <td>0</td>\n",
       "      <td>0.0</td>\n",
       "      <td>2</td>\n",
       "    </tr>\n",
       "    <tr>\n",
       "      <th>161</th>\n",
       "      <td>40.0</td>\n",
       "      <td>10.9</td>\n",
       "      <td>5540.0</td>\n",
       "      <td>399000.000000</td>\n",
       "      <td>99.000000</td>\n",
       "      <td>0.12</td>\n",
       "      <td>5.000000</td>\n",
       "      <td>0.790000</td>\n",
       "      <td>31.000000</td>\n",
       "      <td>0.130000</td>\n",
       "      <td>...</td>\n",
       "      <td>0</td>\n",
       "      <td>0.0</td>\n",
       "      <td>0</td>\n",
       "      <td>0</td>\n",
       "      <td>0</td>\n",
       "      <td>0.0</td>\n",
       "      <td>0</td>\n",
       "      <td>0</td>\n",
       "      <td>0.0</td>\n",
       "      <td>0</td>\n",
       "    </tr>\n",
       "    <tr>\n",
       "      <th>166</th>\n",
       "      <td>45.0</td>\n",
       "      <td>10.6</td>\n",
       "      <td>5140.0</td>\n",
       "      <td>314000.000000</td>\n",
       "      <td>86.000000</td>\n",
       "      <td>0.29</td>\n",
       "      <td>8.000000</td>\n",
       "      <td>1.077961</td>\n",
       "      <td>33.000000</td>\n",
       "      <td>0.000000</td>\n",
       "      <td>...</td>\n",
       "      <td>0</td>\n",
       "      <td>0.0</td>\n",
       "      <td>0</td>\n",
       "      <td>0</td>\n",
       "      <td>0</td>\n",
       "      <td>0.0</td>\n",
       "      <td>0</td>\n",
       "      <td>0</td>\n",
       "      <td>0.0</td>\n",
       "      <td>0</td>\n",
       "    </tr>\n",
       "    <tr>\n",
       "      <th>172</th>\n",
       "      <td>75.0</td>\n",
       "      <td>14.2</td>\n",
       "      <td>11250.0</td>\n",
       "      <td>280132.835821</td>\n",
       "      <td>6.000000</td>\n",
       "      <td>0.93</td>\n",
       "      <td>11.000000</td>\n",
       "      <td>1.077961</td>\n",
       "      <td>31.000000</td>\n",
       "      <td>0.259902</td>\n",
       "      <td>...</td>\n",
       "      <td>0</td>\n",
       "      <td>0.0</td>\n",
       "      <td>0</td>\n",
       "      <td>0</td>\n",
       "      <td>0</td>\n",
       "      <td>0.0</td>\n",
       "      <td>0</td>\n",
       "      <td>0</td>\n",
       "      <td>0.0</td>\n",
       "      <td>2</td>\n",
       "    </tr>\n",
       "    <tr>\n",
       "      <th>198</th>\n",
       "      <td>62.0</td>\n",
       "      <td>11.0</td>\n",
       "      <td>3220.0</td>\n",
       "      <td>161000.000000</td>\n",
       "      <td>2.000000</td>\n",
       "      <td>0.31</td>\n",
       "      <td>12.000000</td>\n",
       "      <td>2.570000</td>\n",
       "      <td>39.000000</td>\n",
       "      <td>39.000000</td>\n",
       "      <td>...</td>\n",
       "      <td>0</td>\n",
       "      <td>0.0</td>\n",
       "      <td>0</td>\n",
       "      <td>0</td>\n",
       "      <td>0</td>\n",
       "      <td>0.0</td>\n",
       "      <td>0</td>\n",
       "      <td>0</td>\n",
       "      <td>0.0</td>\n",
       "      <td>0</td>\n",
       "    </tr>\n",
       "    <tr>\n",
       "      <th>2</th>\n",
       "      <td>77.0</td>\n",
       "      <td>10.4</td>\n",
       "      <td>3640.0</td>\n",
       "      <td>147000.000000</td>\n",
       "      <td>26.860436</td>\n",
       "      <td>0.30</td>\n",
       "      <td>10.000000</td>\n",
       "      <td>2.090000</td>\n",
       "      <td>37.800000</td>\n",
       "      <td>0.259902</td>\n",
       "      <td>...</td>\n",
       "      <td>0</td>\n",
       "      <td>0.0</td>\n",
       "      <td>0</td>\n",
       "      <td>0</td>\n",
       "      <td>0</td>\n",
       "      <td>0.0</td>\n",
       "      <td>0</td>\n",
       "      <td>0</td>\n",
       "      <td>0.0</td>\n",
       "      <td>0</td>\n",
       "    </tr>\n",
       "    <tr>\n",
       "      <th>57</th>\n",
       "      <td>66.0</td>\n",
       "      <td>13.3</td>\n",
       "      <td>8900.0</td>\n",
       "      <td>463000.000000</td>\n",
       "      <td>29.000000</td>\n",
       "      <td>0.12</td>\n",
       "      <td>6.000000</td>\n",
       "      <td>2.190000</td>\n",
       "      <td>33.000000</td>\n",
       "      <td>0.000000</td>\n",
       "      <td>...</td>\n",
       "      <td>0</td>\n",
       "      <td>0.0</td>\n",
       "      <td>0</td>\n",
       "      <td>0</td>\n",
       "      <td>0</td>\n",
       "      <td>0.0</td>\n",
       "      <td>0</td>\n",
       "      <td>0</td>\n",
       "      <td>0.0</td>\n",
       "      <td>0</td>\n",
       "    </tr>\n",
       "    <tr>\n",
       "      <th>94</th>\n",
       "      <td>37.0</td>\n",
       "      <td>11.3</td>\n",
       "      <td>5470.0</td>\n",
       "      <td>244000.000000</td>\n",
       "      <td>14.000000</td>\n",
       "      <td>0.33</td>\n",
       "      <td>8.000000</td>\n",
       "      <td>0.570000</td>\n",
       "      <td>38.000000</td>\n",
       "      <td>0.259902</td>\n",
       "      <td>...</td>\n",
       "      <td>0</td>\n",
       "      <td>1.0</td>\n",
       "      <td>2</td>\n",
       "      <td>2</td>\n",
       "      <td>1</td>\n",
       "      <td>0.0</td>\n",
       "      <td>0</td>\n",
       "      <td>0</td>\n",
       "      <td>0.0</td>\n",
       "      <td>1</td>\n",
       "    </tr>\n",
       "    <tr>\n",
       "      <th>128</th>\n",
       "      <td>47.0</td>\n",
       "      <td>14.0</td>\n",
       "      <td>4440.0</td>\n",
       "      <td>244000.000000</td>\n",
       "      <td>4.000000</td>\n",
       "      <td>0.44</td>\n",
       "      <td>7.000000</td>\n",
       "      <td>3.610000</td>\n",
       "      <td>36.000000</td>\n",
       "      <td>0.030000</td>\n",
       "      <td>...</td>\n",
       "      <td>1</td>\n",
       "      <td>0.0</td>\n",
       "      <td>0</td>\n",
       "      <td>0</td>\n",
       "      <td>0</td>\n",
       "      <td>0.0</td>\n",
       "      <td>0</td>\n",
       "      <td>0</td>\n",
       "      <td>0.0</td>\n",
       "      <td>2</td>\n",
       "    </tr>\n",
       "    <tr>\n",
       "      <th>129</th>\n",
       "      <td>57.0</td>\n",
       "      <td>9.5</td>\n",
       "      <td>7880.0</td>\n",
       "      <td>487000.000000</td>\n",
       "      <td>24.000000</td>\n",
       "      <td>0.35</td>\n",
       "      <td>8.000000</td>\n",
       "      <td>1.450000</td>\n",
       "      <td>29.000000</td>\n",
       "      <td>0.030000</td>\n",
       "      <td>...</td>\n",
       "      <td>0</td>\n",
       "      <td>0.0</td>\n",
       "      <td>0</td>\n",
       "      <td>0</td>\n",
       "      <td>0</td>\n",
       "      <td>0.0</td>\n",
       "      <td>0</td>\n",
       "      <td>0</td>\n",
       "      <td>0.0</td>\n",
       "      <td>0</td>\n",
       "    </tr>\n",
       "    <tr>\n",
       "      <th>231</th>\n",
       "      <td>54.0</td>\n",
       "      <td>10.7</td>\n",
       "      <td>4500.0</td>\n",
       "      <td>261000.000000</td>\n",
       "      <td>0.000000</td>\n",
       "      <td>0.33</td>\n",
       "      <td>7.000000</td>\n",
       "      <td>0.630000</td>\n",
       "      <td>37.000000</td>\n",
       "      <td>0.240000</td>\n",
       "      <td>...</td>\n",
       "      <td>0</td>\n",
       "      <td>0.0</td>\n",
       "      <td>0</td>\n",
       "      <td>0</td>\n",
       "      <td>0</td>\n",
       "      <td>0.0</td>\n",
       "      <td>0</td>\n",
       "      <td>0</td>\n",
       "      <td>0.0</td>\n",
       "      <td>0</td>\n",
       "    </tr>\n",
       "    <tr>\n",
       "      <th>235</th>\n",
       "      <td>41.0</td>\n",
       "      <td>10.5</td>\n",
       "      <td>5040.0</td>\n",
       "      <td>244000.000000</td>\n",
       "      <td>10.000000</td>\n",
       "      <td>0.28</td>\n",
       "      <td>6.000000</td>\n",
       "      <td>0.610000</td>\n",
       "      <td>42.000000</td>\n",
       "      <td>0.050000</td>\n",
       "      <td>...</td>\n",
       "      <td>0</td>\n",
       "      <td>0.0</td>\n",
       "      <td>0</td>\n",
       "      <td>0</td>\n",
       "      <td>0</td>\n",
       "      <td>0.0</td>\n",
       "      <td>0</td>\n",
       "      <td>0</td>\n",
       "      <td>0.0</td>\n",
       "      <td>1</td>\n",
       "    </tr>\n",
       "    <tr>\n",
       "      <th>297</th>\n",
       "      <td>59.0</td>\n",
       "      <td>10.3</td>\n",
       "      <td>8110.0</td>\n",
       "      <td>525000.000000</td>\n",
       "      <td>52.000000</td>\n",
       "      <td>0.11</td>\n",
       "      <td>6.000000</td>\n",
       "      <td>1.540000</td>\n",
       "      <td>35.000000</td>\n",
       "      <td>0.030000</td>\n",
       "      <td>...</td>\n",
       "      <td>0</td>\n",
       "      <td>0.0</td>\n",
       "      <td>0</td>\n",
       "      <td>0</td>\n",
       "      <td>0</td>\n",
       "      <td>0.0</td>\n",
       "      <td>0</td>\n",
       "      <td>0</td>\n",
       "      <td>0.0</td>\n",
       "      <td>0</td>\n",
       "    </tr>\n",
       "    <tr>\n",
       "      <th>329</th>\n",
       "      <td>52.0</td>\n",
       "      <td>10.3</td>\n",
       "      <td>5380.0</td>\n",
       "      <td>140000.000000</td>\n",
       "      <td>1.000000</td>\n",
       "      <td>0.22</td>\n",
       "      <td>10.000000</td>\n",
       "      <td>1.840000</td>\n",
       "      <td>36.000000</td>\n",
       "      <td>0.020000</td>\n",
       "      <td>...</td>\n",
       "      <td>0</td>\n",
       "      <td>0.0</td>\n",
       "      <td>0</td>\n",
       "      <td>0</td>\n",
       "      <td>0</td>\n",
       "      <td>0.0</td>\n",
       "      <td>0</td>\n",
       "      <td>0</td>\n",
       "      <td>0.0</td>\n",
       "      <td>0</td>\n",
       "    </tr>\n",
       "    <tr>\n",
       "      <th>304</th>\n",
       "      <td>75.0</td>\n",
       "      <td>9.8</td>\n",
       "      <td>5990.0</td>\n",
       "      <td>232000.000000</td>\n",
       "      <td>11.000000</td>\n",
       "      <td>0.22</td>\n",
       "      <td>6.000000</td>\n",
       "      <td>1.060000</td>\n",
       "      <td>19.000000</td>\n",
       "      <td>0.100000</td>\n",
       "      <td>...</td>\n",
       "      <td>0</td>\n",
       "      <td>0.0</td>\n",
       "      <td>0</td>\n",
       "      <td>0</td>\n",
       "      <td>0</td>\n",
       "      <td>0.0</td>\n",
       "      <td>0</td>\n",
       "      <td>0</td>\n",
       "      <td>0.0</td>\n",
       "      <td>2</td>\n",
       "    </tr>\n",
       "    <tr>\n",
       "      <th>163</th>\n",
       "      <td>44.0</td>\n",
       "      <td>13.2</td>\n",
       "      <td>8110.0</td>\n",
       "      <td>436000.000000</td>\n",
       "      <td>4.000000</td>\n",
       "      <td>0.16</td>\n",
       "      <td>7.000000</td>\n",
       "      <td>1.077961</td>\n",
       "      <td>40.000000</td>\n",
       "      <td>0.060000</td>\n",
       "      <td>...</td>\n",
       "      <td>0</td>\n",
       "      <td>0.0</td>\n",
       "      <td>0</td>\n",
       "      <td>0</td>\n",
       "      <td>0</td>\n",
       "      <td>0.0</td>\n",
       "      <td>0</td>\n",
       "      <td>0</td>\n",
       "      <td>0.0</td>\n",
       "      <td>0</td>\n",
       "    </tr>\n",
       "    <tr>\n",
       "      <th>193</th>\n",
       "      <td>65.0</td>\n",
       "      <td>11.6</td>\n",
       "      <td>6590.0</td>\n",
       "      <td>260000.000000</td>\n",
       "      <td>29.000000</td>\n",
       "      <td>0.33</td>\n",
       "      <td>8.000000</td>\n",
       "      <td>0.870000</td>\n",
       "      <td>39.000000</td>\n",
       "      <td>0.030000</td>\n",
       "      <td>...</td>\n",
       "      <td>0</td>\n",
       "      <td>0.0</td>\n",
       "      <td>0</td>\n",
       "      <td>0</td>\n",
       "      <td>0</td>\n",
       "      <td>0.0</td>\n",
       "      <td>0</td>\n",
       "      <td>0</td>\n",
       "      <td>0.0</td>\n",
       "      <td>0</td>\n",
       "    </tr>\n",
       "    <tr>\n",
       "      <th>131</th>\n",
       "      <td>60.0</td>\n",
       "      <td>12.2</td>\n",
       "      <td>4870.0</td>\n",
       "      <td>376000.000000</td>\n",
       "      <td>5.000000</td>\n",
       "      <td>0.17</td>\n",
       "      <td>6.000000</td>\n",
       "      <td>1.077961</td>\n",
       "      <td>38.000000</td>\n",
       "      <td>0.000000</td>\n",
       "      <td>...</td>\n",
       "      <td>0</td>\n",
       "      <td>0.0</td>\n",
       "      <td>0</td>\n",
       "      <td>0</td>\n",
       "      <td>0</td>\n",
       "      <td>0.0</td>\n",
       "      <td>0</td>\n",
       "      <td>0</td>\n",
       "      <td>0.0</td>\n",
       "      <td>1</td>\n",
       "    </tr>\n",
       "    <tr>\n",
       "      <th>250</th>\n",
       "      <td>31.0</td>\n",
       "      <td>8.9</td>\n",
       "      <td>7940.0</td>\n",
       "      <td>282000.000000</td>\n",
       "      <td>37.000000</td>\n",
       "      <td>0.20</td>\n",
       "      <td>6.000000</td>\n",
       "      <td>0.830000</td>\n",
       "      <td>35.601695</td>\n",
       "      <td>0.259902</td>\n",
       "      <td>...</td>\n",
       "      <td>0</td>\n",
       "      <td>0.0</td>\n",
       "      <td>0</td>\n",
       "      <td>0</td>\n",
       "      <td>0</td>\n",
       "      <td>0.0</td>\n",
       "      <td>0</td>\n",
       "      <td>0</td>\n",
       "      <td>0.0</td>\n",
       "      <td>0</td>\n",
       "    </tr>\n",
       "    <tr>\n",
       "      <th>213</th>\n",
       "      <td>56.0</td>\n",
       "      <td>11.9</td>\n",
       "      <td>6650.0</td>\n",
       "      <td>266000.000000</td>\n",
       "      <td>4.000000</td>\n",
       "      <td>0.22</td>\n",
       "      <td>7.000000</td>\n",
       "      <td>1.077961</td>\n",
       "      <td>38.000000</td>\n",
       "      <td>0.030000</td>\n",
       "      <td>...</td>\n",
       "      <td>0</td>\n",
       "      <td>0.0</td>\n",
       "      <td>0</td>\n",
       "      <td>0</td>\n",
       "      <td>0</td>\n",
       "      <td>0.0</td>\n",
       "      <td>0</td>\n",
       "      <td>0</td>\n",
       "      <td>0.0</td>\n",
       "      <td>0</td>\n",
       "    </tr>\n",
       "    <tr>\n",
       "      <th>120</th>\n",
       "      <td>48.0</td>\n",
       "      <td>13.2</td>\n",
       "      <td>6040.0</td>\n",
       "      <td>314000.000000</td>\n",
       "      <td>2.000000</td>\n",
       "      <td>0.29</td>\n",
       "      <td>8.000000</td>\n",
       "      <td>0.950000</td>\n",
       "      <td>33.000000</td>\n",
       "      <td>0.000000</td>\n",
       "      <td>...</td>\n",
       "      <td>0</td>\n",
       "      <td>0.0</td>\n",
       "      <td>0</td>\n",
       "      <td>0</td>\n",
       "      <td>0</td>\n",
       "      <td>0.0</td>\n",
       "      <td>0</td>\n",
       "      <td>0</td>\n",
       "      <td>0.0</td>\n",
       "      <td>1</td>\n",
       "    </tr>\n",
       "    <tr>\n",
       "      <th>60</th>\n",
       "      <td>64.0</td>\n",
       "      <td>11.7</td>\n",
       "      <td>5600.0</td>\n",
       "      <td>207000.000000</td>\n",
       "      <td>3.000000</td>\n",
       "      <td>0.23</td>\n",
       "      <td>6.000000</td>\n",
       "      <td>1.077961</td>\n",
       "      <td>34.000000</td>\n",
       "      <td>0.259902</td>\n",
       "      <td>...</td>\n",
       "      <td>0</td>\n",
       "      <td>0.0</td>\n",
       "      <td>0</td>\n",
       "      <td>0</td>\n",
       "      <td>0</td>\n",
       "      <td>0.0</td>\n",
       "      <td>0</td>\n",
       "      <td>0</td>\n",
       "      <td>0.0</td>\n",
       "      <td>2</td>\n",
       "    </tr>\n",
       "    <tr>\n",
       "      <th>142</th>\n",
       "      <td>38.0</td>\n",
       "      <td>12.9</td>\n",
       "      <td>7680.0</td>\n",
       "      <td>287000.000000</td>\n",
       "      <td>2.000000</td>\n",
       "      <td>0.18</td>\n",
       "      <td>7.661722</td>\n",
       "      <td>0.730000</td>\n",
       "      <td>40.000000</td>\n",
       "      <td>0.060000</td>\n",
       "      <td>...</td>\n",
       "      <td>0</td>\n",
       "      <td>0.0</td>\n",
       "      <td>0</td>\n",
       "      <td>0</td>\n",
       "      <td>0</td>\n",
       "      <td>0.0</td>\n",
       "      <td>0</td>\n",
       "      <td>0</td>\n",
       "      <td>1.0</td>\n",
       "      <td>1</td>\n",
       "    </tr>\n",
       "    <tr>\n",
       "      <th>233</th>\n",
       "      <td>54.0</td>\n",
       "      <td>13.0</td>\n",
       "      <td>6360.0</td>\n",
       "      <td>441000.000000</td>\n",
       "      <td>4.000000</td>\n",
       "      <td>0.21</td>\n",
       "      <td>7.000000</td>\n",
       "      <td>0.870000</td>\n",
       "      <td>35.601695</td>\n",
       "      <td>0.259902</td>\n",
       "      <td>...</td>\n",
       "      <td>0</td>\n",
       "      <td>0.0</td>\n",
       "      <td>0</td>\n",
       "      <td>0</td>\n",
       "      <td>0</td>\n",
       "      <td>0.0</td>\n",
       "      <td>0</td>\n",
       "      <td>0</td>\n",
       "      <td>0.0</td>\n",
       "      <td>1</td>\n",
       "    </tr>\n",
       "    <tr>\n",
       "      <th>306</th>\n",
       "      <td>62.0</td>\n",
       "      <td>8.1</td>\n",
       "      <td>11450.0</td>\n",
       "      <td>499000.000000</td>\n",
       "      <td>30.000000</td>\n",
       "      <td>0.40</td>\n",
       "      <td>7.000000</td>\n",
       "      <td>1.160000</td>\n",
       "      <td>30.000000</td>\n",
       "      <td>0.259902</td>\n",
       "      <td>...</td>\n",
       "      <td>0</td>\n",
       "      <td>0.0</td>\n",
       "      <td>0</td>\n",
       "      <td>0</td>\n",
       "      <td>0</td>\n",
       "      <td>0.0</td>\n",
       "      <td>0</td>\n",
       "      <td>0</td>\n",
       "      <td>0.0</td>\n",
       "      <td>1</td>\n",
       "    </tr>\n",
       "    <tr>\n",
       "      <th>77</th>\n",
       "      <td>67.0</td>\n",
       "      <td>12.3</td>\n",
       "      <td>6670.0</td>\n",
       "      <td>228000.000000</td>\n",
       "      <td>2.000000</td>\n",
       "      <td>0.24</td>\n",
       "      <td>7.000000</td>\n",
       "      <td>1.077961</td>\n",
       "      <td>44.000000</td>\n",
       "      <td>0.170000</td>\n",
       "      <td>...</td>\n",
       "      <td>0</td>\n",
       "      <td>0.0</td>\n",
       "      <td>0</td>\n",
       "      <td>0</td>\n",
       "      <td>0</td>\n",
       "      <td>0.0</td>\n",
       "      <td>0</td>\n",
       "      <td>0</td>\n",
       "      <td>0.0</td>\n",
       "      <td>1</td>\n",
       "    </tr>\n",
       "    <tr>\n",
       "      <th>84</th>\n",
       "      <td>78.0</td>\n",
       "      <td>14.6</td>\n",
       "      <td>9010.0</td>\n",
       "      <td>178000.000000</td>\n",
       "      <td>6.000000</td>\n",
       "      <td>0.19</td>\n",
       "      <td>7.000000</td>\n",
       "      <td>0.720000</td>\n",
       "      <td>37.000000</td>\n",
       "      <td>0.020000</td>\n",
       "      <td>...</td>\n",
       "      <td>0</td>\n",
       "      <td>0.0</td>\n",
       "      <td>0</td>\n",
       "      <td>0</td>\n",
       "      <td>0</td>\n",
       "      <td>0.0</td>\n",
       "      <td>0</td>\n",
       "      <td>0</td>\n",
       "      <td>0.0</td>\n",
       "      <td>2</td>\n",
       "    </tr>\n",
       "    <tr>\n",
       "      <th>134</th>\n",
       "      <td>71.0</td>\n",
       "      <td>9.2</td>\n",
       "      <td>12820.0</td>\n",
       "      <td>279000.000000</td>\n",
       "      <td>37.600000</td>\n",
       "      <td>0.31</td>\n",
       "      <td>10.000000</td>\n",
       "      <td>1.077961</td>\n",
       "      <td>35.601695</td>\n",
       "      <td>0.259902</td>\n",
       "      <td>...</td>\n",
       "      <td>0</td>\n",
       "      <td>0.0</td>\n",
       "      <td>0</td>\n",
       "      <td>0</td>\n",
       "      <td>0</td>\n",
       "      <td>0.0</td>\n",
       "      <td>0</td>\n",
       "      <td>0</td>\n",
       "      <td>0.0</td>\n",
       "      <td>0</td>\n",
       "    </tr>\n",
       "    <tr>\n",
       "      <th>48</th>\n",
       "      <td>47.0</td>\n",
       "      <td>10.9</td>\n",
       "      <td>3370.0</td>\n",
       "      <td>223000.000000</td>\n",
       "      <td>1.000000</td>\n",
       "      <td>0.30</td>\n",
       "      <td>7.000000</td>\n",
       "      <td>1.077961</td>\n",
       "      <td>40.000000</td>\n",
       "      <td>0.259902</td>\n",
       "      <td>...</td>\n",
       "      <td>0</td>\n",
       "      <td>0.0</td>\n",
       "      <td>0</td>\n",
       "      <td>0</td>\n",
       "      <td>0</td>\n",
       "      <td>0.0</td>\n",
       "      <td>0</td>\n",
       "      <td>0</td>\n",
       "      <td>0.0</td>\n",
       "      <td>0</td>\n",
       "    </tr>\n",
       "    <tr>\n",
       "      <th>90</th>\n",
       "      <td>73.0</td>\n",
       "      <td>13.8</td>\n",
       "      <td>5640.0</td>\n",
       "      <td>293000.000000</td>\n",
       "      <td>1.000000</td>\n",
       "      <td>0.30</td>\n",
       "      <td>9.000000</td>\n",
       "      <td>1.077961</td>\n",
       "      <td>40.000000</td>\n",
       "      <td>0.090000</td>\n",
       "      <td>...</td>\n",
       "      <td>0</td>\n",
       "      <td>0.0</td>\n",
       "      <td>0</td>\n",
       "      <td>0</td>\n",
       "      <td>0</td>\n",
       "      <td>0.0</td>\n",
       "      <td>0</td>\n",
       "      <td>0</td>\n",
       "      <td>0.0</td>\n",
       "      <td>2</td>\n",
       "    </tr>\n",
       "    <tr>\n",
       "      <th>64</th>\n",
       "      <td>55.0</td>\n",
       "      <td>12.0</td>\n",
       "      <td>7730.0</td>\n",
       "      <td>31500.000000</td>\n",
       "      <td>26.860436</td>\n",
       "      <td>0.15</td>\n",
       "      <td>6.000000</td>\n",
       "      <td>0.820000</td>\n",
       "      <td>38.000000</td>\n",
       "      <td>0.259902</td>\n",
       "      <td>...</td>\n",
       "      <td>0</td>\n",
       "      <td>0.0</td>\n",
       "      <td>0</td>\n",
       "      <td>0</td>\n",
       "      <td>0</td>\n",
       "      <td>0.0</td>\n",
       "      <td>0</td>\n",
       "      <td>0</td>\n",
       "      <td>0.0</td>\n",
       "      <td>1</td>\n",
       "    </tr>\n",
       "    <tr>\n",
       "      <th>76</th>\n",
       "      <td>65.0</td>\n",
       "      <td>12.5</td>\n",
       "      <td>3330.0</td>\n",
       "      <td>206000.000000</td>\n",
       "      <td>4.000000</td>\n",
       "      <td>0.23</td>\n",
       "      <td>7.000000</td>\n",
       "      <td>1.077961</td>\n",
       "      <td>32.000000</td>\n",
       "      <td>0.020000</td>\n",
       "      <td>...</td>\n",
       "      <td>0</td>\n",
       "      <td>0.0</td>\n",
       "      <td>0</td>\n",
       "      <td>0</td>\n",
       "      <td>0</td>\n",
       "      <td>0.0</td>\n",
       "      <td>0</td>\n",
       "      <td>0</td>\n",
       "      <td>0.0</td>\n",
       "      <td>0</td>\n",
       "    </tr>\n",
       "    <tr>\n",
       "      <th>196</th>\n",
       "      <td>65.0</td>\n",
       "      <td>8.8</td>\n",
       "      <td>4230.0</td>\n",
       "      <td>256000.000000</td>\n",
       "      <td>1.000000</td>\n",
       "      <td>0.21</td>\n",
       "      <td>5.000000</td>\n",
       "      <td>0.690000</td>\n",
       "      <td>26.000000</td>\n",
       "      <td>0.170000</td>\n",
       "      <td>...</td>\n",
       "      <td>0</td>\n",
       "      <td>0.0</td>\n",
       "      <td>0</td>\n",
       "      <td>0</td>\n",
       "      <td>0</td>\n",
       "      <td>0.0</td>\n",
       "      <td>0</td>\n",
       "      <td>0</td>\n",
       "      <td>0.0</td>\n",
       "      <td>0</td>\n",
       "    </tr>\n",
       "    <tr>\n",
       "      <th>288</th>\n",
       "      <td>69.0</td>\n",
       "      <td>11.7</td>\n",
       "      <td>4310.0</td>\n",
       "      <td>289000.000000</td>\n",
       "      <td>7.000000</td>\n",
       "      <td>0.22</td>\n",
       "      <td>8.000000</td>\n",
       "      <td>0.870000</td>\n",
       "      <td>37.000000</td>\n",
       "      <td>0.259902</td>\n",
       "      <td>...</td>\n",
       "      <td>0</td>\n",
       "      <td>0.0</td>\n",
       "      <td>0</td>\n",
       "      <td>0</td>\n",
       "      <td>0</td>\n",
       "      <td>0.0</td>\n",
       "      <td>0</td>\n",
       "      <td>0</td>\n",
       "      <td>0.0</td>\n",
       "      <td>1</td>\n",
       "    </tr>\n",
       "    <tr>\n",
       "      <th>9</th>\n",
       "      <td>55.0</td>\n",
       "      <td>12.3</td>\n",
       "      <td>4360.0</td>\n",
       "      <td>341000.000000</td>\n",
       "      <td>48.000000</td>\n",
       "      <td>0.21</td>\n",
       "      <td>7.000000</td>\n",
       "      <td>0.880000</td>\n",
       "      <td>35.000000</td>\n",
       "      <td>0.259902</td>\n",
       "      <td>...</td>\n",
       "      <td>0</td>\n",
       "      <td>0.0</td>\n",
       "      <td>0</td>\n",
       "      <td>0</td>\n",
       "      <td>0</td>\n",
       "      <td>0.0</td>\n",
       "      <td>0</td>\n",
       "      <td>0</td>\n",
       "      <td>0.0</td>\n",
       "      <td>0</td>\n",
       "    </tr>\n",
       "    <tr>\n",
       "      <th>315</th>\n",
       "      <td>43.0</td>\n",
       "      <td>16.0</td>\n",
       "      <td>4680.0</td>\n",
       "      <td>166000.000000</td>\n",
       "      <td>11.000000</td>\n",
       "      <td>0.44</td>\n",
       "      <td>8.000000</td>\n",
       "      <td>0.990000</td>\n",
       "      <td>45.000000</td>\n",
       "      <td>0.259902</td>\n",
       "      <td>...</td>\n",
       "      <td>0</td>\n",
       "      <td>0.0</td>\n",
       "      <td>0</td>\n",
       "      <td>0</td>\n",
       "      <td>0</td>\n",
       "      <td>0.0</td>\n",
       "      <td>0</td>\n",
       "      <td>0</td>\n",
       "      <td>0.0</td>\n",
       "      <td>0</td>\n",
       "    </tr>\n",
       "    <tr>\n",
       "      <th>45</th>\n",
       "      <td>34.0</td>\n",
       "      <td>11.3</td>\n",
       "      <td>4050.0</td>\n",
       "      <td>264000.000000</td>\n",
       "      <td>26.860436</td>\n",
       "      <td>0.34</td>\n",
       "      <td>7.000000</td>\n",
       "      <td>1.077961</td>\n",
       "      <td>39.000000</td>\n",
       "      <td>0.130000</td>\n",
       "      <td>...</td>\n",
       "      <td>0</td>\n",
       "      <td>0.0</td>\n",
       "      <td>0</td>\n",
       "      <td>0</td>\n",
       "      <td>0</td>\n",
       "      <td>0.0</td>\n",
       "      <td>0</td>\n",
       "      <td>0</td>\n",
       "      <td>0.0</td>\n",
       "      <td>1</td>\n",
       "    </tr>\n",
       "    <tr>\n",
       "      <th>249</th>\n",
       "      <td>74.0</td>\n",
       "      <td>10.7</td>\n",
       "      <td>3800.0</td>\n",
       "      <td>254000.000000</td>\n",
       "      <td>12.000000</td>\n",
       "      <td>0.51</td>\n",
       "      <td>7.000000</td>\n",
       "      <td>1.077961</td>\n",
       "      <td>32.000000</td>\n",
       "      <td>0.259902</td>\n",
       "      <td>...</td>\n",
       "      <td>0</td>\n",
       "      <td>0.0</td>\n",
       "      <td>0</td>\n",
       "      <td>0</td>\n",
       "      <td>0</td>\n",
       "      <td>0.0</td>\n",
       "      <td>0</td>\n",
       "      <td>0</td>\n",
       "      <td>0.0</td>\n",
       "      <td>0</td>\n",
       "    </tr>\n",
       "    <tr>\n",
       "      <th>291</th>\n",
       "      <td>62.0</td>\n",
       "      <td>12.6</td>\n",
       "      <td>4000.0</td>\n",
       "      <td>189000.000000</td>\n",
       "      <td>3.000000</td>\n",
       "      <td>0.31</td>\n",
       "      <td>8.000000</td>\n",
       "      <td>0.820000</td>\n",
       "      <td>33.000000</td>\n",
       "      <td>0.259902</td>\n",
       "      <td>...</td>\n",
       "      <td>0</td>\n",
       "      <td>0.0</td>\n",
       "      <td>0</td>\n",
       "      <td>0</td>\n",
       "      <td>0</td>\n",
       "      <td>0.0</td>\n",
       "      <td>0</td>\n",
       "      <td>0</td>\n",
       "      <td>0.0</td>\n",
       "      <td>0</td>\n",
       "    </tr>\n",
       "    <tr>\n",
       "      <th>234</th>\n",
       "      <td>72.0</td>\n",
       "      <td>13.9</td>\n",
       "      <td>4700.0</td>\n",
       "      <td>163000.000000</td>\n",
       "      <td>1.000000</td>\n",
       "      <td>0.24</td>\n",
       "      <td>6.000000</td>\n",
       "      <td>0.770000</td>\n",
       "      <td>35.601695</td>\n",
       "      <td>0.259902</td>\n",
       "      <td>...</td>\n",
       "      <td>0</td>\n",
       "      <td>0.0</td>\n",
       "      <td>0</td>\n",
       "      <td>0</td>\n",
       "      <td>0</td>\n",
       "      <td>0.0</td>\n",
       "      <td>0</td>\n",
       "      <td>0</td>\n",
       "      <td>0.0</td>\n",
       "      <td>0</td>\n",
       "    </tr>\n",
       "  </tbody>\n",
       "</table>\n",
       "<p>46 rows × 158 columns</p>\n",
       "</div>"
      ],
      "text/plain": [
       "      Age  Hémoglobine  Globule blanc      Plaquette         CRP  Urée  \\\n",
       "106  19.0          7.8         4620.0  434000.000000   41.000000  0.22   \n",
       "102  55.0         13.2        14420.0  356000.000000   19.000000  0.27   \n",
       "155  41.0         12.6        17350.0  656000.000000  353.000000  0.21   \n",
       "162  45.0          6.5        18440.0  744000.000000  312.000000  0.31   \n",
       "232  48.0          9.7        19220.0  566000.000000  238.000000  0.58   \n",
       "36   39.0          9.9         9800.0  547000.000000  105.000000  0.23   \n",
       "105  62.0          9.5        13240.0  505000.000000   85.000000  0.24   \n",
       "161  40.0         10.9         5540.0  399000.000000   99.000000  0.12   \n",
       "166  45.0         10.6         5140.0  314000.000000   86.000000  0.29   \n",
       "172  75.0         14.2        11250.0  280132.835821    6.000000  0.93   \n",
       "198  62.0         11.0         3220.0  161000.000000    2.000000  0.31   \n",
       "2    77.0         10.4         3640.0  147000.000000   26.860436  0.30   \n",
       "57   66.0         13.3         8900.0  463000.000000   29.000000  0.12   \n",
       "94   37.0         11.3         5470.0  244000.000000   14.000000  0.33   \n",
       "128  47.0         14.0         4440.0  244000.000000    4.000000  0.44   \n",
       "129  57.0          9.5         7880.0  487000.000000   24.000000  0.35   \n",
       "231  54.0         10.7         4500.0  261000.000000    0.000000  0.33   \n",
       "235  41.0         10.5         5040.0  244000.000000   10.000000  0.28   \n",
       "297  59.0         10.3         8110.0  525000.000000   52.000000  0.11   \n",
       "329  52.0         10.3         5380.0  140000.000000    1.000000  0.22   \n",
       "304  75.0          9.8         5990.0  232000.000000   11.000000  0.22   \n",
       "163  44.0         13.2         8110.0  436000.000000    4.000000  0.16   \n",
       "193  65.0         11.6         6590.0  260000.000000   29.000000  0.33   \n",
       "131  60.0         12.2         4870.0  376000.000000    5.000000  0.17   \n",
       "250  31.0          8.9         7940.0  282000.000000   37.000000  0.20   \n",
       "213  56.0         11.9         6650.0  266000.000000    4.000000  0.22   \n",
       "120  48.0         13.2         6040.0  314000.000000    2.000000  0.29   \n",
       "60   64.0         11.7         5600.0  207000.000000    3.000000  0.23   \n",
       "142  38.0         12.9         7680.0  287000.000000    2.000000  0.18   \n",
       "233  54.0         13.0         6360.0  441000.000000    4.000000  0.21   \n",
       "306  62.0          8.1        11450.0  499000.000000   30.000000  0.40   \n",
       "77   67.0         12.3         6670.0  228000.000000    2.000000  0.24   \n",
       "84   78.0         14.6         9010.0  178000.000000    6.000000  0.19   \n",
       "134  71.0          9.2        12820.0  279000.000000   37.600000  0.31   \n",
       "48   47.0         10.9         3370.0  223000.000000    1.000000  0.30   \n",
       "90   73.0         13.8         5640.0  293000.000000    1.000000  0.30   \n",
       "64   55.0         12.0         7730.0   31500.000000   26.860436  0.15   \n",
       "76   65.0         12.5         3330.0  206000.000000    4.000000  0.23   \n",
       "196  65.0          8.8         4230.0  256000.000000    1.000000  0.21   \n",
       "288  69.0         11.7         4310.0  289000.000000    7.000000  0.22   \n",
       "9    55.0         12.3         4360.0  341000.000000   48.000000  0.21   \n",
       "315  43.0         16.0         4680.0  166000.000000   11.000000  0.44   \n",
       "45   34.0         11.3         4050.0  264000.000000   26.860436  0.34   \n",
       "249  74.0         10.7         3800.0  254000.000000   12.000000  0.51   \n",
       "291  62.0         12.6         4000.0  189000.000000    3.000000  0.31   \n",
       "234  72.0         13.9         4700.0  163000.000000    1.000000  0.24   \n",
       "\n",
       "         Créat  Glycémie   Albumine  Préalbumine  ...  CHemorEvolu  \\\n",
       "106   5.000000  1.810000  32.000000     0.130000  ...            0   \n",
       "102   8.000000  1.077961  25.000000     0.030000  ...            0   \n",
       "155   7.000000  0.620000  34.000000     0.259902  ...            0   \n",
       "162   8.000000  1.077961  53.000000     0.259902  ...            0   \n",
       "232   7.661722  0.750000  35.601695     0.259902  ...            0   \n",
       "36    6.000000  1.077961  33.000000     0.030000  ...            0   \n",
       "105   6.000000  1.380000  22.000000     0.000000  ...            0   \n",
       "161   5.000000  0.790000  31.000000     0.130000  ...            0   \n",
       "166   8.000000  1.077961  33.000000     0.000000  ...            0   \n",
       "172  11.000000  1.077961  31.000000     0.259902  ...            0   \n",
       "198  12.000000  2.570000  39.000000    39.000000  ...            0   \n",
       "2    10.000000  2.090000  37.800000     0.259902  ...            0   \n",
       "57    6.000000  2.190000  33.000000     0.000000  ...            0   \n",
       "94    8.000000  0.570000  38.000000     0.259902  ...            0   \n",
       "128   7.000000  3.610000  36.000000     0.030000  ...            1   \n",
       "129   8.000000  1.450000  29.000000     0.030000  ...            0   \n",
       "231   7.000000  0.630000  37.000000     0.240000  ...            0   \n",
       "235   6.000000  0.610000  42.000000     0.050000  ...            0   \n",
       "297   6.000000  1.540000  35.000000     0.030000  ...            0   \n",
       "329  10.000000  1.840000  36.000000     0.020000  ...            0   \n",
       "304   6.000000  1.060000  19.000000     0.100000  ...            0   \n",
       "163   7.000000  1.077961  40.000000     0.060000  ...            0   \n",
       "193   8.000000  0.870000  39.000000     0.030000  ...            0   \n",
       "131   6.000000  1.077961  38.000000     0.000000  ...            0   \n",
       "250   6.000000  0.830000  35.601695     0.259902  ...            0   \n",
       "213   7.000000  1.077961  38.000000     0.030000  ...            0   \n",
       "120   8.000000  0.950000  33.000000     0.000000  ...            0   \n",
       "60    6.000000  1.077961  34.000000     0.259902  ...            0   \n",
       "142   7.661722  0.730000  40.000000     0.060000  ...            0   \n",
       "233   7.000000  0.870000  35.601695     0.259902  ...            0   \n",
       "306   7.000000  1.160000  30.000000     0.259902  ...            0   \n",
       "77    7.000000  1.077961  44.000000     0.170000  ...            0   \n",
       "84    7.000000  0.720000  37.000000     0.020000  ...            0   \n",
       "134  10.000000  1.077961  35.601695     0.259902  ...            0   \n",
       "48    7.000000  1.077961  40.000000     0.259902  ...            0   \n",
       "90    9.000000  1.077961  40.000000     0.090000  ...            0   \n",
       "64    6.000000  0.820000  38.000000     0.259902  ...            0   \n",
       "76    7.000000  1.077961  32.000000     0.020000  ...            0   \n",
       "196   5.000000  0.690000  26.000000     0.170000  ...            0   \n",
       "288   8.000000  0.870000  37.000000     0.259902  ...            0   \n",
       "9     7.000000  0.880000  35.000000     0.259902  ...            0   \n",
       "315   8.000000  0.990000  45.000000     0.259902  ...            0   \n",
       "45    7.000000  1.077961  39.000000     0.130000  ...            0   \n",
       "249   7.000000  1.077961  32.000000     0.259902  ...            0   \n",
       "291   8.000000  0.820000  33.000000     0.259902  ...            0   \n",
       "234   6.000000  0.770000  35.601695     0.259902  ...            0   \n",
       "\n",
       "     CpltPérinéal  CPérinéDiagnos  CPérinTraite  CPérinEvolut  CplUrinair  \\\n",
       "106           0.0               0             0             0         0.0   \n",
       "102           0.0               0             0             0         0.0   \n",
       "155           0.0               0             0             0         0.0   \n",
       "162           0.0               0             0             0         0.0   \n",
       "232           0.0               0             0             0         0.0   \n",
       "36            0.0               0             0             0         0.0   \n",
       "105           0.0               0             0             0         0.0   \n",
       "161           0.0               0             0             0         0.0   \n",
       "166           0.0               0             0             0         0.0   \n",
       "172           0.0               0             0             0         0.0   \n",
       "198           0.0               0             0             0         0.0   \n",
       "2             0.0               0             0             0         0.0   \n",
       "57            0.0               0             0             0         0.0   \n",
       "94            1.0               2             2             1         0.0   \n",
       "128           0.0               0             0             0         0.0   \n",
       "129           0.0               0             0             0         0.0   \n",
       "231           0.0               0             0             0         0.0   \n",
       "235           0.0               0             0             0         0.0   \n",
       "297           0.0               0             0             0         0.0   \n",
       "329           0.0               0             0             0         0.0   \n",
       "304           0.0               0             0             0         0.0   \n",
       "163           0.0               0             0             0         0.0   \n",
       "193           0.0               0             0             0         0.0   \n",
       "131           0.0               0             0             0         0.0   \n",
       "250           0.0               0             0             0         0.0   \n",
       "213           0.0               0             0             0         0.0   \n",
       "120           0.0               0             0             0         0.0   \n",
       "60            0.0               0             0             0         0.0   \n",
       "142           0.0               0             0             0         0.0   \n",
       "233           0.0               0             0             0         0.0   \n",
       "306           0.0               0             0             0         0.0   \n",
       "77            0.0               0             0             0         0.0   \n",
       "84            0.0               0             0             0         0.0   \n",
       "134           0.0               0             0             0         0.0   \n",
       "48            0.0               0             0             0         0.0   \n",
       "90            0.0               0             0             0         0.0   \n",
       "64            0.0               0             0             0         0.0   \n",
       "76            0.0               0             0             0         0.0   \n",
       "196           0.0               0             0             0         0.0   \n",
       "288           0.0               0             0             0         0.0   \n",
       "9             0.0               0             0             0         0.0   \n",
       "315           0.0               0             0             0         0.0   \n",
       "45            0.0               0             0             0         0.0   \n",
       "249           0.0               0             0             0         0.0   \n",
       "291           0.0               0             0             0         0.0   \n",
       "234           0.0               0             0             0         0.0   \n",
       "\n",
       "     CUrinaiDiagn  CUrinairEvolu  Cplct Générl  Décès  \n",
       "106             0              0           0.0      2  \n",
       "102             0              0           0.0      2  \n",
       "155             0              0           0.0      0  \n",
       "162             0              0           0.0      0  \n",
       "232             0              0           0.0      1  \n",
       "36              0              0           0.0      0  \n",
       "105             0              0           0.0      2  \n",
       "161             0              0           0.0      0  \n",
       "166             0              0           0.0      0  \n",
       "172             0              0           0.0      2  \n",
       "198             0              0           0.0      0  \n",
       "2               0              0           0.0      0  \n",
       "57              0              0           0.0      0  \n",
       "94              0              0           0.0      1  \n",
       "128             0              0           0.0      2  \n",
       "129             0              0           0.0      0  \n",
       "231             0              0           0.0      0  \n",
       "235             0              0           0.0      1  \n",
       "297             0              0           0.0      0  \n",
       "329             0              0           0.0      0  \n",
       "304             0              0           0.0      2  \n",
       "163             0              0           0.0      0  \n",
       "193             0              0           0.0      0  \n",
       "131             0              0           0.0      1  \n",
       "250             0              0           0.0      0  \n",
       "213             0              0           0.0      0  \n",
       "120             0              0           0.0      1  \n",
       "60              0              0           0.0      2  \n",
       "142             0              0           1.0      1  \n",
       "233             0              0           0.0      1  \n",
       "306             0              0           0.0      1  \n",
       "77              0              0           0.0      1  \n",
       "84              0              0           0.0      2  \n",
       "134             0              0           0.0      0  \n",
       "48              0              0           0.0      0  \n",
       "90              0              0           0.0      2  \n",
       "64              0              0           0.0      1  \n",
       "76              0              0           0.0      0  \n",
       "196             0              0           0.0      0  \n",
       "288             0              0           0.0      1  \n",
       "9               0              0           0.0      0  \n",
       "315             0              0           0.0      0  \n",
       "45              0              0           0.0      1  \n",
       "249             0              0           0.0      0  \n",
       "291             0              0           0.0      0  \n",
       "234             0              0           0.0      0  \n",
       "\n",
       "[46 rows x 158 columns]"
      ]
     },
     "execution_count": 153,
     "metadata": {},
     "output_type": "execute_result"
    }
   ],
   "source": [
    "# Outlier detection \n",
    "def detect_outliers(df,n,features):\n",
    "    outlier_indices = []\n",
    "    # iterate over features(columns)\n",
    "    for col in features:\n",
    "        # 1st quartile (25%)\n",
    "        Q1 = np.percentile(df[col],25)\n",
    "        # 3rd quartile (75%)\n",
    "        Q3 = np.percentile(df[col],75)\n",
    "        # Interquartile range (IQR)\n",
    "        IQR = Q3 - Q1\n",
    "        # outlier step\n",
    "        outlier_step = 1.5 * IQR\n",
    "        # Determine a list of indices of outliers for feature col\n",
    "        outlier_list_col = df[(df[col] < Q1 - outlier_step) | (df[col] > Q3 + outlier_step )].index       \n",
    "        # append the found outlier indices for col to the list of outlier indices \n",
    "        outlier_indices.extend(outlier_list_col)\n",
    "        \n",
    "    # select observations containing more than 11 outliers\n",
    "    outlier_indices = Counter(outlier_indices)        \n",
    "    multiple_outliers = list( k for k, v in outlier_indices.items() if v > n )\n",
    "    return multiple_outliers   \n",
    "# detect outliers from Age, SibSp , Parch and Fare\n",
    "Outliers_to_drop = detect_outliers(train,11,train.columns.tolist())\n",
    "train.loc[Outliers_to_drop] # Show the outliers rows"
   ]
  },
  {
   "cell_type": "markdown",
   "metadata": {
    "_cell_guid": "4d70580d-8bcb-434c-8630-8bcb7aada36b",
    "_uuid": "6cf77f7bdf1d38ca620d102e75ce54ed759e7af0"
   },
   "source": [
    "** Observations**\n",
    "* The Detect_Outliers function found 46 outliers.\n",
    "\n"
   ]
  },
  {
   "cell_type": "code",
   "execution_count": 154,
   "metadata": {
    "_cell_guid": "f0acac5f-79ba-4c1a-aab1-f6416f963cc7",
    "_uuid": "1cb4a4a0d63f644850356d29521119025f95a257",
    "jupyter": {
     "outputs_hidden": true
    }
   },
   "outputs": [],
   "source": [
    "# Drop outliers\n",
    "train = train.drop(Outliers_to_drop, axis = 0).reset_index(drop=True)\n"
   ]
  },
  {
   "cell_type": "markdown",
   "metadata": {
    "_cell_guid": "3fa8b862-a11f-48f5-b87a-c9bd7114382a",
    "_uuid": "6c82c0056c3492ae9a4f91fac98fb40f7048b252"
   },
   "source": [
    "\n",
    "The .info function below shows how complete or incomplete the datasets are. "
   ]
  },
  {
   "cell_type": "code",
   "execution_count": 155,
   "metadata": {
    "_cell_guid": "3cc01b03-52b8-4c55-9dae-ed4c396d8601",
    "_uuid": "3b87698ec3ae2a12fc189a570f8871fd82053245",
    "jupyter": {
     "outputs_hidden": true
    }
   },
   "outputs": [
    {
     "name": "stdout",
     "output_type": "stream",
     "text": [
      "<class 'pandas.core.frame.DataFrame'>\n",
      "RangeIndex: 292 entries, 0 to 291\n",
      "Columns: 158 entries, Age to Décès\n",
      "dtypes: float64(116), int32(1), int64(41)\n",
      "memory usage: 359.4 KB\n",
      "________________________________________\n"
     ]
    }
   ],
   "source": [
    "train.info()\n",
    "print('_'*40)"
   ]
  },
  {
   "cell_type": "code",
   "execution_count": 156,
   "metadata": {
    "_cell_guid": "6948be07-4fa1-456e-876f-e171390303e7",
    "_uuid": "01ad05b95eb87e1d0a179f476339f5dc232501d7",
    "jupyter": {
     "outputs_hidden": true
    }
   },
   "outputs": [
    {
     "data": {
      "text/plain": [
       "count    292.000000\n",
       "mean       0.215753\n",
       "std        0.412050\n",
       "min        0.000000\n",
       "25%        0.000000\n",
       "50%        0.000000\n",
       "75%        0.000000\n",
       "max        1.000000\n",
       "Name: Morbidité, dtype: float64"
      ]
     },
     "execution_count": 156,
     "metadata": {},
     "output_type": "execute_result"
    }
   ],
   "source": [
    "Morbidite = train['Morbidité']\n",
    "Morbidite.describe()"
   ]
  },
  {
   "cell_type": "markdown",
   "metadata": {
    "_cell_guid": "e9814168-b7cd-d4e4-1b1d-e21c6637a663",
    "_uuid": "dd288776321804d99e4e4a7e88594c1d631e4409"
   },
   "source": [
    "## Visualising updated dataset"
   ]
  },
  {
   "cell_type": "code",
   "execution_count": 157,
   "metadata": {
    "_cell_guid": "fc426b8f-873d-6f23-4299-99f174956cca",
    "_execution_state": "idle",
    "_uuid": "1f280a1c11dc35a93b57af494938998e6d0b4544",
    "jupyter": {
     "outputs_hidden": true
    }
   },
   "outputs": [
    {
     "data": {
      "text/html": [
       "<div>\n",
       "<style scoped>\n",
       "    .dataframe tbody tr th:only-of-type {\n",
       "        vertical-align: middle;\n",
       "    }\n",
       "\n",
       "    .dataframe tbody tr th {\n",
       "        vertical-align: top;\n",
       "    }\n",
       "\n",
       "    .dataframe thead th {\n",
       "        text-align: right;\n",
       "    }\n",
       "</style>\n",
       "<table border=\"1\" class=\"dataframe\">\n",
       "  <thead>\n",
       "    <tr style=\"text-align: right;\">\n",
       "      <th></th>\n",
       "      <th>Age</th>\n",
       "      <th>Hémoglobine</th>\n",
       "      <th>Globule blanc</th>\n",
       "      <th>Plaquette</th>\n",
       "      <th>CRP</th>\n",
       "      <th>Urée</th>\n",
       "      <th>Créat</th>\n",
       "      <th>Glycémie</th>\n",
       "      <th>Albumine</th>\n",
       "      <th>Préalbumine</th>\n",
       "      <th>...</th>\n",
       "      <th>CHemorEvolu</th>\n",
       "      <th>CpltPérinéal</th>\n",
       "      <th>CPérinéDiagnos</th>\n",
       "      <th>CPérinTraite</th>\n",
       "      <th>CPérinEvolut</th>\n",
       "      <th>CplUrinair</th>\n",
       "      <th>CUrinaiDiagn</th>\n",
       "      <th>CUrinairEvolu</th>\n",
       "      <th>Cplct Générl</th>\n",
       "      <th>Décès</th>\n",
       "    </tr>\n",
       "  </thead>\n",
       "  <tbody>\n",
       "    <tr>\n",
       "      <th>0</th>\n",
       "      <td>60.0</td>\n",
       "      <td>11.5</td>\n",
       "      <td>8170.0</td>\n",
       "      <td>331000.0</td>\n",
       "      <td>12.0</td>\n",
       "      <td>0.36</td>\n",
       "      <td>10.0</td>\n",
       "      <td>0.90</td>\n",
       "      <td>35.601695</td>\n",
       "      <td>0.259902</td>\n",
       "      <td>...</td>\n",
       "      <td>0</td>\n",
       "      <td>0.0</td>\n",
       "      <td>0</td>\n",
       "      <td>0</td>\n",
       "      <td>0</td>\n",
       "      <td>0.0</td>\n",
       "      <td>0</td>\n",
       "      <td>0</td>\n",
       "      <td>0.0</td>\n",
       "      <td>0</td>\n",
       "    </tr>\n",
       "    <tr>\n",
       "      <th>1</th>\n",
       "      <td>80.0</td>\n",
       "      <td>10.7</td>\n",
       "      <td>8680.0</td>\n",
       "      <td>197000.0</td>\n",
       "      <td>16.0</td>\n",
       "      <td>0.34</td>\n",
       "      <td>9.0</td>\n",
       "      <td>2.31</td>\n",
       "      <td>35.300000</td>\n",
       "      <td>0.230000</td>\n",
       "      <td>...</td>\n",
       "      <td>0</td>\n",
       "      <td>0.0</td>\n",
       "      <td>0</td>\n",
       "      <td>0</td>\n",
       "      <td>0</td>\n",
       "      <td>0.0</td>\n",
       "      <td>0</td>\n",
       "      <td>0</td>\n",
       "      <td>0.0</td>\n",
       "      <td>0</td>\n",
       "    </tr>\n",
       "    <tr>\n",
       "      <th>2</th>\n",
       "      <td>50.0</td>\n",
       "      <td>16.0</td>\n",
       "      <td>6890.0</td>\n",
       "      <td>157000.0</td>\n",
       "      <td>3.0</td>\n",
       "      <td>0.52</td>\n",
       "      <td>10.0</td>\n",
       "      <td>1.02</td>\n",
       "      <td>35.601695</td>\n",
       "      <td>0.259902</td>\n",
       "      <td>...</td>\n",
       "      <td>0</td>\n",
       "      <td>0.0</td>\n",
       "      <td>0</td>\n",
       "      <td>0</td>\n",
       "      <td>0</td>\n",
       "      <td>0.0</td>\n",
       "      <td>0</td>\n",
       "      <td>0</td>\n",
       "      <td>0.0</td>\n",
       "      <td>1</td>\n",
       "    </tr>\n",
       "    <tr>\n",
       "      <th>3</th>\n",
       "      <td>72.0</td>\n",
       "      <td>9.5</td>\n",
       "      <td>6730.0</td>\n",
       "      <td>238000.0</td>\n",
       "      <td>10.0</td>\n",
       "      <td>0.31</td>\n",
       "      <td>7.0</td>\n",
       "      <td>2.75</td>\n",
       "      <td>33.000000</td>\n",
       "      <td>0.040000</td>\n",
       "      <td>...</td>\n",
       "      <td>0</td>\n",
       "      <td>0.0</td>\n",
       "      <td>0</td>\n",
       "      <td>0</td>\n",
       "      <td>0</td>\n",
       "      <td>0.0</td>\n",
       "      <td>0</td>\n",
       "      <td>0</td>\n",
       "      <td>0.0</td>\n",
       "      <td>0</td>\n",
       "    </tr>\n",
       "    <tr>\n",
       "      <th>4</th>\n",
       "      <td>54.0</td>\n",
       "      <td>14.5</td>\n",
       "      <td>6230.0</td>\n",
       "      <td>183000.0</td>\n",
       "      <td>1.0</td>\n",
       "      <td>0.41</td>\n",
       "      <td>8.0</td>\n",
       "      <td>1.02</td>\n",
       "      <td>39.000000</td>\n",
       "      <td>0.259902</td>\n",
       "      <td>...</td>\n",
       "      <td>0</td>\n",
       "      <td>0.0</td>\n",
       "      <td>0</td>\n",
       "      <td>0</td>\n",
       "      <td>0</td>\n",
       "      <td>0.0</td>\n",
       "      <td>0</td>\n",
       "      <td>0</td>\n",
       "      <td>3.0</td>\n",
       "      <td>0</td>\n",
       "    </tr>\n",
       "  </tbody>\n",
       "</table>\n",
       "<p>5 rows × 158 columns</p>\n",
       "</div>"
      ],
      "text/plain": [
       "    Age  Hémoglobine  Globule blanc  Plaquette   CRP  Urée  Créat  Glycémie  \\\n",
       "0  60.0         11.5         8170.0   331000.0  12.0  0.36   10.0      0.90   \n",
       "1  80.0         10.7         8680.0   197000.0  16.0  0.34    9.0      2.31   \n",
       "2  50.0         16.0         6890.0   157000.0   3.0  0.52   10.0      1.02   \n",
       "3  72.0          9.5         6730.0   238000.0  10.0  0.31    7.0      2.75   \n",
       "4  54.0         14.5         6230.0   183000.0   1.0  0.41    8.0      1.02   \n",
       "\n",
       "    Albumine  Préalbumine  ...  CHemorEvolu  CpltPérinéal  CPérinéDiagnos  \\\n",
       "0  35.601695     0.259902  ...            0           0.0               0   \n",
       "1  35.300000     0.230000  ...            0           0.0               0   \n",
       "2  35.601695     0.259902  ...            0           0.0               0   \n",
       "3  33.000000     0.040000  ...            0           0.0               0   \n",
       "4  39.000000     0.259902  ...            0           0.0               0   \n",
       "\n",
       "   CPérinTraite  CPérinEvolut  CplUrinair  CUrinaiDiagn  CUrinairEvolu  \\\n",
       "0             0             0         0.0             0              0   \n",
       "1             0             0         0.0             0              0   \n",
       "2             0             0         0.0             0              0   \n",
       "3             0             0         0.0             0              0   \n",
       "4             0             0         0.0             0              0   \n",
       "\n",
       "   Cplct Générl  Décès  \n",
       "0           0.0      0  \n",
       "1           0.0      0  \n",
       "2           0.0      1  \n",
       "3           0.0      0  \n",
       "4           3.0      0  \n",
       "\n",
       "[5 rows x 158 columns]"
      ]
     },
     "execution_count": 157,
     "metadata": {},
     "output_type": "execute_result"
    }
   ],
   "source": [
    "train.head(5)"
   ]
  },
  {
   "cell_type": "markdown",
   "metadata": {
    "_cell_guid": "009ce45c-f4db-4718-ba0c-9c3e34d0e8ee",
    "_uuid": "069695c07d229c23cb2edf99d6f5ad901b934e1d"
   },
   "source": [
    "##  Descriptive statistics"
   ]
  },
  {
   "cell_type": "code",
   "execution_count": 158,
   "metadata": {
    "_cell_guid": "522a767e-e466-4f8e-9255-039c391cded8",
    "_uuid": "9c27c628974b2556f03b8bd54fb81771bce4cf25",
    "jupyter": {
     "outputs_hidden": true
    },
    "scrolled": true
   },
   "outputs": [
    {
     "data": {
      "text/html": [
       "<div>\n",
       "<style scoped>\n",
       "    .dataframe tbody tr th:only-of-type {\n",
       "        vertical-align: middle;\n",
       "    }\n",
       "\n",
       "    .dataframe tbody tr th {\n",
       "        vertical-align: top;\n",
       "    }\n",
       "\n",
       "    .dataframe thead th {\n",
       "        text-align: right;\n",
       "    }\n",
       "</style>\n",
       "<table border=\"1\" class=\"dataframe\">\n",
       "  <thead>\n",
       "    <tr style=\"text-align: right;\">\n",
       "      <th></th>\n",
       "      <th>Age</th>\n",
       "      <th>Hémoglobine</th>\n",
       "      <th>Globule blanc</th>\n",
       "      <th>Plaquette</th>\n",
       "      <th>CRP</th>\n",
       "      <th>Urée</th>\n",
       "      <th>Créat</th>\n",
       "      <th>Glycémie</th>\n",
       "      <th>Albumine</th>\n",
       "      <th>Préalbumine</th>\n",
       "      <th>...</th>\n",
       "      <th>CHemorEvolu</th>\n",
       "      <th>CpltPérinéal</th>\n",
       "      <th>CPérinéDiagnos</th>\n",
       "      <th>CPérinTraite</th>\n",
       "      <th>CPérinEvolut</th>\n",
       "      <th>CplUrinair</th>\n",
       "      <th>CUrinaiDiagn</th>\n",
       "      <th>CUrinairEvolu</th>\n",
       "      <th>Cplct Générl</th>\n",
       "      <th>Décès</th>\n",
       "    </tr>\n",
       "  </thead>\n",
       "  <tbody>\n",
       "    <tr>\n",
       "      <th>count</th>\n",
       "      <td>292.000000</td>\n",
       "      <td>292.000000</td>\n",
       "      <td>292.000000</td>\n",
       "      <td>292.000000</td>\n",
       "      <td>292.000000</td>\n",
       "      <td>292.000000</td>\n",
       "      <td>292.000000</td>\n",
       "      <td>292.000000</td>\n",
       "      <td>292.000000</td>\n",
       "      <td>292.000000</td>\n",
       "      <td>...</td>\n",
       "      <td>292.0</td>\n",
       "      <td>292.000000</td>\n",
       "      <td>292.000000</td>\n",
       "      <td>292.000000</td>\n",
       "      <td>292.000000</td>\n",
       "      <td>292.000000</td>\n",
       "      <td>292.000000</td>\n",
       "      <td>292.000000</td>\n",
       "      <td>292.000000</td>\n",
       "      <td>292.000000</td>\n",
       "    </tr>\n",
       "    <tr>\n",
       "      <th>mean</th>\n",
       "      <td>57.618599</td>\n",
       "      <td>11.633920</td>\n",
       "      <td>6789.724649</td>\n",
       "      <td>273997.485177</td>\n",
       "      <td>24.837829</td>\n",
       "      <td>0.274130</td>\n",
       "      <td>7.716913</td>\n",
       "      <td>1.067204</td>\n",
       "      <td>35.649193</td>\n",
       "      <td>0.144893</td>\n",
       "      <td>...</td>\n",
       "      <td>0.0</td>\n",
       "      <td>0.003425</td>\n",
       "      <td>0.003425</td>\n",
       "      <td>0.003425</td>\n",
       "      <td>0.003425</td>\n",
       "      <td>0.010274</td>\n",
       "      <td>0.020548</td>\n",
       "      <td>0.010274</td>\n",
       "      <td>0.023973</td>\n",
       "      <td>0.527397</td>\n",
       "    </tr>\n",
       "    <tr>\n",
       "      <th>std</th>\n",
       "      <td>13.431315</td>\n",
       "      <td>1.966082</td>\n",
       "      <td>2664.040766</td>\n",
       "      <td>101372.204204</td>\n",
       "      <td>42.548135</td>\n",
       "      <td>0.096367</td>\n",
       "      <td>2.562807</td>\n",
       "      <td>0.329490</td>\n",
       "      <td>5.080704</td>\n",
       "      <td>0.110670</td>\n",
       "      <td>...</td>\n",
       "      <td>0.0</td>\n",
       "      <td>0.058521</td>\n",
       "      <td>0.058521</td>\n",
       "      <td>0.058521</td>\n",
       "      <td>0.058521</td>\n",
       "      <td>0.101012</td>\n",
       "      <td>0.218372</td>\n",
       "      <td>0.101012</td>\n",
       "      <td>0.254392</td>\n",
       "      <td>0.665241</td>\n",
       "    </tr>\n",
       "    <tr>\n",
       "      <th>min</th>\n",
       "      <td>21.000000</td>\n",
       "      <td>7.700000</td>\n",
       "      <td>2270.000000</td>\n",
       "      <td>7000.000000</td>\n",
       "      <td>0.000000</td>\n",
       "      <td>0.050000</td>\n",
       "      <td>1.530000</td>\n",
       "      <td>0.440000</td>\n",
       "      <td>16.000000</td>\n",
       "      <td>0.000000</td>\n",
       "      <td>...</td>\n",
       "      <td>0.0</td>\n",
       "      <td>0.000000</td>\n",
       "      <td>0.000000</td>\n",
       "      <td>0.000000</td>\n",
       "      <td>0.000000</td>\n",
       "      <td>0.000000</td>\n",
       "      <td>0.000000</td>\n",
       "      <td>0.000000</td>\n",
       "      <td>0.000000</td>\n",
       "      <td>0.000000</td>\n",
       "    </tr>\n",
       "    <tr>\n",
       "      <th>25%</th>\n",
       "      <td>48.750000</td>\n",
       "      <td>10.000000</td>\n",
       "      <td>4750.000000</td>\n",
       "      <td>199000.000000</td>\n",
       "      <td>2.000000</td>\n",
       "      <td>0.200000</td>\n",
       "      <td>7.000000</td>\n",
       "      <td>0.910000</td>\n",
       "      <td>33.000000</td>\n",
       "      <td>0.030000</td>\n",
       "      <td>...</td>\n",
       "      <td>0.0</td>\n",
       "      <td>0.000000</td>\n",
       "      <td>0.000000</td>\n",
       "      <td>0.000000</td>\n",
       "      <td>0.000000</td>\n",
       "      <td>0.000000</td>\n",
       "      <td>0.000000</td>\n",
       "      <td>0.000000</td>\n",
       "      <td>0.000000</td>\n",
       "      <td>0.000000</td>\n",
       "    </tr>\n",
       "    <tr>\n",
       "      <th>50%</th>\n",
       "      <td>59.000000</td>\n",
       "      <td>11.700000</td>\n",
       "      <td>6400.000000</td>\n",
       "      <td>253500.000000</td>\n",
       "      <td>7.000000</td>\n",
       "      <td>0.260000</td>\n",
       "      <td>7.000000</td>\n",
       "      <td>1.077961</td>\n",
       "      <td>35.601695</td>\n",
       "      <td>0.150000</td>\n",
       "      <td>...</td>\n",
       "      <td>0.0</td>\n",
       "      <td>0.000000</td>\n",
       "      <td>0.000000</td>\n",
       "      <td>0.000000</td>\n",
       "      <td>0.000000</td>\n",
       "      <td>0.000000</td>\n",
       "      <td>0.000000</td>\n",
       "      <td>0.000000</td>\n",
       "      <td>0.000000</td>\n",
       "      <td>0.000000</td>\n",
       "    </tr>\n",
       "    <tr>\n",
       "      <th>75%</th>\n",
       "      <td>67.000000</td>\n",
       "      <td>13.125000</td>\n",
       "      <td>8420.000000</td>\n",
       "      <td>323000.000000</td>\n",
       "      <td>26.860436</td>\n",
       "      <td>0.330000</td>\n",
       "      <td>8.000000</td>\n",
       "      <td>1.077961</td>\n",
       "      <td>39.000000</td>\n",
       "      <td>0.259902</td>\n",
       "      <td>...</td>\n",
       "      <td>0.0</td>\n",
       "      <td>0.000000</td>\n",
       "      <td>0.000000</td>\n",
       "      <td>0.000000</td>\n",
       "      <td>0.000000</td>\n",
       "      <td>0.000000</td>\n",
       "      <td>0.000000</td>\n",
       "      <td>0.000000</td>\n",
       "      <td>0.000000</td>\n",
       "      <td>1.000000</td>\n",
       "    </tr>\n",
       "    <tr>\n",
       "      <th>max</th>\n",
       "      <td>90.000000</td>\n",
       "      <td>16.700000</td>\n",
       "      <td>18340.000000</td>\n",
       "      <td>664000.000000</td>\n",
       "      <td>309.000000</td>\n",
       "      <td>0.680000</td>\n",
       "      <td>36.000000</td>\n",
       "      <td>3.770000</td>\n",
       "      <td>48.000000</td>\n",
       "      <td>0.340000</td>\n",
       "      <td>...</td>\n",
       "      <td>0.0</td>\n",
       "      <td>1.000000</td>\n",
       "      <td>1.000000</td>\n",
       "      <td>1.000000</td>\n",
       "      <td>1.000000</td>\n",
       "      <td>1.000000</td>\n",
       "      <td>3.000000</td>\n",
       "      <td>1.000000</td>\n",
       "      <td>3.000000</td>\n",
       "      <td>2.000000</td>\n",
       "    </tr>\n",
       "  </tbody>\n",
       "</table>\n",
       "<p>8 rows × 158 columns</p>\n",
       "</div>"
      ],
      "text/plain": [
       "              Age  Hémoglobine  Globule blanc      Plaquette         CRP  \\\n",
       "count  292.000000   292.000000     292.000000     292.000000  292.000000   \n",
       "mean    57.618599    11.633920    6789.724649  273997.485177   24.837829   \n",
       "std     13.431315     1.966082    2664.040766  101372.204204   42.548135   \n",
       "min     21.000000     7.700000    2270.000000    7000.000000    0.000000   \n",
       "25%     48.750000    10.000000    4750.000000  199000.000000    2.000000   \n",
       "50%     59.000000    11.700000    6400.000000  253500.000000    7.000000   \n",
       "75%     67.000000    13.125000    8420.000000  323000.000000   26.860436   \n",
       "max     90.000000    16.700000   18340.000000  664000.000000  309.000000   \n",
       "\n",
       "             Urée       Créat    Glycémie    Albumine  Préalbumine  ...  \\\n",
       "count  292.000000  292.000000  292.000000  292.000000   292.000000  ...   \n",
       "mean     0.274130    7.716913    1.067204   35.649193     0.144893  ...   \n",
       "std      0.096367    2.562807    0.329490    5.080704     0.110670  ...   \n",
       "min      0.050000    1.530000    0.440000   16.000000     0.000000  ...   \n",
       "25%      0.200000    7.000000    0.910000   33.000000     0.030000  ...   \n",
       "50%      0.260000    7.000000    1.077961   35.601695     0.150000  ...   \n",
       "75%      0.330000    8.000000    1.077961   39.000000     0.259902  ...   \n",
       "max      0.680000   36.000000    3.770000   48.000000     0.340000  ...   \n",
       "\n",
       "       CHemorEvolu  CpltPérinéal  CPérinéDiagnos  CPérinTraite  CPérinEvolut  \\\n",
       "count        292.0    292.000000      292.000000    292.000000    292.000000   \n",
       "mean           0.0      0.003425        0.003425      0.003425      0.003425   \n",
       "std            0.0      0.058521        0.058521      0.058521      0.058521   \n",
       "min            0.0      0.000000        0.000000      0.000000      0.000000   \n",
       "25%            0.0      0.000000        0.000000      0.000000      0.000000   \n",
       "50%            0.0      0.000000        0.000000      0.000000      0.000000   \n",
       "75%            0.0      0.000000        0.000000      0.000000      0.000000   \n",
       "max            0.0      1.000000        1.000000      1.000000      1.000000   \n",
       "\n",
       "       CplUrinair  CUrinaiDiagn  CUrinairEvolu  Cplct Générl       Décès  \n",
       "count  292.000000    292.000000     292.000000    292.000000  292.000000  \n",
       "mean     0.010274      0.020548       0.010274      0.023973    0.527397  \n",
       "std      0.101012      0.218372       0.101012      0.254392    0.665241  \n",
       "min      0.000000      0.000000       0.000000      0.000000    0.000000  \n",
       "25%      0.000000      0.000000       0.000000      0.000000    0.000000  \n",
       "50%      0.000000      0.000000       0.000000      0.000000    0.000000  \n",
       "75%      0.000000      0.000000       0.000000      0.000000    1.000000  \n",
       "max      1.000000      3.000000       1.000000      3.000000    2.000000  \n",
       "\n",
       "[8 rows x 158 columns]"
      ]
     },
     "execution_count": 158,
     "metadata": {},
     "output_type": "execute_result"
    }
   ],
   "source": [
    "train.describe()"
   ]
  },
  {
   "cell_type": "code",
   "execution_count": 159,
   "metadata": {
    "_cell_guid": "25f0e07e-4d62-4f12-abb8-cfcf1ba0a95f",
    "_uuid": "bb72bebe9916f26581bd773823dbe4d410787ac9",
    "jupyter": {
     "outputs_hidden": true
    }
   },
   "outputs": [
    {
     "data": {
      "text/html": [
       "<div>\n",
       "<style scoped>\n",
       "    .dataframe tbody tr th:only-of-type {\n",
       "        vertical-align: middle;\n",
       "    }\n",
       "\n",
       "    .dataframe tbody tr th {\n",
       "        vertical-align: top;\n",
       "    }\n",
       "\n",
       "    .dataframe thead th {\n",
       "        text-align: right;\n",
       "    }\n",
       "</style>\n",
       "<table border=\"1\" class=\"dataframe\">\n",
       "  <thead>\n",
       "    <tr style=\"text-align: right;\">\n",
       "      <th></th>\n",
       "      <th>Morbidité</th>\n",
       "      <th>Décès</th>\n",
       "      <th>Sexe</th>\n",
       "      <th>Protidemie</th>\n",
       "      <th>obésité</th>\n",
       "      <th>diabète</th>\n",
       "      <th>HTA</th>\n",
       "      <th>cardiopathie</th>\n",
       "      <th>Age</th>\n",
       "    </tr>\n",
       "  </thead>\n",
       "  <tbody>\n",
       "    <tr>\n",
       "      <th>0</th>\n",
       "      <td>0.0</td>\n",
       "      <td>0.462882</td>\n",
       "      <td>0.497817</td>\n",
       "      <td>66.321210</td>\n",
       "      <td>0.000000</td>\n",
       "      <td>0.109170</td>\n",
       "      <td>0.126638</td>\n",
       "      <td>0.048035</td>\n",
       "      <td>57.845550</td>\n",
       "    </tr>\n",
       "    <tr>\n",
       "      <th>1</th>\n",
       "      <td>1.0</td>\n",
       "      <td>0.761905</td>\n",
       "      <td>0.539683</td>\n",
       "      <td>69.197279</td>\n",
       "      <td>0.031746</td>\n",
       "      <td>0.063492</td>\n",
       "      <td>0.095238</td>\n",
       "      <td>0.079365</td>\n",
       "      <td>56.793651</td>\n",
       "    </tr>\n",
       "  </tbody>\n",
       "</table>\n",
       "</div>"
      ],
      "text/plain": [
       "   Morbidité     Décès      Sexe  Protidemie   obésité   diabète       HTA  \\\n",
       "0        0.0  0.462882  0.497817   66.321210  0.000000  0.109170  0.126638   \n",
       "1        1.0  0.761905  0.539683   69.197279  0.031746  0.063492  0.095238   \n",
       "\n",
       "   cardiopathie        Age  \n",
       "0      0.048035  57.845550  \n",
       "1      0.079365  56.793651  "
      ]
     },
     "execution_count": 159,
     "metadata": {},
     "output_type": "execute_result"
    }
   ],
   "source": [
    "train[['Décès', 'Sexe', 'Protidemie', 'obésité', 'diabète', 'HTA', 'cardiopathie', 'Age', 'Morbidité']].groupby(['Morbidité'], as_index=False).mean().sort_values(by='Age' ,ascending=False)"
   ]
  },
  {
   "cell_type": "markdown",
   "metadata": {
    "_cell_guid": "6a0bde77-40d6-4b59-8e3c-7a08b219bd30",
    "_uuid": "991534cba51f0387c1cd8a8d5457c7ccd7bafd4b"
   },
   "source": [
    "**Initial observations from the descriptive statistics:**\n",
    "* 76% of those who had \"morbidité=1\" died, a real tragedy :-(\n",
    "* Also, the higher the \"Protidemie\", the higher the probability to have \"morbidité=1\". Similarly, having obesity increase the probability of getting complications.\n",
    "* Women (1) have a higher probability to get complications than men (0)\n",
    "* older people slightly have chance than younger\n",
    "* having cardipathie increase the probability to get complications.\n",
    "\n"
   ]
  },
  {
   "cell_type": "markdown",
   "metadata": {
    "_cell_guid": "d51a4163-10c2-443e-bec2-0ec3b2a93b40",
    "_uuid": "d3d1a1236728a132b0bc4e02f85da6e1a7ce2942"
   },
   "source": [
    "# Correlation analysis - Multi-variate analysis\n",
    "This section summarizes  bivariate analysis asthe simplest forms of quantitative (statistical) analysis.\n",
    "It involves the analysis of one or two features, and their relative impact of \"Morbidité\". \n",
    "This is a useful frist step of our anblaysis in order to determine the empirical relationship between all features."
   ]
  },
  {
   "cell_type": "markdown",
   "metadata": {
    "_cell_guid": "2ae4e483-0ae8-422d-abe5-71330366e0a3",
    "_uuid": "58a067cb3eb5edbccb6f9f20fab06c26c1d02da0"
   },
   "source": [
    "##  Correlation analysis with histograms and pivot-tables"
   ]
  },
  {
   "cell_type": "code",
   "execution_count": 160,
   "metadata": {
    "_cell_guid": "3e32fa2e-496f-47ab-a8a0-0a7277d0473f",
    "_uuid": "4a7d5a8d1e764a7f5a7cea45ca373488717382da",
    "jupyter": {
     "outputs_hidden": true
    }
   },
   "outputs": [
    {
     "data": {
      "image/png": "[encoded data removed]",
      "text/plain": [
       "<Figure size 1296x432 with 2 Axes>"
      ]
     },
     "metadata": {
      "needs_background": "light"
     },
     "output_type": "display_data"
    }
   ],
   "source": [
    "fig, (axis1,axis2) = plt.subplots(1,2,figsize=(18,6))\n",
    "sns.barplot(x=\"Localisation\", y=\"Morbidité\", hue=\"Sexe\", data=train, ax = axis1);\n",
    "sns.barplot(x=\"Stade\", y=\"Morbidité\", hue=\"occlusion\", data=train, ax = axis2);"
   ]
  },
  {
   "cell_type": "markdown",
   "metadata": {
    "_cell_guid": "25e95e2f-5be3-4afe-b23f-47bc8fe80620",
    "_uuid": "de57c4821ae253395ad26821f6eaacfcde79801c"
   },
   "source": [
    "**Observations\n",
    ":**\n",
    "* 0 or blue represent men; 1 or orange represent women. Gender and localisation seem to have a stronger influence of the complication's rate.\n",
    "* We start to find on which \"localisation\" patients have a high probability to get complications during their operation : localisation=7.\n",
    "* What is statistically interesting is that only men (Age Category = 0) have \"localisation=2\" and all those who have \"cancer stade=0\" got \"occlusion=0\". \n"
   ]
  },
  {
   "cell_type": "code",
   "execution_count": 161,
   "metadata": {
    "_cell_guid": "1ad428d8-c429-40e1-bf63-f1322ab0378f",
    "_uuid": "97d135ceed4cbb2a5df1ae118dff34feb90d3930",
    "jupyter": {
     "outputs_hidden": true
    }
   },
   "outputs": [
    {
     "data": {
      "text/html": [
       "<style  type=\"text/css\" >\n",
       "#T_077b636c_2603_11ec_a9f3_14f6d8044c0erow0_col0,#T_077b636c_2603_11ec_a9f3_14f6d8044c0erow0_col1,#T_077b636c_2603_11ec_a9f3_14f6d8044c0erow0_col2,#T_077b636c_2603_11ec_a9f3_14f6d8044c0erow1_col0,#T_077b636c_2603_11ec_a9f3_14f6d8044c0erow1_col1,#T_077b636c_2603_11ec_a9f3_14f6d8044c0erow1_col2,#T_077b636c_2603_11ec_a9f3_14f6d8044c0erow2_col0,#T_077b636c_2603_11ec_a9f3_14f6d8044c0erow2_col1,#T_077b636c_2603_11ec_a9f3_14f6d8044c0erow2_col2,#T_077b636c_2603_11ec_a9f3_14f6d8044c0erow3_col0,#T_077b636c_2603_11ec_a9f3_14f6d8044c0erow3_col1,#T_077b636c_2603_11ec_a9f3_14f6d8044c0erow3_col2,#T_077b636c_2603_11ec_a9f3_14f6d8044c0erow4_col0,#T_077b636c_2603_11ec_a9f3_14f6d8044c0erow4_col2,#T_077b636c_2603_11ec_a9f3_14f6d8044c0erow7_col0,#T_077b636c_2603_11ec_a9f3_14f6d8044c0erow7_col1,#T_077b636c_2603_11ec_a9f3_14f6d8044c0erow7_col2{\n",
       "            color:  red;\n",
       "        }#T_077b636c_2603_11ec_a9f3_14f6d8044c0erow4_col1,#T_077b636c_2603_11ec_a9f3_14f6d8044c0erow5_col0,#T_077b636c_2603_11ec_a9f3_14f6d8044c0erow5_col1,#T_077b636c_2603_11ec_a9f3_14f6d8044c0erow5_col2,#T_077b636c_2603_11ec_a9f3_14f6d8044c0erow6_col0,#T_077b636c_2603_11ec_a9f3_14f6d8044c0erow6_col1,#T_077b636c_2603_11ec_a9f3_14f6d8044c0erow6_col2{\n",
       "            color:  black;\n",
       "        }</style><table id=\"T_077b636c_2603_11ec_a9f3_14f6d8044c0e\" ><thead>    <tr>        <th class=\"blank\" ></th>        <th class=\"index_name level0\" >Sexe</th>        <th class=\"col_heading level0 col0\" >0</th>        <th class=\"col_heading level0 col1\" >1</th>        <th class=\"col_heading level0 col2\" >All</th>    </tr>    <tr>        <th class=\"index_name level0\" >obésité</th>        <th class=\"index_name level1\" >Stade</th>        <th class=\"blank\" ></th>        <th class=\"blank\" ></th>        <th class=\"blank\" ></th>    </tr></thead><tbody>\n",
       "                <tr>\n",
       "                        <th id=\"T_077b636c_2603_11ec_a9f3_14f6d8044c0elevel0_row0\" class=\"row_heading level0 row0\" rowspan=5>0.0</th>\n",
       "                        <th id=\"T_077b636c_2603_11ec_a9f3_14f6d8044c0elevel1_row0\" class=\"row_heading level1 row0\" >0</th>\n",
       "                        <td id=\"T_077b636c_2603_11ec_a9f3_14f6d8044c0erow0_col0\" class=\"data row0 col0\" >0.166667</td>\n",
       "                        <td id=\"T_077b636c_2603_11ec_a9f3_14f6d8044c0erow0_col1\" class=\"data row0 col1\" >0.384615</td>\n",
       "                        <td id=\"T_077b636c_2603_11ec_a9f3_14f6d8044c0erow0_col2\" class=\"data row0 col2\" >0.280000</td>\n",
       "            </tr>\n",
       "            <tr>\n",
       "                                <th id=\"T_077b636c_2603_11ec_a9f3_14f6d8044c0elevel1_row1\" class=\"row_heading level1 row1\" >1</th>\n",
       "                        <td id=\"T_077b636c_2603_11ec_a9f3_14f6d8044c0erow1_col0\" class=\"data row1 col0\" >0.074074</td>\n",
       "                        <td id=\"T_077b636c_2603_11ec_a9f3_14f6d8044c0erow1_col1\" class=\"data row1 col1\" >0.259259</td>\n",
       "                        <td id=\"T_077b636c_2603_11ec_a9f3_14f6d8044c0erow1_col2\" class=\"data row1 col2\" >0.166667</td>\n",
       "            </tr>\n",
       "            <tr>\n",
       "                                <th id=\"T_077b636c_2603_11ec_a9f3_14f6d8044c0elevel1_row2\" class=\"row_heading level1 row2\" >2</th>\n",
       "                        <td id=\"T_077b636c_2603_11ec_a9f3_14f6d8044c0erow2_col0\" class=\"data row2 col0\" >0.295082</td>\n",
       "                        <td id=\"T_077b636c_2603_11ec_a9f3_14f6d8044c0erow2_col1\" class=\"data row2 col1\" >0.200000</td>\n",
       "                        <td id=\"T_077b636c_2603_11ec_a9f3_14f6d8044c0erow2_col2\" class=\"data row2 col2\" >0.250000</td>\n",
       "            </tr>\n",
       "            <tr>\n",
       "                                <th id=\"T_077b636c_2603_11ec_a9f3_14f6d8044c0elevel1_row3\" class=\"row_heading level1 row3\" >3</th>\n",
       "                        <td id=\"T_077b636c_2603_11ec_a9f3_14f6d8044c0erow3_col0\" class=\"data row3 col0\" >0.157895</td>\n",
       "                        <td id=\"T_077b636c_2603_11ec_a9f3_14f6d8044c0erow3_col1\" class=\"data row3 col1\" >0.192308</td>\n",
       "                        <td id=\"T_077b636c_2603_11ec_a9f3_14f6d8044c0erow3_col2\" class=\"data row3 col2\" >0.177778</td>\n",
       "            </tr>\n",
       "            <tr>\n",
       "                                <th id=\"T_077b636c_2603_11ec_a9f3_14f6d8044c0elevel1_row4\" class=\"row_heading level1 row4\" >4</th>\n",
       "                        <td id=\"T_077b636c_2603_11ec_a9f3_14f6d8044c0erow4_col0\" class=\"data row4 col0\" >0.000000</td>\n",
       "                        <td id=\"T_077b636c_2603_11ec_a9f3_14f6d8044c0erow4_col1\" class=\"data row4 col1\" >nan</td>\n",
       "                        <td id=\"T_077b636c_2603_11ec_a9f3_14f6d8044c0erow4_col2\" class=\"data row4 col2\" >0.000000</td>\n",
       "            </tr>\n",
       "            <tr>\n",
       "                        <th id=\"T_077b636c_2603_11ec_a9f3_14f6d8044c0elevel0_row5\" class=\"row_heading level0 row5\" rowspan=2>1.0</th>\n",
       "                        <th id=\"T_077b636c_2603_11ec_a9f3_14f6d8044c0elevel1_row5\" class=\"row_heading level1 row5\" >0</th>\n",
       "                        <td id=\"T_077b636c_2603_11ec_a9f3_14f6d8044c0erow5_col0\" class=\"data row5 col0\" >nan</td>\n",
       "                        <td id=\"T_077b636c_2603_11ec_a9f3_14f6d8044c0erow5_col1\" class=\"data row5 col1\" >1.000000</td>\n",
       "                        <td id=\"T_077b636c_2603_11ec_a9f3_14f6d8044c0erow5_col2\" class=\"data row5 col2\" >1.000000</td>\n",
       "            </tr>\n",
       "            <tr>\n",
       "                                <th id=\"T_077b636c_2603_11ec_a9f3_14f6d8044c0elevel1_row6\" class=\"row_heading level1 row6\" >2</th>\n",
       "                        <td id=\"T_077b636c_2603_11ec_a9f3_14f6d8044c0erow6_col0\" class=\"data row6 col0\" >1.000000</td>\n",
       "                        <td id=\"T_077b636c_2603_11ec_a9f3_14f6d8044c0erow6_col1\" class=\"data row6 col1\" >nan</td>\n",
       "                        <td id=\"T_077b636c_2603_11ec_a9f3_14f6d8044c0erow6_col2\" class=\"data row6 col2\" >1.000000</td>\n",
       "            </tr>\n",
       "            <tr>\n",
       "                        <th id=\"T_077b636c_2603_11ec_a9f3_14f6d8044c0elevel0_row7\" class=\"row_heading level0 row7\" >All</th>\n",
       "                        <th id=\"T_077b636c_2603_11ec_a9f3_14f6d8044c0elevel1_row7\" class=\"row_heading level1 row7\" ></th>\n",
       "                        <td id=\"T_077b636c_2603_11ec_a9f3_14f6d8044c0erow7_col0\" class=\"data row7 col0\" >0.201389</td>\n",
       "                        <td id=\"T_077b636c_2603_11ec_a9f3_14f6d8044c0erow7_col1\" class=\"data row7 col1\" >0.229730</td>\n",
       "                        <td id=\"T_077b636c_2603_11ec_a9f3_14f6d8044c0erow7_col2\" class=\"data row7 col2\" >0.215753</td>\n",
       "            </tr>\n",
       "    </tbody></table>"
      ],
      "text/plain": [
       "<pandas.io.formats.style.Styler at 0x1388c7a1d90>"
      ]
     },
     "execution_count": 161,
     "metadata": {},
     "output_type": "execute_result"
    }
   ],
   "source": [
    "train_pivot = pd.pivot_table(train, values= 'Morbidité',index=['obésité', 'Stade'],columns='Sexe',aggfunc=np.mean, margins=True)\n",
    "def color_negative_red(val):\n",
    "    # Takes a scalar and returns a string with the css property 'color: red' if below 0.4, black otherwise.\n",
    "    color = 'red' if val < 0.4 else 'black'\n",
    "    return 'color: %s' % color\n",
    "train_pivot = train_pivot.style.applymap(color_negative_red)\n",
    "train_pivot"
   ]
  },
  {
   "cell_type": "code",
   "execution_count": 162,
   "metadata": {
    "_cell_guid": "f6f28a5b-fee9-4f70-bfb1-7f0f026de045",
    "_uuid": "224a3f391434aa77da825c3984324be2c0b17335",
    "jupyter": {
     "outputs_hidden": true
    }
   },
   "outputs": [
    {
     "data": {
      "image/png": "[encoded data removed]",
      "text/plain": [
       "<Figure size 872x720 with 10 Axes>"
      ]
     },
     "metadata": {
      "needs_background": "light"
     },
     "output_type": "display_data"
    }
   ],
   "source": [
    "\n",
    "grid = sns.FacetGrid(train, col='Morbidité', row='Stade', size=2, aspect=3)\n",
    "grid.map(plt.hist, 'Age', alpha=.50, bins=8)\n",
    "grid.add_legend();"
   ]
  },
  {
   "cell_type": "code",
   "execution_count": 163,
   "metadata": {},
   "outputs": [
    {
     "name": "stdout",
     "output_type": "stream",
     "text": [
      "<class 'pandas.core.frame.DataFrame'>\n",
      "RangeIndex: 338 entries, 0 to 337\n",
      "Columns: 158 entries, Age to Décès\n",
      "dtypes: float64(116), int32(1), int64(41)\n",
      "memory usage: 416.0 KB\n"
     ]
    }
   ],
   "source": [
    "allData= pd.concat([quant_data, data], axis=1)\n",
    "allData.info()"
   ]
  },
  {
   "cell_type": "code",
   "execution_count": 164,
   "metadata": {
    "_cell_guid": "18bd73d2-b436-4500-af02-59274fa97358",
    "_uuid": "4ccf0eb696b2ae00be51777dee3f75f32cd19ad2",
    "jupyter": {
     "outputs_hidden": true
    }
   },
   "outputs": [],
   "source": [
    "possible_features1=[]\n",
    "for col in allData.columns[allData.columns.get_loc('Age'):allData.columns.get_loc(\"DécèsPostOP\")]:\n",
    "    possible_features1.append(col)\n",
    "X_Train, x_test, y_Train, y_test=train_test_split(allData[possible_features1],\n",
    "                                              allData['Morbidité'],test_size=0.2,random_state=1)"
   ]
  },
  {
   "cell_type": "code",
   "execution_count": 165,
   "metadata": {},
   "outputs": [],
   "source": [
    "smote_nc=SMOTENC(categorical_features=[i for i in range (15,107)],random_state=42) #specifying categorical column numbers\n",
    "# New training dataset with smote applied to it\n",
    "X_train, Y_train = smote_nc.fit_resample(X_Train, y_Train)"
   ]
  },
  {
   "cell_type": "markdown",
   "metadata": {
    "_cell_guid": "3eb2dad3-31d7-4367-a0ab-881729c6e8e8",
    "_uuid": "5336a714f678d54e161172ef22827489d1a86a83"
   },
   "source": [
    "# 4. Predictive modelling, cross-validation, hyperparameters and ensembling\n",
    "\n",
    "* 4.1. Logistic Regression\n",
    "* 4.2. Support Vector Machines (supervised)\n",
    "* 4.3. k-Nearest Neighbors algorithm (k-NN)\n",
    "* 4.4. Naive Bayes classifier\n",
    "* 4.5. Perceptron\n",
    "* 4.6 Linear SVC\n",
    "* 4.7 Stochastic Gradient Descent\n",
    "* 4.8. Decision tree\n",
    "* 4.9 Random Forrest\n",
    "* 4.10 Model summary\n",
    "* 4.11. Model cross-validation with K-Fold\n",
    "* 4.12 Hyperparameter tuning & learning curves for selected classifiers\n",
    "* 4.13 Selecting and combining the best classifiers\n",
    "* 4.14 Ensembling\n",
    "* 4.15. Summary of most important features\n",
    "\n",
    "## 4.1. Logistic Regression\n",
    "Logistic regression measures the relationship between the categorical dependent feature (in our case morbidité) and the other independent features.\n",
    "It estimates probabilities using a cumulative logistic distribution:\n",
    "* The first value shows the accuracy of this model\n",
    "* The table after this shows the importance of each feature according this classifier."
   ]
  },
  {
   "cell_type": "code",
   "execution_count": 166,
   "metadata": {
    "_cell_guid": "d64bab2c-7654-4d0e-a2d3-77103e80e50f",
    "_uuid": "1e8259699d46e14e005b9cb104b4d68848a6d8de",
    "jupyter": {
     "outputs_hidden": true
    }
   },
   "outputs": [
    {
     "data": {
      "text/plain": [
       "57.35"
      ]
     },
     "execution_count": 166,
     "metadata": {},
     "output_type": "execute_result"
    }
   ],
   "source": [
    "logreg = LogisticRegression()\n",
    "logreg.fit(X_train, Y_train)\n",
    "Y_pred1 = logreg.predict(x_test)\n",
    "acc_log = round(logreg.score(x_test, y_test) * 100, 2)\n",
    "acc_log"
   ]
  },
  {
   "cell_type": "code",
   "execution_count": 167,
   "metadata": {
    "_uuid": "dc82a40522b6352f8119d239e9018cd43dadf303",
    "jupyter": {
     "outputs_hidden": true
    }
   },
   "outputs": [
    {
     "name": "stdout",
     "output_type": "stream",
     "text": [
      "              precision    recall  f1-score   support\n",
      "\n",
      "         0.0       0.76      0.55      0.64        47\n",
      "         1.0       0.38      0.62      0.47        21\n",
      "\n",
      "    accuracy                           0.57        68\n",
      "   macro avg       0.57      0.59      0.56        68\n",
      "weighted avg       0.65      0.57      0.59        68\n",
      "\n",
      "             Predicted: NO  Predicted: YES\n",
      "Actual: NO              26              21\n",
      "Actual: YES              8              13\n"
     ]
    }
   ],
   "source": [
    "from sklearn.metrics import confusion_matrix, classification_report\n",
    "print(classification_report(y_test, Y_pred1))\n",
    "cm = pd.DataFrame(confusion_matrix(y_test, Y_pred1), ['Actual: NO', 'Actual: YES'], ['Predicted: NO', 'Predicted: YES'])\n",
    "print(cm)"
   ]
  },
  {
   "cell_type": "markdown",
   "metadata": {
    "_cell_guid": "537434f6-8d86-4bab-9828-a92909c14fe9",
    "_uuid": "2e3d6369eb83be933e874845ee87610be012a1cb"
   },
   "source": [
    "\n",
    "## 4.2. Support Vector Machines (supervised)\n",
    "Given a set of training samples, each sample is marked as belonging to one or the other of two categories.\n",
    "\n",
    "The SVM training algorithm builds a model that assigns new test samples to one category or the other, making it a non-probabilistic binary linear classifier."
   ]
  },
  {
   "cell_type": "code",
   "execution_count": 168,
   "metadata": {
    "_cell_guid": "0f01682c-4a1d-414c-8905-76897a32ce13",
    "_uuid": "79bdd20f5eb3ef2685384aeea7fe6c9140442163",
    "jupyter": {
     "outputs_hidden": true
    }
   },
   "outputs": [
    {
     "data": {
      "text/plain": [
       "41.18"
      ]
     },
     "execution_count": 168,
     "metadata": {},
     "output_type": "execute_result"
    }
   ],
   "source": [
    "svc=SVC()\n",
    "svc.fit(X_train, Y_train)\n",
    "Y_pred2 = svc.predict(x_test)\n",
    "acc_svc = round(svc.score(x_test, y_test) * 100, 2)\n",
    "acc_svc"
   ]
  },
  {
   "cell_type": "code",
   "execution_count": 169,
   "metadata": {
    "_uuid": "014fe936f5dd3734248ba1a81f5a3216a26de9c3",
    "jupyter": {
     "outputs_hidden": true
    }
   },
   "outputs": [
    {
     "name": "stdout",
     "output_type": "stream",
     "text": [
      "              precision    recall  f1-score   support\n",
      "\n",
      "         0.0       0.68      0.28      0.39        47\n",
      "         1.0       0.31      0.71      0.43        21\n",
      "\n",
      "    accuracy                           0.41        68\n",
      "   macro avg       0.50      0.50      0.41        68\n",
      "weighted avg       0.57      0.41      0.40        68\n",
      "\n",
      "             Predicted: NO  Predicted: YES\n",
      "Actual: NO              13              34\n",
      "Actual: YES              6              15\n"
     ]
    }
   ],
   "source": [
    "print(classification_report(y_test, Y_pred2))\n",
    "cm = pd.DataFrame(confusion_matrix(y_test, Y_pred2), ['Actual: NO', 'Actual: YES'], ['Predicted: NO', 'Predicted: YES'])\n",
    "print(cm)"
   ]
  },
  {
   "cell_type": "markdown",
   "metadata": {
    "_cell_guid": "a9c6eaa4-bad7-4c48-9d6b-3e02e655a183",
    "_uuid": "be87e04341b24917d87761256e67304c19412cc6"
   },
   "source": [
    "## 4.3. k-Nearest Neighbors algorithm (k-NN)\n",
    "This is a non-parametric method used for classification and regression.\n",
    "A sample is classified by a majority vote of its neighbors, with the sample being assigned to the class most common among its k nearest neighbors (k is a positive integer, typically small). If k = 1, then the object is simply assigned to the class of that single nearest neighbor. "
   ]
  },
  {
   "cell_type": "code",
   "execution_count": 170,
   "metadata": {
    "_cell_guid": "3e21e1c1-abb6-4c00-a6aa-ce293e0d9ca4",
    "_uuid": "0baf00ea77739487b08035892793c9983c6141d8",
    "jupyter": {
     "outputs_hidden": true
    }
   },
   "outputs": [
    {
     "data": {
      "text/plain": [
       "54.41"
      ]
     },
     "execution_count": 170,
     "metadata": {},
     "output_type": "execute_result"
    }
   ],
   "source": [
    "knn = KNeighborsClassifier(algorithm='auto', leaf_size=26, metric='minkowski', \n",
    "                           metric_params=None, n_jobs=1, n_neighbors=10, p=2, \n",
    "                           weights='uniform')\n",
    "knn.fit(X_train, Y_train)\n",
    "knn_predictions = knn.predict(x_test)\n",
    "acc_knn = round(knn.score(x_test, y_test) * 100, 2)\n",
    "\n",
    "test_morbidité = pd.Series(knn_predictions, name=\"Morbidité\")\n",
    "\n",
    "acc_knn"
   ]
  },
  {
   "cell_type": "code",
   "execution_count": 171,
   "metadata": {
    "_uuid": "0d13d4c4159b159181c15eefd24317023f21e8f6",
    "jupyter": {
     "outputs_hidden": true
    }
   },
   "outputs": [
    {
     "name": "stdout",
     "output_type": "stream",
     "text": [
      "              precision    recall  f1-score   support\n",
      "\n",
      "         0.0       0.69      0.62      0.65        47\n",
      "         1.0       0.31      0.38      0.34        21\n",
      "\n",
      "    accuracy                           0.54        68\n",
      "   macro avg       0.50      0.50      0.50        68\n",
      "weighted avg       0.57      0.54      0.56        68\n",
      "\n",
      "             Predicted: NO  Predicted: YES\n",
      "Actual: NO              29              18\n",
      "Actual: YES             13               8\n"
     ]
    }
   ],
   "source": [
    "print(classification_report(y_test, knn_predictions))\n",
    "cm = pd.DataFrame(confusion_matrix(y_test, knn_predictions), ['Actual: NO', 'Actual: YES'], ['Predicted: NO', 'Predicted: YES'])\n",
    "print(cm)"
   ]
  },
  {
   "cell_type": "code",
   "execution_count": 172,
   "metadata": {
    "_cell_guid": "e6802255-8522-4de4-b519-6775a2eb31ac",
    "_uuid": "5700969e1be9c7b9a13bc80f57f500b41f9f7589",
    "jupyter": {
     "outputs_hidden": true
    }
   },
   "outputs": [
    {
     "name": "stdout",
     "output_type": "stream",
     "text": [
      "[40, 0.696969696969697]\n"
     ]
    },
    {
     "data": {
      "text/plain": [
       "[<matplotlib.lines.Line2D at 0x1388cf379d0>]"
      ]
     },
     "execution_count": 172,
     "metadata": {},
     "output_type": "execute_result"
    },
    {
     "data": {
      "image/png": "[encoded data removed]",
      "text/plain": [
       "<Figure size 432x288 with 1 Axes>"
      ]
     },
     "metadata": {
      "needs_background": "light"
     },
     "output_type": "display_data"
    }
   ],
   "source": [
    "## Selecting the right n_neighbors for the k-NN classifier\n",
    "x_trainknn, x_testknn, y_trainknn, y_testknn = train_test_split(X_train,Y_train,test_size = .33, random_state = 0)\n",
    "nn_scores = []\n",
    "best_prediction = [-1,-1]\n",
    "for i in range(1,100):\n",
    "    knn = KNeighborsClassifier(n_neighbors=i, weights='distance', metric='minkowski', p =2)\n",
    "    knn.fit(x_trainknn, y_trainknn)\n",
    "    score = accuracy_score(y_testknn, knn.predict(x_testknn))\n",
    "    #print i, score\n",
    "    if score > best_prediction[1]:\n",
    "        best_prediction = [i, score]\n",
    "    nn_scores.append(score)\n",
    "print (best_prediction)\n",
    "plt.plot(range(1,100),nn_scores)"
   ]
  },
  {
   "cell_type": "markdown",
   "metadata": {
    "_cell_guid": "08739336-522e-4b96-a51d-b32ca035937b",
    "_uuid": "691639deb7d9cc3a5200a38ccf45c45204b694a1"
   },
   "source": [
    "## 4.4. Naive Bayes classifier\n",
    "This is a family of simple probabilistic classifiers based on applying Bayes' theorem with strong (naive) independence assumptions between the features. Naive Bayes classifiers are highly scalable, requiring a number of parameters linear in the number of features in a learning problem."
   ]
  },
  {
   "cell_type": "code",
   "execution_count": 173,
   "metadata": {
    "_cell_guid": "4d363cdb-9f1d-4e43-9750-38b82971f223",
    "_uuid": "f8338165241ba93eb873903e0bf02fe603c5bfb3",
    "jupyter": {
     "outputs_hidden": true
    }
   },
   "outputs": [
    {
     "data": {
      "text/plain": [
       "63.24"
      ]
     },
     "execution_count": 173,
     "metadata": {},
     "output_type": "execute_result"
    }
   ],
   "source": [
    "gaussian = GaussianNB(var_smoothing=1e-12)\n",
    "gaussian.fit(X_train, Y_train)\n",
    "Y_pred3 = gaussian.predict(x_test)\n",
    "acc_gaussian = round(gaussian.score(x_test, y_test) * 100, 2)\n",
    "acc_gaussian"
   ]
  },
  {
   "cell_type": "code",
   "execution_count": 174,
   "metadata": {
    "_uuid": "2dab386c7fc9e86f8c3677732d570030ad6dd203",
    "jupyter": {
     "outputs_hidden": true
    }
   },
   "outputs": [
    {
     "name": "stdout",
     "output_type": "stream",
     "text": [
      "              precision    recall  f1-score   support\n",
      "\n",
      "         0.0       0.81      0.62      0.70        47\n",
      "         1.0       0.44      0.67      0.53        21\n",
      "\n",
      "    accuracy                           0.63        68\n",
      "   macro avg       0.62      0.64      0.61        68\n",
      "weighted avg       0.69      0.63      0.65        68\n",
      "\n",
      "             Predicted: NO  Predicted: YES\n",
      "Actual: NO              29              18\n",
      "Actual: YES              7              14\n"
     ]
    }
   ],
   "source": [
    "print(classification_report(y_test, Y_pred3))\n",
    "cm = pd.DataFrame(confusion_matrix(y_test, Y_pred3), ['Actual: NO', 'Actual: YES'], ['Predicted: NO', 'Predicted: YES'])\n",
    "print(cm)"
   ]
  },
  {
   "cell_type": "markdown",
   "metadata": {
    "_cell_guid": "940ba7a6-109d-447c-8f0f-35d95d751ee7",
    "_uuid": "e32fab307ef58b8e00bcf2f956ed50094a4bb5c9"
   },
   "source": [
    "## 4.5. Perceptron\n",
    "This is an algorithm for supervised learning of binary classifiers: like the other classifiers before, it decides whether an input, represented by a vector of numbers, belongs to some specific class or not. It is a type of linear classifier, i.e. a classification algorithm that makes its predictions based on a linear predictor function combining a set of weights with the feature vector. The algorithm allows for online learning, in that it processes elements in the training set one at a time."
   ]
  },
  {
   "cell_type": "code",
   "execution_count": 175,
   "metadata": {
    "_cell_guid": "e1548c66-6c08-4f0a-a8a4-79962ede6cb1",
    "_uuid": "74a727ebe8bd1a1ee7ea25840754e94af455ee2c",
    "jupyter": {
     "outputs_hidden": true
    }
   },
   "outputs": [
    {
     "data": {
      "text/plain": [
       "69.12"
      ]
     },
     "execution_count": 175,
     "metadata": {},
     "output_type": "execute_result"
    }
   ],
   "source": [
    "perceptron = Perceptron()\n",
    "perceptron.fit(X_train, Y_train)\n",
    "Y_pred4 = perceptron.predict(x_test)\n",
    "acc_perceptron = round(perceptron.score(x_test, y_test) * 100, 2)\n",
    "acc_perceptron"
   ]
  },
  {
   "cell_type": "code",
   "execution_count": 176,
   "metadata": {
    "_uuid": "0775ea4e23a8921457ac1605127640c945941ff1",
    "jupyter": {
     "outputs_hidden": true
    },
    "scrolled": true
   },
   "outputs": [
    {
     "name": "stdout",
     "output_type": "stream",
     "text": [
      "              precision    recall  f1-score   support\n",
      "\n",
      "         0.0       0.69      1.00      0.82        47\n",
      "         1.0       0.00      0.00      0.00        21\n",
      "\n",
      "    accuracy                           0.69        68\n",
      "   macro avg       0.35      0.50      0.41        68\n",
      "weighted avg       0.48      0.69      0.56        68\n",
      "\n",
      "             Predicted: NO  Predicted: YES\n",
      "Actual: NO              47               0\n",
      "Actual: YES             21               0\n"
     ]
    }
   ],
   "source": [
    "print(classification_report(y_test, Y_pred4))\n",
    "cm = pd.DataFrame(confusion_matrix(y_test, Y_pred4), ['Actual: NO', 'Actual: YES'], ['Predicted: NO', 'Predicted: YES'])\n",
    "print(cm)"
   ]
  },
  {
   "cell_type": "markdown",
   "metadata": {
    "_cell_guid": "b9a23f92-0bbf-48c4-9ab6-15dbfe5116a7",
    "_uuid": "2a9436f61d14962f8516df1fc1a18b1a3a72c135"
   },
   "source": [
    "## 4.6. Linear SVC\n",
    "This is another implementation of Support Vector Classification (similar to 4.2.) for the case of a linear kernel."
   ]
  },
  {
   "cell_type": "code",
   "execution_count": 177,
   "metadata": {
    "_cell_guid": "60611a3f-fd51-4229-acaf-c133ca2e9847",
    "_uuid": "17e366e5f4eb069cbfdbad90453b6e76f05acdef",
    "jupyter": {
     "outputs_hidden": true
    }
   },
   "outputs": [
    {
     "data": {
      "text/plain": [
       "30.88"
      ]
     },
     "execution_count": 177,
     "metadata": {},
     "output_type": "execute_result"
    }
   ],
   "source": [
    "linear_svc = LinearSVC()\n",
    "linear_svc.fit(X_train, Y_train)\n",
    "Y_pred5 = linear_svc.predict(x_test)\n",
    "acc_linear_svc = round(linear_svc.score(x_test, y_test) * 100, 2)\n",
    "acc_linear_svc"
   ]
  },
  {
   "cell_type": "code",
   "execution_count": 178,
   "metadata": {
    "_uuid": "c03ad12b9cd51cb3db1b352dbbbb8984fbd1e438",
    "jupyter": {
     "outputs_hidden": true
    }
   },
   "outputs": [
    {
     "name": "stdout",
     "output_type": "stream",
     "text": [
      "              precision    recall  f1-score   support\n",
      "\n",
      "         0.0       0.00      0.00      0.00        47\n",
      "         1.0       0.31      1.00      0.47        21\n",
      "\n",
      "    accuracy                           0.31        68\n",
      "   macro avg       0.15      0.50      0.24        68\n",
      "weighted avg       0.10      0.31      0.15        68\n",
      "\n",
      "             Predicted: NO  Predicted: YES\n",
      "Actual: NO               0              47\n",
      "Actual: YES              0              21\n"
     ]
    }
   ],
   "source": [
    "print(classification_report(y_test, Y_pred5))\n",
    "cm = pd.DataFrame(confusion_matrix(y_test, Y_pred5), ['Actual: NO', 'Actual: YES'], ['Predicted: NO', 'Predicted: YES'])\n",
    "print(cm)"
   ]
  },
  {
   "cell_type": "markdown",
   "metadata": {
    "_cell_guid": "244579fa-56f2-4bb6-8b1f-22f4ff061da9",
    "_uuid": "5fce77fff72d983e6e079a9a4a878f200c8249c5"
   },
   "source": [
    "## 4.7. Stochastic Gradient Descent (sgd)\n",
    "This is a stochastic approximation of the gradient descent optimization and iterative method for minimizing an objective function that is written as a sum of differentiable functions. In other words, SGD tries to find minima or maxima by iteration."
   ]
  },
  {
   "cell_type": "code",
   "execution_count": 179,
   "metadata": {
    "_cell_guid": "2b46b161-4da8-4652-a250-6173618b8f10",
    "_uuid": "a6ec7ea6c3b3a749ac38e9d54aa3571b14952322",
    "jupyter": {
     "outputs_hidden": true
    }
   },
   "outputs": [
    {
     "data": {
      "text/plain": [
       "69.12"
      ]
     },
     "execution_count": 179,
     "metadata": {},
     "output_type": "execute_result"
    }
   ],
   "source": [
    "sgd = SGDClassifier()\n",
    "sgd.fit(X_train, Y_train)\n",
    "Y_pred6 = sgd.predict(x_test)\n",
    "acc_sgd = round(sgd.score(x_test, y_test) * 100, 2)\n",
    "acc_sgd"
   ]
  },
  {
   "cell_type": "code",
   "execution_count": 180,
   "metadata": {
    "_uuid": "fd97601e09aaa5e728a0694330da63d0184e19f6",
    "jupyter": {
     "outputs_hidden": true
    }
   },
   "outputs": [
    {
     "name": "stdout",
     "output_type": "stream",
     "text": [
      "              precision    recall  f1-score   support\n",
      "\n",
      "         0.0       0.69      1.00      0.82        47\n",
      "         1.0       0.00      0.00      0.00        21\n",
      "\n",
      "    accuracy                           0.69        68\n",
      "   macro avg       0.35      0.50      0.41        68\n",
      "weighted avg       0.48      0.69      0.56        68\n",
      "\n",
      "             Predicted: NO  Predicted: YES\n",
      "Actual: NO              47               0\n",
      "Actual: YES             21               0\n"
     ]
    }
   ],
   "source": [
    "print(classification_report(y_test, Y_pred6))\n",
    "cm = pd.DataFrame(confusion_matrix(y_test, Y_pred6), ['Actual: NO', 'Actual: YES'], ['Predicted: NO', 'Predicted: YES'])\n",
    "print(cm)"
   ]
  },
  {
   "cell_type": "markdown",
   "metadata": {
    "_cell_guid": "56d4b334-9d9b-461a-bcc8-e249647222a2",
    "_uuid": "e5ff90c38f7a875bdc8cc78e3a56204759d6d088"
   },
   "source": [
    "## 4.8. Decision tree\n",
    "This predictive model  maps features (tree branches) to conclusions about the target value (tree leaves).\n",
    "\n",
    "The target features  take a finite set of values are called classification trees; in these tree structures, leaves represent class labels and branches represent conjunctions of features that lead to those class labels. Decision trees where the target variable can take continuous values (typically real numbers) are called regression trees."
   ]
  },
  {
   "cell_type": "code",
   "execution_count": 181,
   "metadata": {
    "_cell_guid": "ff611104-8d18-40ea-a4d9-1cc6ae190312",
    "_uuid": "94fa5a802bfd7692d3f9fb3f10a77840bedc2807",
    "jupyter": {
     "outputs_hidden": true
    }
   },
   "outputs": [
    {
     "data": {
      "text/plain": [
       "51.47"
      ]
     },
     "execution_count": 181,
     "metadata": {},
     "output_type": "execute_result"
    }
   ],
   "source": [
    "decision_tree = DecisionTreeClassifier()\n",
    "decision_tree.fit(X_train, Y_train)\n",
    "Y_pred7 = decision_tree.predict(x_test)\n",
    "acc_decision_tree = round(decision_tree.score(x_test, y_test) * 100, 2)\n",
    "acc_decision_tree"
   ]
  },
  {
   "cell_type": "code",
   "execution_count": 182,
   "metadata": {
    "_uuid": "8fa762a1915848f9593403816de0c344aed158aa",
    "jupyter": {
     "outputs_hidden": true
    }
   },
   "outputs": [
    {
     "name": "stdout",
     "output_type": "stream",
     "text": [
      "              precision    recall  f1-score   support\n",
      "\n",
      "         0.0       0.64      0.68      0.66        47\n",
      "         1.0       0.17      0.14      0.15        21\n",
      "\n",
      "    accuracy                           0.51        68\n",
      "   macro avg       0.40      0.41      0.41        68\n",
      "weighted avg       0.49      0.51      0.50        68\n",
      "\n",
      "             Predicted: NO  Predicted: YES\n",
      "Actual: NO              32              15\n",
      "Actual: YES             18               3\n"
     ]
    }
   ],
   "source": [
    "print(classification_report(y_test, Y_pred7))\n",
    "cm = pd.DataFrame(confusion_matrix(y_test, Y_pred7), ['Actual: NO', 'Actual: YES'], ['Predicted: NO', 'Predicted: YES'])\n",
    "print(cm)"
   ]
  },
  {
   "cell_type": "markdown",
   "metadata": {
    "_cell_guid": "d2250de2-014f-44fe-8d1e-6802dc4256c9",
    "_uuid": "d2fb348dae0ae80f8d92a7cb352dc476c0df834e"
   },
   "source": [
    "## 4.9. Random Forests\n",
    "This is one of the most popular classfier.\n",
    "Random forests or random decision forests are an ensemble learning method for classification, regression and other tasks, that operate by constructing a multitude of decision trees (n_estimators=100) at training time and outputting the class that is the mode of the classes (classification) or mean prediction (regression) of the individual trees"
   ]
  },
  {
   "cell_type": "code",
   "execution_count": 183,
   "metadata": {
    "_cell_guid": "a23b35cd-e90b-4414-b19a-aab033fc5197",
    "_uuid": "c97d4e9bb57a147d8871ac55ede16c92f94f8937",
    "jupyter": {
     "outputs_hidden": true
    }
   },
   "outputs": [
    {
     "data": {
      "text/plain": [
       "66.18"
      ]
     },
     "execution_count": 183,
     "metadata": {},
     "output_type": "execute_result"
    }
   ],
   "source": [
    "random_forest = RandomForestClassifier(n_estimators=100)\n",
    "random_forest.fit(X_train, Y_train)\n",
    "random_forest_predictions = random_forest.predict(x_test)\n",
    "acc_random_forest = round(random_forest.score(x_test, y_test) * 100, 2)\n",
    "\n",
    "\n",
    "# Preparing data for Submission 2\n",
    "test_morbidité = pd.Series(random_forest_predictions, name=\"Morbidité\")\n",
    "\n",
    "\n",
    "acc_random_forest"
   ]
  },
  {
   "cell_type": "code",
   "execution_count": 184,
   "metadata": {
    "_uuid": "3fb840a5153d3230b04053d5b20e9d7cf2afadc4",
    "jupyter": {
     "outputs_hidden": true
    }
   },
   "outputs": [
    {
     "name": "stdout",
     "output_type": "stream",
     "text": [
      "              precision    recall  f1-score   support\n",
      "\n",
      "         0.0       0.69      0.91      0.79        47\n",
      "         1.0       0.33      0.10      0.15        21\n",
      "\n",
      "    accuracy                           0.66        68\n",
      "   macro avg       0.51      0.51      0.47        68\n",
      "weighted avg       0.58      0.66      0.59        68\n",
      "\n",
      "             Predicted: NO  Predicted: YES\n",
      "Actual: NO              43               4\n",
      "Actual: YES             19               2\n"
     ]
    }
   ],
   "source": [
    "print(classification_report(y_test, random_forest_predictions))\n",
    "cm = pd.DataFrame(confusion_matrix(y_test, random_forest_predictions), ['Actual: NO', 'Actual: YES'], ['Predicted: NO', 'Predicted: YES'])\n",
    "print(cm)"
   ]
  },
  {
   "cell_type": "markdown",
   "metadata": {
    "_cell_guid": "af2231ef-5396-4dcc-9622-b134f75adcf3",
    "_uuid": "a6c47798f6078f3af1e46714dd9ea2f3afd89662"
   },
   "source": [
    "## 4.10. Model summary\n",
    "I found that the picture illustrates the various model better than words.\n",
    "This should be taken with a grain of salt, as the intuition conveyed by these two-dimensional examples does not necessarily carry over to real datasets.\n",
    "The reality os that the algorithms work with many dimensions (11 in our case).\n",
    "\n",
    "But it shows how each classifier algorithm partitions the same data in different ways.\n",
    "The three rows represent the three different data set on the right.\n",
    "The plots show training points in solid colors and testing points semi-transparent. The lower right shows the classification accuracy on the test set.\n",
    "\n",
    "For instance, the visualization helps understand how RandomForest uses multiple Decision Trees, the linear SVC, or Nearest Neighbors grouping sample by their relative distance to each others.\n",
    "\n",
    "![image](http://scikit-learn.org/0.15/_images/plot_classifier_comparison_0011.png)\n"
   ]
  },
  {
   "cell_type": "code",
   "execution_count": 185,
   "metadata": {
    "_cell_guid": "9235ce64-cec0-496f-a906-9d9fb11ac6eb",
    "_uuid": "03ca3ec943ac68754945b897831809945cc49ba1",
    "jupyter": {
     "outputs_hidden": true
    }
   },
   "outputs": [
    {
     "data": {
      "image/png": "[encoded data removed]",
      "text/plain": [
       "<Figure size 432x288 with 1 Axes>"
      ]
     },
     "metadata": {
      "needs_background": "light"
     },
     "output_type": "display_data"
    }
   ],
   "source": [
    "objects = ('Logistic Regression', 'SVC', 'KNN', 'Gaussian', 'Perceptron', 'linear SVC', 'SGD', 'Decision Tree', 'Random Forest')\n",
    "x_pos = np.arange(len(objects))\n",
    "accuracies1 = [acc_log, acc_svc, acc_knn, acc_gaussian, acc_perceptron, acc_linear_svc, acc_sgd, acc_decision_tree, acc_random_forest]\n",
    "    \n",
    "plt.bar(x_pos, accuracies1, align='center', alpha=0.5, color='r')\n",
    "plt.xticks(x_pos, objects, rotation='vertical')\n",
    "plt.ylabel('Accuracy')\n",
    "plt.title('Classifier Outcome')\n",
    "plt.show()"
   ]
  },
  {
   "cell_type": "markdown",
   "metadata": {
    "_cell_guid": "04d20d05-98ed-45f6-84d9-aa3e70e9d2af",
    "_uuid": "9fa35c1dda5fe275477b1aac2a23b18ca29a0bbb"
   },
   "source": [
    "**Observations**\n",
    "* The above models (classifiers) were applied to a split training and x_test datasets.\n",
    "* This results in some classifiers (Decision_tree and Random_Forest) over-fitting the model to the training data. \n",
    "* This happens when the classifiers use many input features (to include noise in each feature) on the complete dataset, and ends up “memorizing the noise” instead of finding the signal.\n",
    "* This overfit model will then make predictions based on that noise. It performs unusually well on its training data, but will not necessarilyimprove the prediction quality with new data from the test dataset.\n",
    "* In the next section, we will cross-validate the models using sample data against each others. We will this by using StratifiedKFold to train and test the models on sample data from the overall dataset.\n",
    "Stratified K-Folds is a cross validation iterator. It provides train/test indices to split data in train test sets. This cross-validation object is a variation of KFold, which returns stratified folds. The folds are made by preserving the percentage of samples for each class."
   ]
  },
  {
   "cell_type": "markdown",
   "metadata": {
    "_cell_guid": "6f4eb75d-3718-4bf9-9bda-ca53fe8f3826",
    "_uuid": "230e8659fb39cf8fdc6e0d531bf9a98c9674d84d"
   },
   "source": [
    "## 4.11. Model cross-validation with K-Fold\n",
    "\n",
    "The fitting process applied above optimizes the model parameters to make the model fit the training data as well as possible.\n",
    "Cross-validation is a way to predict the fit of a model to a hypothetical validation set when an explicit validation set is not available.\n",
    "In simple words, it allows to test how well the model performs on new data.\n",
    "In our case, cross-validation will also be applied to compare the performances of different predictive modeling procedures. \n",
    "![Cross-validation process:](https://image.slidesharecdn.com/kagglesharingmarkpeng20151216finalpresented-151216161621/95/general-tips-for-participating-kaggle-competitions-13-638.jpg?cb=1452565877)\n",
    "### Cross-validation scores"
   ]
  },
  {
   "cell_type": "code",
   "execution_count": 186,
   "metadata": {
    "_cell_guid": "51a3d12e-6709-4c99-8499-e9065de25d21",
    "_uuid": "cd1a76ef5d8a7093e3d05ef0f244591e9ddafe8c",
    "jupyter": {
     "outputs_hidden": true
    }
   },
   "outputs": [
    {
     "data": {
      "image/png": "[encoded data removed]",
      "text/plain": [
       "<Figure size 432x288 with 1 Axes>"
      ]
     },
     "metadata": {
      "needs_background": "light"
     },
     "output_type": "display_data"
    }
   ],
   "source": [
    "# Cross validate model with Kfold stratified cross validation\n",
    "from sklearn.model_selection import StratifiedKFold\n",
    "kfold = StratifiedKFold(n_splits=10)\n",
    "# Modeling step Test differents algorithms \n",
    "random_state = 0\n",
    "\n",
    "classifiers = []\n",
    "classifiers.append(LogisticRegression(random_state = random_state))\n",
    "classifiers.append(SVC(random_state=random_state))\n",
    "classifiers.append(KNeighborsClassifier(n_neighbors=40, weights='distance', metric='minkowski', p =2))\n",
    "classifiers.append(GaussianNB())\n",
    "classifiers.append(Perceptron(random_state=random_state))\n",
    "classifiers.append(LinearSVC(random_state=random_state))\n",
    "classifiers.append(SGDClassifier(random_state=random_state))\n",
    "classifiers.append(DecisionTreeClassifier(random_state = random_state))\n",
    "classifiers.append(RandomForestClassifier(random_state = random_state))\n",
    "\n",
    "cv_results = []\n",
    "for classifier in classifiers :\n",
    "    cv_results.append(cross_val_score(classifier, X_train, y = Y_train, scoring = \"accuracy\", cv = kfold, n_jobs=4))\n",
    "\n",
    "cv_means = []\n",
    "cv_std = []\n",
    "for cv_result in cv_results:\n",
    "    cv_means.append(cv_result.mean())\n",
    "    cv_std.append(cv_result.std())\n",
    "\n",
    "cv_res = pd.DataFrame({\"CrossValMeans\":cv_means,\"CrossValerrors\": cv_std,\"Algorithm\":['Logistic Regression',  'KNN', 'Gaussian',\n",
    "    'Perceptron', 'linear SVC', 'SGD', 'Decision Tree','SVMC', 'Random Forest']})\n",
    "\n",
    "g = sns.barplot(\"CrossValMeans\",\"Algorithm\",data = cv_res, palette=\"Set3\",orient = \"h\",**{'xerr':cv_std})\n",
    "g.set_xlabel(\"Mean Accuracy\")\n",
    "g = g.set_title(\"Cross validation scores\")"
   ]
  },
  {
   "cell_type": "code",
   "execution_count": 187,
   "metadata": {},
   "outputs": [
    {
     "data": {
      "text/html": [
       "<div>\n",
       "<style scoped>\n",
       "    .dataframe tbody tr th:only-of-type {\n",
       "        vertical-align: middle;\n",
       "    }\n",
       "\n",
       "    .dataframe tbody tr th {\n",
       "        vertical-align: top;\n",
       "    }\n",
       "\n",
       "    .dataframe thead th {\n",
       "        text-align: right;\n",
       "    }\n",
       "</style>\n",
       "<table border=\"1\" class=\"dataframe\">\n",
       "  <thead>\n",
       "    <tr style=\"text-align: right;\">\n",
       "      <th></th>\n",
       "      <th>CrossValMeans</th>\n",
       "      <th>CrossValerrors</th>\n",
       "      <th>Algorithm</th>\n",
       "    </tr>\n",
       "  </thead>\n",
       "  <tbody>\n",
       "    <tr>\n",
       "      <th>0</th>\n",
       "      <td>0.598013</td>\n",
       "      <td>0.044359</td>\n",
       "      <td>Logistic Regression</td>\n",
       "    </tr>\n",
       "    <tr>\n",
       "      <th>1</th>\n",
       "      <td>0.502436</td>\n",
       "      <td>0.069303</td>\n",
       "      <td>KNN</td>\n",
       "    </tr>\n",
       "    <tr>\n",
       "      <th>2</th>\n",
       "      <td>0.648141</td>\n",
       "      <td>0.057549</td>\n",
       "      <td>Gaussian</td>\n",
       "    </tr>\n",
       "    <tr>\n",
       "      <th>3</th>\n",
       "      <td>0.575321</td>\n",
       "      <td>0.063923</td>\n",
       "      <td>Perceptron</td>\n",
       "    </tr>\n",
       "    <tr>\n",
       "      <th>4</th>\n",
       "      <td>0.500000</td>\n",
       "      <td>0.005734</td>\n",
       "      <td>linear SVC</td>\n",
       "    </tr>\n",
       "    <tr>\n",
       "      <th>5</th>\n",
       "      <td>0.492628</td>\n",
       "      <td>0.025933</td>\n",
       "      <td>SGD</td>\n",
       "    </tr>\n",
       "    <tr>\n",
       "      <th>6</th>\n",
       "      <td>0.497500</td>\n",
       "      <td>0.009441</td>\n",
       "      <td>Decision Tree</td>\n",
       "    </tr>\n",
       "    <tr>\n",
       "      <th>7</th>\n",
       "      <td>0.663782</td>\n",
       "      <td>0.125730</td>\n",
       "      <td>SVMC</td>\n",
       "    </tr>\n",
       "    <tr>\n",
       "      <th>8</th>\n",
       "      <td>0.829615</td>\n",
       "      <td>0.152181</td>\n",
       "      <td>Random Forest</td>\n",
       "    </tr>\n",
       "  </tbody>\n",
       "</table>\n",
       "</div>"
      ],
      "text/plain": [
       "   CrossValMeans  CrossValerrors            Algorithm\n",
       "0       0.598013        0.044359  Logistic Regression\n",
       "1       0.502436        0.069303                  KNN\n",
       "2       0.648141        0.057549             Gaussian\n",
       "3       0.575321        0.063923           Perceptron\n",
       "4       0.500000        0.005734           linear SVC\n",
       "5       0.492628        0.025933                  SGD\n",
       "6       0.497500        0.009441        Decision Tree\n",
       "7       0.663782        0.125730                 SVMC\n",
       "8       0.829615        0.152181        Random Forest"
      ]
     },
     "execution_count": 187,
     "metadata": {},
     "output_type": "execute_result"
    }
   ],
   "source": [
    "cv_res"
   ]
  },
  {
   "cell_type": "markdown",
   "metadata": {
    "_cell_guid": "056a8fdb-8d59-452a-82b1-86e37e62ea5b",
    "_uuid": "4d268142781fde8a736992af97a30e606094c7a5"
   },
   "source": [
    "## 4.12 Hyperparameter tuning & learning curves for selected classifiers\n",
    "\n",
    "**1. Adaboost** is used in conjunction with many other types of learning algorithms to improve performance. The output of the other learning algorithms ('weak learners') is combined into a weighted sum that represents the final output of the boosted classifier. AdaBoost is adaptive in the sense that subsequent weak learners are tweaked in favor of those instances misclassified by previous classifiers. AdaBoost is sensitive to noisy data and outliers.\n",
    "\n",
    "**2. ExtraTrees** implements a meta estimator that fits a number of randomized decision trees (a.k.a. extra-trees) on various sub-samples of the dataset and use averaging to improve the predictive accuracy and control over-fitting.\n",
    "\n",
    "**3. RandomForest** operate by constructing a multitude of decision trees at training time and outputting the class that is the mode of the classes (classification) or mean prediction (regression) of the individual trees. Random decision forests correct for decision trees' habit of overfitting to their training set.\n",
    "\n",
    "**4. GradientBoost** produces a prediction model in the form of an ensemble of weak prediction models, typically decision trees. It builds the model in a stage-wise fashion like other boosting methods do, and it generalizes them by allowing optimization of an arbitrary differentiable loss function.\n",
    "\n",
    "**5. KNN .** a supervised machine learning algorithm (as opposed to an unsupervised machine learning algorithm) is one that relies on labeled input data to learn a function that produces an appropriate output when given new unlabeled data.\n",
    "\n",
    "All descripotion adapted from Wikipedia."
   ]
  },
  {
   "cell_type": "markdown",
   "metadata": {},
   "source": [
    "### Adaboost"
   ]
  },
  {
   "cell_type": "code",
   "execution_count": 193,
   "metadata": {
    "_cell_guid": "b0263595-bfd7-498c-8161-e76fbc2bdd28",
    "_uuid": "1de7046e7704ee29b4827b3bde077af98bedb4df",
    "jupyter": {
     "outputs_hidden": true
    }
   },
   "outputs": [
    {
     "name": "stdout",
     "output_type": "stream",
     "text": [
      "Fitting 10 folds for each of 112 candidates, totalling 1120 fits\n",
      "AdaBoostClassifier(algorithm='SAMME',\n",
      "                   base_estimator=DecisionTreeClassifier(criterion='entropy'),\n",
      "                   learning_rate=0.0001, n_estimators=1, random_state=7)\n"
     ]
    },
    {
     "data": {
      "text/plain": [
       "0.7394736842105263"
      ]
     },
     "execution_count": 193,
     "metadata": {},
     "output_type": "execute_result"
    }
   ],
   "source": [
    "# Adaboost\n",
    "DTC = DecisionTreeClassifier()\n",
    "adaDTC = AdaBoostClassifier(DTC, random_state=7)\n",
    "ada_param_grid = {\"base_estimator__criterion\" : [\"gini\", \"entropy\"],\n",
    "              \"base_estimator__splitter\" :   [\"best\", \"random\"],\n",
    "              \"algorithm\" : [\"SAMME\",\"SAMME.R\"],\n",
    "              \"n_estimators\" :[1,2],\n",
    "              \"learning_rate\":  [0.0001, 0.001, 0.01, 0.1, 0.2, 0.3,1.5]}\n",
    "gsadaDTC = GridSearchCV(adaDTC,param_grid = ada_param_grid, cv=kfold, scoring=\"recall\", n_jobs= 4, verbose = 1)\n",
    "gsadaDTC.fit(X_train,Y_train)\n",
    "adaDTC_best = gsadaDTC.best_estimator_\n",
    "print(adaDTC_best)\n",
    "gsadaDTC.best_score_"
   ]
  },
  {
   "cell_type": "markdown",
   "metadata": {},
   "source": [
    "from 0.48 to 0.73"
   ]
  },
  {
   "cell_type": "code",
   "execution_count": 194,
   "metadata": {},
   "outputs": [
    {
     "name": "stdout",
     "output_type": "stream",
     "text": [
      "              precision    recall  f1-score   support\n",
      "\n",
      "         0.0       0.72      0.70      0.71        47\n",
      "         1.0       0.36      0.38      0.37        21\n",
      "\n",
      "    accuracy                           0.60        68\n",
      "   macro avg       0.54      0.54      0.54        68\n",
      "weighted avg       0.61      0.60      0.61        68\n",
      "\n"
     ]
    }
   ],
   "source": [
    "ada=AdaBoostClassifier(algorithm='SAMME',\n",
    "                   base_estimator=DecisionTreeClassifier(criterion='entropy'),\n",
    "                   learning_rate=0.0001, n_estimators=1, random_state=7)\n",
    "ada.fit(X_train, Y_train)\n",
    "print(classification_report(y_test, ada.predict(x_test)))"
   ]
  },
  {
   "cell_type": "markdown",
   "metadata": {},
   "source": [
    "### Extra trees"
   ]
  },
  {
   "cell_type": "code",
   "execution_count": 195,
   "metadata": {
    "_cell_guid": "b45f6aa5-d003-460e-b051-c412409e946f",
    "_uuid": "1f6162dde2e422d192470675a6e7fa5f8bc3fba4",
    "jupyter": {
     "outputs_hidden": true
    }
   },
   "outputs": [
    {
     "name": "stdout",
     "output_type": "stream",
     "text": [
      "Fitting 10 folds for each of 54 candidates, totalling 540 fits\n",
      "ExtraTreesClassifier(max_features=7, n_estimators=600)\n"
     ]
    },
    {
     "data": {
      "text/plain": [
       "0.8020512820512821"
      ]
     },
     "execution_count": 195,
     "metadata": {},
     "output_type": "execute_result"
    }
   ],
   "source": [
    "# ExtraTrees \n",
    "ExtC = ExtraTreesClassifier()\n",
    "ex_param_grid = {\"max_depth\": [None],\n",
    "              \"max_features\": [1, 3, 7],\n",
    "              \"min_samples_split\": [2, 3, 7],\n",
    "              \"min_samples_leaf\": [1, 3, 7],\n",
    "              \"bootstrap\": [False],\n",
    "              \"n_estimators\" :[300,600],\n",
    "              \"criterion\": [\"gini\"]}\n",
    "gsExtC = GridSearchCV(ExtC,param_grid = ex_param_grid, cv=kfold, scoring=\"accuracy\", n_jobs= 4, verbose = 1)\n",
    "gsExtC.fit(X_train,Y_train)\n",
    "ExtC_best = gsExtC.best_estimator_\n",
    "print(ExtC_best)\n",
    "gsExtC.best_score_"
   ]
  },
  {
   "cell_type": "code",
   "execution_count": 201,
   "metadata": {
    "scrolled": true
   },
   "outputs": [
    {
     "name": "stdout",
     "output_type": "stream",
     "text": [
      "              precision    recall  f1-score   support\n",
      "\n",
      "         0.0       0.80      0.79      0.80        47\n",
      "         1.0       0.55      0.57      0.56        21\n",
      "\n",
      "    accuracy                           0.72        68\n",
      "   macro avg       0.67      0.68      0.68        68\n",
      "weighted avg       0.72      0.72      0.72        68\n",
      "\n"
     ]
    }
   ],
   "source": [
    "Ext=ExtraTreesClassifier(max_features=3, min_samples_leaf=10, n_estimators=300)\n",
    "Ext.fit(X_train, Y_train)\n",
    "print(classification_report(y_test, Ext.predict(x_test)))"
   ]
  },
  {
   "cell_type": "markdown",
   "metadata": {},
   "source": [
    "### GBC"
   ]
  },
  {
   "cell_type": "code",
   "execution_count": 205,
   "metadata": {
    "_cell_guid": "29ca52ff-55d8-4948-aaac-baf1b4be4bf2",
    "_uuid": "d0e880fe0a20338bd6ae7bfd756c192b2424a0a9",
    "jupyter": {
     "outputs_hidden": true
    }
   },
   "outputs": [
    {
     "name": "stdout",
     "output_type": "stream",
     "text": [
      "Fitting 10 folds for each of 72 candidates, totalling 720 fits\n"
     ]
    },
    {
     "data": {
      "text/plain": [
       "0.74"
      ]
     },
     "execution_count": 205,
     "metadata": {},
     "output_type": "execute_result"
    }
   ],
   "source": [
    "# Gradient boosting tunning\n",
    "GBC = GradientBoostingClassifier()\n",
    "gb_param_grid = {'loss' : [\"deviance\"],\n",
    "              'n_estimators' : [100,200,300],\n",
    "              'learning_rate': [0.1, 0.05, 0.01],\n",
    "              'max_depth': [4, 8],\n",
    "              'min_samples_leaf': [100,150],\n",
    "              'max_features': [0.3, 0.1] }\n",
    "gsGBC = GridSearchCV(GBC,param_grid = gb_param_grid, cv=kfold, scoring=\"recall\", n_jobs= 4, verbose = 1)\n",
    "gsGBC.fit(X_train,Y_train)\n",
    "GBC_best = gsGBC.best_estimator_\n",
    "gsGBC.best_score_"
   ]
  },
  {
   "cell_type": "code",
   "execution_count": 206,
   "metadata": {},
   "outputs": [
    {
     "name": "stdout",
     "output_type": "stream",
     "text": [
      "GradientBoostingClassifier(max_depth=4, max_features=0.1, min_samples_leaf=100,\n",
      "                           n_estimators=300)\n"
     ]
    }
   ],
   "source": [
    "print(GBC_best)"
   ]
  },
  {
   "cell_type": "code",
   "execution_count": 214,
   "metadata": {},
   "outputs": [
    {
     "name": "stdout",
     "output_type": "stream",
     "text": [
      "              precision    recall  f1-score   support\n",
      "\n",
      "         0.0       0.75      0.81      0.78        47\n",
      "         1.0       0.47      0.38      0.42        21\n",
      "\n",
      "    accuracy                           0.68        68\n",
      "   macro avg       0.61      0.59      0.60        68\n",
      "weighted avg       0.66      0.68      0.67        68\n",
      "\n"
     ]
    }
   ],
   "source": [
    "gbc=GradientBoostingClassifier(max_depth=4, max_features=0.1, min_samples_leaf=100,\n",
    "                           n_estimators=300)\n",
    "gbc.fit(X_train, Y_train)\n",
    "print(classification_report(y_test, gbc.predict(x_test)))"
   ]
  },
  {
   "cell_type": "markdown",
   "metadata": {},
   "source": [
    "### Random forest"
   ]
  },
  {
   "cell_type": "code",
   "execution_count": 215,
   "metadata": {
    "_cell_guid": "f841ae86-1e02-4626-b1e3-f3087cfee304",
    "_uuid": "29f6e95093b5d3d5f54a6042ffe9a1ef2245af2a",
    "jupyter": {
     "outputs_hidden": true
    },
    "scrolled": true
   },
   "outputs": [
    {
     "name": "stdout",
     "output_type": "stream",
     "text": [
      "Fitting 10 folds for each of 54 candidates, totalling 540 fits\n"
     ]
    },
    {
     "data": {
      "text/plain": [
       "0.7943475873821875"
      ]
     },
     "execution_count": 215,
     "metadata": {},
     "output_type": "execute_result"
    }
   ],
   "source": [
    "# Random Forest\n",
    "rf_param_grid = {\"max_depth\": [None],\n",
    "              \"max_features\": [1, 3, 7],\n",
    "              \"min_samples_split\": [2, 3, 7],\n",
    "              \"min_samples_leaf\": [1, 3, 7],\n",
    "              \"bootstrap\": [False],\n",
    "              \"n_estimators\" :[300,600],\n",
    "              \"criterion\": [\"gini\"]}\n",
    "gsrandom_forest = GridSearchCV(random_forest,param_grid = rf_param_grid, cv=kfold, scoring=\"f1\", n_jobs= 4, verbose = 1)\n",
    "gsrandom_forest.fit(X_train,Y_train)\n",
    "# Best score\n",
    "random_forest_best = gsrandom_forest.best_estimator_\n",
    "gsrandom_forest.best_score_"
   ]
  },
  {
   "cell_type": "code",
   "execution_count": 216,
   "metadata": {},
   "outputs": [
    {
     "name": "stdout",
     "output_type": "stream",
     "text": [
      "RandomForestClassifier(bootstrap=False, max_features=7, n_estimators=600)\n"
     ]
    }
   ],
   "source": [
    "print(random_forest_best)"
   ]
  },
  {
   "cell_type": "code",
   "execution_count": 219,
   "metadata": {},
   "outputs": [
    {
     "name": "stdout",
     "output_type": "stream",
     "text": [
      "              precision    recall  f1-score   support\n",
      "\n",
      "         0.0       0.70      0.91      0.80        47\n",
      "         1.0       0.43      0.14      0.21        21\n",
      "\n",
      "    accuracy                           0.68        68\n",
      "   macro avg       0.57      0.53      0.51        68\n",
      "weighted avg       0.62      0.68      0.62        68\n",
      "\n"
     ]
    }
   ],
   "source": [
    "rdf=RandomForestClassifier(bootstrap=False, max_features=7, n_estimators=600)\n",
    "rdf.fit(X_train, Y_train)\n",
    "print(classification_report(y_test, rdf.predict(x_test)))"
   ]
  },
  {
   "cell_type": "markdown",
   "metadata": {},
   "source": [
    "### Naive Bayes"
   ]
  },
  {
   "cell_type": "code",
   "execution_count": 220,
   "metadata": {},
   "outputs": [],
   "source": [
    "from plotly.subplots import make_subplots\n",
    "import plotly.graph_objs as go\n",
    "import pprint\n",
    "from scipy import stats\n",
    "from IPython.display import display\n",
    "def plot_grid_search(clf):\n",
    "    \"\"\"Plot as many graphs as parameters are in the grid search results.\n",
    "\n",
    "    Each graph has the values of each parameter in the X axis and the Score in the Y axis.\n",
    "\n",
    "    Parameters\n",
    "    ----------\n",
    "    clf: estimator object result of a GridSearchCV\n",
    "        This object contains all the information of the cross validated results for all the parameters combinations.\n",
    "    \"\"\"\n",
    "    # Convert the cross validated results in a DataFrame ordered by `rank_test_score` and `mean_fit_time`.\n",
    "    # As it is frequent to have more than one combination with the same max score,\n",
    "    # the one with the least mean fit time SHALL appear first.\n",
    "    cv_results = pd.DataFrame(clf.cv_results_).sort_values(by=['rank_test_score', 'mean_fit_time'])\n",
    "\n",
    "    # Get parameters\n",
    "    parameters=cv_results['params'][0].keys()\n",
    "\n",
    "    # Calculate the number of rows and columns necessary\n",
    "    rows = -(-len(parameters) // 2)\n",
    "    columns = min(len(parameters), 2)\n",
    "    # Create the subplot\n",
    "    fig = make_subplots(rows=rows, cols=columns)\n",
    "    # Initialize row and column indexes\n",
    "    row = 1\n",
    "    column = 1\n",
    "\n",
    "    # For each of the parameters\n",
    "    for parameter in parameters:\n",
    "\n",
    "        # As all the graphs have the same traces, and by default all traces are shown in the legend,\n",
    "        # the description appears multiple times. Then, only show legend of the first graph.\n",
    "        if row == 1 and column == 1:\n",
    "            show_legend = True\n",
    "        else:\n",
    "            show_legend = False\n",
    "\n",
    "        # Mean test score\n",
    "        mean_test_score = cv_results[cv_results['rank_test_score'] != 1]\n",
    "        fig.add_trace(go.Scatter(\n",
    "            name='Mean test score',\n",
    "            x=mean_test_score['param_' + parameter],\n",
    "            y=mean_test_score['mean_test_score'],\n",
    "            mode='markers',\n",
    "            marker=dict(size=mean_test_score['mean_fit_time'],\n",
    "                        color='SteelBlue',\n",
    "                        sizeref=2. * cv_results['mean_fit_time'].max() / (40. ** 2),\n",
    "                        sizemin=4,\n",
    "                        sizemode='area'),\n",
    "            text=mean_test_score['params'].apply(\n",
    "                lambda x: pprint.pformat(x, width=-1).replace('{', '').replace('}', '').replace('\\n', '<br />')),\n",
    "            showlegend=show_legend),\n",
    "            row=row,\n",
    "            col=column)\n",
    "\n",
    "        # Best estimators\n",
    "        rank_1 = cv_results[cv_results['rank_test_score'] == 1]\n",
    "        fig.add_trace(go.Scatter(\n",
    "            name='Best estimators',\n",
    "            x=rank_1['param_' + parameter],\n",
    "            y=rank_1['mean_test_score'],\n",
    "            mode='markers',\n",
    "            marker=dict(size=rank_1['mean_fit_time'],\n",
    "                        color='Crimson',\n",
    "                        sizeref=2. * cv_results['mean_fit_time'].max() / (40. ** 2),\n",
    "                        sizemin=4,\n",
    "                        sizemode='area'),\n",
    "            text=rank_1['params'].apply(str),\n",
    "            showlegend=show_legend),\n",
    "            row=row,\n",
    "            col=column)\n",
    "\n",
    "        fig.update_xaxes(title_text=parameter, row=row, col=column)\n",
    "        fig.update_yaxes(title_text='Score', row=row, col=column)\n",
    "\n",
    "        # Check the linearity of the series\n",
    "        # Only for numeric series\n",
    "        if pd.to_numeric(cv_results['param_' + parameter], errors='coerce').notnull().all():\n",
    "            x_values = cv_results['param_' + parameter].sort_values().unique().tolist()\n",
    "            r = stats.linregress(x_values, range(0, len(x_values))).rvalue\n",
    "            # If not so linear, then represent the data as logarithmic\n",
    "            if r < 0.86:\n",
    "                fig.update_xaxes(type='log', row=row, col=column)\n",
    "\n",
    "        # Increment the row and column indexes\n",
    "        column += 1\n",
    "        if column > columns:\n",
    "            column = 1\n",
    "            row += 1\n",
    "\n",
    "            # Show first the best estimators\n",
    "    fig.update_layout(legend=dict(traceorder='reversed'),\n",
    "                      width=columns * 360 + 100,\n",
    "                      height=rows * 360,\n",
    "                      title='Best score: {:.6f} with {}'.format(cv_results['mean_test_score'].iloc[0],\n",
    "                                                                str(cv_results['params'].iloc[0]).replace('{',\n",
    "                                                                                                          '').replace(\n",
    "                                                                    '}', '')),\n",
    "                      hovermode='closest',\n",
    "                      template='none')\n",
    "    fig.show()\n",
    "\n",
    "\n",
    "def table_grid_search(clf, all_columns=False, all_ranks=False, save=True):\n",
    "    \"\"\"Show tables with the grid search results.\n",
    "\n",
    "    Parameters\n",
    "    ----------\n",
    "    clf: estimator object result of a GridSearchCV\n",
    "        This object contains all the information of the cross validated results for all the parameters combinations.\n",
    "\n",
    "    all_columns: boolean, default: False\n",
    "        If true all columns are returned. If false, the following columns are dropped:\n",
    "\n",
    "        - params. As each parameter has a column with the value.\n",
    "        - std_*. Standard deviations.\n",
    "        - split*. Split scores.\n",
    "\n",
    "    all_ranks: boolean, default: False\n",
    "        If true all ranks are returned. If false, only the rows with rank equal to 1 are returned.\n",
    "\n",
    "    save: boolean, default: True\n",
    "        If true, results are saved to a CSV file.\n",
    "    \"\"\"\n",
    "    # Convert the cross validated results in a DataFrame ordered by `rank_test_score` and `mean_fit_time`.\n",
    "    # As it is frequent to have more than one combination with the same max score,\n",
    "    # the one with the least mean fit time SHALL appear first.\n",
    "    cv_results = pd.DataFrame(clf.cv_results_).sort_values(by=['rank_test_score', 'mean_fit_time'])\n",
    "\n",
    "    # Reorder\n",
    "    columns = cv_results.columns.tolist()\n",
    "    # rank_test_score first, mean_test_score second and std_test_score third\n",
    "    columns = columns[-1:] + columns[-3:-1] + columns[:-3]\n",
    "    cv_results = cv_results[columns]\n",
    "\n",
    "    if save:\n",
    "        cv_results.to_csv('--'.join(cv_results['params'][0].keys()) + '.csv', index=True, index_label='Id')\n",
    "\n",
    "    # Unless all_columns are True, drop not wanted columns: params, std_* split*\n",
    "    if not all_columns:\n",
    "        cv_results.drop('params', axis='columns', inplace=True)\n",
    "        cv_results.drop(list(cv_results.filter(regex='^std_.*')), axis='columns', inplace=True)\n",
    "        cv_results.drop(list(cv_results.filter(regex='^split.*')), axis='columns', inplace=True)\n",
    "\n",
    "    # Unless all_ranks are True, filter out those rows which have rank equal to one\n",
    "    if not all_ranks:\n",
    "        cv_results = cv_results[cv_results['rank_test_score'] == 1]\n",
    "        cv_results.drop('rank_test_score', axis = 'columns', inplace = True)        \n",
    "        cv_results = cv_results.style.hide_index()\n",
    "\n",
    "    display(cv_results)"
   ]
  },
  {
   "cell_type": "code",
   "execution_count": 221,
   "metadata": {},
   "outputs": [
    {
     "name": "stdout",
     "output_type": "stream",
     "text": [
      "Fitting 10 folds for each of 14 candidates, totalling 140 fits\n"
     ]
    },
    {
     "data": {
      "application/vnd.plotly.v1+json": {
       "config": {
        "plotlyServerURL": "https://plot.ly"
       },
       "data": [
        {
         "marker": {
          "color": "SteelBlue",
          "size": [
           0.002648019790649414,
           0.0010181188583374024,
           0.004048562049865723,
           0.0014744997024536133,
           0.001627969741821289,
           0.002485179901123047,
           0.004686617851257324,
           0.004686212539672852,
           0.004686546325683594,
           0.0031243085861206053,
           0.0015620946884155273,
           0,
           0.0031780719757080076
          ],
          "sizemin": 4,
          "sizemode": "area",
          "sizeref": 5.858272314071655e-06
         },
         "mode": "markers",
         "name": "Mean test score",
         "showlegend": true,
         "text": [
          "'var_smoothing': 1e-15",
          "'var_smoothing': 1e-12",
          "'var_smoothing': 1e-13",
          "'var_smoothing': 1e-10",
          "'var_smoothing': 1e-14",
          "'var_smoothing': 1e-09",
          "'var_smoothing': 1e-08",
          "'var_smoothing': 1e-07",
          "'var_smoothing': 1e-06",
          "'var_smoothing': 1e-05",
          "'var_smoothing': 0.0001",
          "'var_smoothing': 0.001",
          "'var_smoothing': 0.01"
         ],
         "type": "scatter",
         "x": [
          1e-15,
          1e-12,
          1e-13,
          1e-10,
          1e-14,
          1e-09,
          1e-08,
          1e-07,
          1e-06,
          1e-05,
          0.0001,
          0.001,
          0.01
         ],
         "xaxis": "x",
         "y": [
          0.6966327164977056,
          0.6954362014962698,
          0.6917888095193112,
          0.6890633306166942,
          0.6873024812851175,
          0.6724268173307887,
          0.6677665036488566,
          0.664752730028592,
          0.6479727847275016,
          0.6322407070230123,
          0.6255651960729737,
          0.6228459246946643,
          0.6031170842499229
         ],
         "yaxis": "y"
        },
        {
         "marker": {
          "color": "Crimson",
          "size": [
           0.0018455266952514648
          ],
          "sizemin": 4,
          "sizemode": "area",
          "sizeref": 5.858272314071655e-06
         },
         "mode": "markers",
         "name": "Best estimators",
         "showlegend": true,
         "text": [
          "{'var_smoothing': 1e-11}"
         ],
         "type": "scatter",
         "x": [
          1e-11
         ],
         "xaxis": "x",
         "y": [
          0.7167509910106301
         ],
         "yaxis": "y"
        }
       ],
       "layout": {
        "height": 360,
        "hovermode": "closest",
        "legend": {
         "traceorder": "reversed"
        },
        "template": {
         "data": {
          "scatter": [
           {
            "type": "scatter"
           }
          ]
         }
        },
        "title": {
         "text": "Best score: 0.716751 with 'var_smoothing': 1e-11"
        },
        "width": 460,
        "xaxis": {
         "anchor": "y",
         "domain": [
          0,
          1
         ],
         "title": {
          "text": "var_smoothing"
         },
         "type": "log"
        },
        "yaxis": {
         "anchor": "x",
         "domain": [
          0,
          1
         ],
         "title": {
          "text": "Score"
         }
        }
       }
      },
      "text/html": [
       "<div>                            <div id=\"f63900ff-7fd1-45ee-a04d-ae37b1076b7f\" class=\"plotly-graph-div\" style=\"height:360px; width:460px;\"></div>            <script type=\"text/javascript\">                require([\"plotly\"], function(Plotly) {                    window.PLOTLYENV=window.PLOTLYENV || {};                                    if (document.getElementById(\"f63900ff-7fd1-45ee-a04d-ae37b1076b7f\")) {                    Plotly.newPlot(                        \"f63900ff-7fd1-45ee-a04d-ae37b1076b7f\",                        [{\"marker\":{\"color\":\"SteelBlue\",\"size\":[0.002648019790649414,0.0010181188583374024,0.004048562049865723,0.0014744997024536133,0.001627969741821289,0.002485179901123047,0.004686617851257324,0.004686212539672852,0.004686546325683594,0.0031243085861206053,0.0015620946884155273,0.0,0.0031780719757080076],\"sizemin\":4,\"sizemode\":\"area\",\"sizeref\":5.858272314071655e-06},\"mode\":\"markers\",\"name\":\"Mean test score\",\"showlegend\":true,\"text\":[\"'var_smoothing': 1e-15\",\"'var_smoothing': 1e-12\",\"'var_smoothing': 1e-13\",\"'var_smoothing': 1e-10\",\"'var_smoothing': 1e-14\",\"'var_smoothing': 1e-09\",\"'var_smoothing': 1e-08\",\"'var_smoothing': 1e-07\",\"'var_smoothing': 1e-06\",\"'var_smoothing': 1e-05\",\"'var_smoothing': 0.0001\",\"'var_smoothing': 0.001\",\"'var_smoothing': 0.01\"],\"type\":\"scatter\",\"x\":[1e-15,1e-12,1e-13,1e-10,1e-14,1e-09,1e-08,1e-07,1e-06,1e-05,0.0001,0.001,0.01],\"xaxis\":\"x\",\"y\":[0.6966327164977056,0.6954362014962698,0.6917888095193112,0.6890633306166942,0.6873024812851175,0.6724268173307887,0.6677665036488566,0.664752730028592,0.6479727847275016,0.6322407070230123,0.6255651960729737,0.6228459246946643,0.6031170842499229],\"yaxis\":\"y\"},{\"marker\":{\"color\":\"Crimson\",\"size\":[0.0018455266952514648],\"sizemin\":4,\"sizemode\":\"area\",\"sizeref\":5.858272314071655e-06},\"mode\":\"markers\",\"name\":\"Best estimators\",\"showlegend\":true,\"text\":[\"{'var_smoothing': 1e-11}\"],\"type\":\"scatter\",\"x\":[1e-11],\"xaxis\":\"x\",\"y\":[0.7167509910106301],\"yaxis\":\"y\"}],                        {\"height\":360,\"hovermode\":\"closest\",\"legend\":{\"traceorder\":\"reversed\"},\"template\":{\"data\":{\"scatter\":[{\"type\":\"scatter\"}]}},\"title\":{\"text\":\"Best score: 0.716751 with 'var_smoothing': 1e-11\"},\"width\":460,\"xaxis\":{\"anchor\":\"y\",\"domain\":[0.0,1.0],\"title\":{\"text\":\"var_smoothing\"},\"type\":\"log\"},\"yaxis\":{\"anchor\":\"x\",\"domain\":[0.0,1.0],\"title\":{\"text\":\"Score\"}}},                        {\"responsive\": true}                    ).then(function(){\n",
       "                            \n",
       "var gd = document.getElementById('f63900ff-7fd1-45ee-a04d-ae37b1076b7f');\n",
       "var x = new MutationObserver(function (mutations, observer) {{\n",
       "        var display = window.getComputedStyle(gd).display;\n",
       "        if (!display || display === 'none') {{\n",
       "            console.log([gd, 'removed!']);\n",
       "            Plotly.purge(gd);\n",
       "            observer.disconnect();\n",
       "        }}\n",
       "}});\n",
       "\n",
       "// Listen for the removal of the full notebook cells\n",
       "var notebookContainer = gd.closest('#notebook-container');\n",
       "if (notebookContainer) {{\n",
       "    x.observe(notebookContainer, {childList: true});\n",
       "}}\n",
       "\n",
       "// Listen for the clearing of the current output cell\n",
       "var outputEl = gd.closest('.output');\n",
       "if (outputEl) {{\n",
       "    x.observe(outputEl, {childList: true});\n",
       "}}\n",
       "\n",
       "                        })                };                });            </script>        </div>"
      ]
     },
     "metadata": {},
     "output_type": "display_data"
    },
    {
     "data": {
      "text/html": [
       "<style  type=\"text/css\" >\n",
       "</style><table id=\"T_1445b004_260d_11ec_b86a_14f6d8044c0e\" ><thead>    <tr>        <th class=\"col_heading level0 col0\" >mean_test_score</th>        <th class=\"col_heading level0 col1\" >mean_fit_time</th>        <th class=\"col_heading level0 col2\" >mean_score_time</th>        <th class=\"col_heading level0 col3\" >param_var_smoothing</th>    </tr></thead><tbody>\n",
       "                <tr>\n",
       "                                <td id=\"T_1445b004_260d_11ec_b86a_14f6d8044c0erow0_col0\" class=\"data row0 col0\" >0.716751</td>\n",
       "                        <td id=\"T_1445b004_260d_11ec_b86a_14f6d8044c0erow0_col1\" class=\"data row0 col1\" >0.001846</td>\n",
       "                        <td id=\"T_1445b004_260d_11ec_b86a_14f6d8044c0erow0_col2\" class=\"data row0 col2\" >0.004056</td>\n",
       "                        <td id=\"T_1445b004_260d_11ec_b86a_14f6d8044c0erow0_col3\" class=\"data row0 col3\" >0.000000</td>\n",
       "            </tr>\n",
       "    </tbody></table>"
      ],
      "text/plain": [
       "<pandas.io.formats.style.Styler at 0x13886be05e0>"
      ]
     },
     "metadata": {},
     "output_type": "display_data"
    }
   ],
   "source": [
    "parameters = {\n",
    "    'var_smoothing': [1e-2, 1e-3, 1e-4, 1e-5, 1e-6, 1e-7, 1e-8, 1e-9, 1e-10, 1e-11, 1e-12, 1e-13, 1e-14, 1e-15]\n",
    "}\n",
    "clf = GridSearchCV(gaussian, parameters, cv=kfold, scoring=\"f1\", n_jobs=4, verbose=1)\n",
    "clf.fit(X_train, Y_train)\n",
    "plot_grid_search(clf)\n",
    "table_grid_search(clf)"
   ]
  },
  {
   "cell_type": "code",
   "execution_count": 222,
   "metadata": {},
   "outputs": [
    {
     "name": "stdout",
     "output_type": "stream",
     "text": [
      "              precision    recall  f1-score   support\n",
      "\n",
      "         0.0       0.84      0.55      0.67        47\n",
      "         1.0       0.43      0.76      0.55        21\n",
      "\n",
      "    accuracy                           0.62        68\n",
      "   macro avg       0.64      0.66      0.61        68\n",
      "weighted avg       0.71      0.62      0.63        68\n",
      "\n",
      "             Predicted: NO  Predicted: YES\n",
      "Actual: NO              26              21\n",
      "Actual: YES              5              16\n"
     ]
    }
   ],
   "source": [
    "gaussian = GaussianNB(var_smoothing=1e-11)\n",
    "gaussian.fit(X_train, Y_train)\n",
    "Y_pred3 = gaussian.predict(x_test)\n",
    "acc_gaussian = round(gaussian.score(x_test, y_test) * 100, 2)\n",
    "acc_gaussian\n",
    "\n",
    "print(classification_report(y_test, Y_pred3))\n",
    "cm = pd.DataFrame(confusion_matrix(y_test, Y_pred3), ['Actual: NO', 'Actual: YES'], ['Predicted: NO', 'Predicted: YES'])\n",
    "print(cm)"
   ]
  },
  {
   "cell_type": "markdown",
   "metadata": {},
   "source": [
    "### Learning curves"
   ]
  },
  {
   "cell_type": "code",
   "execution_count": 223,
   "metadata": {
    "_cell_guid": "eb168d27-5841-4b06-a320-9309c980468e",
    "_uuid": "81070e0011002d63d313a322bd38636d23f48580",
    "jupyter": {
     "outputs_hidden": true
    }
   },
   "outputs": [
    {
     "data": {
      "image/png": "[encoded data removed]",
      "text/plain": [
       "<Figure size 432x288 with 1 Axes>"
      ]
     },
     "metadata": {
      "needs_background": "light"
     },
     "output_type": "display_data"
    },
    {
     "data": {
      "image/png": "[encoded data removed]",
      "text/plain": [
       "<Figure size 432x288 with 1 Axes>"
      ]
     },
     "metadata": {
      "needs_background": "light"
     },
     "output_type": "display_data"
    },
    {
     "data": {
      "image/png": "[encoded data removed]",
      "text/plain": [
       "<Figure size 432x288 with 1 Axes>"
      ]
     },
     "metadata": {
      "needs_background": "light"
     },
     "output_type": "display_data"
    },
    {
     "data": {
      "image/png": "[encoded data removed]",
      "text/plain": [
       "<Figure size 432x288 with 1 Axes>"
      ]
     },
     "metadata": {
      "needs_background": "light"
     },
     "output_type": "display_data"
    },
    {
     "data": {
      "image/png": "[encoded data removed]",
      "text/plain": [
       "<Figure size 432x288 with 1 Axes>"
      ]
     },
     "metadata": {
      "needs_background": "light"
     },
     "output_type": "display_data"
    }
   ],
   "source": [
    "def plot_learning_curve(estimator, title, X, y, ylim=None, cv=None,\n",
    "        n_jobs=-1, train_sizes=np.linspace(.1, 1.0, 5)):\n",
    "    \"\"\"Generate a simple plot of the test and training learning curve\"\"\"\n",
    "    plt.figure()\n",
    "    plt.title(title)\n",
    "    if ylim is not None:\n",
    "        plt.ylim(*ylim)\n",
    "    plt.xlabel(\"Training examples\")\n",
    "    plt.ylabel(\"Score\")\n",
    "    train_sizes, train_scores, test_scores = learning_curve(\n",
    "        estimator, X, y, cv=cv, n_jobs=n_jobs, train_sizes=train_sizes)\n",
    "    train_scores_mean = np.mean(train_scores, axis=1)\n",
    "    train_scores_std = np.std(train_scores, axis=1)\n",
    "    test_scores_mean = np.mean(test_scores, axis=1)\n",
    "    test_scores_std = np.std(test_scores, axis=1)\n",
    "    plt.grid()\n",
    "\n",
    "    plt.fill_between(train_sizes, train_scores_mean - train_scores_std,\n",
    "                     train_scores_mean + train_scores_std, alpha=0.1,\n",
    "                     color=\"r\")\n",
    "    plt.fill_between(train_sizes, test_scores_mean - test_scores_std,\n",
    "                     test_scores_mean + test_scores_std, alpha=0.1, color=\"g\")\n",
    "    plt.plot(train_sizes, train_scores_mean, 'o-', color=\"r\",\n",
    "             label=\"Training score\")\n",
    "    plt.plot(train_sizes, test_scores_mean, 'o-', color=\"g\",\n",
    "             label=\"Cross-validation score\")\n",
    "    plt.legend(loc=\"best\")\n",
    "    return plt\n",
    "g = plot_learning_curve(gsadaDTC.best_estimator_,\"AdaBoost learning curves\",X_train,Y_train,cv=kfold)\n",
    "g = plot_learning_curve(gsExtC.best_estimator_,\"ExtC ExtraTrees learning curves\",X_train,Y_train,cv=kfold)\n",
    "g = plot_learning_curve(gsGBC.best_estimator_,\"GBC Gradient Boost learning curves\",X_train,Y_train,cv=kfold)\n",
    "g = plot_learning_curve(gsrandom_forest.best_estimator_,\"RandomForest learning curves\",X_train,Y_train,cv=kfold)\n",
    "g = plot_learning_curve(gaussian,\"Naive Bayes curves\",X_train,Y_train,cv=kfold)"
   ]
  },
  {
   "cell_type": "markdown",
   "metadata": {
    "_cell_guid": "fc320444-1097-4bd7-995b-908065b188e9",
    "_uuid": "ce75e068abae919bc0c8e8e0d88353d85290cd84"
   },
   "source": [
    "**Observations to fine-tune our models**\n",
    "\n",
    "First, let's compare their best score after fine-tuning their parameters:\n",
    "1. Adaboost: 73\n",
    "2. ExtraTrees: 79\n",
    "3. RandomForest: 79\n",
    "4. GradientBoost: 73\n",
    "5. Naive Bayes : 71\n",
    "it appears that random forest and extra trees classifiers are doing the best job on the Train data. This is good because we want to keep the model as close to the training data as possible. But not too close!\n",
    "The two major sources of error are bias and variance; as we reduce these two, then we could build more accurate models:\n",
    "\n",
    "* **Bias**: The less biased a method, the greater its ability to fit data well.\n",
    "* **Variance**: with a lower bias comes typically a higher the variance. And therefore the risk that the model will not adapt accurately to new test data.\n",
    "This is the case here with other models except GBC: high score but cross-validation is very distant.\n",
    "\n",
    "The reverse also holds: the greater the bias, the lower the variance. A high-bias method builds simplistic models that generally don't fit well training data. \n",
    "We can see the red and green curves from ExtraTrees, RandomForest are pretty far.\n",
    "**This points to a lower variance, i.e. a stronger ability to apply the model to new data.**\n",
    "\n",
    "I used the above graphs to optimize the parameters for Adaboost, ExtraTrees, RandomForest, GradientBoost.\n",
    "This resulted in a significant improvement of the prediction accuracy on the test data (score).\n",
    "\n",
    "\n",
    "## 4.13 Selecting and combining the best classifiers\n",
    "So, how do we achieve the best trade-off beween bias and variance?\n",
    "1. We will first compare in the next section the classifiers; results between themselves and applied to the same test data.\n",
    "2. Then \"ensemble\" them together with an automatic function callled *voting*."
   ]
  },
  {
   "cell_type": "code",
   "execution_count": 224,
   "metadata": {
    "_cell_guid": "c9f5ad35-050a-4bb1-a3b6-bb88042b2e82",
    "_uuid": "26ccf158bbddbf74058fd2bddb6f54e5afc657c6",
    "jupyter": {
     "outputs_hidden": true
    }
   },
   "outputs": [
    {
     "data": {
      "image/png": "[encoded data removed]",
      "text/plain": [
       "<Figure size 432x288 with 2 Axes>"
      ]
     },
     "metadata": {
      "needs_background": "light"
     },
     "output_type": "display_data"
    }
   ],
   "source": [
    "test_morbidité_AdaDTC = pd.Series(adaDTC_best.predict(x_test), name=\"AdaDTC\")\n",
    "test_morbidité_ExtC = pd.Series(ExtC_best.predict(x_test), name=\"ExtC\")\n",
    "test_morbidité_GBC = pd.Series(GBC_best.predict(x_test), name=\"GBC\")\n",
    "test_morbidité_random_forest = pd.Series(random_forest_best.predict(x_test), name=\"random_forest\")\n",
    "test_morbidité_gaussian = pd.Series(gaussian.predict(x_test), name=\"gaussian\")\n",
    "\n",
    "\n",
    "# Concatenate all classifier results\n",
    "ensemble_results = pd.concat([test_morbidité_AdaDTC, test_morbidité_ExtC, test_morbidité_GBC,test_morbidité_random_forest, test_morbidité_gaussian],axis=1)\n",
    "g= sns.heatmap(ensemble_results.corr(),annot=True)"
   ]
  },
  {
   "cell_type": "markdown",
   "metadata": {
    "_cell_guid": "bed2c50a-063f-45e7-b4c7-523f4a5af86d",
    "_uuid": "7f758f0ee9d19608100c393c5b7d0800346ddf05"
   },
   "source": [
    "**Observations:**\n",
    "* As indicated before, AdaDTC has the lowest correlations when compared to other predictors. This indicates that it predicts differently than the others when it comes to the test data.\n",
    "* We will therefore 'ensemble' the remaining three predictors.\n",
    "\n",
    "##  Ensembling\n",
    "This is the final step, pulling it together with an amazing 'Voting' function from sklearn."
   ]
  },
  {
   "cell_type": "code",
   "execution_count": 304,
   "metadata": {
    "_cell_guid": "d2cc701c-b37f-4745-939a-8062a41f66d7",
    "_uuid": "6b36c683ce6f17cbf9803ac508cb3dabafedf059",
    "jupyter": {
     "outputs_hidden": true
    }
   },
   "outputs": [
    {
     "name": "stdout",
     "output_type": "stream",
     "text": [
      "Accuracy: 0.7539 (+/- 0.1045) [soft voting]\n"
     ]
    }
   ],
   "source": [
    "VotingPredictor = VotingClassifier(estimators=[('ExtC', ExtC_best), ('GBC', GBC_best),\n",
    "('random_forest', random_forest_best), ('Naive Bayes', gaussian)], voting='soft',weights=(1.5,1,1,1.3), n_jobs=4)\n",
    "VotingPredictor = VotingPredictor.fit(X_train, Y_train)\n",
    "VotingPredictor_predictions = VotingPredictor.predict(x_test)\n",
    "\n",
    "scores = cross_val_score(VotingPredictor, X_train, Y_train, cv=kfold, scoring='accuracy')\n",
    "print(\"Accuracy: %0.4f (+/- %0.4f) [%s]\" % (scores.mean(), scores.std(), 'soft voting'))\n"
   ]
  },
  {
   "cell_type": "code",
   "execution_count": 305,
   "metadata": {
    "scrolled": false
   },
   "outputs": [
    {
     "name": "stdout",
     "output_type": "stream",
     "text": [
      "              precision    recall  f1-score   support\n",
      "\n",
      "         0.0       0.83      0.85      0.84        47\n",
      "         1.0       0.65      0.62      0.63        21\n",
      "\n",
      "    accuracy                           0.78        68\n",
      "   macro avg       0.74      0.74      0.74        68\n",
      "weighted avg       0.78      0.78      0.78        68\n",
      "\n"
     ]
    }
   ],
   "source": [
    "print(classification_report(y_test, VotingPredictor_predictions))"
   ]
  },
  {
   "cell_type": "code",
   "execution_count": 306,
   "metadata": {},
   "outputs": [
    {
     "data": {
      "text/plain": [
       "<AxesSubplot:>"
      ]
     },
     "execution_count": 306,
     "metadata": {},
     "output_type": "execute_result"
    },
    {
     "data": {
      "image/png": "[encoded data removed]",
      "text/plain": [
       "<Figure size 432x288 with 2 Axes>"
      ]
     },
     "metadata": {
      "needs_background": "light"
     },
     "output_type": "display_data"
    }
   ],
   "source": [
    "sns.heatmap(confusion_matrix(y_test,VotingPredictor_predictions),annot=True,fmt='2.0f')"
   ]
  },
  {
   "cell_type": "markdown",
   "metadata": {},
   "source": [
    "Black boxes are wrong"
   ]
  }
 ],
 "metadata": {
  "_change_revision": 0,
  "_is_fork": false,
  "kernelspec": {
   "display_name": "Python 3 (ipykernel)",
   "language": "python",
   "name": "python3"
  },
  "language_info": {
   "codemirror_mode": {
    "name": "ipython",
    "version": 3
   },
   "file_extension": ".py",
   "mimetype": "text/x-python",
   "name": "python",
   "nbconvert_exporter": "python",
   "pygments_lexer": "ipython3",
   "version": "3.9.13"
  }
 },
 "nbformat": 4,
 "nbformat_minor": 4
}
